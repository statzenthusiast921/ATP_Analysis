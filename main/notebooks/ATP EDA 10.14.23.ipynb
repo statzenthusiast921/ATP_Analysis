{
 "cells": [
  {
   "cell_type": "markdown",
   "id": "c3c767ca",
   "metadata": {},
   "source": [
    "### Association of Tennis Professional EDA\n",
    "#### Reference: https://www.kaggle.com/datasets/sijovm/atpdata/data"
   ]
  },
  {
   "cell_type": "code",
   "execution_count": 1,
   "id": "f274d713",
   "metadata": {},
   "outputs": [
    {
     "name": "stdout",
     "output_type": "stream",
     "text": [
      "(188161, 49)\n",
      "(58687, 8)\n",
      "(3113261, 4)\n"
     ]
    }
   ],
   "source": [
    "#Load libraries\n",
    "import pandas as pd\n",
    "import numpy as np\n",
    "import warnings\n",
    "from datetime import timedelta\n",
    "import seaborn as sns\n",
    "import matplotlib.pyplot as plt \n",
    "\n",
    "sns.set_palette(\"bright\")\n",
    "warnings.filterwarnings('ignore')\n",
    "\n",
    "#Read in the data\n",
    "matches = pd.read_csv(\"https://raw.githubusercontent.com/statzenthusiast921/ATP_Analysis/main/main/data/atp_matches_till_2022.csv\")\n",
    "players = pd.read_csv(\"https://raw.githubusercontent.com/statzenthusiast921/ATP_Analysis/main/main/data/atp_players_till_2022.csv\")\n",
    "ranking = pd.read_csv(\"https://raw.githubusercontent.com/statzenthusiast921/ATP_Analysis/main/main/data/atp_rankings_till_2022.csv\")\n",
    "\n",
    "print(matches.shape)\n",
    "print(players.shape)\n",
    "print(ranking.shape)"
   ]
  },
  {
   "cell_type": "code",
   "execution_count": 2,
   "id": "93a83a0f",
   "metadata": {
    "scrolled": true
   },
   "outputs": [
    {
     "data": {
      "text/html": [
       "<div>\n",
       "<style scoped>\n",
       "    .dataframe tbody tr th:only-of-type {\n",
       "        vertical-align: middle;\n",
       "    }\n",
       "\n",
       "    .dataframe tbody tr th {\n",
       "        vertical-align: top;\n",
       "    }\n",
       "\n",
       "    .dataframe thead th {\n",
       "        text-align: right;\n",
       "    }\n",
       "</style>\n",
       "<table border=\"1\" class=\"dataframe\">\n",
       "  <thead>\n",
       "    <tr style=\"text-align: right;\">\n",
       "      <th></th>\n",
       "      <th>tourney_id</th>\n",
       "      <th>tourney_name</th>\n",
       "      <th>surface</th>\n",
       "      <th>draw_size</th>\n",
       "      <th>tourney_level</th>\n",
       "      <th>tourney_date</th>\n",
       "      <th>match_num</th>\n",
       "      <th>winner_id</th>\n",
       "      <th>winner_seed</th>\n",
       "      <th>winner_entry</th>\n",
       "      <th>...</th>\n",
       "      <th>l_1stIn</th>\n",
       "      <th>l_1stWon</th>\n",
       "      <th>l_2ndWon</th>\n",
       "      <th>l_SvGms</th>\n",
       "      <th>l_bpSaved</th>\n",
       "      <th>l_bpFaced</th>\n",
       "      <th>winner_rank</th>\n",
       "      <th>winner_rank_points</th>\n",
       "      <th>loser_rank</th>\n",
       "      <th>loser_rank_points</th>\n",
       "    </tr>\n",
       "  </thead>\n",
       "  <tbody>\n",
       "    <tr>\n",
       "      <th>0</th>\n",
       "      <td>1968-2029</td>\n",
       "      <td>Dublin</td>\n",
       "      <td>Grass</td>\n",
       "      <td>32</td>\n",
       "      <td>A</td>\n",
       "      <td>19680708</td>\n",
       "      <td>270</td>\n",
       "      <td>112411</td>\n",
       "      <td>NaN</td>\n",
       "      <td>NaN</td>\n",
       "      <td>...</td>\n",
       "      <td>NaN</td>\n",
       "      <td>NaN</td>\n",
       "      <td>NaN</td>\n",
       "      <td>NaN</td>\n",
       "      <td>NaN</td>\n",
       "      <td>NaN</td>\n",
       "      <td>NaN</td>\n",
       "      <td>NaN</td>\n",
       "      <td>NaN</td>\n",
       "      <td>NaN</td>\n",
       "    </tr>\n",
       "    <tr>\n",
       "      <th>1</th>\n",
       "      <td>1968-2029</td>\n",
       "      <td>Dublin</td>\n",
       "      <td>Grass</td>\n",
       "      <td>32</td>\n",
       "      <td>A</td>\n",
       "      <td>19680708</td>\n",
       "      <td>271</td>\n",
       "      <td>126914</td>\n",
       "      <td>NaN</td>\n",
       "      <td>NaN</td>\n",
       "      <td>...</td>\n",
       "      <td>NaN</td>\n",
       "      <td>NaN</td>\n",
       "      <td>NaN</td>\n",
       "      <td>NaN</td>\n",
       "      <td>NaN</td>\n",
       "      <td>NaN</td>\n",
       "      <td>NaN</td>\n",
       "      <td>NaN</td>\n",
       "      <td>NaN</td>\n",
       "      <td>NaN</td>\n",
       "    </tr>\n",
       "    <tr>\n",
       "      <th>2</th>\n",
       "      <td>1968-2029</td>\n",
       "      <td>Dublin</td>\n",
       "      <td>Grass</td>\n",
       "      <td>32</td>\n",
       "      <td>A</td>\n",
       "      <td>19680708</td>\n",
       "      <td>272</td>\n",
       "      <td>209523</td>\n",
       "      <td>NaN</td>\n",
       "      <td>NaN</td>\n",
       "      <td>...</td>\n",
       "      <td>NaN</td>\n",
       "      <td>NaN</td>\n",
       "      <td>NaN</td>\n",
       "      <td>NaN</td>\n",
       "      <td>NaN</td>\n",
       "      <td>NaN</td>\n",
       "      <td>NaN</td>\n",
       "      <td>NaN</td>\n",
       "      <td>NaN</td>\n",
       "      <td>NaN</td>\n",
       "    </tr>\n",
       "    <tr>\n",
       "      <th>3</th>\n",
       "      <td>1968-2029</td>\n",
       "      <td>Dublin</td>\n",
       "      <td>Grass</td>\n",
       "      <td>32</td>\n",
       "      <td>A</td>\n",
       "      <td>19680708</td>\n",
       "      <td>273</td>\n",
       "      <td>100084</td>\n",
       "      <td>NaN</td>\n",
       "      <td>NaN</td>\n",
       "      <td>...</td>\n",
       "      <td>NaN</td>\n",
       "      <td>NaN</td>\n",
       "      <td>NaN</td>\n",
       "      <td>NaN</td>\n",
       "      <td>NaN</td>\n",
       "      <td>NaN</td>\n",
       "      <td>NaN</td>\n",
       "      <td>NaN</td>\n",
       "      <td>NaN</td>\n",
       "      <td>NaN</td>\n",
       "    </tr>\n",
       "    <tr>\n",
       "      <th>4</th>\n",
       "      <td>1968-2029</td>\n",
       "      <td>Dublin</td>\n",
       "      <td>Grass</td>\n",
       "      <td>32</td>\n",
       "      <td>A</td>\n",
       "      <td>19680708</td>\n",
       "      <td>274</td>\n",
       "      <td>100132</td>\n",
       "      <td>NaN</td>\n",
       "      <td>NaN</td>\n",
       "      <td>...</td>\n",
       "      <td>NaN</td>\n",
       "      <td>NaN</td>\n",
       "      <td>NaN</td>\n",
       "      <td>NaN</td>\n",
       "      <td>NaN</td>\n",
       "      <td>NaN</td>\n",
       "      <td>NaN</td>\n",
       "      <td>NaN</td>\n",
       "      <td>NaN</td>\n",
       "      <td>NaN</td>\n",
       "    </tr>\n",
       "  </tbody>\n",
       "</table>\n",
       "<p>5 rows × 49 columns</p>\n",
       "</div>"
      ],
      "text/plain": [
       "  tourney_id tourney_name surface  draw_size tourney_level  tourney_date  \\\n",
       "0  1968-2029       Dublin   Grass         32             A      19680708   \n",
       "1  1968-2029       Dublin   Grass         32             A      19680708   \n",
       "2  1968-2029       Dublin   Grass         32             A      19680708   \n",
       "3  1968-2029       Dublin   Grass         32             A      19680708   \n",
       "4  1968-2029       Dublin   Grass         32             A      19680708   \n",
       "\n",
       "   match_num  winner_id  winner_seed winner_entry  ... l_1stIn l_1stWon  \\\n",
       "0        270     112411          NaN          NaN  ...     NaN      NaN   \n",
       "1        271     126914          NaN          NaN  ...     NaN      NaN   \n",
       "2        272     209523          NaN          NaN  ...     NaN      NaN   \n",
       "3        273     100084          NaN          NaN  ...     NaN      NaN   \n",
       "4        274     100132          NaN          NaN  ...     NaN      NaN   \n",
       "\n",
       "   l_2ndWon l_SvGms  l_bpSaved  l_bpFaced  winner_rank winner_rank_points  \\\n",
       "0       NaN     NaN        NaN        NaN          NaN                NaN   \n",
       "1       NaN     NaN        NaN        NaN          NaN                NaN   \n",
       "2       NaN     NaN        NaN        NaN          NaN                NaN   \n",
       "3       NaN     NaN        NaN        NaN          NaN                NaN   \n",
       "4       NaN     NaN        NaN        NaN          NaN                NaN   \n",
       "\n",
       "  loser_rank loser_rank_points  \n",
       "0        NaN               NaN  \n",
       "1        NaN               NaN  \n",
       "2        NaN               NaN  \n",
       "3        NaN               NaN  \n",
       "4        NaN               NaN  \n",
       "\n",
       "[5 rows x 49 columns]"
      ]
     },
     "execution_count": 2,
     "metadata": {},
     "output_type": "execute_result"
    }
   ],
   "source": [
    "matches.head()"
   ]
  },
  {
   "cell_type": "code",
   "execution_count": 3,
   "id": "fc701a5e",
   "metadata": {
    "scrolled": false
   },
   "outputs": [
    {
     "data": {
      "text/html": [
       "<div>\n",
       "<style scoped>\n",
       "    .dataframe tbody tr th:only-of-type {\n",
       "        vertical-align: middle;\n",
       "    }\n",
       "\n",
       "    .dataframe tbody tr th {\n",
       "        vertical-align: top;\n",
       "    }\n",
       "\n",
       "    .dataframe thead th {\n",
       "        text-align: right;\n",
       "    }\n",
       "</style>\n",
       "<table border=\"1\" class=\"dataframe\">\n",
       "  <thead>\n",
       "    <tr style=\"text-align: right;\">\n",
       "      <th></th>\n",
       "      <th>player_id</th>\n",
       "      <th>name_first</th>\n",
       "      <th>name_last</th>\n",
       "      <th>hand</th>\n",
       "      <th>dob</th>\n",
       "      <th>ioc</th>\n",
       "      <th>height</th>\n",
       "      <th>wikidata_id</th>\n",
       "    </tr>\n",
       "  </thead>\n",
       "  <tbody>\n",
       "    <tr>\n",
       "      <th>0</th>\n",
       "      <td>100001</td>\n",
       "      <td>Gardnar</td>\n",
       "      <td>Mulloy</td>\n",
       "      <td>R</td>\n",
       "      <td>19131122.0</td>\n",
       "      <td>USA</td>\n",
       "      <td>185.0</td>\n",
       "      <td>Q54544</td>\n",
       "    </tr>\n",
       "    <tr>\n",
       "      <th>1</th>\n",
       "      <td>100002</td>\n",
       "      <td>Pancho</td>\n",
       "      <td>Segura</td>\n",
       "      <td>R</td>\n",
       "      <td>19210620.0</td>\n",
       "      <td>ECU</td>\n",
       "      <td>168.0</td>\n",
       "      <td>Q54581</td>\n",
       "    </tr>\n",
       "    <tr>\n",
       "      <th>2</th>\n",
       "      <td>100003</td>\n",
       "      <td>Frank</td>\n",
       "      <td>Sedgman</td>\n",
       "      <td>R</td>\n",
       "      <td>19271002.0</td>\n",
       "      <td>AUS</td>\n",
       "      <td>180.0</td>\n",
       "      <td>Q962049</td>\n",
       "    </tr>\n",
       "    <tr>\n",
       "      <th>3</th>\n",
       "      <td>100004</td>\n",
       "      <td>Giuseppe</td>\n",
       "      <td>Merlo</td>\n",
       "      <td>R</td>\n",
       "      <td>19271011.0</td>\n",
       "      <td>ITA</td>\n",
       "      <td>NaN</td>\n",
       "      <td>Q1258752</td>\n",
       "    </tr>\n",
       "    <tr>\n",
       "      <th>4</th>\n",
       "      <td>100005</td>\n",
       "      <td>Richard</td>\n",
       "      <td>Gonzalez</td>\n",
       "      <td>R</td>\n",
       "      <td>19280509.0</td>\n",
       "      <td>USA</td>\n",
       "      <td>188.0</td>\n",
       "      <td>Q53554</td>\n",
       "    </tr>\n",
       "  </tbody>\n",
       "</table>\n",
       "</div>"
      ],
      "text/plain": [
       "   player_id name_first name_last hand         dob  ioc  height wikidata_id\n",
       "0     100001    Gardnar    Mulloy    R  19131122.0  USA   185.0      Q54544\n",
       "1     100002     Pancho    Segura    R  19210620.0  ECU   168.0      Q54581\n",
       "2     100003      Frank   Sedgman    R  19271002.0  AUS   180.0     Q962049\n",
       "3     100004   Giuseppe     Merlo    R  19271011.0  ITA     NaN    Q1258752\n",
       "4     100005    Richard  Gonzalez    R  19280509.0  USA   188.0      Q53554"
      ]
     },
     "execution_count": 3,
     "metadata": {},
     "output_type": "execute_result"
    }
   ],
   "source": [
    "players.head()"
   ]
  },
  {
   "cell_type": "code",
   "execution_count": 4,
   "id": "9bb9bce5",
   "metadata": {
    "scrolled": false
   },
   "outputs": [
    {
     "data": {
      "text/html": [
       "<div>\n",
       "<style scoped>\n",
       "    .dataframe tbody tr th:only-of-type {\n",
       "        vertical-align: middle;\n",
       "    }\n",
       "\n",
       "    .dataframe tbody tr th {\n",
       "        vertical-align: top;\n",
       "    }\n",
       "\n",
       "    .dataframe thead th {\n",
       "        text-align: right;\n",
       "    }\n",
       "</style>\n",
       "<table border=\"1\" class=\"dataframe\">\n",
       "  <thead>\n",
       "    <tr style=\"text-align: right;\">\n",
       "      <th></th>\n",
       "      <th>ranking_date</th>\n",
       "      <th>rank</th>\n",
       "      <th>player</th>\n",
       "      <th>points</th>\n",
       "    </tr>\n",
       "  </thead>\n",
       "  <tbody>\n",
       "    <tr>\n",
       "      <th>0</th>\n",
       "      <td>20100104</td>\n",
       "      <td>1</td>\n",
       "      <td>103819</td>\n",
       "      <td>10550.0</td>\n",
       "    </tr>\n",
       "    <tr>\n",
       "      <th>1</th>\n",
       "      <td>20100104</td>\n",
       "      <td>2</td>\n",
       "      <td>104745</td>\n",
       "      <td>9205.0</td>\n",
       "    </tr>\n",
       "    <tr>\n",
       "      <th>2</th>\n",
       "      <td>20100104</td>\n",
       "      <td>3</td>\n",
       "      <td>104925</td>\n",
       "      <td>8310.0</td>\n",
       "    </tr>\n",
       "    <tr>\n",
       "      <th>3</th>\n",
       "      <td>20100104</td>\n",
       "      <td>4</td>\n",
       "      <td>104918</td>\n",
       "      <td>7030.0</td>\n",
       "    </tr>\n",
       "    <tr>\n",
       "      <th>4</th>\n",
       "      <td>20100104</td>\n",
       "      <td>5</td>\n",
       "      <td>105223</td>\n",
       "      <td>6785.0</td>\n",
       "    </tr>\n",
       "  </tbody>\n",
       "</table>\n",
       "</div>"
      ],
      "text/plain": [
       "   ranking_date  rank  player   points\n",
       "0      20100104     1  103819  10550.0\n",
       "1      20100104     2  104745   9205.0\n",
       "2      20100104     3  104925   8310.0\n",
       "3      20100104     4  104918   7030.0\n",
       "4      20100104     5  105223   6785.0"
      ]
     },
     "execution_count": 4,
     "metadata": {},
     "output_type": "execute_result"
    }
   ],
   "source": [
    "ranking.head()"
   ]
  },
  {
   "cell_type": "code",
   "execution_count": 5,
   "id": "efc803e2",
   "metadata": {},
   "outputs": [
    {
     "name": "stdout",
     "output_type": "stream",
     "text": [
      "(188161, 30)\n",
      "(188161, 30)\n"
     ]
    }
   ],
   "source": [
    "#Rearrange matches data to have wins and losses partition\n",
    "win_matches = matches.iloc[:,np.r_[0:15,23:36,45:47]]\n",
    "lose_matches = matches.iloc[:,np.r_[0:7,15:27,36:45,47:49]]\n",
    "\n",
    "print(win_matches.shape)\n",
    "print(lose_matches.shape)"
   ]
  },
  {
   "cell_type": "code",
   "execution_count": 6,
   "id": "0d099544",
   "metadata": {},
   "outputs": [],
   "source": [
    "win_matches = win_matches.rename(\n",
    "    columns={\n",
    "        'winner_id':'player_id',\n",
    "        'winner_seed':'player_seed',\n",
    "        'winner_entry':'player_entry',\n",
    "        'winner_name':'player_name',\n",
    "        'winner_hand':'player_hand',\n",
    "        'winner_ht':'player_ht',\n",
    "        'winner_ioc':'player_ioc',\n",
    "        'winner_age':'player_age',\n",
    "        'w_ace':'num_aces',\n",
    "        'w_df':'num_dfs',\n",
    "        'w_svpt':'num_svpts',\n",
    "        'w_1stIn':'serve1_in_perc',\n",
    "        'w_1stWon':'serve1_win_perc',\n",
    "        'w_2ndWon':'serve2_win_perc',\n",
    "        'w_SvGms':'num_games_served',\n",
    "        'w_bpSaved':'num_brkpts_saved',\n",
    "        'w_bpFaced':'num_brkpts_faced',\n",
    "        'winner_rank':'rank',\n",
    "        'winner_rank_points':'rank_points'\n",
    "    }\n",
    ")\n",
    "\n",
    "win_matches['outcome'] = 1"
   ]
  },
  {
   "cell_type": "code",
   "execution_count": 7,
   "id": "ed0798c9",
   "metadata": {},
   "outputs": [],
   "source": [
    "lose_matches = lose_matches.rename(\n",
    "    columns={\n",
    "        'loser_id':'player_id',\n",
    "        'loser_seed':'player_seed',\n",
    "        'loser_entry':'player_entry',\n",
    "        'loser_name':'player_name',\n",
    "        'loser_hand':'player_hand',\n",
    "        'loser_ht':'player_ht',\n",
    "        'loser_ioc':'player_ioc',\n",
    "        'loser_age':'player_age',\n",
    "        'l_ace':'num_aces',\n",
    "        'l_df':'num_dfs',\n",
    "        'l_svpt':'num_svpts',\n",
    "        'l_1stIn':'serve1_in_perc',\n",
    "        'l_1stWon':'serve1_win_perc',\n",
    "        'l_2ndWon':'serve2_win_perc',\n",
    "        'l_SvGms':'num_games_served',\n",
    "        'l_bpSaved':'num_brkpts_saved',\n",
    "        'l_bpFaced':'num_brkpts_faced',\n",
    "        'loser_rank':'rank',\n",
    "        'loser_rank_points':'rank_points'\n",
    "    }\n",
    ")\n",
    "\n",
    "lose_matches['outcome'] = 0"
   ]
  },
  {
   "cell_type": "code",
   "execution_count": 8,
   "id": "eb45d9b7",
   "metadata": {},
   "outputs": [
    {
     "data": {
      "text/plain": [
       "(376322, 31)"
      ]
     },
     "execution_count": 8,
     "metadata": {},
     "output_type": "execute_result"
    }
   ],
   "source": [
    "#Stack wins and losses data\n",
    "matches = pd.concat([win_matches, lose_matches], ignore_index=True, axis=0)\n",
    "matches.shape"
   ]
  },
  {
   "cell_type": "code",
   "execution_count": 9,
   "id": "1cc52fde",
   "metadata": {},
   "outputs": [
    {
     "data": {
      "text/html": [
       "<div>\n",
       "<style scoped>\n",
       "    .dataframe tbody tr th:only-of-type {\n",
       "        vertical-align: middle;\n",
       "    }\n",
       "\n",
       "    .dataframe tbody tr th {\n",
       "        vertical-align: top;\n",
       "    }\n",
       "\n",
       "    .dataframe thead th {\n",
       "        text-align: right;\n",
       "    }\n",
       "</style>\n",
       "<table border=\"1\" class=\"dataframe\">\n",
       "  <thead>\n",
       "    <tr style=\"text-align: right;\">\n",
       "      <th></th>\n",
       "      <th>tourney_id</th>\n",
       "      <th>tourney_name</th>\n",
       "      <th>surface</th>\n",
       "      <th>draw_size</th>\n",
       "      <th>tourney_level</th>\n",
       "      <th>tourney_date</th>\n",
       "      <th>match_num</th>\n",
       "      <th>player_id</th>\n",
       "      <th>player_seed</th>\n",
       "      <th>player_entry</th>\n",
       "      <th>...</th>\n",
       "      <th>num_svpts</th>\n",
       "      <th>serve1_in_perc</th>\n",
       "      <th>serve1_win_perc</th>\n",
       "      <th>serve2_win_perc</th>\n",
       "      <th>num_games_served</th>\n",
       "      <th>num_brkpts_saved</th>\n",
       "      <th>num_brkpts_faced</th>\n",
       "      <th>rank</th>\n",
       "      <th>rank_points</th>\n",
       "      <th>outcome</th>\n",
       "    </tr>\n",
       "  </thead>\n",
       "  <tbody>\n",
       "    <tr>\n",
       "      <th>0</th>\n",
       "      <td>1968-2029</td>\n",
       "      <td>Dublin</td>\n",
       "      <td>Grass</td>\n",
       "      <td>32</td>\n",
       "      <td>A</td>\n",
       "      <td>19680708</td>\n",
       "      <td>270</td>\n",
       "      <td>112411</td>\n",
       "      <td>NaN</td>\n",
       "      <td>NaN</td>\n",
       "      <td>...</td>\n",
       "      <td>NaN</td>\n",
       "      <td>NaN</td>\n",
       "      <td>NaN</td>\n",
       "      <td>NaN</td>\n",
       "      <td>NaN</td>\n",
       "      <td>NaN</td>\n",
       "      <td>NaN</td>\n",
       "      <td>NaN</td>\n",
       "      <td>NaN</td>\n",
       "      <td>1</td>\n",
       "    </tr>\n",
       "    <tr>\n",
       "      <th>1</th>\n",
       "      <td>1968-2029</td>\n",
       "      <td>Dublin</td>\n",
       "      <td>Grass</td>\n",
       "      <td>32</td>\n",
       "      <td>A</td>\n",
       "      <td>19680708</td>\n",
       "      <td>271</td>\n",
       "      <td>126914</td>\n",
       "      <td>NaN</td>\n",
       "      <td>NaN</td>\n",
       "      <td>...</td>\n",
       "      <td>NaN</td>\n",
       "      <td>NaN</td>\n",
       "      <td>NaN</td>\n",
       "      <td>NaN</td>\n",
       "      <td>NaN</td>\n",
       "      <td>NaN</td>\n",
       "      <td>NaN</td>\n",
       "      <td>NaN</td>\n",
       "      <td>NaN</td>\n",
       "      <td>1</td>\n",
       "    </tr>\n",
       "    <tr>\n",
       "      <th>2</th>\n",
       "      <td>1968-2029</td>\n",
       "      <td>Dublin</td>\n",
       "      <td>Grass</td>\n",
       "      <td>32</td>\n",
       "      <td>A</td>\n",
       "      <td>19680708</td>\n",
       "      <td>272</td>\n",
       "      <td>209523</td>\n",
       "      <td>NaN</td>\n",
       "      <td>NaN</td>\n",
       "      <td>...</td>\n",
       "      <td>NaN</td>\n",
       "      <td>NaN</td>\n",
       "      <td>NaN</td>\n",
       "      <td>NaN</td>\n",
       "      <td>NaN</td>\n",
       "      <td>NaN</td>\n",
       "      <td>NaN</td>\n",
       "      <td>NaN</td>\n",
       "      <td>NaN</td>\n",
       "      <td>1</td>\n",
       "    </tr>\n",
       "    <tr>\n",
       "      <th>3</th>\n",
       "      <td>1968-2029</td>\n",
       "      <td>Dublin</td>\n",
       "      <td>Grass</td>\n",
       "      <td>32</td>\n",
       "      <td>A</td>\n",
       "      <td>19680708</td>\n",
       "      <td>273</td>\n",
       "      <td>100084</td>\n",
       "      <td>NaN</td>\n",
       "      <td>NaN</td>\n",
       "      <td>...</td>\n",
       "      <td>NaN</td>\n",
       "      <td>NaN</td>\n",
       "      <td>NaN</td>\n",
       "      <td>NaN</td>\n",
       "      <td>NaN</td>\n",
       "      <td>NaN</td>\n",
       "      <td>NaN</td>\n",
       "      <td>NaN</td>\n",
       "      <td>NaN</td>\n",
       "      <td>1</td>\n",
       "    </tr>\n",
       "    <tr>\n",
       "      <th>4</th>\n",
       "      <td>1968-2029</td>\n",
       "      <td>Dublin</td>\n",
       "      <td>Grass</td>\n",
       "      <td>32</td>\n",
       "      <td>A</td>\n",
       "      <td>19680708</td>\n",
       "      <td>274</td>\n",
       "      <td>100132</td>\n",
       "      <td>NaN</td>\n",
       "      <td>NaN</td>\n",
       "      <td>...</td>\n",
       "      <td>NaN</td>\n",
       "      <td>NaN</td>\n",
       "      <td>NaN</td>\n",
       "      <td>NaN</td>\n",
       "      <td>NaN</td>\n",
       "      <td>NaN</td>\n",
       "      <td>NaN</td>\n",
       "      <td>NaN</td>\n",
       "      <td>NaN</td>\n",
       "      <td>1</td>\n",
       "    </tr>\n",
       "  </tbody>\n",
       "</table>\n",
       "<p>5 rows × 31 columns</p>\n",
       "</div>"
      ],
      "text/plain": [
       "  tourney_id tourney_name surface  draw_size tourney_level  tourney_date  \\\n",
       "0  1968-2029       Dublin   Grass         32             A      19680708   \n",
       "1  1968-2029       Dublin   Grass         32             A      19680708   \n",
       "2  1968-2029       Dublin   Grass         32             A      19680708   \n",
       "3  1968-2029       Dublin   Grass         32             A      19680708   \n",
       "4  1968-2029       Dublin   Grass         32             A      19680708   \n",
       "\n",
       "   match_num  player_id  player_seed player_entry  ... num_svpts  \\\n",
       "0        270     112411          NaN          NaN  ...       NaN   \n",
       "1        271     126914          NaN          NaN  ...       NaN   \n",
       "2        272     209523          NaN          NaN  ...       NaN   \n",
       "3        273     100084          NaN          NaN  ...       NaN   \n",
       "4        274     100132          NaN          NaN  ...       NaN   \n",
       "\n",
       "  serve1_in_perc  serve1_win_perc serve2_win_perc  num_games_served  \\\n",
       "0            NaN              NaN             NaN               NaN   \n",
       "1            NaN              NaN             NaN               NaN   \n",
       "2            NaN              NaN             NaN               NaN   \n",
       "3            NaN              NaN             NaN               NaN   \n",
       "4            NaN              NaN             NaN               NaN   \n",
       "\n",
       "  num_brkpts_saved  num_brkpts_faced rank  rank_points  outcome  \n",
       "0              NaN               NaN  NaN          NaN        1  \n",
       "1              NaN               NaN  NaN          NaN        1  \n",
       "2              NaN               NaN  NaN          NaN        1  \n",
       "3              NaN               NaN  NaN          NaN        1  \n",
       "4              NaN               NaN  NaN          NaN        1  \n",
       "\n",
       "[5 rows x 31 columns]"
      ]
     },
     "execution_count": 9,
     "metadata": {},
     "output_type": "execute_result"
    }
   ],
   "source": [
    "matches.head()"
   ]
  },
  {
   "cell_type": "markdown",
   "id": "2e490ea4",
   "metadata": {},
   "source": [
    "#### Which players had most weeks ranked as #1?"
   ]
  },
  {
   "cell_type": "code",
   "execution_count": 10,
   "id": "6df72cae",
   "metadata": {},
   "outputs": [
    {
     "data": {
      "text/html": [
       "<div>\n",
       "<style scoped>\n",
       "    .dataframe tbody tr th:only-of-type {\n",
       "        vertical-align: middle;\n",
       "    }\n",
       "\n",
       "    .dataframe tbody tr th {\n",
       "        vertical-align: top;\n",
       "    }\n",
       "\n",
       "    .dataframe thead th {\n",
       "        text-align: right;\n",
       "    }\n",
       "</style>\n",
       "<table border=\"1\" class=\"dataframe\">\n",
       "  <thead>\n",
       "    <tr style=\"text-align: right;\">\n",
       "      <th></th>\n",
       "      <th>ranking_date</th>\n",
       "      <th>rank</th>\n",
       "      <th>player_id</th>\n",
       "      <th>points</th>\n",
       "      <th>year</th>\n",
       "    </tr>\n",
       "  </thead>\n",
       "  <tbody>\n",
       "    <tr>\n",
       "      <th>0</th>\n",
       "      <td>2010-01-04</td>\n",
       "      <td>1</td>\n",
       "      <td>103819</td>\n",
       "      <td>10550.0</td>\n",
       "      <td>2010</td>\n",
       "    </tr>\n",
       "    <tr>\n",
       "      <th>1812</th>\n",
       "      <td>2010-01-11</td>\n",
       "      <td>1</td>\n",
       "      <td>103819</td>\n",
       "      <td>10550.0</td>\n",
       "      <td>2010</td>\n",
       "    </tr>\n",
       "    <tr>\n",
       "      <th>3626</th>\n",
       "      <td>2010-01-18</td>\n",
       "      <td>1</td>\n",
       "      <td>103819</td>\n",
       "      <td>10550.0</td>\n",
       "      <td>2010</td>\n",
       "    </tr>\n",
       "    <tr>\n",
       "      <th>5439</th>\n",
       "      <td>2010-01-25</td>\n",
       "      <td>1</td>\n",
       "      <td>103819</td>\n",
       "      <td>10550.0</td>\n",
       "      <td>2010</td>\n",
       "    </tr>\n",
       "    <tr>\n",
       "      <th>7252</th>\n",
       "      <td>2010-02-01</td>\n",
       "      <td>1</td>\n",
       "      <td>103819</td>\n",
       "      <td>11350.0</td>\n",
       "      <td>2010</td>\n",
       "    </tr>\n",
       "  </tbody>\n",
       "</table>\n",
       "</div>"
      ],
      "text/plain": [
       "     ranking_date  rank  player_id   points  year\n",
       "0      2010-01-04     1     103819  10550.0  2010\n",
       "1812   2010-01-11     1     103819  10550.0  2010\n",
       "3626   2010-01-18     1     103819  10550.0  2010\n",
       "5439   2010-01-25     1     103819  10550.0  2010\n",
       "7252   2010-02-01     1     103819  11350.0  2010"
      ]
     },
     "execution_count": 10,
     "metadata": {},
     "output_type": "execute_result"
    }
   ],
   "source": [
    "ranking['year'] = ranking['ranking_date'].astype(str).str[:4]\n",
    "ranking['ranking_date'] = pd.to_datetime(ranking['ranking_date'].astype(str), format='%Y%m%d')\n",
    "ranking = ranking.rename(columns={'player':'player_id'})\n",
    "ranking1 = ranking[ranking['rank']==1]\n",
    "ranking1.head()"
   ]
  },
  {
   "cell_type": "code",
   "execution_count": 11,
   "id": "1ed36e68",
   "metadata": {},
   "outputs": [
    {
     "data": {
      "text/html": [
       "<div>\n",
       "<style scoped>\n",
       "    .dataframe tbody tr th:only-of-type {\n",
       "        vertical-align: middle;\n",
       "    }\n",
       "\n",
       "    .dataframe tbody tr th {\n",
       "        vertical-align: top;\n",
       "    }\n",
       "\n",
       "    .dataframe thead th {\n",
       "        text-align: right;\n",
       "    }\n",
       "</style>\n",
       "<table border=\"1\" class=\"dataframe\">\n",
       "  <thead>\n",
       "    <tr style=\"text-align: right;\">\n",
       "      <th></th>\n",
       "      <th>player_id</th>\n",
       "      <th>count</th>\n",
       "    </tr>\n",
       "  </thead>\n",
       "  <tbody>\n",
       "    <tr>\n",
       "      <th>25</th>\n",
       "      <td>104925</td>\n",
       "      <td>332</td>\n",
       "    </tr>\n",
       "    <tr>\n",
       "      <th>21</th>\n",
       "      <td>103819</td>\n",
       "      <td>307</td>\n",
       "    </tr>\n",
       "    <tr>\n",
       "      <th>12</th>\n",
       "      <td>101948</td>\n",
       "      <td>285</td>\n",
       "    </tr>\n",
       "    <tr>\n",
       "      <th>5</th>\n",
       "      <td>100656</td>\n",
       "      <td>228</td>\n",
       "    </tr>\n",
       "    <tr>\n",
       "      <th>23</th>\n",
       "      <td>104745</td>\n",
       "      <td>193</td>\n",
       "    </tr>\n",
       "  </tbody>\n",
       "</table>\n",
       "</div>"
      ],
      "text/plain": [
       "    player_id  count\n",
       "25     104925    332\n",
       "21     103819    307\n",
       "12     101948    285\n",
       "5      100656    228\n",
       "23     104745    193"
      ]
     },
     "execution_count": 11,
     "metadata": {},
     "output_type": "execute_result"
    }
   ],
   "source": [
    "weeks_at_1 = pd.DataFrame(ranking1.groupby('player_id')['rank'].sum()).reset_index()\n",
    "weeks_at_1 = weeks_at_1.rename(columns={'rank': 'count'})\n",
    "weeks_at_1 = weeks_at_1.sort_values(by = 'count', ascending=False)\n",
    "weeks_at_1.head(5)"
   ]
  },
  {
   "cell_type": "code",
   "execution_count": 12,
   "id": "b3c0f79e",
   "metadata": {},
   "outputs": [],
   "source": [
    "plyrs = players[['player_id','name_first','name_last','hand','ioc','dob','height']]"
   ]
  },
  {
   "cell_type": "code",
   "execution_count": 13,
   "id": "b54a8596",
   "metadata": {},
   "outputs": [
    {
     "data": {
      "text/html": [
       "<div>\n",
       "<style scoped>\n",
       "    .dataframe tbody tr th:only-of-type {\n",
       "        vertical-align: middle;\n",
       "    }\n",
       "\n",
       "    .dataframe tbody tr th {\n",
       "        vertical-align: top;\n",
       "    }\n",
       "\n",
       "    .dataframe thead th {\n",
       "        text-align: right;\n",
       "    }\n",
       "</style>\n",
       "<table border=\"1\" class=\"dataframe\">\n",
       "  <thead>\n",
       "    <tr style=\"text-align: right;\">\n",
       "      <th></th>\n",
       "      <th>player_id</th>\n",
       "      <th>count</th>\n",
       "      <th>name_first</th>\n",
       "      <th>name_last</th>\n",
       "      <th>hand</th>\n",
       "      <th>ioc</th>\n",
       "      <th>dob</th>\n",
       "      <th>height</th>\n",
       "    </tr>\n",
       "  </thead>\n",
       "  <tbody>\n",
       "    <tr>\n",
       "      <th>0</th>\n",
       "      <td>104925</td>\n",
       "      <td>332</td>\n",
       "      <td>Novak</td>\n",
       "      <td>Djokovic</td>\n",
       "      <td>R</td>\n",
       "      <td>SRB</td>\n",
       "      <td>19870522.0</td>\n",
       "      <td>188.0</td>\n",
       "    </tr>\n",
       "    <tr>\n",
       "      <th>1</th>\n",
       "      <td>103819</td>\n",
       "      <td>307</td>\n",
       "      <td>Roger</td>\n",
       "      <td>Federer</td>\n",
       "      <td>R</td>\n",
       "      <td>SUI</td>\n",
       "      <td>19810808.0</td>\n",
       "      <td>185.0</td>\n",
       "    </tr>\n",
       "    <tr>\n",
       "      <th>2</th>\n",
       "      <td>101948</td>\n",
       "      <td>285</td>\n",
       "      <td>Pete</td>\n",
       "      <td>Sampras</td>\n",
       "      <td>R</td>\n",
       "      <td>USA</td>\n",
       "      <td>19710812.0</td>\n",
       "      <td>185.0</td>\n",
       "    </tr>\n",
       "    <tr>\n",
       "      <th>3</th>\n",
       "      <td>100656</td>\n",
       "      <td>228</td>\n",
       "      <td>Ivan</td>\n",
       "      <td>Lendl</td>\n",
       "      <td>R</td>\n",
       "      <td>USA</td>\n",
       "      <td>19600307.0</td>\n",
       "      <td>188.0</td>\n",
       "    </tr>\n",
       "    <tr>\n",
       "      <th>4</th>\n",
       "      <td>104745</td>\n",
       "      <td>193</td>\n",
       "      <td>Rafael</td>\n",
       "      <td>Nadal</td>\n",
       "      <td>L</td>\n",
       "      <td>ESP</td>\n",
       "      <td>19860603.0</td>\n",
       "      <td>185.0</td>\n",
       "    </tr>\n",
       "    <tr>\n",
       "      <th>5</th>\n",
       "      <td>100581</td>\n",
       "      <td>136</td>\n",
       "      <td>John</td>\n",
       "      <td>McEnroe</td>\n",
       "      <td>L</td>\n",
       "      <td>USA</td>\n",
       "      <td>19590216.0</td>\n",
       "      <td>180.0</td>\n",
       "    </tr>\n",
       "    <tr>\n",
       "      <th>6</th>\n",
       "      <td>100284</td>\n",
       "      <td>104</td>\n",
       "      <td>Jimmy</td>\n",
       "      <td>Connors</td>\n",
       "      <td>L</td>\n",
       "      <td>USA</td>\n",
       "      <td>19520902.0</td>\n",
       "      <td>178.0</td>\n",
       "    </tr>\n",
       "    <tr>\n",
       "      <th>7</th>\n",
       "      <td>101736</td>\n",
       "      <td>100</td>\n",
       "      <td>Andre</td>\n",
       "      <td>Agassi</td>\n",
       "      <td>R</td>\n",
       "      <td>USA</td>\n",
       "      <td>19700429.0</td>\n",
       "      <td>180.0</td>\n",
       "    </tr>\n",
       "    <tr>\n",
       "      <th>8</th>\n",
       "      <td>100437</td>\n",
       "      <td>94</td>\n",
       "      <td>Bjorn</td>\n",
       "      <td>Borg</td>\n",
       "      <td>R</td>\n",
       "      <td>SWE</td>\n",
       "      <td>19560606.0</td>\n",
       "      <td>180.0</td>\n",
       "    </tr>\n",
       "    <tr>\n",
       "      <th>9</th>\n",
       "      <td>103720</td>\n",
       "      <td>80</td>\n",
       "      <td>Lleyton</td>\n",
       "      <td>Hewitt</td>\n",
       "      <td>R</td>\n",
       "      <td>AUS</td>\n",
       "      <td>19810224.0</td>\n",
       "      <td>180.0</td>\n",
       "    </tr>\n",
       "  </tbody>\n",
       "</table>\n",
       "</div>"
      ],
      "text/plain": [
       "   player_id  count name_first name_last hand  ioc         dob  height\n",
       "0     104925    332      Novak  Djokovic    R  SRB  19870522.0   188.0\n",
       "1     103819    307      Roger   Federer    R  SUI  19810808.0   185.0\n",
       "2     101948    285       Pete   Sampras    R  USA  19710812.0   185.0\n",
       "3     100656    228       Ivan     Lendl    R  USA  19600307.0   188.0\n",
       "4     104745    193     Rafael     Nadal    L  ESP  19860603.0   185.0\n",
       "5     100581    136       John   McEnroe    L  USA  19590216.0   180.0\n",
       "6     100284    104      Jimmy   Connors    L  USA  19520902.0   178.0\n",
       "7     101736    100      Andre    Agassi    R  USA  19700429.0   180.0\n",
       "8     100437     94      Bjorn      Borg    R  SWE  19560606.0   180.0\n",
       "9     103720     80    Lleyton    Hewitt    R  AUS  19810224.0   180.0"
      ]
     },
     "execution_count": 13,
     "metadata": {},
     "output_type": "execute_result"
    }
   ],
   "source": [
    "weeks_at_1_with_names = pd.merge(weeks_at_1, plyrs, on='player_id', how='inner')\n",
    "weeks_at_1_with_names.head(10)"
   ]
  },
  {
   "cell_type": "markdown",
   "id": "810c0b84",
   "metadata": {},
   "source": [
    "#### Longest tenures ranked as #1 (Right vs. Left Handed)"
   ]
  },
  {
   "cell_type": "code",
   "execution_count": 14,
   "id": "a237f6fb",
   "metadata": {},
   "outputs": [],
   "source": [
    "right = weeks_at_1_with_names[weeks_at_1_with_names['hand']==\"R\"]\n",
    "left = weeks_at_1_with_names[weeks_at_1_with_names['hand']==\"L\"]"
   ]
  },
  {
   "cell_type": "code",
   "execution_count": 15,
   "id": "03f5162a",
   "metadata": {},
   "outputs": [
    {
     "data": {
      "text/html": [
       "<div>\n",
       "<style scoped>\n",
       "    .dataframe tbody tr th:only-of-type {\n",
       "        vertical-align: middle;\n",
       "    }\n",
       "\n",
       "    .dataframe tbody tr th {\n",
       "        vertical-align: top;\n",
       "    }\n",
       "\n",
       "    .dataframe thead th {\n",
       "        text-align: right;\n",
       "    }\n",
       "</style>\n",
       "<table border=\"1\" class=\"dataframe\">\n",
       "  <thead>\n",
       "    <tr style=\"text-align: right;\">\n",
       "      <th></th>\n",
       "      <th>player_id</th>\n",
       "      <th>count</th>\n",
       "      <th>name_first</th>\n",
       "      <th>name_last</th>\n",
       "      <th>hand</th>\n",
       "      <th>ioc</th>\n",
       "      <th>dob</th>\n",
       "      <th>height</th>\n",
       "    </tr>\n",
       "  </thead>\n",
       "  <tbody>\n",
       "    <tr>\n",
       "      <th>0</th>\n",
       "      <td>104925</td>\n",
       "      <td>332</td>\n",
       "      <td>Novak</td>\n",
       "      <td>Djokovic</td>\n",
       "      <td>R</td>\n",
       "      <td>SRB</td>\n",
       "      <td>19870522.0</td>\n",
       "      <td>188.0</td>\n",
       "    </tr>\n",
       "    <tr>\n",
       "      <th>1</th>\n",
       "      <td>103819</td>\n",
       "      <td>307</td>\n",
       "      <td>Roger</td>\n",
       "      <td>Federer</td>\n",
       "      <td>R</td>\n",
       "      <td>SUI</td>\n",
       "      <td>19810808.0</td>\n",
       "      <td>185.0</td>\n",
       "    </tr>\n",
       "    <tr>\n",
       "      <th>2</th>\n",
       "      <td>101948</td>\n",
       "      <td>285</td>\n",
       "      <td>Pete</td>\n",
       "      <td>Sampras</td>\n",
       "      <td>R</td>\n",
       "      <td>USA</td>\n",
       "      <td>19710812.0</td>\n",
       "      <td>185.0</td>\n",
       "    </tr>\n",
       "    <tr>\n",
       "      <th>3</th>\n",
       "      <td>100656</td>\n",
       "      <td>228</td>\n",
       "      <td>Ivan</td>\n",
       "      <td>Lendl</td>\n",
       "      <td>R</td>\n",
       "      <td>USA</td>\n",
       "      <td>19600307.0</td>\n",
       "      <td>188.0</td>\n",
       "    </tr>\n",
       "    <tr>\n",
       "      <th>7</th>\n",
       "      <td>101736</td>\n",
       "      <td>100</td>\n",
       "      <td>Andre</td>\n",
       "      <td>Agassi</td>\n",
       "      <td>R</td>\n",
       "      <td>USA</td>\n",
       "      <td>19700429.0</td>\n",
       "      <td>180.0</td>\n",
       "    </tr>\n",
       "  </tbody>\n",
       "</table>\n",
       "</div>"
      ],
      "text/plain": [
       "   player_id  count name_first name_last hand  ioc         dob  height\n",
       "0     104925    332      Novak  Djokovic    R  SRB  19870522.0   188.0\n",
       "1     103819    307      Roger   Federer    R  SUI  19810808.0   185.0\n",
       "2     101948    285       Pete   Sampras    R  USA  19710812.0   185.0\n",
       "3     100656    228       Ivan     Lendl    R  USA  19600307.0   188.0\n",
       "7     101736    100      Andre    Agassi    R  USA  19700429.0   180.0"
      ]
     },
     "execution_count": 15,
     "metadata": {},
     "output_type": "execute_result"
    }
   ],
   "source": [
    "right.head(5)"
   ]
  },
  {
   "cell_type": "code",
   "execution_count": 16,
   "id": "e6ec2cda",
   "metadata": {},
   "outputs": [
    {
     "data": {
      "text/html": [
       "<div>\n",
       "<style scoped>\n",
       "    .dataframe tbody tr th:only-of-type {\n",
       "        vertical-align: middle;\n",
       "    }\n",
       "\n",
       "    .dataframe tbody tr th {\n",
       "        vertical-align: top;\n",
       "    }\n",
       "\n",
       "    .dataframe thead th {\n",
       "        text-align: right;\n",
       "    }\n",
       "</style>\n",
       "<table border=\"1\" class=\"dataframe\">\n",
       "  <thead>\n",
       "    <tr style=\"text-align: right;\">\n",
       "      <th></th>\n",
       "      <th>player_id</th>\n",
       "      <th>count</th>\n",
       "      <th>name_first</th>\n",
       "      <th>name_last</th>\n",
       "      <th>hand</th>\n",
       "      <th>ioc</th>\n",
       "      <th>dob</th>\n",
       "      <th>height</th>\n",
       "    </tr>\n",
       "  </thead>\n",
       "  <tbody>\n",
       "    <tr>\n",
       "      <th>4</th>\n",
       "      <td>104745</td>\n",
       "      <td>193</td>\n",
       "      <td>Rafael</td>\n",
       "      <td>Nadal</td>\n",
       "      <td>L</td>\n",
       "      <td>ESP</td>\n",
       "      <td>19860603.0</td>\n",
       "      <td>185.0</td>\n",
       "    </tr>\n",
       "    <tr>\n",
       "      <th>5</th>\n",
       "      <td>100581</td>\n",
       "      <td>136</td>\n",
       "      <td>John</td>\n",
       "      <td>McEnroe</td>\n",
       "      <td>L</td>\n",
       "      <td>USA</td>\n",
       "      <td>19590216.0</td>\n",
       "      <td>180.0</td>\n",
       "    </tr>\n",
       "    <tr>\n",
       "      <th>6</th>\n",
       "      <td>100284</td>\n",
       "      <td>104</td>\n",
       "      <td>Jimmy</td>\n",
       "      <td>Connors</td>\n",
       "      <td>L</td>\n",
       "      <td>USA</td>\n",
       "      <td>19520902.0</td>\n",
       "      <td>178.0</td>\n",
       "    </tr>\n",
       "    <tr>\n",
       "      <th>23</th>\n",
       "      <td>102701</td>\n",
       "      <td>6</td>\n",
       "      <td>Marcelo</td>\n",
       "      <td>Rios</td>\n",
       "      <td>L</td>\n",
       "      <td>CHI</td>\n",
       "      <td>19751226.0</td>\n",
       "      <td>175.0</td>\n",
       "    </tr>\n",
       "    <tr>\n",
       "      <th>24</th>\n",
       "      <td>101404</td>\n",
       "      <td>6</td>\n",
       "      <td>Thomas</td>\n",
       "      <td>Muster</td>\n",
       "      <td>L</td>\n",
       "      <td>AUT</td>\n",
       "      <td>19671002.0</td>\n",
       "      <td>180.0</td>\n",
       "    </tr>\n",
       "  </tbody>\n",
       "</table>\n",
       "</div>"
      ],
      "text/plain": [
       "    player_id  count name_first name_last hand  ioc         dob  height\n",
       "4      104745    193     Rafael     Nadal    L  ESP  19860603.0   185.0\n",
       "5      100581    136       John   McEnroe    L  USA  19590216.0   180.0\n",
       "6      100284    104      Jimmy   Connors    L  USA  19520902.0   178.0\n",
       "23     102701      6    Marcelo      Rios    L  CHI  19751226.0   175.0\n",
       "24     101404      6     Thomas    Muster    L  AUT  19671002.0   180.0"
      ]
     },
     "execution_count": 16,
     "metadata": {},
     "output_type": "execute_result"
    }
   ],
   "source": [
    "left.head(5)"
   ]
  },
  {
   "cell_type": "markdown",
   "id": "9888c0f0",
   "metadata": {},
   "source": [
    "### Longest tenures ranked as #1 by country"
   ]
  },
  {
   "cell_type": "code",
   "execution_count": 17,
   "id": "0e5fa6ee",
   "metadata": {},
   "outputs": [
    {
     "data": {
      "text/html": [
       "<div>\n",
       "<style scoped>\n",
       "    .dataframe tbody tr th:only-of-type {\n",
       "        vertical-align: middle;\n",
       "    }\n",
       "\n",
       "    .dataframe tbody tr th {\n",
       "        vertical-align: top;\n",
       "    }\n",
       "\n",
       "    .dataframe thead th {\n",
       "        text-align: right;\n",
       "    }\n",
       "</style>\n",
       "<table border=\"1\" class=\"dataframe\">\n",
       "  <thead>\n",
       "    <tr style=\"text-align: right;\">\n",
       "      <th></th>\n",
       "      <th>player_id</th>\n",
       "      <th>count</th>\n",
       "      <th>name_first</th>\n",
       "      <th>name_last</th>\n",
       "      <th>hand</th>\n",
       "      <th>ioc</th>\n",
       "      <th>dob</th>\n",
       "      <th>height</th>\n",
       "    </tr>\n",
       "  </thead>\n",
       "  <tbody>\n",
       "    <tr>\n",
       "      <th>2</th>\n",
       "      <td>101948</td>\n",
       "      <td>285</td>\n",
       "      <td>Pete</td>\n",
       "      <td>Sampras</td>\n",
       "      <td>R</td>\n",
       "      <td>USA</td>\n",
       "      <td>19710812.0</td>\n",
       "      <td>185.0</td>\n",
       "    </tr>\n",
       "    <tr>\n",
       "      <th>3</th>\n",
       "      <td>100656</td>\n",
       "      <td>228</td>\n",
       "      <td>Ivan</td>\n",
       "      <td>Lendl</td>\n",
       "      <td>R</td>\n",
       "      <td>USA</td>\n",
       "      <td>19600307.0</td>\n",
       "      <td>188.0</td>\n",
       "    </tr>\n",
       "    <tr>\n",
       "      <th>5</th>\n",
       "      <td>100581</td>\n",
       "      <td>136</td>\n",
       "      <td>John</td>\n",
       "      <td>McEnroe</td>\n",
       "      <td>L</td>\n",
       "      <td>USA</td>\n",
       "      <td>19590216.0</td>\n",
       "      <td>180.0</td>\n",
       "    </tr>\n",
       "    <tr>\n",
       "      <th>6</th>\n",
       "      <td>100284</td>\n",
       "      <td>104</td>\n",
       "      <td>Jimmy</td>\n",
       "      <td>Connors</td>\n",
       "      <td>L</td>\n",
       "      <td>USA</td>\n",
       "      <td>19520902.0</td>\n",
       "      <td>178.0</td>\n",
       "    </tr>\n",
       "    <tr>\n",
       "      <th>7</th>\n",
       "      <td>101736</td>\n",
       "      <td>100</td>\n",
       "      <td>Andre</td>\n",
       "      <td>Agassi</td>\n",
       "      <td>R</td>\n",
       "      <td>USA</td>\n",
       "      <td>19700429.0</td>\n",
       "      <td>180.0</td>\n",
       "    </tr>\n",
       "  </tbody>\n",
       "</table>\n",
       "</div>"
      ],
      "text/plain": [
       "   player_id  count name_first name_last hand  ioc         dob  height\n",
       "2     101948    285       Pete   Sampras    R  USA  19710812.0   185.0\n",
       "3     100656    228       Ivan     Lendl    R  USA  19600307.0   188.0\n",
       "5     100581    136       John   McEnroe    L  USA  19590216.0   180.0\n",
       "6     100284    104      Jimmy   Connors    L  USA  19520902.0   178.0\n",
       "7     101736    100      Andre    Agassi    R  USA  19700429.0   180.0"
      ]
     },
     "execution_count": 17,
     "metadata": {},
     "output_type": "execute_result"
    }
   ],
   "source": [
    "usa = weeks_at_1_with_names[weeks_at_1_with_names['ioc']==\"USA\"]\n",
    "spain = weeks_at_1_with_names[weeks_at_1_with_names['ioc']==\"ESP\"]\n",
    "\n",
    "usa.head(5)"
   ]
  },
  {
   "cell_type": "code",
   "execution_count": 18,
   "id": "85051f38",
   "metadata": {},
   "outputs": [
    {
     "data": {
      "text/html": [
       "<div>\n",
       "<style scoped>\n",
       "    .dataframe tbody tr th:only-of-type {\n",
       "        vertical-align: middle;\n",
       "    }\n",
       "\n",
       "    .dataframe tbody tr th {\n",
       "        vertical-align: top;\n",
       "    }\n",
       "\n",
       "    .dataframe thead th {\n",
       "        text-align: right;\n",
       "    }\n",
       "</style>\n",
       "<table border=\"1\" class=\"dataframe\">\n",
       "  <thead>\n",
       "    <tr style=\"text-align: right;\">\n",
       "      <th></th>\n",
       "      <th>player_id</th>\n",
       "      <th>count</th>\n",
       "      <th>name_first</th>\n",
       "      <th>name_last</th>\n",
       "      <th>hand</th>\n",
       "      <th>ioc</th>\n",
       "      <th>dob</th>\n",
       "      <th>height</th>\n",
       "    </tr>\n",
       "  </thead>\n",
       "  <tbody>\n",
       "    <tr>\n",
       "      <th>4</th>\n",
       "      <td>104745</td>\n",
       "      <td>193</td>\n",
       "      <td>Rafael</td>\n",
       "      <td>Nadal</td>\n",
       "      <td>L</td>\n",
       "      <td>ESP</td>\n",
       "      <td>19860603.0</td>\n",
       "      <td>185.0</td>\n",
       "    </tr>\n",
       "    <tr>\n",
       "      <th>15</th>\n",
       "      <td>207989</td>\n",
       "      <td>16</td>\n",
       "      <td>Carlos</td>\n",
       "      <td>Alcaraz</td>\n",
       "      <td>R</td>\n",
       "      <td>ESP</td>\n",
       "      <td>20030505.0</td>\n",
       "      <td>185.0</td>\n",
       "    </tr>\n",
       "    <tr>\n",
       "      <th>21</th>\n",
       "      <td>103507</td>\n",
       "      <td>8</td>\n",
       "      <td>Juan Carlos</td>\n",
       "      <td>Ferrero</td>\n",
       "      <td>R</td>\n",
       "      <td>ESP</td>\n",
       "      <td>19800212.0</td>\n",
       "      <td>183.0</td>\n",
       "    </tr>\n",
       "    <tr>\n",
       "      <th>25</th>\n",
       "      <td>102845</td>\n",
       "      <td>2</td>\n",
       "      <td>Carlos</td>\n",
       "      <td>Moya</td>\n",
       "      <td>R</td>\n",
       "      <td>ESP</td>\n",
       "      <td>19760827.0</td>\n",
       "      <td>190.0</td>\n",
       "    </tr>\n",
       "  </tbody>\n",
       "</table>\n",
       "</div>"
      ],
      "text/plain": [
       "    player_id  count   name_first name_last hand  ioc         dob  height\n",
       "4      104745    193       Rafael     Nadal    L  ESP  19860603.0   185.0\n",
       "15     207989     16       Carlos   Alcaraz    R  ESP  20030505.0   185.0\n",
       "21     103507      8  Juan Carlos   Ferrero    R  ESP  19800212.0   183.0\n",
       "25     102845      2       Carlos      Moya    R  ESP  19760827.0   190.0"
      ]
     },
     "execution_count": 18,
     "metadata": {},
     "output_type": "execute_result"
    }
   ],
   "source": [
    "spain.head(5)"
   ]
  },
  {
   "cell_type": "markdown",
   "id": "8bdfeca5",
   "metadata": {},
   "source": [
    "### Which country had the most players ranked at #1?"
   ]
  },
  {
   "cell_type": "code",
   "execution_count": 19,
   "id": "9a5ee5bf",
   "metadata": {
    "scrolled": true
   },
   "outputs": [
    {
     "data": {
      "text/html": [
       "<div>\n",
       "<style scoped>\n",
       "    .dataframe tbody tr th:only-of-type {\n",
       "        vertical-align: middle;\n",
       "    }\n",
       "\n",
       "    .dataframe tbody tr th {\n",
       "        vertical-align: top;\n",
       "    }\n",
       "\n",
       "    .dataframe thead th {\n",
       "        text-align: right;\n",
       "    }\n",
       "</style>\n",
       "<table border=\"1\" class=\"dataframe\">\n",
       "  <thead>\n",
       "    <tr style=\"text-align: right;\">\n",
       "      <th></th>\n",
       "      <th>country</th>\n",
       "      <th>count</th>\n",
       "    </tr>\n",
       "  </thead>\n",
       "  <tbody>\n",
       "    <tr>\n",
       "      <th>12</th>\n",
       "      <td>USA</td>\n",
       "      <td>7</td>\n",
       "    </tr>\n",
       "    <tr>\n",
       "      <th>4</th>\n",
       "      <td>ESP</td>\n",
       "      <td>4</td>\n",
       "    </tr>\n",
       "    <tr>\n",
       "      <th>0</th>\n",
       "      <td>AUS</td>\n",
       "      <td>3</td>\n",
       "    </tr>\n",
       "    <tr>\n",
       "      <th>8</th>\n",
       "      <td>RUS</td>\n",
       "      <td>3</td>\n",
       "    </tr>\n",
       "    <tr>\n",
       "      <th>11</th>\n",
       "      <td>SWE</td>\n",
       "      <td>3</td>\n",
       "    </tr>\n",
       "  </tbody>\n",
       "</table>\n",
       "</div>"
      ],
      "text/plain": [
       "   country  count\n",
       "12     USA      7\n",
       "4      ESP      4\n",
       "0      AUS      3\n",
       "8      RUS      3\n",
       "11     SWE      3"
      ]
     },
     "execution_count": 19,
     "metadata": {},
     "output_type": "execute_result"
    }
   ],
   "source": [
    "country_counts = weeks_at_1_with_names[['ioc','player_id']]\n",
    "country_counts = pd.DataFrame(weeks_at_1_with_names.groupby('ioc')['player_id'].count()).reset_index()\n",
    "\n",
    "country_counts = country_counts.rename(columns={\n",
    "    'ioc': 'country',\n",
    "    'player_id':'count'\n",
    "})\n",
    "country_counts = country_counts.sort_values(by = 'count', ascending=False)\n",
    "country_counts.head()"
   ]
  },
  {
   "cell_type": "markdown",
   "id": "87ec717f",
   "metadata": {},
   "source": [
    "### What is the average age of players ranked 1-5?"
   ]
  },
  {
   "cell_type": "code",
   "execution_count": 20,
   "id": "ca96e311",
   "metadata": {},
   "outputs": [
    {
     "data": {
      "text/html": [
       "<div>\n",
       "<style scoped>\n",
       "    .dataframe tbody tr th:only-of-type {\n",
       "        vertical-align: middle;\n",
       "    }\n",
       "\n",
       "    .dataframe tbody tr th {\n",
       "        vertical-align: top;\n",
       "    }\n",
       "\n",
       "    .dataframe thead th {\n",
       "        text-align: right;\n",
       "    }\n",
       "</style>\n",
       "<table border=\"1\" class=\"dataframe\">\n",
       "  <thead>\n",
       "    <tr style=\"text-align: right;\">\n",
       "      <th></th>\n",
       "      <th>ranking_date</th>\n",
       "      <th>rank</th>\n",
       "      <th>player_id</th>\n",
       "      <th>points</th>\n",
       "      <th>year</th>\n",
       "      <th>name_first</th>\n",
       "      <th>name_last</th>\n",
       "      <th>hand</th>\n",
       "      <th>ioc</th>\n",
       "      <th>dob</th>\n",
       "      <th>height</th>\n",
       "      <th>age_days</th>\n",
       "      <th>age_yrs</th>\n",
       "    </tr>\n",
       "  </thead>\n",
       "  <tbody>\n",
       "    <tr>\n",
       "      <th>0</th>\n",
       "      <td>2010-01-04</td>\n",
       "      <td>1</td>\n",
       "      <td>103819</td>\n",
       "      <td>10550.0</td>\n",
       "      <td>2010</td>\n",
       "      <td>Roger</td>\n",
       "      <td>Federer</td>\n",
       "      <td>R</td>\n",
       "      <td>SUI</td>\n",
       "      <td>1981-08-08</td>\n",
       "      <td>185.0</td>\n",
       "      <td>10376 days</td>\n",
       "      <td>28.427397</td>\n",
       "    </tr>\n",
       "    <tr>\n",
       "      <th>1</th>\n",
       "      <td>2010-01-11</td>\n",
       "      <td>1</td>\n",
       "      <td>103819</td>\n",
       "      <td>10550.0</td>\n",
       "      <td>2010</td>\n",
       "      <td>Roger</td>\n",
       "      <td>Federer</td>\n",
       "      <td>R</td>\n",
       "      <td>SUI</td>\n",
       "      <td>1981-08-08</td>\n",
       "      <td>185.0</td>\n",
       "      <td>10383 days</td>\n",
       "      <td>28.446575</td>\n",
       "    </tr>\n",
       "    <tr>\n",
       "      <th>2</th>\n",
       "      <td>2010-01-18</td>\n",
       "      <td>1</td>\n",
       "      <td>103819</td>\n",
       "      <td>10550.0</td>\n",
       "      <td>2010</td>\n",
       "      <td>Roger</td>\n",
       "      <td>Federer</td>\n",
       "      <td>R</td>\n",
       "      <td>SUI</td>\n",
       "      <td>1981-08-08</td>\n",
       "      <td>185.0</td>\n",
       "      <td>10390 days</td>\n",
       "      <td>28.465753</td>\n",
       "    </tr>\n",
       "    <tr>\n",
       "      <th>3</th>\n",
       "      <td>2010-01-25</td>\n",
       "      <td>1</td>\n",
       "      <td>103819</td>\n",
       "      <td>10550.0</td>\n",
       "      <td>2010</td>\n",
       "      <td>Roger</td>\n",
       "      <td>Federer</td>\n",
       "      <td>R</td>\n",
       "      <td>SUI</td>\n",
       "      <td>1981-08-08</td>\n",
       "      <td>185.0</td>\n",
       "      <td>10397 days</td>\n",
       "      <td>28.484932</td>\n",
       "    </tr>\n",
       "    <tr>\n",
       "      <th>4</th>\n",
       "      <td>2010-02-01</td>\n",
       "      <td>1</td>\n",
       "      <td>103819</td>\n",
       "      <td>11350.0</td>\n",
       "      <td>2010</td>\n",
       "      <td>Roger</td>\n",
       "      <td>Federer</td>\n",
       "      <td>R</td>\n",
       "      <td>SUI</td>\n",
       "      <td>1981-08-08</td>\n",
       "      <td>185.0</td>\n",
       "      <td>10404 days</td>\n",
       "      <td>28.504110</td>\n",
       "    </tr>\n",
       "  </tbody>\n",
       "</table>\n",
       "</div>"
      ],
      "text/plain": [
       "  ranking_date  rank  player_id   points  year name_first name_last hand  ioc  \\\n",
       "0   2010-01-04     1     103819  10550.0  2010      Roger   Federer    R  SUI   \n",
       "1   2010-01-11     1     103819  10550.0  2010      Roger   Federer    R  SUI   \n",
       "2   2010-01-18     1     103819  10550.0  2010      Roger   Federer    R  SUI   \n",
       "3   2010-01-25     1     103819  10550.0  2010      Roger   Federer    R  SUI   \n",
       "4   2010-02-01     1     103819  11350.0  2010      Roger   Federer    R  SUI   \n",
       "\n",
       "         dob  height   age_days    age_yrs  \n",
       "0 1981-08-08   185.0 10376 days  28.427397  \n",
       "1 1981-08-08   185.0 10383 days  28.446575  \n",
       "2 1981-08-08   185.0 10390 days  28.465753  \n",
       "3 1981-08-08   185.0 10397 days  28.484932  \n",
       "4 1981-08-08   185.0 10404 days  28.504110  "
      ]
     },
     "execution_count": 20,
     "metadata": {},
     "output_type": "execute_result"
    }
   ],
   "source": [
    "age_df = pd.merge(ranking, plyrs, on='player_id', how='inner')\n",
    "age_df['dob'] = pd.to_datetime(age_df['dob'].astype(str), format='%Y%m%d')\n",
    "age_df['age_days'] = (age_df['ranking_date'] - age_df['dob'])\n",
    "age_df['age_yrs'] = age_df[\"age_days\"] / timedelta(days=365)\n",
    "age_df.head()"
   ]
  },
  {
   "cell_type": "code",
   "execution_count": 21,
   "id": "f94b8e9e",
   "metadata": {},
   "outputs": [
    {
     "data": {
      "text/plain": [
       "(10937, 14)"
      ]
     },
     "execution_count": 21,
     "metadata": {},
     "output_type": "execute_result"
    }
   ],
   "source": [
    "age_df = age_df[age_df['rank']<=5]\n",
    "age_df['rank_cat'] = age_df['rank'].astype('str')\n",
    "age_df['year'] = age_df['year'].astype(int)\n",
    "age_df.shape"
   ]
  },
  {
   "cell_type": "code",
   "execution_count": 22,
   "id": "9e5d40fd",
   "metadata": {
    "scrolled": false
   },
   "outputs": [
    {
     "data": {
      "text/html": [
       "<div>\n",
       "<style scoped>\n",
       "    .dataframe tbody tr th:only-of-type {\n",
       "        vertical-align: middle;\n",
       "    }\n",
       "\n",
       "    .dataframe tbody tr th {\n",
       "        vertical-align: top;\n",
       "    }\n",
       "\n",
       "    .dataframe thead th {\n",
       "        text-align: right;\n",
       "    }\n",
       "</style>\n",
       "<table border=\"1\" class=\"dataframe\">\n",
       "  <thead>\n",
       "    <tr style=\"text-align: right;\">\n",
       "      <th></th>\n",
       "      <th>rank</th>\n",
       "      <th>age_yrs</th>\n",
       "    </tr>\n",
       "  </thead>\n",
       "  <tbody>\n",
       "    <tr>\n",
       "      <th>0</th>\n",
       "      <td>1</td>\n",
       "      <td>26.200848</td>\n",
       "    </tr>\n",
       "    <tr>\n",
       "      <th>1</th>\n",
       "      <td>2</td>\n",
       "      <td>25.826423</td>\n",
       "    </tr>\n",
       "    <tr>\n",
       "      <th>2</th>\n",
       "      <td>3</td>\n",
       "      <td>26.140989</td>\n",
       "    </tr>\n",
       "    <tr>\n",
       "      <th>3</th>\n",
       "      <td>4</td>\n",
       "      <td>25.673485</td>\n",
       "    </tr>\n",
       "    <tr>\n",
       "      <th>4</th>\n",
       "      <td>5</td>\n",
       "      <td>25.696923</td>\n",
       "    </tr>\n",
       "  </tbody>\n",
       "</table>\n",
       "</div>"
      ],
      "text/plain": [
       "   rank    age_yrs\n",
       "0     1  26.200848\n",
       "1     2  25.826423\n",
       "2     3  26.140989\n",
       "3     4  25.673485\n",
       "4     5  25.696923"
      ]
     },
     "execution_count": 22,
     "metadata": {},
     "output_type": "execute_result"
    }
   ],
   "source": [
    "age_counts = pd.DataFrame(age_df.groupby('rank')['age_yrs'].mean()).reset_index()\n",
    "age_counts.head()"
   ]
  },
  {
   "cell_type": "code",
   "execution_count": 23,
   "id": "06ee1857",
   "metadata": {
    "scrolled": true
   },
   "outputs": [
    {
     "data": {
      "text/html": [
       "<div>\n",
       "<style scoped>\n",
       "    .dataframe tbody tr th:only-of-type {\n",
       "        vertical-align: middle;\n",
       "    }\n",
       "\n",
       "    .dataframe tbody tr th {\n",
       "        vertical-align: top;\n",
       "    }\n",
       "\n",
       "    .dataframe thead th {\n",
       "        text-align: right;\n",
       "    }\n",
       "</style>\n",
       "<table border=\"1\" class=\"dataframe\">\n",
       "  <thead>\n",
       "    <tr style=\"text-align: right;\">\n",
       "      <th></th>\n",
       "      <th>year</th>\n",
       "      <th>rank</th>\n",
       "      <th>age_yrs</th>\n",
       "      <th>rank_cat</th>\n",
       "    </tr>\n",
       "  </thead>\n",
       "  <tbody>\n",
       "    <tr>\n",
       "      <th>0</th>\n",
       "      <td>1973</td>\n",
       "      <td>1</td>\n",
       "      <td>27.273973</td>\n",
       "      <td>1</td>\n",
       "    </tr>\n",
       "    <tr>\n",
       "      <th>1</th>\n",
       "      <td>1973</td>\n",
       "      <td>2</td>\n",
       "      <td>28.756947</td>\n",
       "      <td>2</td>\n",
       "    </tr>\n",
       "    <tr>\n",
       "      <th>2</th>\n",
       "      <td>1973</td>\n",
       "      <td>3</td>\n",
       "      <td>23.493933</td>\n",
       "      <td>3</td>\n",
       "    </tr>\n",
       "    <tr>\n",
       "      <th>3</th>\n",
       "      <td>1973</td>\n",
       "      <td>4</td>\n",
       "      <td>27.037182</td>\n",
       "      <td>4</td>\n",
       "    </tr>\n",
       "    <tr>\n",
       "      <th>4</th>\n",
       "      <td>1973</td>\n",
       "      <td>5</td>\n",
       "      <td>27.758513</td>\n",
       "      <td>5</td>\n",
       "    </tr>\n",
       "  </tbody>\n",
       "</table>\n",
       "</div>"
      ],
      "text/plain": [
       "   year  rank    age_yrs rank_cat\n",
       "0  1973     1  27.273973        1\n",
       "1  1973     2  28.756947        2\n",
       "2  1973     3  23.493933        3\n",
       "3  1973     4  27.037182        4\n",
       "4  1973     5  27.758513        5"
      ]
     },
     "execution_count": 23,
     "metadata": {},
     "output_type": "execute_result"
    }
   ],
   "source": [
    "year_age_counts = pd.DataFrame(age_df.groupby(['year','rank'])['age_yrs'].mean()).reset_index()\n",
    "year_age_counts['rank_cat'] = year_age_counts['rank'].astype('str')\n",
    "year_age_counts.head()"
   ]
  },
  {
   "cell_type": "code",
   "execution_count": 24,
   "id": "95590d98",
   "metadata": {
    "scrolled": true
   },
   "outputs": [
    {
     "data": {
      "image/png": "[encoded data removed]",
      "text/plain": [
       "<Figure size 640x480 with 1 Axes>"
      ]
     },
     "metadata": {},
     "output_type": "display_data"
    }
   ],
   "source": [
    "#Plot 1: 2005 to 2022, Age of Players ranked 1 and 2\n",
    "fig = sns.lineplot(data=age_df[(age_df['year']>=2005) & (age_df['rank']<=2)], \n",
    "                   x='ranking_date', \n",
    "                   y='age_yrs', \n",
    "                   hue='rank_cat')"
   ]
  },
  {
   "cell_type": "code",
   "execution_count": 25,
   "id": "c93fd0e4",
   "metadata": {},
   "outputs": [
    {
     "data": {
      "image/png": "[encoded data removed]",
      "text/plain": [
       "<Figure size 640x480 with 1 Axes>"
      ]
     },
     "metadata": {},
     "output_type": "display_data"
    }
   ],
   "source": [
    "#Plot 2: average age of players ranked 1-5 from 1968 to 2022\n",
    "fig = sns.lineplot(data=year_age_counts,\n",
    "                   x='year', \n",
    "                   y='age_yrs', \n",
    "                   hue='rank_cat')"
   ]
  },
  {
   "cell_type": "markdown",
   "id": "1f80fe5a",
   "metadata": {},
   "source": [
    "### What is the average height of players ranked 1-5?"
   ]
  },
  {
   "cell_type": "code",
   "execution_count": 26,
   "id": "76b223dd",
   "metadata": {},
   "outputs": [
    {
     "data": {
      "text/html": [
       "<div>\n",
       "<style scoped>\n",
       "    .dataframe tbody tr th:only-of-type {\n",
       "        vertical-align: middle;\n",
       "    }\n",
       "\n",
       "    .dataframe tbody tr th {\n",
       "        vertical-align: top;\n",
       "    }\n",
       "\n",
       "    .dataframe thead th {\n",
       "        text-align: right;\n",
       "    }\n",
       "</style>\n",
       "<table border=\"1\" class=\"dataframe\">\n",
       "  <thead>\n",
       "    <tr style=\"text-align: right;\">\n",
       "      <th></th>\n",
       "      <th>year</th>\n",
       "      <th>rank</th>\n",
       "      <th>height_ft</th>\n",
       "      <th>rank_cat</th>\n",
       "    </tr>\n",
       "  </thead>\n",
       "  <tbody>\n",
       "    <tr>\n",
       "      <th>0</th>\n",
       "      <td>1973</td>\n",
       "      <td>1</td>\n",
       "      <td>6.003937</td>\n",
       "      <td>1</td>\n",
       "    </tr>\n",
       "    <tr>\n",
       "      <th>1</th>\n",
       "      <td>1973</td>\n",
       "      <td>2</td>\n",
       "      <td>5.980502</td>\n",
       "      <td>2</td>\n",
       "    </tr>\n",
       "    <tr>\n",
       "      <th>2</th>\n",
       "      <td>1973</td>\n",
       "      <td>3</td>\n",
       "      <td>5.910199</td>\n",
       "      <td>3</td>\n",
       "    </tr>\n",
       "    <tr>\n",
       "      <th>3</th>\n",
       "      <td>1973</td>\n",
       "      <td>4</td>\n",
       "      <td>6.013311</td>\n",
       "      <td>4</td>\n",
       "    </tr>\n",
       "    <tr>\n",
       "      <th>4</th>\n",
       "      <td>1973</td>\n",
       "      <td>5</td>\n",
       "      <td>6.013311</td>\n",
       "      <td>5</td>\n",
       "    </tr>\n",
       "  </tbody>\n",
       "</table>\n",
       "</div>"
      ],
      "text/plain": [
       "   year  rank  height_ft rank_cat\n",
       "0  1973     1   6.003937        1\n",
       "1  1973     2   5.980502        2\n",
       "2  1973     3   5.910199        3\n",
       "3  1973     4   6.013311        4\n",
       "4  1973     5   6.013311        5"
      ]
     },
     "execution_count": 26,
     "metadata": {},
     "output_type": "execute_result"
    }
   ],
   "source": [
    "ht_df = age_df \n",
    "ht_df['height_ft'] = ht_df['height']/30.48\n",
    "\n",
    "year_ht_counts = pd.DataFrame(ht_df.groupby(['year','rank'])['height_ft'].mean()).reset_index()\n",
    "year_ht_counts['rank_cat'] = year_ht_counts['rank'].astype('str')\n",
    "year_ht_counts.head()"
   ]
  },
  {
   "cell_type": "code",
   "execution_count": 27,
   "id": "eb77f153",
   "metadata": {
    "scrolled": true
   },
   "outputs": [
    {
     "data": {
      "image/png": "[encoded data removed]",
      "text/plain": [
       "<Figure size 640x480 with 1 Axes>"
      ]
     },
     "metadata": {},
     "output_type": "display_data"
    }
   ],
   "source": [
    "#Plot 3: Average height of players ranked 1-5 from 1968 to 2022\n",
    "fig = sns.lineplot(data=year_ht_counts,\n",
    "                   x='year', \n",
    "                   y='height_ft', \n",
    "                   hue='rank_cat')"
   ]
  },
  {
   "cell_type": "markdown",
   "id": "4ddd64dd",
   "metadata": {},
   "source": [
    "### Explore the matches dataset"
   ]
  },
  {
   "cell_type": "code",
   "execution_count": 28,
   "id": "016bf8f1",
   "metadata": {},
   "outputs": [],
   "source": [
    "#1.) How to join on player data\n",
    "#2.) Pick out one player\n",
    "#3.) Look at their stats\n",
    "#4.) Head to head frequency\n"
   ]
  },
  {
   "cell_type": "code",
   "execution_count": 29,
   "id": "a7b0cf0f",
   "metadata": {},
   "outputs": [],
   "source": [
    "#Convert walkover results to NAs\n",
    "values_to_replace = ['W/O','Walkover','W/O']\n",
    "matches['score'] = matches['score'].replace(values_to_replace, 0)"
   ]
  },
  {
   "cell_type": "code",
   "execution_count": 30,
   "id": "a947af73",
   "metadata": {},
   "outputs": [
    {
     "data": {
      "text/html": [
       "<div>\n",
       "<style scoped>\n",
       "    .dataframe tbody tr th:only-of-type {\n",
       "        vertical-align: middle;\n",
       "    }\n",
       "\n",
       "    .dataframe tbody tr th {\n",
       "        vertical-align: top;\n",
       "    }\n",
       "\n",
       "    .dataframe thead th {\n",
       "        text-align: right;\n",
       "    }\n",
       "</style>\n",
       "<table border=\"1\" class=\"dataframe\">\n",
       "  <thead>\n",
       "    <tr style=\"text-align: right;\">\n",
       "      <th></th>\n",
       "      <th>tourney_id</th>\n",
       "      <th>tourney_name</th>\n",
       "      <th>surface</th>\n",
       "      <th>draw_size</th>\n",
       "      <th>tourney_level</th>\n",
       "      <th>tourney_date</th>\n",
       "      <th>match_num</th>\n",
       "      <th>player_id</th>\n",
       "      <th>player_seed</th>\n",
       "      <th>player_entry</th>\n",
       "      <th>...</th>\n",
       "      <th>set1_games_won</th>\n",
       "      <th>set2_games_won</th>\n",
       "      <th>set3_games_won</th>\n",
       "      <th>set4_games_won</th>\n",
       "      <th>set5_games_won</th>\n",
       "      <th>set1_games_lost</th>\n",
       "      <th>set2_games_lost</th>\n",
       "      <th>set3_games_lost</th>\n",
       "      <th>set4_games_lost</th>\n",
       "      <th>set5_games_lost</th>\n",
       "    </tr>\n",
       "  </thead>\n",
       "  <tbody>\n",
       "    <tr>\n",
       "      <th>0</th>\n",
       "      <td>1968-2029</td>\n",
       "      <td>Dublin</td>\n",
       "      <td>Grass</td>\n",
       "      <td>32</td>\n",
       "      <td>A</td>\n",
       "      <td>19680708</td>\n",
       "      <td>270</td>\n",
       "      <td>112411</td>\n",
       "      <td>NaN</td>\n",
       "      <td>NaN</td>\n",
       "      <td>...</td>\n",
       "      <td>6</td>\n",
       "      <td>7</td>\n",
       "      <td>0</td>\n",
       "      <td>0</td>\n",
       "      <td>0</td>\n",
       "      <td>1</td>\n",
       "      <td>5</td>\n",
       "      <td>0</td>\n",
       "      <td>0</td>\n",
       "      <td>0</td>\n",
       "    </tr>\n",
       "    <tr>\n",
       "      <th>1</th>\n",
       "      <td>1968-2029</td>\n",
       "      <td>Dublin</td>\n",
       "      <td>Grass</td>\n",
       "      <td>32</td>\n",
       "      <td>A</td>\n",
       "      <td>19680708</td>\n",
       "      <td>271</td>\n",
       "      <td>126914</td>\n",
       "      <td>NaN</td>\n",
       "      <td>NaN</td>\n",
       "      <td>...</td>\n",
       "      <td>6</td>\n",
       "      <td>6</td>\n",
       "      <td>0</td>\n",
       "      <td>0</td>\n",
       "      <td>0</td>\n",
       "      <td>1</td>\n",
       "      <td>1</td>\n",
       "      <td>0</td>\n",
       "      <td>0</td>\n",
       "      <td>0</td>\n",
       "    </tr>\n",
       "    <tr>\n",
       "      <th>2</th>\n",
       "      <td>1968-2029</td>\n",
       "      <td>Dublin</td>\n",
       "      <td>Grass</td>\n",
       "      <td>32</td>\n",
       "      <td>A</td>\n",
       "      <td>19680708</td>\n",
       "      <td>272</td>\n",
       "      <td>209523</td>\n",
       "      <td>NaN</td>\n",
       "      <td>NaN</td>\n",
       "      <td>...</td>\n",
       "      <td>6</td>\n",
       "      <td>6</td>\n",
       "      <td>0</td>\n",
       "      <td>0</td>\n",
       "      <td>0</td>\n",
       "      <td>2</td>\n",
       "      <td>2</td>\n",
       "      <td>0</td>\n",
       "      <td>0</td>\n",
       "      <td>0</td>\n",
       "    </tr>\n",
       "    <tr>\n",
       "      <th>3</th>\n",
       "      <td>1968-2029</td>\n",
       "      <td>Dublin</td>\n",
       "      <td>Grass</td>\n",
       "      <td>32</td>\n",
       "      <td>A</td>\n",
       "      <td>19680708</td>\n",
       "      <td>273</td>\n",
       "      <td>100084</td>\n",
       "      <td>NaN</td>\n",
       "      <td>NaN</td>\n",
       "      <td>...</td>\n",
       "      <td>6</td>\n",
       "      <td>6</td>\n",
       "      <td>0</td>\n",
       "      <td>0</td>\n",
       "      <td>0</td>\n",
       "      <td>1</td>\n",
       "      <td>1</td>\n",
       "      <td>0</td>\n",
       "      <td>0</td>\n",
       "      <td>0</td>\n",
       "    </tr>\n",
       "    <tr>\n",
       "      <th>4</th>\n",
       "      <td>1968-2029</td>\n",
       "      <td>Dublin</td>\n",
       "      <td>Grass</td>\n",
       "      <td>32</td>\n",
       "      <td>A</td>\n",
       "      <td>19680708</td>\n",
       "      <td>274</td>\n",
       "      <td>100132</td>\n",
       "      <td>NaN</td>\n",
       "      <td>NaN</td>\n",
       "      <td>...</td>\n",
       "      <td>6</td>\n",
       "      <td>6</td>\n",
       "      <td>0</td>\n",
       "      <td>0</td>\n",
       "      <td>0</td>\n",
       "      <td>2</td>\n",
       "      <td>4</td>\n",
       "      <td>0</td>\n",
       "      <td>0</td>\n",
       "      <td>0</td>\n",
       "    </tr>\n",
       "  </tbody>\n",
       "</table>\n",
       "<p>5 rows × 47 columns</p>\n",
       "</div>"
      ],
      "text/plain": [
       "  tourney_id tourney_name surface  draw_size tourney_level  tourney_date  \\\n",
       "0  1968-2029       Dublin   Grass         32             A      19680708   \n",
       "1  1968-2029       Dublin   Grass         32             A      19680708   \n",
       "2  1968-2029       Dublin   Grass         32             A      19680708   \n",
       "3  1968-2029       Dublin   Grass         32             A      19680708   \n",
       "4  1968-2029       Dublin   Grass         32             A      19680708   \n",
       "\n",
       "   match_num  player_id  player_seed player_entry  ... set1_games_won  \\\n",
       "0        270     112411          NaN          NaN  ...              6   \n",
       "1        271     126914          NaN          NaN  ...              6   \n",
       "2        272     209523          NaN          NaN  ...              6   \n",
       "3        273     100084          NaN          NaN  ...              6   \n",
       "4        274     100132          NaN          NaN  ...              6   \n",
       "\n",
       "  set2_games_won  set3_games_won set4_games_won  set5_games_won  \\\n",
       "0              7               0              0               0   \n",
       "1              6               0              0               0   \n",
       "2              6               0              0               0   \n",
       "3              6               0              0               0   \n",
       "4              6               0              0               0   \n",
       "\n",
       "  set1_games_lost  set2_games_lost set3_games_lost  set4_games_lost  \\\n",
       "0               1                5               0                0   \n",
       "1               1                1               0                0   \n",
       "2               2                2               0                0   \n",
       "3               1                1               0                0   \n",
       "4               2                4               0                0   \n",
       "\n",
       "   set5_games_lost  \n",
       "0                0  \n",
       "1                0  \n",
       "2                0  \n",
       "3                0  \n",
       "4                0  \n",
       "\n",
       "[5 rows x 47 columns]"
      ]
     },
     "execution_count": 30,
     "metadata": {},
     "output_type": "execute_result"
    }
   ],
   "source": [
    "matches[\"sets\"]= matches[\"score\"].str.split(\" \", n = 5, expand = False)\n",
    "matches['set1_score'] = matches['sets'].str[0]\n",
    "matches['set2_score'] = matches['sets'].str[1]\n",
    "matches['set3_score'] = matches['sets'].str[2]\n",
    "matches['set4_score'] = matches['sets'].str[3]\n",
    "matches['set5_score'] = matches['sets'].str[4]\n",
    "\n",
    "matches['set1_games_won'] = matches['set1_score'].str.split(\"-\", n = 2, expand = False).str[0].fillna(0)\n",
    "matches['set2_games_won'] = matches['set2_score'].str.split(\"-\", n = 2, expand = False).str[0].fillna(0)\n",
    "matches['set3_games_won'] = matches['set3_score'].str.split(\"-\", n = 2, expand = False).str[0].fillna(0)\n",
    "matches['set4_games_won'] = matches['set4_score'].str.split(\"-\", n = 2, expand = False).str[0].fillna(0)\n",
    "matches['set5_games_won'] = matches['set5_score'].str.split(\"-\", n = 2, expand = False).str[0].fillna(0)\n",
    "\n",
    "matches['set1_games_lost'] = matches['set1_score'].str.split(\"-\", n = 2, expand = False).str[1].fillna(0)\n",
    "matches['set2_games_lost'] = matches['set2_score'].str.split(\"-\", n = 2, expand = False).str[1].fillna(0)\n",
    "matches['set3_games_lost'] = matches['set3_score'].str.split(\"-\", n = 2, expand = False).str[1].fillna(0)\n",
    "matches['set4_games_lost'] = matches['set4_score'].str.split(\"-\", n = 2, expand = False).str[1].fillna(0)\n",
    "matches['set5_games_lost'] = matches['set5_score'].str.split(\"-\", n = 2, expand = False).str[1].fillna(0)\n",
    "\n",
    "matches.head()"
   ]
  },
  {
   "cell_type": "code",
   "execution_count": 31,
   "id": "03c9704a",
   "metadata": {},
   "outputs": [],
   "source": [
    "values_to_replace = ['RET','','W/O','UNK','DEF','Apr','Walkover','?','ABD','Played','and','Def','Def.','NA','unfinished',\n",
    "                    'Default','abandoned']\n",
    "\n",
    "matches['set1_games_won'] = matches['set1_games_won'].replace(values_to_replace,0)\n",
    "matches['set2_games_won'] = matches['set2_games_won'].replace(values_to_replace,0)\n",
    "matches['set3_games_won'] = matches['set3_games_won'].replace(values_to_replace,0)\n",
    "matches['set4_games_won'] = matches['set4_games_won'].replace(values_to_replace,0)\n",
    "matches['set5_games_won'] = matches['set5_games_won'].replace(values_to_replace,0)\n",
    "\n",
    "\n",
    "matches['set3_games_won'] = matches['set3_games_won'].replace('[13',13)\n",
    "matches['set3_games_won'] = matches['set3_games_won'].replace('[12',12)\n",
    "matches['set3_games_won'] = matches['set3_games_won'].replace('[11',11)\n",
    "matches['set3_games_won'] = matches['set3_games_won'].replace('[10',10)\n",
    "matches['set3_games_won'] = matches['set3_games_won'].replace('[7',7)\n",
    "matches['set3_games_won'] = matches['set3_games_won'].replace('[6',6)\n",
    "matches['set3_games_won'] = matches['set3_games_won'].replace('[4',4)\n",
    "matches['set3_games_won'] = matches['set3_games_won'].replace('[3',3)\n",
    "matches['set3_games_won'] = matches['set3_games_won'].replace('[1',1)\n",
    "matches['set3_games_won'] = matches['set3_games_won'].replace('[0',0)\n",
    "\n",
    "\n",
    "\n",
    "matches['set1_games_won'] = matches['set1_games_won'].astype(int)\n",
    "matches['set2_games_won'] = matches['set2_games_won'].astype(int)\n",
    "matches['set3_games_won'] = matches['set3_games_won'].astype(int)\n",
    "matches['set4_games_won'] = matches['set4_games_won'].astype(int)\n",
    "matches['set5_games_won'] = matches['set5_games_won'].astype(int)\n",
    "matches['total_games_won'] = (matches['set1_games_won'] +\n",
    "                                matches['set2_games_won'] +\n",
    "                                matches['set3_games_won'] + \n",
    "                                matches['set4_games_won'] +\n",
    "                                matches['set5_games_won'])"
   ]
  },
  {
   "cell_type": "code",
   "execution_count": 32,
   "id": "3a7b5be7",
   "metadata": {},
   "outputs": [],
   "source": [
    "matches['set1_games_lost'] = matches['set1_games_lost'].str.replace(r\"\\(.*\\)\",\"\")\n",
    "matches['set2_games_lost'] = matches['set2_games_lost'].str.replace(r\"\\(.*\\)\",\"\")\n",
    "matches['set3_games_lost'] = matches['set3_games_lost'].str.replace(r\"\\(.*\\)\",\"\")\n",
    "matches['set4_games_lost'] = matches['set4_games_lost'].str.replace(r\"\\(.*\\)\",\"\")\n",
    "matches['set5_games_lost'] = matches['set5_games_lost'].str.replace(r\"\\(.*\\)\",\"\")"
   ]
  },
  {
   "cell_type": "code",
   "execution_count": 33,
   "id": "1c6d4b93",
   "metadata": {},
   "outputs": [],
   "source": [
    "set3_values_to_replace = ['08','?', '7]' ,'00', '8]','10]','6]','9]','1]','5]','4]','1?','6?', '3?','4?','0]','14]','13]','5?','11]','2]']\n",
    "set4_values_to_replace = ['5?']\n",
    "\n",
    "matches['set3_games_lost'] = matches['set3_games_lost'].replace(set3_values_to_replace,np.NaN)#.astype(int)\n",
    "matches['set4_games_lost'] = matches['set4_games_lost'].replace(set4_values_to_replace,np.NaN)#.astype(int)\n",
    "\n",
    "\n",
    "matches['set1_games_lost'] = matches['set1_games_lost'].replace(np.NaN,0)\n",
    "matches['set2_games_lost'] = matches['set2_games_lost'].replace(np.NaN,0)\n",
    "matches['set3_games_lost'] = matches['set3_games_lost'].replace(np.NaN,0)\n",
    "matches['set4_games_lost'] = matches['set4_games_lost'].replace(np.NaN,0)\n",
    "matches['set5_games_lost'] = matches['set5_games_lost'].replace(np.NaN,0)"
   ]
  },
  {
   "cell_type": "code",
   "execution_count": 34,
   "id": "e1983e2d",
   "metadata": {},
   "outputs": [],
   "source": [
    "matches['set1_games_lost'] = pd.to_numeric(matches['set1_games_lost'], errors='coerce')\n",
    "matches['set2_games_lost'] = pd.to_numeric(matches['set2_games_lost'], errors='coerce')\n",
    "matches['set3_games_lost'] = pd.to_numeric(matches['set3_games_lost'], errors='coerce')\n",
    "matches['set4_games_lost'] = pd.to_numeric(matches['set4_games_lost'], errors='coerce')\n",
    "matches['set5_games_lost'] = pd.to_numeric(matches['set5_games_lost'], errors='coerce')"
   ]
  },
  {
   "cell_type": "code",
   "execution_count": 35,
   "id": "859f1355",
   "metadata": {},
   "outputs": [],
   "source": [
    "matches['total_games_lost'] = (matches['set1_games_lost'] +\n",
    "                                matches['set2_games_lost'] +\n",
    "                                matches['set3_games_lost'] + \n",
    "                                matches['set4_games_lost'] +\n",
    "                                matches['set5_games_lost'])\n",
    "\n",
    "matches['total_games_played'] = matches['total_games_won'] + matches['total_games_lost']\n",
    "\n",
    "matches['set1_win_perc'] = matches['set1_games_won'] / (matches['set1_games_won'] + matches['set1_games_lost'])\n",
    "matches['set2_win_perc'] = matches['set2_games_won'] / (matches['set2_games_won'] + matches['set2_games_lost'])\n",
    "matches['set3_win_perc'] = matches['set3_games_won'] / (matches['set3_games_won'] + matches['set3_games_lost'])\n",
    "matches['set4_win_perc'] = matches['set4_games_won'] / (matches['set4_games_won'] + matches['set4_games_lost'])\n",
    "matches['set5_win_perc'] = matches['set5_games_won'] / (matches['set5_games_won'] + matches['set5_games_lost'])\n",
    "\n",
    "matches['game_win_perc'] = matches['total_games_won'] / (matches['total_games_won'] + matches['total_games_lost'])"
   ]
  },
  {
   "cell_type": "markdown",
   "id": "9f913130",
   "metadata": {},
   "source": [
    "## Impute missing values"
   ]
  },
  {
   "cell_type": "code",
   "execution_count": 36,
   "id": "14dc3641",
   "metadata": {
    "scrolled": false
   },
   "outputs": [
    {
     "name": "stdout",
     "output_type": "stream",
     "text": [
      "Missing Games Played:  12\n",
      "Missing Minutes:  197300\n"
     ]
    }
   ],
   "source": [
    "print('Missing Games Played: ',matches['total_games_played'].isnull().sum())\n",
    "print('Missing Minutes: ',matches['minutes'].isnull().sum())"
   ]
  },
  {
   "cell_type": "code",
   "execution_count": 37,
   "id": "e6b99b55",
   "metadata": {},
   "outputs": [
    {
     "name": "stdout",
     "output_type": "stream",
     "text": [
      "Matches less than 30 minutes:  958\n"
     ]
    }
   ],
   "source": [
    "test = matches[matches['minutes'] <30]\n",
    "print('Matches less than 30 minutes: ',test.shape[0])"
   ]
  },
  {
   "cell_type": "markdown",
   "id": "bdf63e67",
   "metadata": {},
   "source": [
    "#### Impute minutes by median # games played"
   ]
  },
  {
   "cell_type": "code",
   "execution_count": 38,
   "id": "52a685f2",
   "metadata": {},
   "outputs": [
    {
     "name": "stdout",
     "output_type": "stream",
     "text": [
      "Initial Missing Minutes:  1310\n",
      "Final Missing Minutes:  0\n"
     ]
    }
   ],
   "source": [
    "#Step 1: Delete rows with missing total games played\n",
    "matches.dropna(subset=['total_games_played'], inplace=True)\n",
    "\n",
    "#Step 2: Make values < 30 missing - not super reliable\n",
    "matches.loc[matches['minutes'] < 30] = np.NaN\n",
    "\n",
    "#Step 3: Impute based on median minutes per games played\n",
    "matches['minutes'] = matches['minutes'].fillna(matches.groupby('total_games_played')['minutes'].transform('median'))\n",
    "\n",
    "#Step 4: Check if any missing values left\n",
    "print('Initial Missing Minutes: ', matches['minutes'].isnull().sum())\n",
    "\n",
    "#Step 5: After inspecting the remaining values here, let's just drop\n",
    "matches.dropna(subset=['minutes'], inplace=True)\n",
    "\n",
    "#Step 6: Final check\n",
    "print('Final Missing Minutes: ', matches['minutes'].isnull().sum())"
   ]
  },
  {
   "cell_type": "code",
   "execution_count": 39,
   "id": "47ab3a4e",
   "metadata": {
    "scrolled": true
   },
   "outputs": [
    {
     "data": {
      "text/plain": [
       "<AxesSubplot: >"
      ]
     },
     "execution_count": 39,
     "metadata": {},
     "output_type": "execute_result"
    },
    {
     "data": {
      "image/png": "[encoded data removed]",
      "text/plain": [
       "<Figure size 640x480 with 1 Axes>"
      ]
     },
     "metadata": {},
     "output_type": "display_data"
    }
   ],
   "source": [
    "test = matches[matches['total_games_played']== 60]\n",
    "test['minutes'].hist()"
   ]
  },
  {
   "cell_type": "code",
   "execution_count": 40,
   "id": "63ce158e",
   "metadata": {},
   "outputs": [
    {
     "name": "stdout",
     "output_type": "stream",
     "text": [
      "Missing games won:  0\n",
      "Missing games lost:  0\n"
     ]
    }
   ],
   "source": [
    "print('Missing games won: ',matches['total_games_won'].isnull().sum())\n",
    "print('Missing games lost: ', matches['total_games_lost'].isnull().sum())"
   ]
  },
  {
   "cell_type": "markdown",
   "id": "71643c0c",
   "metadata": {},
   "source": [
    "#### Impute # of aces by median # games won"
   ]
  },
  {
   "cell_type": "code",
   "execution_count": 41,
   "id": "1db2f459",
   "metadata": {},
   "outputs": [
    {
     "name": "stdout",
     "output_type": "stream",
     "text": [
      "Initial Missing Aces:  6\n",
      "Final Missing Aces:  0\n"
     ]
    }
   ],
   "source": [
    "#Impute num_aces by # games won\n",
    "\n",
    "#Step 1: Impute based on median games won\n",
    "matches['num_aces'] = matches['num_aces'].fillna(matches.groupby('total_games_won')['num_aces'].transform('median'))\n",
    "\n",
    "#Step 2: Check if any missing values left\n",
    "print('Initial Missing Aces: ', matches['num_aces'].isnull().sum())\n",
    "\n",
    "#Step 3: After inspecting the remaining values here, let's just drop\n",
    "matches.dropna(subset=['num_aces'], inplace=True)\n",
    "\n",
    "#Step 4: Final check\n",
    "print('Final Missing Aces: ', matches['num_aces'].isnull().sum())\n"
   ]
  },
  {
   "cell_type": "markdown",
   "id": "1b0a231e",
   "metadata": {},
   "source": [
    "#### Impute # double faults by median # games lost"
   ]
  },
  {
   "cell_type": "code",
   "execution_count": 42,
   "id": "a20fa37c",
   "metadata": {
    "scrolled": true
   },
   "outputs": [
    {
     "name": "stdout",
     "output_type": "stream",
     "text": [
      "Initial Missing Double Faults:  4\n",
      "Final Missing Double Faults:  0\n"
     ]
    }
   ],
   "source": [
    "#Step 1: Impute based on median games won\n",
    "matches['num_dfs'] = matches['num_dfs'].fillna(matches.groupby('total_games_lost')['num_dfs'].transform('median'))\n",
    "\n",
    "#Step 2: Check if any missing values left\n",
    "print('Initial Missing Double Faults: ', matches['num_dfs'].isnull().sum())\n",
    "\n",
    "#Step 3: After inspecting the remaining values here, let's just drop\n",
    "matches.dropna(subset=['num_dfs'], inplace=True)\n",
    "\n",
    "#Step 4: Final check\n",
    "print('Final Missing Double Faults: ', matches['num_dfs'].isnull().sum())"
   ]
  },
  {
   "cell_type": "markdown",
   "id": "07390124",
   "metadata": {},
   "source": [
    "#### Impute 1st serve in %age by median # of games won"
   ]
  },
  {
   "cell_type": "code",
   "execution_count": 43,
   "id": "7cc40509",
   "metadata": {},
   "outputs": [
    {
     "name": "stdout",
     "output_type": "stream",
     "text": [
      "Initial Missing 1st serve in %:  0\n"
     ]
    }
   ],
   "source": [
    "#Step 1: Impute based on median games won\n",
    "matches['serve1_in_perc'] = matches['serve1_in_perc'].fillna(matches.groupby('total_games_won')['serve1_in_perc'].transform('median'))\n",
    "\n",
    "#Step 2: Check if any missing values left\n",
    "print('Initial Missing 1st serve in %: ', matches['serve1_in_perc'].isnull().sum())"
   ]
  },
  {
   "cell_type": "markdown",
   "id": "1a0e4c66",
   "metadata": {},
   "source": [
    "### Missing for Age, Surface, and Height"
   ]
  },
  {
   "cell_type": "code",
   "execution_count": 44,
   "id": "fdaebb1a",
   "metadata": {},
   "outputs": [
    {
     "name": "stdout",
     "output_type": "stream",
     "text": [
      "Percentage of missing age values: 1.64 %\n",
      "Percentage of missing surface values: 1.23 %\n",
      "Percentage of missing height values: 11.97 %\n"
     ]
    }
   ],
   "source": [
    "num1 = matches['player_age'].isnull().sum()\n",
    "num2 = matches.shape[0]\n",
    "print('Percentage of missing age values:',round(100*(num1/num2),2),\"%\")\n",
    "\n",
    "num3 = matches['surface'].isnull().sum()\n",
    "print('Percentage of missing surface values:',round(100*(num3/num2),2),\"%\")\n",
    "\n",
    "num4 = matches['player_ht'].isnull().sum()\n",
    "print('Percentage of missing height values:',round(100*(num4/num2),2),\"%\")"
   ]
  },
  {
   "cell_type": "markdown",
   "id": "e4936c14",
   "metadata": {},
   "source": [
    "## Predict winner"
   ]
  },
  {
   "cell_type": "code",
   "execution_count": 45,
   "id": "e58334aa",
   "metadata": {},
   "outputs": [
    {
     "name": "stdout",
     "output_type": "stream",
     "text": [
      "(255182, 9)\n",
      "(255182,)\n",
      "(109364, 9)\n",
      "(109364,)\n"
     ]
    }
   ],
   "source": [
    "from sklearn.model_selection import train_test_split\n",
    "from sklearn.preprocessing import StandardScaler\n",
    "\n",
    "#Filter data however you see fit\n",
    "test = matches#[matches['tourney_date']>=20000101]\n",
    "test = test[(test['player_age'].notnull()) & (test['surface'].notnull())]\n",
    "\n",
    "#Choose features and response\n",
    "y = test['outcome']\n",
    "X = test[['num_dfs','minutes','num_aces','serve1_in_perc','player_age','surface']] \n",
    "\n",
    "#One Hot Encode surface\n",
    "one_hot = pd.get_dummies(X['surface'])\n",
    "X = X.drop('surface',axis=1)\n",
    "X = X.join(one_hot)\n",
    "\n",
    "\n",
    "scale = StandardScaler()\n",
    "scaledX = scale.fit_transform(X)\n",
    "\n",
    "X_train, X_test, y_train, y_test = train_test_split(scaledX, y, test_size=0.30, random_state=42)\n",
    "\n",
    "print(X_train.shape)\n",
    "print(y_train.shape)\n",
    "print(X_test.shape)\n",
    "print(y_test.shape)"
   ]
  },
  {
   "cell_type": "code",
   "execution_count": 46,
   "id": "0056163d",
   "metadata": {
    "scrolled": true
   },
   "outputs": [
    {
     "data": {
      "image/png": "[encoded data removed]",
      "text/plain": [
       "<Figure size 800x500 with 2 Axes>"
      ]
     },
     "metadata": {},
     "output_type": "display_data"
    }
   ],
   "source": [
    "plt.subplots(figsize=(8, 5))\n",
    "sns.heatmap(X.corr(), annot=True, cmap=\"RdYlGn\")\n",
    "plt.show()"
   ]
  },
  {
   "cell_type": "markdown",
   "id": "c3ddc279",
   "metadata": {},
   "source": [
    "### Model 1: Logistic Regression"
   ]
  },
  {
   "cell_type": "code",
   "execution_count": 47,
   "id": "96e87cf4",
   "metadata": {},
   "outputs": [
    {
     "data": {
      "text/html": [
       "<style>#sk-container-id-1 {color: black;background-color: white;}#sk-container-id-1 pre{padding: 0;}#sk-container-id-1 div.sk-toggleable {background-color: white;}#sk-container-id-1 label.sk-toggleable__label {cursor: pointer;display: block;width: 100%;margin-bottom: 0;padding: 0.3em;box-sizing: border-box;text-align: center;}#sk-container-id-1 label.sk-toggleable__label-arrow:before {content: \"▸\";float: left;margin-right: 0.25em;color: #696969;}#sk-container-id-1 label.sk-toggleable__label-arrow:hover:before {color: black;}#sk-container-id-1 div.sk-estimator:hover label.sk-toggleable__label-arrow:before {color: black;}#sk-container-id-1 div.sk-toggleable__content {max-height: 0;max-width: 0;overflow: hidden;text-align: left;background-color: #f0f8ff;}#sk-container-id-1 div.sk-toggleable__content pre {margin: 0.2em;color: black;border-radius: 0.25em;background-color: #f0f8ff;}#sk-container-id-1 input.sk-toggleable__control:checked~div.sk-toggleable__content {max-height: 200px;max-width: 100%;overflow: auto;}#sk-container-id-1 input.sk-toggleable__control:checked~label.sk-toggleable__label-arrow:before {content: \"▾\";}#sk-container-id-1 div.sk-estimator input.sk-toggleable__control:checked~label.sk-toggleable__label {background-color: #d4ebff;}#sk-container-id-1 div.sk-label input.sk-toggleable__control:checked~label.sk-toggleable__label {background-color: #d4ebff;}#sk-container-id-1 input.sk-hidden--visually {border: 0;clip: rect(1px 1px 1px 1px);clip: rect(1px, 1px, 1px, 1px);height: 1px;margin: -1px;overflow: hidden;padding: 0;position: absolute;width: 1px;}#sk-container-id-1 div.sk-estimator {font-family: monospace;background-color: #f0f8ff;border: 1px dotted black;border-radius: 0.25em;box-sizing: border-box;margin-bottom: 0.5em;}#sk-container-id-1 div.sk-estimator:hover {background-color: #d4ebff;}#sk-container-id-1 div.sk-parallel-item::after {content: \"\";width: 100%;border-bottom: 1px solid gray;flex-grow: 1;}#sk-container-id-1 div.sk-label:hover label.sk-toggleable__label {background-color: #d4ebff;}#sk-container-id-1 div.sk-serial::before {content: \"\";position: absolute;border-left: 1px solid gray;box-sizing: border-box;top: 0;bottom: 0;left: 50%;z-index: 0;}#sk-container-id-1 div.sk-serial {display: flex;flex-direction: column;align-items: center;background-color: white;padding-right: 0.2em;padding-left: 0.2em;position: relative;}#sk-container-id-1 div.sk-item {position: relative;z-index: 1;}#sk-container-id-1 div.sk-parallel {display: flex;align-items: stretch;justify-content: center;background-color: white;position: relative;}#sk-container-id-1 div.sk-item::before, #sk-container-id-1 div.sk-parallel-item::before {content: \"\";position: absolute;border-left: 1px solid gray;box-sizing: border-box;top: 0;bottom: 0;left: 50%;z-index: -1;}#sk-container-id-1 div.sk-parallel-item {display: flex;flex-direction: column;z-index: 1;position: relative;background-color: white;}#sk-container-id-1 div.sk-parallel-item:first-child::after {align-self: flex-end;width: 50%;}#sk-container-id-1 div.sk-parallel-item:last-child::after {align-self: flex-start;width: 50%;}#sk-container-id-1 div.sk-parallel-item:only-child::after {width: 0;}#sk-container-id-1 div.sk-dashed-wrapped {border: 1px dashed gray;margin: 0 0.4em 0.5em 0.4em;box-sizing: border-box;padding-bottom: 0.4em;background-color: white;}#sk-container-id-1 div.sk-label label {font-family: monospace;font-weight: bold;display: inline-block;line-height: 1.2em;}#sk-container-id-1 div.sk-label-container {text-align: center;}#sk-container-id-1 div.sk-container {/* jupyter's `normalize.less` sets `[hidden] { display: none; }` but bootstrap.min.css set `[hidden] { display: none !important; }` so we also need the `!important` here to be able to override the default hidden behavior on the sphinx rendered scikit-learn.org. See: https://github.com/scikit-learn/scikit-learn/issues/21755 */display: inline-block !important;position: relative;}#sk-container-id-1 div.sk-text-repr-fallback {display: none;}</style><div id=\"sk-container-id-1\" class=\"sk-top-container\"><div class=\"sk-text-repr-fallback\"><pre>LogisticRegression(random_state=0, solver=&#x27;liblinear&#x27;)</pre><b>In a Jupyter environment, please rerun this cell to show the HTML representation or trust the notebook. <br />On GitHub, the HTML representation is unable to render, please try loading this page with nbviewer.org.</b></div><div class=\"sk-container\" hidden><div class=\"sk-item\"><div class=\"sk-estimator sk-toggleable\"><input class=\"sk-toggleable__control sk-hidden--visually\" id=\"sk-estimator-id-1\" type=\"checkbox\" checked><label for=\"sk-estimator-id-1\" class=\"sk-toggleable__label sk-toggleable__label-arrow\">LogisticRegression</label><div class=\"sk-toggleable__content\"><pre>LogisticRegression(random_state=0, solver=&#x27;liblinear&#x27;)</pre></div></div></div></div></div>"
      ],
      "text/plain": [
       "LogisticRegression(random_state=0, solver='liblinear')"
      ]
     },
     "execution_count": 47,
     "metadata": {},
     "output_type": "execute_result"
    }
   ],
   "source": [
    "from sklearn.linear_model import LogisticRegression\n",
    "\n",
    "logreg = LogisticRegression(solver='liblinear', random_state=0)\n",
    "logreg.fit(X_train, y_train)"
   ]
  },
  {
   "cell_type": "code",
   "execution_count": 48,
   "id": "23befbb2",
   "metadata": {},
   "outputs": [
    {
     "name": "stdout",
     "output_type": "stream",
     "text": [
      "Training set score: 0.5622\n",
      "Test set score: 0.5604\n"
     ]
    }
   ],
   "source": [
    "#Check for overfitting\n",
    "from sklearn.metrics import accuracy_score\n",
    "\n",
    "#values are close so no issue with overfitting\n",
    "print('Training set score: {:.4f}'.format(logreg.score(X_train, y_train)))\n",
    "print('Test set score: {:.4f}'.format(logreg.score(X_test, y_test)))"
   ]
  },
  {
   "cell_type": "code",
   "execution_count": 49,
   "id": "e0f42565",
   "metadata": {
    "scrolled": true
   },
   "outputs": [
    {
     "data": {
      "text/plain": [
       "<AxesSubplot: >"
      ]
     },
     "execution_count": 49,
     "metadata": {},
     "output_type": "execute_result"
    },
    {
     "data": {
      "image/png": "[encoded data removed]",
      "text/plain": [
       "<Figure size 640x480 with 2 Axes>"
      ]
     },
     "metadata": {},
     "output_type": "display_data"
    }
   ],
   "source": [
    "from sklearn.metrics import confusion_matrix\n",
    "\n",
    "y_pred_test = logreg.predict(X_test)\n",
    "cm = confusion_matrix(y_test, y_pred_test)\n",
    "\n",
    "cm_matrix = pd.DataFrame(data=cm, columns=['Actual Win:1', 'Actual Loss:0'], \n",
    "                                 index=['Predict Win:1', 'Predict Loss:0'])\n",
    "\n",
    "sns.heatmap(cm_matrix, annot=True, fmt='d', cmap='YlGnBu')"
   ]
  },
  {
   "cell_type": "code",
   "execution_count": 50,
   "id": "58d2ab9a",
   "metadata": {},
   "outputs": [
    {
     "data": {
      "text/plain": [
       "<AxesSubplot: ylabel='Feature'>"
      ]
     },
     "execution_count": 50,
     "metadata": {},
     "output_type": "execute_result"
    },
    {
     "data": {
      "image/png": "[encoded data removed]",
      "text/plain": [
       "<Figure size 1000x600 with 1 Axes>"
      ]
     },
     "metadata": {},
     "output_type": "display_data"
    }
   ],
   "source": [
    "#Feature importance - can we get rid of any of the features?\n",
    "coefficients = logreg.coef_[0]\n",
    "feature_importance = pd.DataFrame({'Feature': X.columns, 'Importance': np.abs(coefficients)})\n",
    "feature_importance = feature_importance.sort_values('Importance', ascending=True)\n",
    "feature_importance.plot(x='Feature', y='Importance', kind='barh', figsize=(10, 6))"
   ]
  },
  {
   "cell_type": "code",
   "execution_count": 51,
   "id": "b36dfa4e",
   "metadata": {},
   "outputs": [
    {
     "name": "stdout",
     "output_type": "stream",
     "text": [
      "              precision    recall  f1-score   support\n",
      "\n",
      "         0.0       0.56      0.52      0.54     54261\n",
      "         1.0       0.56      0.60      0.58     55103\n",
      "\n",
      "    accuracy                           0.56    109364\n",
      "   macro avg       0.56      0.56      0.56    109364\n",
      "weighted avg       0.56      0.56      0.56    109364\n",
      "\n"
     ]
    }
   ],
   "source": [
    "from sklearn.metrics import classification_report\n",
    "\n",
    "print(classification_report(y_test, y_pred_test))"
   ]
  },
  {
   "cell_type": "code",
   "execution_count": 52,
   "id": "d32144ce",
   "metadata": {},
   "outputs": [
    {
     "name": "stdout",
     "output_type": "stream",
     "text": [
      "Cross-validation scores:[0.56349315 0.55808531 0.56172114 0.56268124 0.56201505]\n"
     ]
    }
   ],
   "source": [
    "# Applying 5-Fold Cross Validation\n",
    "\n",
    "from sklearn.model_selection import cross_val_score\n",
    "\n",
    "scores = cross_val_score(logreg, X_train, y_train, cv = 5, scoring='accuracy')\n",
    "print('Cross-validation scores:{}'.format(scores))"
   ]
  },
  {
   "cell_type": "code",
   "execution_count": 53,
   "id": "13df46a3",
   "metadata": {},
   "outputs": [
    {
     "name": "stdout",
     "output_type": "stream",
     "text": [
      "Average cross-validation score: 0.5616\n"
     ]
    }
   ],
   "source": [
    "# compute Average cross-validation score\n",
    "\n",
    "print('Average cross-validation score: {:.4f}'.format(scores.mean()))"
   ]
  },
  {
   "cell_type": "markdown",
   "id": "af7d331b",
   "metadata": {},
   "source": [
    "## Model 2: Random Forest"
   ]
  },
  {
   "cell_type": "code",
   "execution_count": 54,
   "id": "289dbb16",
   "metadata": {},
   "outputs": [
    {
     "data": {
      "text/html": [
       "<style>#sk-container-id-2 {color: black;background-color: white;}#sk-container-id-2 pre{padding: 0;}#sk-container-id-2 div.sk-toggleable {background-color: white;}#sk-container-id-2 label.sk-toggleable__label {cursor: pointer;display: block;width: 100%;margin-bottom: 0;padding: 0.3em;box-sizing: border-box;text-align: center;}#sk-container-id-2 label.sk-toggleable__label-arrow:before {content: \"▸\";float: left;margin-right: 0.25em;color: #696969;}#sk-container-id-2 label.sk-toggleable__label-arrow:hover:before {color: black;}#sk-container-id-2 div.sk-estimator:hover label.sk-toggleable__label-arrow:before {color: black;}#sk-container-id-2 div.sk-toggleable__content {max-height: 0;max-width: 0;overflow: hidden;text-align: left;background-color: #f0f8ff;}#sk-container-id-2 div.sk-toggleable__content pre {margin: 0.2em;color: black;border-radius: 0.25em;background-color: #f0f8ff;}#sk-container-id-2 input.sk-toggleable__control:checked~div.sk-toggleable__content {max-height: 200px;max-width: 100%;overflow: auto;}#sk-container-id-2 input.sk-toggleable__control:checked~label.sk-toggleable__label-arrow:before {content: \"▾\";}#sk-container-id-2 div.sk-estimator input.sk-toggleable__control:checked~label.sk-toggleable__label {background-color: #d4ebff;}#sk-container-id-2 div.sk-label input.sk-toggleable__control:checked~label.sk-toggleable__label {background-color: #d4ebff;}#sk-container-id-2 input.sk-hidden--visually {border: 0;clip: rect(1px 1px 1px 1px);clip: rect(1px, 1px, 1px, 1px);height: 1px;margin: -1px;overflow: hidden;padding: 0;position: absolute;width: 1px;}#sk-container-id-2 div.sk-estimator {font-family: monospace;background-color: #f0f8ff;border: 1px dotted black;border-radius: 0.25em;box-sizing: border-box;margin-bottom: 0.5em;}#sk-container-id-2 div.sk-estimator:hover {background-color: #d4ebff;}#sk-container-id-2 div.sk-parallel-item::after {content: \"\";width: 100%;border-bottom: 1px solid gray;flex-grow: 1;}#sk-container-id-2 div.sk-label:hover label.sk-toggleable__label {background-color: #d4ebff;}#sk-container-id-2 div.sk-serial::before {content: \"\";position: absolute;border-left: 1px solid gray;box-sizing: border-box;top: 0;bottom: 0;left: 50%;z-index: 0;}#sk-container-id-2 div.sk-serial {display: flex;flex-direction: column;align-items: center;background-color: white;padding-right: 0.2em;padding-left: 0.2em;position: relative;}#sk-container-id-2 div.sk-item {position: relative;z-index: 1;}#sk-container-id-2 div.sk-parallel {display: flex;align-items: stretch;justify-content: center;background-color: white;position: relative;}#sk-container-id-2 div.sk-item::before, #sk-container-id-2 div.sk-parallel-item::before {content: \"\";position: absolute;border-left: 1px solid gray;box-sizing: border-box;top: 0;bottom: 0;left: 50%;z-index: -1;}#sk-container-id-2 div.sk-parallel-item {display: flex;flex-direction: column;z-index: 1;position: relative;background-color: white;}#sk-container-id-2 div.sk-parallel-item:first-child::after {align-self: flex-end;width: 50%;}#sk-container-id-2 div.sk-parallel-item:last-child::after {align-self: flex-start;width: 50%;}#sk-container-id-2 div.sk-parallel-item:only-child::after {width: 0;}#sk-container-id-2 div.sk-dashed-wrapped {border: 1px dashed gray;margin: 0 0.4em 0.5em 0.4em;box-sizing: border-box;padding-bottom: 0.4em;background-color: white;}#sk-container-id-2 div.sk-label label {font-family: monospace;font-weight: bold;display: inline-block;line-height: 1.2em;}#sk-container-id-2 div.sk-label-container {text-align: center;}#sk-container-id-2 div.sk-container {/* jupyter's `normalize.less` sets `[hidden] { display: none; }` but bootstrap.min.css set `[hidden] { display: none !important; }` so we also need the `!important` here to be able to override the default hidden behavior on the sphinx rendered scikit-learn.org. See: https://github.com/scikit-learn/scikit-learn/issues/21755 */display: inline-block !important;position: relative;}#sk-container-id-2 div.sk-text-repr-fallback {display: none;}</style><div id=\"sk-container-id-2\" class=\"sk-top-container\"><div class=\"sk-text-repr-fallback\"><pre>RandomForestClassifier()</pre><b>In a Jupyter environment, please rerun this cell to show the HTML representation or trust the notebook. <br />On GitHub, the HTML representation is unable to render, please try loading this page with nbviewer.org.</b></div><div class=\"sk-container\" hidden><div class=\"sk-item\"><div class=\"sk-estimator sk-toggleable\"><input class=\"sk-toggleable__control sk-hidden--visually\" id=\"sk-estimator-id-2\" type=\"checkbox\" checked><label for=\"sk-estimator-id-2\" class=\"sk-toggleable__label sk-toggleable__label-arrow\">RandomForestClassifier</label><div class=\"sk-toggleable__content\"><pre>RandomForestClassifier()</pre></div></div></div></div></div>"
      ],
      "text/plain": [
       "RandomForestClassifier()"
      ]
     },
     "execution_count": 54,
     "metadata": {},
     "output_type": "execute_result"
    }
   ],
   "source": [
    "from sklearn.ensemble import RandomForestClassifier\n",
    "\n",
    "# #Retroactively add this chunk back in to fix model overfitting\n",
    "\n",
    "#Filter data however you see fit\n",
    "test = matches[matches['tourney_date']>=20100101]\n",
    "test = test[(test['player_age'].notnull()) & (test['surface'].notnull())]\n",
    "\n",
    "#Choose features and response\n",
    "y = test['outcome']\n",
    "X = test[['minutes','serve1_in_perc','player_age']]#,'num_aces','num_dfs','surface']] \n",
    "\n",
    "# #One Hot Encode surface\n",
    "# one_hot = pd.get_dummies(X['surface'])\n",
    "# X = X.drop('surface',axis=1)\n",
    "# X = X.join(one_hot)\n",
    "\n",
    "\n",
    "scale = StandardScaler()\n",
    "scaledX = scale.fit_transform(X)\n",
    "\n",
    "X_train, X_test, y_train, y_test = train_test_split(scaledX, y, test_size=0.30, random_state=42)\n",
    "\n",
    "\n",
    "rf = RandomForestClassifier()\n",
    "rf.fit(X_train, y_train)"
   ]
  },
  {
   "cell_type": "code",
   "execution_count": 55,
   "id": "772cb611",
   "metadata": {},
   "outputs": [
    {
     "name": "stdout",
     "output_type": "stream",
     "text": [
      "Training set score: 0.9732\n",
      "Test set score: 0.5044\n"
     ]
    }
   ],
   "source": [
    "#Check for overfitting\n",
    "from sklearn.metrics import accuracy_score\n",
    "\n",
    "#values are not close so overfitting is for sure happening\n",
    "print('Training set score: {:.4f}'.format(rf.score(X_train, y_train)))\n",
    "print('Test set score: {:.4f}'.format(rf.score(X_test, y_test)))"
   ]
  },
  {
   "cell_type": "code",
   "execution_count": 56,
   "id": "eab07bb3",
   "metadata": {
    "scrolled": true
   },
   "outputs": [
    {
     "data": {
      "text/plain": [
       "<AxesSubplot: >"
      ]
     },
     "execution_count": 56,
     "metadata": {},
     "output_type": "execute_result"
    },
    {
     "data": {
      "image/png": "[encoded data removed]",
      "text/plain": [
       "<Figure size 640x480 with 2 Axes>"
      ]
     },
     "metadata": {},
     "output_type": "display_data"
    }
   ],
   "source": [
    "y_pred_test = rf.predict(X_test)\n",
    "cm = confusion_matrix(y_test, y_pred_test)\n",
    "\n",
    "cm_matrix = pd.DataFrame(data=cm, columns=['Actual Win:1', 'Actual Loss:0'], \n",
    "                                 index=['Predict Win:1', 'Predict Loss:0'])\n",
    "\n",
    "sns.heatmap(cm_matrix, annot=True, fmt='d', cmap='YlGnBu')"
   ]
  },
  {
   "cell_type": "code",
   "execution_count": 57,
   "id": "9b482dc1",
   "metadata": {},
   "outputs": [
    {
     "name": "stdout",
     "output_type": "stream",
     "text": [
      "Elapsed time to compute the importances: 0.032 seconds\n"
     ]
    }
   ],
   "source": [
    "import time\n",
    "\n",
    "start_time = time.time()\n",
    "importances = rf.feature_importances_\n",
    "std = np.std([tree.feature_importances_ for tree in rf.estimators_], axis=0)\n",
    "elapsed_time = time.time() - start_time\n",
    "\n",
    "print(f\"Elapsed time to compute the importances: {elapsed_time:.3f} seconds\")"
   ]
  },
  {
   "cell_type": "code",
   "execution_count": 58,
   "id": "ad97e4ea",
   "metadata": {},
   "outputs": [
    {
     "data": {
      "image/png": "[encoded data removed]",
      "text/plain": [
       "<Figure size 640x480 with 1 Axes>"
      ]
     },
     "metadata": {},
     "output_type": "display_data"
    }
   ],
   "source": [
    "feature_names = [f\"feature {i}\" for i in range(X.shape[1])]\n",
    "\n",
    "forest_importances = pd.Series(importances, index=feature_names)\n",
    "\n",
    "fig, ax = plt.subplots()\n",
    "forest_importances.plot.bar(yerr=std, ax=ax)\n",
    "ax.set_title(\"Feature importances using MDI\")\n",
    "ax.set_ylabel(\"Mean decrease in impurity\")\n",
    "fig.tight_layout()"
   ]
  },
  {
   "cell_type": "code",
   "execution_count": 59,
   "id": "55ec6018",
   "metadata": {},
   "outputs": [
    {
     "name": "stdout",
     "output_type": "stream",
     "text": [
      "              precision    recall  f1-score   support\n",
      "\n",
      "         0.0       0.50      0.51      0.50     10831\n",
      "         1.0       0.51      0.50      0.50     10963\n",
      "\n",
      "    accuracy                           0.50     21794\n",
      "   macro avg       0.50      0.50      0.50     21794\n",
      "weighted avg       0.50      0.50      0.50     21794\n",
      "\n"
     ]
    }
   ],
   "source": [
    "print(classification_report(y_test, y_pred_test))"
   ]
  },
  {
   "cell_type": "code",
   "execution_count": 60,
   "id": "1c789358",
   "metadata": {},
   "outputs": [
    {
     "name": "stdout",
     "output_type": "stream",
     "text": [
      "Cross-validation scores:[0.49852507 0.50108161 0.50019666 0.49803343 0.49252704]\n"
     ]
    }
   ],
   "source": [
    "# Applying 5-Fold Cross Validation\n",
    "\n",
    "scores = cross_val_score(rf, X_train, y_train, cv = 5, scoring='accuracy')\n",
    "print('Cross-validation scores:{}'.format(scores))"
   ]
  },
  {
   "cell_type": "code",
   "execution_count": 61,
   "id": "e112b3dc",
   "metadata": {},
   "outputs": [
    {
     "name": "stdout",
     "output_type": "stream",
     "text": [
      "Average cross-validation score: 0.4981\n"
     ]
    }
   ],
   "source": [
    "#Compute Average cross-validation score\n",
    "\n",
    "print('Average cross-validation score: {:.4f}'.format(scores.mean()))"
   ]
  },
  {
   "cell_type": "markdown",
   "id": "27849669",
   "metadata": {},
   "source": [
    "## Model 3: XGBoost (please work, not feeling great about this one)"
   ]
  },
  {
   "cell_type": "code",
   "execution_count": 62,
   "id": "def9b17b",
   "metadata": {
    "scrolled": true
   },
   "outputs": [
    {
     "data": {
      "text/html": [
       "<style>#sk-container-id-3 {color: black;background-color: white;}#sk-container-id-3 pre{padding: 0;}#sk-container-id-3 div.sk-toggleable {background-color: white;}#sk-container-id-3 label.sk-toggleable__label {cursor: pointer;display: block;width: 100%;margin-bottom: 0;padding: 0.3em;box-sizing: border-box;text-align: center;}#sk-container-id-3 label.sk-toggleable__label-arrow:before {content: \"▸\";float: left;margin-right: 0.25em;color: #696969;}#sk-container-id-3 label.sk-toggleable__label-arrow:hover:before {color: black;}#sk-container-id-3 div.sk-estimator:hover label.sk-toggleable__label-arrow:before {color: black;}#sk-container-id-3 div.sk-toggleable__content {max-height: 0;max-width: 0;overflow: hidden;text-align: left;background-color: #f0f8ff;}#sk-container-id-3 div.sk-toggleable__content pre {margin: 0.2em;color: black;border-radius: 0.25em;background-color: #f0f8ff;}#sk-container-id-3 input.sk-toggleable__control:checked~div.sk-toggleable__content {max-height: 200px;max-width: 100%;overflow: auto;}#sk-container-id-3 input.sk-toggleable__control:checked~label.sk-toggleable__label-arrow:before {content: \"▾\";}#sk-container-id-3 div.sk-estimator input.sk-toggleable__control:checked~label.sk-toggleable__label {background-color: #d4ebff;}#sk-container-id-3 div.sk-label input.sk-toggleable__control:checked~label.sk-toggleable__label {background-color: #d4ebff;}#sk-container-id-3 input.sk-hidden--visually {border: 0;clip: rect(1px 1px 1px 1px);clip: rect(1px, 1px, 1px, 1px);height: 1px;margin: -1px;overflow: hidden;padding: 0;position: absolute;width: 1px;}#sk-container-id-3 div.sk-estimator {font-family: monospace;background-color: #f0f8ff;border: 1px dotted black;border-radius: 0.25em;box-sizing: border-box;margin-bottom: 0.5em;}#sk-container-id-3 div.sk-estimator:hover {background-color: #d4ebff;}#sk-container-id-3 div.sk-parallel-item::after {content: \"\";width: 100%;border-bottom: 1px solid gray;flex-grow: 1;}#sk-container-id-3 div.sk-label:hover label.sk-toggleable__label {background-color: #d4ebff;}#sk-container-id-3 div.sk-serial::before {content: \"\";position: absolute;border-left: 1px solid gray;box-sizing: border-box;top: 0;bottom: 0;left: 50%;z-index: 0;}#sk-container-id-3 div.sk-serial {display: flex;flex-direction: column;align-items: center;background-color: white;padding-right: 0.2em;padding-left: 0.2em;position: relative;}#sk-container-id-3 div.sk-item {position: relative;z-index: 1;}#sk-container-id-3 div.sk-parallel {display: flex;align-items: stretch;justify-content: center;background-color: white;position: relative;}#sk-container-id-3 div.sk-item::before, #sk-container-id-3 div.sk-parallel-item::before {content: \"\";position: absolute;border-left: 1px solid gray;box-sizing: border-box;top: 0;bottom: 0;left: 50%;z-index: -1;}#sk-container-id-3 div.sk-parallel-item {display: flex;flex-direction: column;z-index: 1;position: relative;background-color: white;}#sk-container-id-3 div.sk-parallel-item:first-child::after {align-self: flex-end;width: 50%;}#sk-container-id-3 div.sk-parallel-item:last-child::after {align-self: flex-start;width: 50%;}#sk-container-id-3 div.sk-parallel-item:only-child::after {width: 0;}#sk-container-id-3 div.sk-dashed-wrapped {border: 1px dashed gray;margin: 0 0.4em 0.5em 0.4em;box-sizing: border-box;padding-bottom: 0.4em;background-color: white;}#sk-container-id-3 div.sk-label label {font-family: monospace;font-weight: bold;display: inline-block;line-height: 1.2em;}#sk-container-id-3 div.sk-label-container {text-align: center;}#sk-container-id-3 div.sk-container {/* jupyter's `normalize.less` sets `[hidden] { display: none; }` but bootstrap.min.css set `[hidden] { display: none !important; }` so we also need the `!important` here to be able to override the default hidden behavior on the sphinx rendered scikit-learn.org. See: https://github.com/scikit-learn/scikit-learn/issues/21755 */display: inline-block !important;position: relative;}#sk-container-id-3 div.sk-text-repr-fallback {display: none;}</style><div id=\"sk-container-id-3\" class=\"sk-top-container\"><div class=\"sk-text-repr-fallback\"><pre>XGBClassifier(base_score=0.5, booster=&#x27;gbtree&#x27;, callbacks=None,\n",
       "              colsample_bylevel=1, colsample_bynode=1, colsample_bytree=1,\n",
       "              early_stopping_rounds=None, enable_categorical=False,\n",
       "              eval_metric=None, feature_types=None, gamma=0, gpu_id=-1,\n",
       "              grow_policy=&#x27;depthwise&#x27;, importance_type=None,\n",
       "              interaction_constraints=&#x27;&#x27;, learning_rate=0.300000012,\n",
       "              max_bin=256, max_cat_threshold=64, max_cat_to_onehot=4,\n",
       "              max_delta_step=0, max_depth=6, max_leaves=0, min_child_weight=1,\n",
       "              missing=nan, monotone_constraints=&#x27;()&#x27;, n_estimators=100,\n",
       "              n_jobs=0, num_parallel_tree=1, predictor=&#x27;auto&#x27;, random_state=0, ...)</pre><b>In a Jupyter environment, please rerun this cell to show the HTML representation or trust the notebook. <br />On GitHub, the HTML representation is unable to render, please try loading this page with nbviewer.org.</b></div><div class=\"sk-container\" hidden><div class=\"sk-item\"><div class=\"sk-estimator sk-toggleable\"><input class=\"sk-toggleable__control sk-hidden--visually\" id=\"sk-estimator-id-3\" type=\"checkbox\" checked><label for=\"sk-estimator-id-3\" class=\"sk-toggleable__label sk-toggleable__label-arrow\">XGBClassifier</label><div class=\"sk-toggleable__content\"><pre>XGBClassifier(base_score=0.5, booster=&#x27;gbtree&#x27;, callbacks=None,\n",
       "              colsample_bylevel=1, colsample_bynode=1, colsample_bytree=1,\n",
       "              early_stopping_rounds=None, enable_categorical=False,\n",
       "              eval_metric=None, feature_types=None, gamma=0, gpu_id=-1,\n",
       "              grow_policy=&#x27;depthwise&#x27;, importance_type=None,\n",
       "              interaction_constraints=&#x27;&#x27;, learning_rate=0.300000012,\n",
       "              max_bin=256, max_cat_threshold=64, max_cat_to_onehot=4,\n",
       "              max_delta_step=0, max_depth=6, max_leaves=0, min_child_weight=1,\n",
       "              missing=nan, monotone_constraints=&#x27;()&#x27;, n_estimators=100,\n",
       "              n_jobs=0, num_parallel_tree=1, predictor=&#x27;auto&#x27;, random_state=0, ...)</pre></div></div></div></div></div>"
      ],
      "text/plain": [
       "XGBClassifier(base_score=0.5, booster='gbtree', callbacks=None,\n",
       "              colsample_bylevel=1, colsample_bynode=1, colsample_bytree=1,\n",
       "              early_stopping_rounds=None, enable_categorical=False,\n",
       "              eval_metric=None, feature_types=None, gamma=0, gpu_id=-1,\n",
       "              grow_policy='depthwise', importance_type=None,\n",
       "              interaction_constraints='', learning_rate=0.300000012,\n",
       "              max_bin=256, max_cat_threshold=64, max_cat_to_onehot=4,\n",
       "              max_delta_step=0, max_depth=6, max_leaves=0, min_child_weight=1,\n",
       "              missing=nan, monotone_constraints='()', n_estimators=100,\n",
       "              n_jobs=0, num_parallel_tree=1, predictor='auto', random_state=0, ...)"
      ]
     },
     "execution_count": 62,
     "metadata": {},
     "output_type": "execute_result"
    }
   ],
   "source": [
    "from xgboost import XGBClassifier\n",
    "\n",
    "#Filter data however you see fit\n",
    "test = matches[matches['tourney_date']>=20100101]\n",
    "test = test[(test['player_age'].notnull()) & (test['surface'].notnull())]\n",
    "\n",
    "#Choose features and response\n",
    "y = test['outcome']\n",
    "X = test[['minutes','serve1_in_perc','player_age','num_aces','num_dfs','surface']] \n",
    "\n",
    "\n",
    "#One Hot Encode surface\n",
    "one_hot = pd.get_dummies(X['surface'])\n",
    "X = X.drop('surface',axis=1)\n",
    "X = X.join(one_hot)\n",
    "\n",
    "\n",
    "scale = StandardScaler()\n",
    "scaledX = scale.fit_transform(X)\n",
    "\n",
    "X_train, X_test, y_train, y_test = train_test_split(scaledX, y, test_size=0.30, random_state=42)\n",
    "\n",
    "\n",
    "xgb_class = XGBClassifier()\n",
    "xgb_class.fit(X_train, y_train, verbose = False, early_stopping_rounds=15,eval_set=[(X_test,y_test)])"
   ]
  },
  {
   "cell_type": "code",
   "execution_count": 63,
   "id": "b664ee60",
   "metadata": {},
   "outputs": [
    {
     "name": "stdout",
     "output_type": "stream",
     "text": [
      "Training set score: 0.6323\n",
      "Test set score: 0.6145\n"
     ]
    }
   ],
   "source": [
    "predictions = xgb_class.predict(X_test)\n",
    "\n",
    "print('Training set score: {:.4f}'.format(xgb_class.score(X_train, y_train)))\n",
    "print('Test set score: {:.4f}'.format(xgb_class.score(X_test, y_test)))"
   ]
  },
  {
   "cell_type": "markdown",
   "id": "7172b4e2",
   "metadata": {},
   "source": [
    "## Models are all terrible, let's try surface-specific models"
   ]
  },
  {
   "cell_type": "markdown",
   "id": "52fb3e5f",
   "metadata": {},
   "source": [
    "#### Grass Model"
   ]
  },
  {
   "cell_type": "code",
   "execution_count": 64,
   "id": "5b18dedc",
   "metadata": {},
   "outputs": [
    {
     "name": "stdout",
     "output_type": "stream",
     "text": [
      "(5373, 5)\n",
      "(5373,)\n",
      "(2303, 5)\n",
      "(2303,)\n"
     ]
    }
   ],
   "source": [
    "#Filter data however you see fit\n",
    "test = matches[matches['tourney_date']>=20100101]\n",
    "test = test[(test['player_age'].notnull()) & (test['surface']==\"Grass\")]\n",
    "\n",
    "#Choose features and response\n",
    "y = test['outcome']\n",
    "X = test[['num_dfs','minutes','num_aces','serve1_in_perc','player_age']] \n",
    "\n",
    "scale = StandardScaler()\n",
    "scaledX = scale.fit_transform(X)\n",
    "\n",
    "X_train, X_test, y_train, y_test = train_test_split(scaledX, y, test_size=0.30, random_state=42)\n",
    "\n",
    "print(X_train.shape)\n",
    "print(y_train.shape)\n",
    "print(X_test.shape)\n",
    "print(y_test.shape)"
   ]
  },
  {
   "cell_type": "code",
   "execution_count": 65,
   "id": "f2c28bca",
   "metadata": {},
   "outputs": [
    {
     "name": "stdout",
     "output_type": "stream",
     "text": [
      "Training set score: 0.6510\n",
      "Test set score: 0.6452\n"
     ]
    }
   ],
   "source": [
    "logreg = LogisticRegression(solver='liblinear', random_state=0)\n",
    "logreg.fit(X_train, y_train)\n",
    "\n",
    "print('Training set score: {:.4f}'.format(logreg.score(X_train, y_train)))\n",
    "print('Test set score: {:.4f}'.format(logreg.score(X_test, y_test)))"
   ]
  },
  {
   "cell_type": "code",
   "execution_count": 66,
   "id": "f325a891",
   "metadata": {},
   "outputs": [
    {
     "data": {
      "text/plain": [
       "<AxesSubplot: ylabel='Feature'>"
      ]
     },
     "execution_count": 66,
     "metadata": {},
     "output_type": "execute_result"
    },
    {
     "data": {
      "image/png": "[encoded data removed]",
      "text/plain": [
       "<Figure size 500x300 with 1 Axes>"
      ]
     },
     "metadata": {},
     "output_type": "display_data"
    }
   ],
   "source": [
    "#Feature importance - can we get rid of any of the features?\n",
    "coefficients = logreg.coef_[0]\n",
    "feature_importance = pd.DataFrame({'Feature': X.columns, 'Importance': np.abs(coefficients)})\n",
    "feature_importance = feature_importance.sort_values('Importance', ascending=True)\n",
    "feature_importance.plot(x='Feature', y='Importance', kind='barh', figsize=(5, 3))"
   ]
  },
  {
   "cell_type": "markdown",
   "id": "06bf511a",
   "metadata": {},
   "source": [
    "### Clay Model"
   ]
  },
  {
   "cell_type": "code",
   "execution_count": 67,
   "id": "e3dbcbd9",
   "metadata": {},
   "outputs": [
    {
     "name": "stdout",
     "output_type": "stream",
     "text": [
      "(15685, 5)\n",
      "(15685,)\n",
      "(6723, 5)\n",
      "(6723,)\n"
     ]
    }
   ],
   "source": [
    "#Filter data however you see fit\n",
    "test = matches[matches['tourney_date']>=20100101]\n",
    "test = test[(test['player_age'].notnull()) & (test['surface']==\"Clay\")]\n",
    "\n",
    "#Choose features and response\n",
    "y = test['outcome']\n",
    "X = test[['num_dfs','minutes','num_aces','serve1_in_perc','player_age']] \n",
    "\n",
    "scale = StandardScaler()\n",
    "scaledX = scale.fit_transform(X)\n",
    "\n",
    "X_train, X_test, y_train, y_test = train_test_split(scaledX, y, test_size=0.30, random_state=42)\n",
    "\n",
    "print(X_train.shape)\n",
    "print(y_train.shape)\n",
    "print(X_test.shape)\n",
    "print(y_test.shape)"
   ]
  },
  {
   "cell_type": "code",
   "execution_count": 68,
   "id": "4dcffbaa",
   "metadata": {},
   "outputs": [
    {
     "name": "stdout",
     "output_type": "stream",
     "text": [
      "Training set score: 0.6057\n",
      "Test set score: 0.5979\n"
     ]
    }
   ],
   "source": [
    "logreg = LogisticRegression(solver='liblinear', random_state=0)\n",
    "logreg.fit(X_train, y_train)\n",
    "\n",
    "print('Training set score: {:.4f}'.format(logreg.score(X_train, y_train)))\n",
    "print('Test set score: {:.4f}'.format(logreg.score(X_test, y_test)))"
   ]
  },
  {
   "cell_type": "code",
   "execution_count": 69,
   "id": "695e3520",
   "metadata": {},
   "outputs": [
    {
     "data": {
      "text/plain": [
       "<AxesSubplot: ylabel='Feature'>"
      ]
     },
     "execution_count": 69,
     "metadata": {},
     "output_type": "execute_result"
    },
    {
     "data": {
      "image/png": "[encoded data removed]",
      "text/plain": [
       "<Figure size 500x300 with 1 Axes>"
      ]
     },
     "metadata": {},
     "output_type": "display_data"
    }
   ],
   "source": [
    "#Feature importance - can we get rid of any of the features?\n",
    "coefficients = logreg.coef_[0]\n",
    "feature_importance = pd.DataFrame({'Feature': X.columns, 'Importance': np.abs(coefficients)})\n",
    "feature_importance = feature_importance.sort_values('Importance', ascending=True)\n",
    "feature_importance.plot(x='Feature', y='Importance', kind='barh', figsize=(5, 3))"
   ]
  },
  {
   "cell_type": "markdown",
   "id": "4eee98c2",
   "metadata": {},
   "source": [
    "### Hard Court Model"
   ]
  },
  {
   "cell_type": "code",
   "execution_count": 70,
   "id": "4bd0ebb8",
   "metadata": {},
   "outputs": [
    {
     "name": "stdout",
     "output_type": "stream",
     "text": [
      "(29699, 5)\n",
      "(29699,)\n",
      "(12729, 5)\n",
      "(12729,)\n"
     ]
    }
   ],
   "source": [
    "#Filter data however you see fit\n",
    "test = matches[matches['tourney_date']>=20100101]\n",
    "test = test[(test['player_age'].notnull()) & (test['surface']==\"Hard\")]\n",
    "\n",
    "#Choose features and response\n",
    "y = test['outcome']\n",
    "X = test[['num_dfs','minutes','num_aces','serve1_in_perc','player_age']] \n",
    "\n",
    "scale = StandardScaler()\n",
    "scaledX = scale.fit_transform(X)\n",
    "\n",
    "X_train, X_test, y_train, y_test = train_test_split(scaledX, y, test_size=0.30, random_state=42)\n",
    "\n",
    "print(X_train.shape)\n",
    "print(y_train.shape)\n",
    "print(X_test.shape)\n",
    "print(y_test.shape)"
   ]
  },
  {
   "cell_type": "code",
   "execution_count": 71,
   "id": "0297a803",
   "metadata": {},
   "outputs": [
    {
     "name": "stdout",
     "output_type": "stream",
     "text": [
      "Training set score: 0.6158\n",
      "Test set score: 0.6211\n"
     ]
    }
   ],
   "source": [
    "logreg = LogisticRegression(solver='liblinear', random_state=0)\n",
    "logreg.fit(X_train, y_train)\n",
    "\n",
    "print('Training set score: {:.4f}'.format(logreg.score(X_train, y_train)))\n",
    "print('Test set score: {:.4f}'.format(logreg.score(X_test, y_test)))"
   ]
  },
  {
   "cell_type": "code",
   "execution_count": 72,
   "id": "9f42bb6f",
   "metadata": {},
   "outputs": [
    {
     "data": {
      "text/plain": [
       "<AxesSubplot: ylabel='Feature'>"
      ]
     },
     "execution_count": 72,
     "metadata": {},
     "output_type": "execute_result"
    },
    {
     "data": {
      "image/png": "[encoded data removed]",
      "text/plain": [
       "<Figure size 500x300 with 1 Axes>"
      ]
     },
     "metadata": {},
     "output_type": "display_data"
    }
   ],
   "source": [
    "#Feature importance - can we get rid of any of the features?\n",
    "coefficients = logreg.coef_[0]\n",
    "feature_importance = pd.DataFrame({'Feature': X.columns, 'Importance': np.abs(coefficients)})\n",
    "feature_importance = feature_importance.sort_values('Importance', ascending=True)\n",
    "feature_importance.plot(x='Feature', y='Importance', kind='barh', figsize=(5, 3))"
   ]
  },
  {
   "cell_type": "code",
   "execution_count": null,
   "id": "818e91e0",
   "metadata": {},
   "outputs": [],
   "source": []
  }
 ],
 "metadata": {
  "kernelspec": {
   "display_name": "Python 3 (ipykernel)",
   "language": "python",
   "name": "python3"
  },
  "language_info": {
   "codemirror_mode": {
    "name": "ipython",
    "version": 3
   },
   "file_extension": ".py",
   "mimetype": "text/x-python",
   "name": "python",
   "nbconvert_exporter": "python",
   "pygments_lexer": "ipython3",
   "version": "3.9.13"
  }
 },
 "nbformat": 4,
 "nbformat_minor": 5
}
