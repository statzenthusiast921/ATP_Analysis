{
 "cells": [
  {
   "cell_type": "markdown",
   "id": "13490f6f",
   "metadata": {},
   "source": [
    "### Association of Tennis Professional EDA\n",
    "#### Reference: https://www.kaggle.com/datasets/sijovm/atpdata/data"
   ]
  },
  {
   "cell_type": "code",
   "execution_count": 1,
   "id": "f274d713",
   "metadata": {},
   "outputs": [
    {
     "name": "stdout",
     "output_type": "stream",
     "text": [
      "(188161, 49)\n",
      "(58687, 8)\n",
      "(3113261, 4)\n"
     ]
    }
   ],
   "source": [
    "#Load libraries\n",
    "import pandas as pd\n",
    "import numpy as np\n",
    "import warnings\n",
    "from datetime import timedelta\n",
    "import seaborn as sns\n",
    "import matplotlib.pyplot as plt \n",
    "\n",
    "sns.set_palette(\"bright\")\n",
    "warnings.filterwarnings('ignore')\n",
    "\n",
    "#Read in the data\n",
    "matches = pd.read_csv(\"https://raw.githubusercontent.com/statzenthusiast921/ATP_Analysis/main/main/data/atp_matches_till_2022.csv\")\n",
    "players = pd.read_csv(\"https://raw.githubusercontent.com/statzenthusiast921/ATP_Analysis/main/main/data/atp_players_till_2022.csv\")\n",
    "ranking = pd.read_csv(\"https://raw.githubusercontent.com/statzenthusiast921/ATP_Analysis/main/main/data/atp_rankings_till_2022.csv\")\n",
    "\n",
    "print(matches.shape)\n",
    "print(players.shape)\n",
    "print(ranking.shape)"
   ]
  },
  {
   "cell_type": "code",
   "execution_count": 2,
   "id": "93a83a0f",
   "metadata": {
    "scrolled": true
   },
   "outputs": [
    {
     "data": {
      "text/html": [
       "<div>\n",
       "<style scoped>\n",
       "    .dataframe tbody tr th:only-of-type {\n",
       "        vertical-align: middle;\n",
       "    }\n",
       "\n",
       "    .dataframe tbody tr th {\n",
       "        vertical-align: top;\n",
       "    }\n",
       "\n",
       "    .dataframe thead th {\n",
       "        text-align: right;\n",
       "    }\n",
       "</style>\n",
       "<table border=\"1\" class=\"dataframe\">\n",
       "  <thead>\n",
       "    <tr style=\"text-align: right;\">\n",
       "      <th></th>\n",
       "      <th>tourney_id</th>\n",
       "      <th>tourney_name</th>\n",
       "      <th>surface</th>\n",
       "      <th>draw_size</th>\n",
       "      <th>tourney_level</th>\n",
       "      <th>tourney_date</th>\n",
       "      <th>match_num</th>\n",
       "      <th>winner_id</th>\n",
       "      <th>winner_seed</th>\n",
       "      <th>winner_entry</th>\n",
       "      <th>...</th>\n",
       "      <th>l_1stIn</th>\n",
       "      <th>l_1stWon</th>\n",
       "      <th>l_2ndWon</th>\n",
       "      <th>l_SvGms</th>\n",
       "      <th>l_bpSaved</th>\n",
       "      <th>l_bpFaced</th>\n",
       "      <th>winner_rank</th>\n",
       "      <th>winner_rank_points</th>\n",
       "      <th>loser_rank</th>\n",
       "      <th>loser_rank_points</th>\n",
       "    </tr>\n",
       "  </thead>\n",
       "  <tbody>\n",
       "    <tr>\n",
       "      <th>0</th>\n",
       "      <td>1968-2029</td>\n",
       "      <td>Dublin</td>\n",
       "      <td>Grass</td>\n",
       "      <td>32</td>\n",
       "      <td>A</td>\n",
       "      <td>19680708</td>\n",
       "      <td>270</td>\n",
       "      <td>112411</td>\n",
       "      <td>NaN</td>\n",
       "      <td>NaN</td>\n",
       "      <td>...</td>\n",
       "      <td>NaN</td>\n",
       "      <td>NaN</td>\n",
       "      <td>NaN</td>\n",
       "      <td>NaN</td>\n",
       "      <td>NaN</td>\n",
       "      <td>NaN</td>\n",
       "      <td>NaN</td>\n",
       "      <td>NaN</td>\n",
       "      <td>NaN</td>\n",
       "      <td>NaN</td>\n",
       "    </tr>\n",
       "    <tr>\n",
       "      <th>1</th>\n",
       "      <td>1968-2029</td>\n",
       "      <td>Dublin</td>\n",
       "      <td>Grass</td>\n",
       "      <td>32</td>\n",
       "      <td>A</td>\n",
       "      <td>19680708</td>\n",
       "      <td>271</td>\n",
       "      <td>126914</td>\n",
       "      <td>NaN</td>\n",
       "      <td>NaN</td>\n",
       "      <td>...</td>\n",
       "      <td>NaN</td>\n",
       "      <td>NaN</td>\n",
       "      <td>NaN</td>\n",
       "      <td>NaN</td>\n",
       "      <td>NaN</td>\n",
       "      <td>NaN</td>\n",
       "      <td>NaN</td>\n",
       "      <td>NaN</td>\n",
       "      <td>NaN</td>\n",
       "      <td>NaN</td>\n",
       "    </tr>\n",
       "    <tr>\n",
       "      <th>2</th>\n",
       "      <td>1968-2029</td>\n",
       "      <td>Dublin</td>\n",
       "      <td>Grass</td>\n",
       "      <td>32</td>\n",
       "      <td>A</td>\n",
       "      <td>19680708</td>\n",
       "      <td>272</td>\n",
       "      <td>209523</td>\n",
       "      <td>NaN</td>\n",
       "      <td>NaN</td>\n",
       "      <td>...</td>\n",
       "      <td>NaN</td>\n",
       "      <td>NaN</td>\n",
       "      <td>NaN</td>\n",
       "      <td>NaN</td>\n",
       "      <td>NaN</td>\n",
       "      <td>NaN</td>\n",
       "      <td>NaN</td>\n",
       "      <td>NaN</td>\n",
       "      <td>NaN</td>\n",
       "      <td>NaN</td>\n",
       "    </tr>\n",
       "    <tr>\n",
       "      <th>3</th>\n",
       "      <td>1968-2029</td>\n",
       "      <td>Dublin</td>\n",
       "      <td>Grass</td>\n",
       "      <td>32</td>\n",
       "      <td>A</td>\n",
       "      <td>19680708</td>\n",
       "      <td>273</td>\n",
       "      <td>100084</td>\n",
       "      <td>NaN</td>\n",
       "      <td>NaN</td>\n",
       "      <td>...</td>\n",
       "      <td>NaN</td>\n",
       "      <td>NaN</td>\n",
       "      <td>NaN</td>\n",
       "      <td>NaN</td>\n",
       "      <td>NaN</td>\n",
       "      <td>NaN</td>\n",
       "      <td>NaN</td>\n",
       "      <td>NaN</td>\n",
       "      <td>NaN</td>\n",
       "      <td>NaN</td>\n",
       "    </tr>\n",
       "    <tr>\n",
       "      <th>4</th>\n",
       "      <td>1968-2029</td>\n",
       "      <td>Dublin</td>\n",
       "      <td>Grass</td>\n",
       "      <td>32</td>\n",
       "      <td>A</td>\n",
       "      <td>19680708</td>\n",
       "      <td>274</td>\n",
       "      <td>100132</td>\n",
       "      <td>NaN</td>\n",
       "      <td>NaN</td>\n",
       "      <td>...</td>\n",
       "      <td>NaN</td>\n",
       "      <td>NaN</td>\n",
       "      <td>NaN</td>\n",
       "      <td>NaN</td>\n",
       "      <td>NaN</td>\n",
       "      <td>NaN</td>\n",
       "      <td>NaN</td>\n",
       "      <td>NaN</td>\n",
       "      <td>NaN</td>\n",
       "      <td>NaN</td>\n",
       "    </tr>\n",
       "  </tbody>\n",
       "</table>\n",
       "<p>5 rows × 49 columns</p>\n",
       "</div>"
      ],
      "text/plain": [
       "  tourney_id tourney_name surface  draw_size tourney_level  tourney_date  \\\n",
       "0  1968-2029       Dublin   Grass         32             A      19680708   \n",
       "1  1968-2029       Dublin   Grass         32             A      19680708   \n",
       "2  1968-2029       Dublin   Grass         32             A      19680708   \n",
       "3  1968-2029       Dublin   Grass         32             A      19680708   \n",
       "4  1968-2029       Dublin   Grass         32             A      19680708   \n",
       "\n",
       "   match_num  winner_id  winner_seed winner_entry  ... l_1stIn l_1stWon  \\\n",
       "0        270     112411          NaN          NaN  ...     NaN      NaN   \n",
       "1        271     126914          NaN          NaN  ...     NaN      NaN   \n",
       "2        272     209523          NaN          NaN  ...     NaN      NaN   \n",
       "3        273     100084          NaN          NaN  ...     NaN      NaN   \n",
       "4        274     100132          NaN          NaN  ...     NaN      NaN   \n",
       "\n",
       "   l_2ndWon l_SvGms  l_bpSaved  l_bpFaced  winner_rank winner_rank_points  \\\n",
       "0       NaN     NaN        NaN        NaN          NaN                NaN   \n",
       "1       NaN     NaN        NaN        NaN          NaN                NaN   \n",
       "2       NaN     NaN        NaN        NaN          NaN                NaN   \n",
       "3       NaN     NaN        NaN        NaN          NaN                NaN   \n",
       "4       NaN     NaN        NaN        NaN          NaN                NaN   \n",
       "\n",
       "  loser_rank loser_rank_points  \n",
       "0        NaN               NaN  \n",
       "1        NaN               NaN  \n",
       "2        NaN               NaN  \n",
       "3        NaN               NaN  \n",
       "4        NaN               NaN  \n",
       "\n",
       "[5 rows x 49 columns]"
      ]
     },
     "execution_count": 2,
     "metadata": {},
     "output_type": "execute_result"
    }
   ],
   "source": [
    "matches.head()"
   ]
  },
  {
   "cell_type": "code",
   "execution_count": 3,
   "id": "aab32e3f",
   "metadata": {},
   "outputs": [
    {
     "data": {
      "text/plain": [
       "Index(['tourney_id', 'tourney_name', 'surface', 'draw_size', 'tourney_level',\n",
       "       'tourney_date', 'match_num', 'winner_id', 'winner_seed', 'winner_entry',\n",
       "       'winner_name', 'winner_hand', 'winner_ht', 'winner_ioc', 'winner_age',\n",
       "       'loser_id', 'loser_seed', 'loser_entry', 'loser_name', 'loser_hand',\n",
       "       'loser_ht', 'loser_ioc', 'loser_age', 'score', 'best_of', 'round',\n",
       "       'minutes', 'w_ace', 'w_df', 'w_svpt', 'w_1stIn', 'w_1stWon', 'w_2ndWon',\n",
       "       'w_SvGms', 'w_bpSaved', 'w_bpFaced', 'l_ace', 'l_df', 'l_svpt',\n",
       "       'l_1stIn', 'l_1stWon', 'l_2ndWon', 'l_SvGms', 'l_bpSaved', 'l_bpFaced',\n",
       "       'winner_rank', 'winner_rank_points', 'loser_rank', 'loser_rank_points'],\n",
       "      dtype='object')"
      ]
     },
     "execution_count": 3,
     "metadata": {},
     "output_type": "execute_result"
    }
   ],
   "source": [
    "matches.columns"
   ]
  },
  {
   "cell_type": "code",
   "execution_count": 4,
   "id": "dfcb71c7",
   "metadata": {
    "scrolled": false
   },
   "outputs": [
    {
     "data": {
      "text/html": [
       "<div>\n",
       "<style scoped>\n",
       "    .dataframe tbody tr th:only-of-type {\n",
       "        vertical-align: middle;\n",
       "    }\n",
       "\n",
       "    .dataframe tbody tr th {\n",
       "        vertical-align: top;\n",
       "    }\n",
       "\n",
       "    .dataframe thead th {\n",
       "        text-align: right;\n",
       "    }\n",
       "</style>\n",
       "<table border=\"1\" class=\"dataframe\">\n",
       "  <thead>\n",
       "    <tr style=\"text-align: right;\">\n",
       "      <th></th>\n",
       "      <th>player_id</th>\n",
       "      <th>name_first</th>\n",
       "      <th>name_last</th>\n",
       "      <th>hand</th>\n",
       "      <th>dob</th>\n",
       "      <th>ioc</th>\n",
       "      <th>height</th>\n",
       "      <th>wikidata_id</th>\n",
       "    </tr>\n",
       "  </thead>\n",
       "  <tbody>\n",
       "    <tr>\n",
       "      <th>0</th>\n",
       "      <td>100001</td>\n",
       "      <td>Gardnar</td>\n",
       "      <td>Mulloy</td>\n",
       "      <td>R</td>\n",
       "      <td>19131122.0</td>\n",
       "      <td>USA</td>\n",
       "      <td>185.0</td>\n",
       "      <td>Q54544</td>\n",
       "    </tr>\n",
       "    <tr>\n",
       "      <th>1</th>\n",
       "      <td>100002</td>\n",
       "      <td>Pancho</td>\n",
       "      <td>Segura</td>\n",
       "      <td>R</td>\n",
       "      <td>19210620.0</td>\n",
       "      <td>ECU</td>\n",
       "      <td>168.0</td>\n",
       "      <td>Q54581</td>\n",
       "    </tr>\n",
       "    <tr>\n",
       "      <th>2</th>\n",
       "      <td>100003</td>\n",
       "      <td>Frank</td>\n",
       "      <td>Sedgman</td>\n",
       "      <td>R</td>\n",
       "      <td>19271002.0</td>\n",
       "      <td>AUS</td>\n",
       "      <td>180.0</td>\n",
       "      <td>Q962049</td>\n",
       "    </tr>\n",
       "    <tr>\n",
       "      <th>3</th>\n",
       "      <td>100004</td>\n",
       "      <td>Giuseppe</td>\n",
       "      <td>Merlo</td>\n",
       "      <td>R</td>\n",
       "      <td>19271011.0</td>\n",
       "      <td>ITA</td>\n",
       "      <td>NaN</td>\n",
       "      <td>Q1258752</td>\n",
       "    </tr>\n",
       "    <tr>\n",
       "      <th>4</th>\n",
       "      <td>100005</td>\n",
       "      <td>Richard</td>\n",
       "      <td>Gonzalez</td>\n",
       "      <td>R</td>\n",
       "      <td>19280509.0</td>\n",
       "      <td>USA</td>\n",
       "      <td>188.0</td>\n",
       "      <td>Q53554</td>\n",
       "    </tr>\n",
       "  </tbody>\n",
       "</table>\n",
       "</div>"
      ],
      "text/plain": [
       "   player_id name_first name_last hand         dob  ioc  height wikidata_id\n",
       "0     100001    Gardnar    Mulloy    R  19131122.0  USA   185.0      Q54544\n",
       "1     100002     Pancho    Segura    R  19210620.0  ECU   168.0      Q54581\n",
       "2     100003      Frank   Sedgman    R  19271002.0  AUS   180.0     Q962049\n",
       "3     100004   Giuseppe     Merlo    R  19271011.0  ITA     NaN    Q1258752\n",
       "4     100005    Richard  Gonzalez    R  19280509.0  USA   188.0      Q53554"
      ]
     },
     "execution_count": 4,
     "metadata": {},
     "output_type": "execute_result"
    }
   ],
   "source": [
    "players.head()"
   ]
  },
  {
   "cell_type": "code",
   "execution_count": 5,
   "id": "1ddacfd5",
   "metadata": {
    "scrolled": false
   },
   "outputs": [
    {
     "data": {
      "text/html": [
       "<div>\n",
       "<style scoped>\n",
       "    .dataframe tbody tr th:only-of-type {\n",
       "        vertical-align: middle;\n",
       "    }\n",
       "\n",
       "    .dataframe tbody tr th {\n",
       "        vertical-align: top;\n",
       "    }\n",
       "\n",
       "    .dataframe thead th {\n",
       "        text-align: right;\n",
       "    }\n",
       "</style>\n",
       "<table border=\"1\" class=\"dataframe\">\n",
       "  <thead>\n",
       "    <tr style=\"text-align: right;\">\n",
       "      <th></th>\n",
       "      <th>ranking_date</th>\n",
       "      <th>rank</th>\n",
       "      <th>player</th>\n",
       "      <th>points</th>\n",
       "    </tr>\n",
       "  </thead>\n",
       "  <tbody>\n",
       "    <tr>\n",
       "      <th>0</th>\n",
       "      <td>20100104</td>\n",
       "      <td>1</td>\n",
       "      <td>103819</td>\n",
       "      <td>10550.0</td>\n",
       "    </tr>\n",
       "    <tr>\n",
       "      <th>1</th>\n",
       "      <td>20100104</td>\n",
       "      <td>2</td>\n",
       "      <td>104745</td>\n",
       "      <td>9205.0</td>\n",
       "    </tr>\n",
       "    <tr>\n",
       "      <th>2</th>\n",
       "      <td>20100104</td>\n",
       "      <td>3</td>\n",
       "      <td>104925</td>\n",
       "      <td>8310.0</td>\n",
       "    </tr>\n",
       "    <tr>\n",
       "      <th>3</th>\n",
       "      <td>20100104</td>\n",
       "      <td>4</td>\n",
       "      <td>104918</td>\n",
       "      <td>7030.0</td>\n",
       "    </tr>\n",
       "    <tr>\n",
       "      <th>4</th>\n",
       "      <td>20100104</td>\n",
       "      <td>5</td>\n",
       "      <td>105223</td>\n",
       "      <td>6785.0</td>\n",
       "    </tr>\n",
       "  </tbody>\n",
       "</table>\n",
       "</div>"
      ],
      "text/plain": [
       "   ranking_date  rank  player   points\n",
       "0      20100104     1  103819  10550.0\n",
       "1      20100104     2  104745   9205.0\n",
       "2      20100104     3  104925   8310.0\n",
       "3      20100104     4  104918   7030.0\n",
       "4      20100104     5  105223   6785.0"
      ]
     },
     "execution_count": 5,
     "metadata": {},
     "output_type": "execute_result"
    }
   ],
   "source": [
    "ranking.head()"
   ]
  },
  {
   "cell_type": "code",
   "execution_count": 6,
   "id": "c457aa80",
   "metadata": {},
   "outputs": [
    {
     "name": "stdout",
     "output_type": "stream",
     "text": [
      "(188161, 30)\n",
      "(188161, 30)\n"
     ]
    }
   ],
   "source": [
    "#Rearrange matches data to have wins and losses partition\n",
    "win_matches = matches.iloc[:,np.r_[0:15,23:36,45:47]]\n",
    "lose_matches = matches.iloc[:,np.r_[0:7,15:27,36:45,47:49]]\n",
    "\n",
    "print(win_matches.shape)\n",
    "print(lose_matches.shape)"
   ]
  },
  {
   "cell_type": "code",
   "execution_count": 7,
   "id": "5034bf98",
   "metadata": {},
   "outputs": [],
   "source": [
    "win_matches = win_matches.rename(\n",
    "    columns={\n",
    "        'winner_id':'player_id',\n",
    "        'winner_seed':'player_seed',\n",
    "        'winner_entry':'player_entry',\n",
    "        'winner_name':'player_name',\n",
    "        'winner_hand':'player_hand',\n",
    "        'winner_ht':'player_ht',\n",
    "        'winner_ioc':'player_ioc',\n",
    "        'winner_age':'player_age',\n",
    "        'w_ace':'num_aces',\n",
    "        'w_df':'num_dfs',\n",
    "        'w_svpt':'num_svpts',\n",
    "        'w_1stIn':'serve1_in_perc',\n",
    "        'w_1stWon':'serve1_win_perc',\n",
    "        'w_2ndWon':'serve2_win_perc',\n",
    "        'w_SvGms':'num_games_served',\n",
    "        'w_bpSaved':'num_brkpts_saved',\n",
    "        'w_bpFaced':'num_brkpts_faced',\n",
    "        'winner_rank':'rank',\n",
    "        'winner_rank_points':'rank_points'\n",
    "    }\n",
    ")\n",
    "\n",
    "win_matches['outcome'] = 1"
   ]
  },
  {
   "cell_type": "code",
   "execution_count": 8,
   "id": "e82ebcbb",
   "metadata": {},
   "outputs": [],
   "source": [
    "lose_matches = lose_matches.rename(\n",
    "    columns={\n",
    "        'loser_id':'player_id',\n",
    "        'loser_seed':'player_seed',\n",
    "        'loser_entry':'player_entry',\n",
    "        'loser_name':'player_name',\n",
    "        'loser_hand':'player_hand',\n",
    "        'loser_ht':'player_ht',\n",
    "        'loser_ioc':'player_ioc',\n",
    "        'loser_age':'player_age',\n",
    "        'l_ace':'num_aces',\n",
    "        'l_df':'num_dfs',\n",
    "        'l_svpt':'num_svpts',\n",
    "        'l_1stIn':'serve1_in_perc',\n",
    "        'l_1stWon':'serve1_win_perc',\n",
    "        'l_2ndWon':'serve2_win_perc',\n",
    "        'l_SvGms':'num_games_served',\n",
    "        'l_bpSaved':'num_brkpts_saved',\n",
    "        'l_bpFaced':'num_brkpts_faced',\n",
    "        'loser_rank':'rank',\n",
    "        'loser_rank_points':'rank_points'\n",
    "    }\n",
    ")\n",
    "\n",
    "lose_matches['outcome'] = 0"
   ]
  },
  {
   "cell_type": "code",
   "execution_count": 9,
   "id": "9e25c6d0",
   "metadata": {},
   "outputs": [
    {
     "data": {
      "text/plain": [
       "(376322, 31)"
      ]
     },
     "execution_count": 9,
     "metadata": {},
     "output_type": "execute_result"
    }
   ],
   "source": [
    "#Stack wins and losses data\n",
    "matches = pd.concat([win_matches, lose_matches], ignore_index=True, axis=0)\n",
    "matches.shape"
   ]
  },
  {
   "cell_type": "code",
   "execution_count": 10,
   "id": "5a28e153",
   "metadata": {
    "scrolled": true
   },
   "outputs": [
    {
     "data": {
      "text/html": [
       "<div>\n",
       "<style scoped>\n",
       "    .dataframe tbody tr th:only-of-type {\n",
       "        vertical-align: middle;\n",
       "    }\n",
       "\n",
       "    .dataframe tbody tr th {\n",
       "        vertical-align: top;\n",
       "    }\n",
       "\n",
       "    .dataframe thead th {\n",
       "        text-align: right;\n",
       "    }\n",
       "</style>\n",
       "<table border=\"1\" class=\"dataframe\">\n",
       "  <thead>\n",
       "    <tr style=\"text-align: right;\">\n",
       "      <th></th>\n",
       "      <th>tourney_id</th>\n",
       "      <th>tourney_name</th>\n",
       "      <th>surface</th>\n",
       "      <th>draw_size</th>\n",
       "      <th>tourney_level</th>\n",
       "      <th>tourney_date</th>\n",
       "      <th>match_num</th>\n",
       "      <th>player_id</th>\n",
       "      <th>player_seed</th>\n",
       "      <th>player_entry</th>\n",
       "      <th>...</th>\n",
       "      <th>serve1_in_perc</th>\n",
       "      <th>serve1_win_perc</th>\n",
       "      <th>serve2_win_perc</th>\n",
       "      <th>num_games_served</th>\n",
       "      <th>num_brkpts_saved</th>\n",
       "      <th>num_brkpts_faced</th>\n",
       "      <th>rank</th>\n",
       "      <th>rank_points</th>\n",
       "      <th>outcome</th>\n",
       "      <th>year</th>\n",
       "    </tr>\n",
       "  </thead>\n",
       "  <tbody>\n",
       "    <tr>\n",
       "      <th>0</th>\n",
       "      <td>1968-2029</td>\n",
       "      <td>Dublin</td>\n",
       "      <td>Grass</td>\n",
       "      <td>32</td>\n",
       "      <td>A</td>\n",
       "      <td>19680708</td>\n",
       "      <td>270</td>\n",
       "      <td>112411</td>\n",
       "      <td>NaN</td>\n",
       "      <td>NaN</td>\n",
       "      <td>...</td>\n",
       "      <td>NaN</td>\n",
       "      <td>NaN</td>\n",
       "      <td>NaN</td>\n",
       "      <td>NaN</td>\n",
       "      <td>NaN</td>\n",
       "      <td>NaN</td>\n",
       "      <td>NaN</td>\n",
       "      <td>NaN</td>\n",
       "      <td>1</td>\n",
       "      <td>1968</td>\n",
       "    </tr>\n",
       "    <tr>\n",
       "      <th>1</th>\n",
       "      <td>1968-2029</td>\n",
       "      <td>Dublin</td>\n",
       "      <td>Grass</td>\n",
       "      <td>32</td>\n",
       "      <td>A</td>\n",
       "      <td>19680708</td>\n",
       "      <td>271</td>\n",
       "      <td>126914</td>\n",
       "      <td>NaN</td>\n",
       "      <td>NaN</td>\n",
       "      <td>...</td>\n",
       "      <td>NaN</td>\n",
       "      <td>NaN</td>\n",
       "      <td>NaN</td>\n",
       "      <td>NaN</td>\n",
       "      <td>NaN</td>\n",
       "      <td>NaN</td>\n",
       "      <td>NaN</td>\n",
       "      <td>NaN</td>\n",
       "      <td>1</td>\n",
       "      <td>1968</td>\n",
       "    </tr>\n",
       "    <tr>\n",
       "      <th>2</th>\n",
       "      <td>1968-2029</td>\n",
       "      <td>Dublin</td>\n",
       "      <td>Grass</td>\n",
       "      <td>32</td>\n",
       "      <td>A</td>\n",
       "      <td>19680708</td>\n",
       "      <td>272</td>\n",
       "      <td>209523</td>\n",
       "      <td>NaN</td>\n",
       "      <td>NaN</td>\n",
       "      <td>...</td>\n",
       "      <td>NaN</td>\n",
       "      <td>NaN</td>\n",
       "      <td>NaN</td>\n",
       "      <td>NaN</td>\n",
       "      <td>NaN</td>\n",
       "      <td>NaN</td>\n",
       "      <td>NaN</td>\n",
       "      <td>NaN</td>\n",
       "      <td>1</td>\n",
       "      <td>1968</td>\n",
       "    </tr>\n",
       "    <tr>\n",
       "      <th>3</th>\n",
       "      <td>1968-2029</td>\n",
       "      <td>Dublin</td>\n",
       "      <td>Grass</td>\n",
       "      <td>32</td>\n",
       "      <td>A</td>\n",
       "      <td>19680708</td>\n",
       "      <td>273</td>\n",
       "      <td>100084</td>\n",
       "      <td>NaN</td>\n",
       "      <td>NaN</td>\n",
       "      <td>...</td>\n",
       "      <td>NaN</td>\n",
       "      <td>NaN</td>\n",
       "      <td>NaN</td>\n",
       "      <td>NaN</td>\n",
       "      <td>NaN</td>\n",
       "      <td>NaN</td>\n",
       "      <td>NaN</td>\n",
       "      <td>NaN</td>\n",
       "      <td>1</td>\n",
       "      <td>1968</td>\n",
       "    </tr>\n",
       "    <tr>\n",
       "      <th>4</th>\n",
       "      <td>1968-2029</td>\n",
       "      <td>Dublin</td>\n",
       "      <td>Grass</td>\n",
       "      <td>32</td>\n",
       "      <td>A</td>\n",
       "      <td>19680708</td>\n",
       "      <td>274</td>\n",
       "      <td>100132</td>\n",
       "      <td>NaN</td>\n",
       "      <td>NaN</td>\n",
       "      <td>...</td>\n",
       "      <td>NaN</td>\n",
       "      <td>NaN</td>\n",
       "      <td>NaN</td>\n",
       "      <td>NaN</td>\n",
       "      <td>NaN</td>\n",
       "      <td>NaN</td>\n",
       "      <td>NaN</td>\n",
       "      <td>NaN</td>\n",
       "      <td>1</td>\n",
       "      <td>1968</td>\n",
       "    </tr>\n",
       "  </tbody>\n",
       "</table>\n",
       "<p>5 rows × 32 columns</p>\n",
       "</div>"
      ],
      "text/plain": [
       "  tourney_id tourney_name surface  draw_size tourney_level  tourney_date  \\\n",
       "0  1968-2029       Dublin   Grass         32             A      19680708   \n",
       "1  1968-2029       Dublin   Grass         32             A      19680708   \n",
       "2  1968-2029       Dublin   Grass         32             A      19680708   \n",
       "3  1968-2029       Dublin   Grass         32             A      19680708   \n",
       "4  1968-2029       Dublin   Grass         32             A      19680708   \n",
       "\n",
       "   match_num  player_id  player_seed player_entry  ... serve1_in_perc  \\\n",
       "0        270     112411          NaN          NaN  ...            NaN   \n",
       "1        271     126914          NaN          NaN  ...            NaN   \n",
       "2        272     209523          NaN          NaN  ...            NaN   \n",
       "3        273     100084          NaN          NaN  ...            NaN   \n",
       "4        274     100132          NaN          NaN  ...            NaN   \n",
       "\n",
       "  serve1_win_perc  serve2_win_perc num_games_served  num_brkpts_saved  \\\n",
       "0             NaN              NaN              NaN               NaN   \n",
       "1             NaN              NaN              NaN               NaN   \n",
       "2             NaN              NaN              NaN               NaN   \n",
       "3             NaN              NaN              NaN               NaN   \n",
       "4             NaN              NaN              NaN               NaN   \n",
       "\n",
       "  num_brkpts_faced  rank rank_points  outcome  year  \n",
       "0              NaN   NaN         NaN        1  1968  \n",
       "1              NaN   NaN         NaN        1  1968  \n",
       "2              NaN   NaN         NaN        1  1968  \n",
       "3              NaN   NaN         NaN        1  1968  \n",
       "4              NaN   NaN         NaN        1  1968  \n",
       "\n",
       "[5 rows x 32 columns]"
      ]
     },
     "execution_count": 10,
     "metadata": {},
     "output_type": "execute_result"
    }
   ],
   "source": [
    "matches['year'] = matches['tourney_id'].str[0:4].astype(int)\n",
    "matches.head()"
   ]
  },
  {
   "cell_type": "markdown",
   "id": "5f8d7674",
   "metadata": {},
   "source": [
    "#### Which players had most weeks ranked as #1?"
   ]
  },
  {
   "cell_type": "code",
   "execution_count": 11,
   "id": "d3ec1906",
   "metadata": {},
   "outputs": [
    {
     "data": {
      "text/html": [
       "<div>\n",
       "<style scoped>\n",
       "    .dataframe tbody tr th:only-of-type {\n",
       "        vertical-align: middle;\n",
       "    }\n",
       "\n",
       "    .dataframe tbody tr th {\n",
       "        vertical-align: top;\n",
       "    }\n",
       "\n",
       "    .dataframe thead th {\n",
       "        text-align: right;\n",
       "    }\n",
       "</style>\n",
       "<table border=\"1\" class=\"dataframe\">\n",
       "  <thead>\n",
       "    <tr style=\"text-align: right;\">\n",
       "      <th></th>\n",
       "      <th>ranking_date</th>\n",
       "      <th>rank</th>\n",
       "      <th>player_id</th>\n",
       "      <th>points</th>\n",
       "      <th>year</th>\n",
       "    </tr>\n",
       "  </thead>\n",
       "  <tbody>\n",
       "    <tr>\n",
       "      <th>0</th>\n",
       "      <td>2010-01-04</td>\n",
       "      <td>1</td>\n",
       "      <td>103819</td>\n",
       "      <td>10550.0</td>\n",
       "      <td>2010</td>\n",
       "    </tr>\n",
       "    <tr>\n",
       "      <th>1812</th>\n",
       "      <td>2010-01-11</td>\n",
       "      <td>1</td>\n",
       "      <td>103819</td>\n",
       "      <td>10550.0</td>\n",
       "      <td>2010</td>\n",
       "    </tr>\n",
       "    <tr>\n",
       "      <th>3626</th>\n",
       "      <td>2010-01-18</td>\n",
       "      <td>1</td>\n",
       "      <td>103819</td>\n",
       "      <td>10550.0</td>\n",
       "      <td>2010</td>\n",
       "    </tr>\n",
       "    <tr>\n",
       "      <th>5439</th>\n",
       "      <td>2010-01-25</td>\n",
       "      <td>1</td>\n",
       "      <td>103819</td>\n",
       "      <td>10550.0</td>\n",
       "      <td>2010</td>\n",
       "    </tr>\n",
       "    <tr>\n",
       "      <th>7252</th>\n",
       "      <td>2010-02-01</td>\n",
       "      <td>1</td>\n",
       "      <td>103819</td>\n",
       "      <td>11350.0</td>\n",
       "      <td>2010</td>\n",
       "    </tr>\n",
       "  </tbody>\n",
       "</table>\n",
       "</div>"
      ],
      "text/plain": [
       "     ranking_date  rank  player_id   points  year\n",
       "0      2010-01-04     1     103819  10550.0  2010\n",
       "1812   2010-01-11     1     103819  10550.0  2010\n",
       "3626   2010-01-18     1     103819  10550.0  2010\n",
       "5439   2010-01-25     1     103819  10550.0  2010\n",
       "7252   2010-02-01     1     103819  11350.0  2010"
      ]
     },
     "execution_count": 11,
     "metadata": {},
     "output_type": "execute_result"
    }
   ],
   "source": [
    "ranking['year'] = ranking['ranking_date'].astype(str).str[:4]\n",
    "ranking['ranking_date'] = pd.to_datetime(ranking['ranking_date'].astype(str), format='%Y%m%d')\n",
    "ranking = ranking.rename(columns={'player':'player_id'})\n",
    "ranking1 = ranking[ranking['rank']==1]\n",
    "ranking1.head()"
   ]
  },
  {
   "cell_type": "code",
   "execution_count": 12,
   "id": "576496e0",
   "metadata": {},
   "outputs": [
    {
     "data": {
      "text/html": [
       "<div>\n",
       "<style scoped>\n",
       "    .dataframe tbody tr th:only-of-type {\n",
       "        vertical-align: middle;\n",
       "    }\n",
       "\n",
       "    .dataframe tbody tr th {\n",
       "        vertical-align: top;\n",
       "    }\n",
       "\n",
       "    .dataframe thead th {\n",
       "        text-align: right;\n",
       "    }\n",
       "</style>\n",
       "<table border=\"1\" class=\"dataframe\">\n",
       "  <thead>\n",
       "    <tr style=\"text-align: right;\">\n",
       "      <th></th>\n",
       "      <th>player_id</th>\n",
       "      <th>count</th>\n",
       "    </tr>\n",
       "  </thead>\n",
       "  <tbody>\n",
       "    <tr>\n",
       "      <th>25</th>\n",
       "      <td>104925</td>\n",
       "      <td>332</td>\n",
       "    </tr>\n",
       "    <tr>\n",
       "      <th>21</th>\n",
       "      <td>103819</td>\n",
       "      <td>307</td>\n",
       "    </tr>\n",
       "    <tr>\n",
       "      <th>12</th>\n",
       "      <td>101948</td>\n",
       "      <td>285</td>\n",
       "    </tr>\n",
       "    <tr>\n",
       "      <th>5</th>\n",
       "      <td>100656</td>\n",
       "      <td>228</td>\n",
       "    </tr>\n",
       "    <tr>\n",
       "      <th>23</th>\n",
       "      <td>104745</td>\n",
       "      <td>193</td>\n",
       "    </tr>\n",
       "  </tbody>\n",
       "</table>\n",
       "</div>"
      ],
      "text/plain": [
       "    player_id  count\n",
       "25     104925    332\n",
       "21     103819    307\n",
       "12     101948    285\n",
       "5      100656    228\n",
       "23     104745    193"
      ]
     },
     "execution_count": 12,
     "metadata": {},
     "output_type": "execute_result"
    }
   ],
   "source": [
    "weeks_at_1 = pd.DataFrame(ranking1.groupby('player_id')['rank'].sum()).reset_index()\n",
    "weeks_at_1 = weeks_at_1.rename(columns={'rank': 'count'})\n",
    "weeks_at_1 = weeks_at_1.sort_values(by = 'count', ascending=False)\n",
    "weeks_at_1.head(5)"
   ]
  },
  {
   "cell_type": "code",
   "execution_count": 13,
   "id": "64667004",
   "metadata": {},
   "outputs": [],
   "source": [
    "plyrs = players[['player_id','name_first','name_last','hand','ioc','dob','height']]"
   ]
  },
  {
   "cell_type": "code",
   "execution_count": 14,
   "id": "6d68d405",
   "metadata": {},
   "outputs": [
    {
     "data": {
      "text/html": [
       "<div>\n",
       "<style scoped>\n",
       "    .dataframe tbody tr th:only-of-type {\n",
       "        vertical-align: middle;\n",
       "    }\n",
       "\n",
       "    .dataframe tbody tr th {\n",
       "        vertical-align: top;\n",
       "    }\n",
       "\n",
       "    .dataframe thead th {\n",
       "        text-align: right;\n",
       "    }\n",
       "</style>\n",
       "<table border=\"1\" class=\"dataframe\">\n",
       "  <thead>\n",
       "    <tr style=\"text-align: right;\">\n",
       "      <th></th>\n",
       "      <th>player_id</th>\n",
       "      <th>count</th>\n",
       "      <th>name_first</th>\n",
       "      <th>name_last</th>\n",
       "      <th>hand</th>\n",
       "      <th>ioc</th>\n",
       "      <th>dob</th>\n",
       "      <th>height</th>\n",
       "    </tr>\n",
       "  </thead>\n",
       "  <tbody>\n",
       "    <tr>\n",
       "      <th>0</th>\n",
       "      <td>104925</td>\n",
       "      <td>332</td>\n",
       "      <td>Novak</td>\n",
       "      <td>Djokovic</td>\n",
       "      <td>R</td>\n",
       "      <td>SRB</td>\n",
       "      <td>19870522.0</td>\n",
       "      <td>188.0</td>\n",
       "    </tr>\n",
       "    <tr>\n",
       "      <th>1</th>\n",
       "      <td>103819</td>\n",
       "      <td>307</td>\n",
       "      <td>Roger</td>\n",
       "      <td>Federer</td>\n",
       "      <td>R</td>\n",
       "      <td>SUI</td>\n",
       "      <td>19810808.0</td>\n",
       "      <td>185.0</td>\n",
       "    </tr>\n",
       "    <tr>\n",
       "      <th>2</th>\n",
       "      <td>101948</td>\n",
       "      <td>285</td>\n",
       "      <td>Pete</td>\n",
       "      <td>Sampras</td>\n",
       "      <td>R</td>\n",
       "      <td>USA</td>\n",
       "      <td>19710812.0</td>\n",
       "      <td>185.0</td>\n",
       "    </tr>\n",
       "    <tr>\n",
       "      <th>3</th>\n",
       "      <td>100656</td>\n",
       "      <td>228</td>\n",
       "      <td>Ivan</td>\n",
       "      <td>Lendl</td>\n",
       "      <td>R</td>\n",
       "      <td>USA</td>\n",
       "      <td>19600307.0</td>\n",
       "      <td>188.0</td>\n",
       "    </tr>\n",
       "    <tr>\n",
       "      <th>4</th>\n",
       "      <td>104745</td>\n",
       "      <td>193</td>\n",
       "      <td>Rafael</td>\n",
       "      <td>Nadal</td>\n",
       "      <td>L</td>\n",
       "      <td>ESP</td>\n",
       "      <td>19860603.0</td>\n",
       "      <td>185.0</td>\n",
       "    </tr>\n",
       "    <tr>\n",
       "      <th>5</th>\n",
       "      <td>100581</td>\n",
       "      <td>136</td>\n",
       "      <td>John</td>\n",
       "      <td>McEnroe</td>\n",
       "      <td>L</td>\n",
       "      <td>USA</td>\n",
       "      <td>19590216.0</td>\n",
       "      <td>180.0</td>\n",
       "    </tr>\n",
       "    <tr>\n",
       "      <th>6</th>\n",
       "      <td>100284</td>\n",
       "      <td>104</td>\n",
       "      <td>Jimmy</td>\n",
       "      <td>Connors</td>\n",
       "      <td>L</td>\n",
       "      <td>USA</td>\n",
       "      <td>19520902.0</td>\n",
       "      <td>178.0</td>\n",
       "    </tr>\n",
       "    <tr>\n",
       "      <th>7</th>\n",
       "      <td>101736</td>\n",
       "      <td>100</td>\n",
       "      <td>Andre</td>\n",
       "      <td>Agassi</td>\n",
       "      <td>R</td>\n",
       "      <td>USA</td>\n",
       "      <td>19700429.0</td>\n",
       "      <td>180.0</td>\n",
       "    </tr>\n",
       "    <tr>\n",
       "      <th>8</th>\n",
       "      <td>100437</td>\n",
       "      <td>94</td>\n",
       "      <td>Bjorn</td>\n",
       "      <td>Borg</td>\n",
       "      <td>R</td>\n",
       "      <td>SWE</td>\n",
       "      <td>19560606.0</td>\n",
       "      <td>180.0</td>\n",
       "    </tr>\n",
       "    <tr>\n",
       "      <th>9</th>\n",
       "      <td>103720</td>\n",
       "      <td>80</td>\n",
       "      <td>Lleyton</td>\n",
       "      <td>Hewitt</td>\n",
       "      <td>R</td>\n",
       "      <td>AUS</td>\n",
       "      <td>19810224.0</td>\n",
       "      <td>180.0</td>\n",
       "    </tr>\n",
       "  </tbody>\n",
       "</table>\n",
       "</div>"
      ],
      "text/plain": [
       "   player_id  count name_first name_last hand  ioc         dob  height\n",
       "0     104925    332      Novak  Djokovic    R  SRB  19870522.0   188.0\n",
       "1     103819    307      Roger   Federer    R  SUI  19810808.0   185.0\n",
       "2     101948    285       Pete   Sampras    R  USA  19710812.0   185.0\n",
       "3     100656    228       Ivan     Lendl    R  USA  19600307.0   188.0\n",
       "4     104745    193     Rafael     Nadal    L  ESP  19860603.0   185.0\n",
       "5     100581    136       John   McEnroe    L  USA  19590216.0   180.0\n",
       "6     100284    104      Jimmy   Connors    L  USA  19520902.0   178.0\n",
       "7     101736    100      Andre    Agassi    R  USA  19700429.0   180.0\n",
       "8     100437     94      Bjorn      Borg    R  SWE  19560606.0   180.0\n",
       "9     103720     80    Lleyton    Hewitt    R  AUS  19810224.0   180.0"
      ]
     },
     "execution_count": 14,
     "metadata": {},
     "output_type": "execute_result"
    }
   ],
   "source": [
    "weeks_at_1_with_names = pd.merge(weeks_at_1, plyrs, on='player_id', how='inner')\n",
    "weeks_at_1_with_names.head(10)"
   ]
  },
  {
   "cell_type": "markdown",
   "id": "b21d02d9",
   "metadata": {},
   "source": [
    "#### Longest tenures ranked as #1 (Right vs. Left Handed)"
   ]
  },
  {
   "cell_type": "code",
   "execution_count": 15,
   "id": "a8eba9b6",
   "metadata": {},
   "outputs": [],
   "source": [
    "right = weeks_at_1_with_names[weeks_at_1_with_names['hand']==\"R\"]\n",
    "left = weeks_at_1_with_names[weeks_at_1_with_names['hand']==\"L\"]"
   ]
  },
  {
   "cell_type": "code",
   "execution_count": 16,
   "id": "8eefafcf",
   "metadata": {},
   "outputs": [
    {
     "data": {
      "text/html": [
       "<div>\n",
       "<style scoped>\n",
       "    .dataframe tbody tr th:only-of-type {\n",
       "        vertical-align: middle;\n",
       "    }\n",
       "\n",
       "    .dataframe tbody tr th {\n",
       "        vertical-align: top;\n",
       "    }\n",
       "\n",
       "    .dataframe thead th {\n",
       "        text-align: right;\n",
       "    }\n",
       "</style>\n",
       "<table border=\"1\" class=\"dataframe\">\n",
       "  <thead>\n",
       "    <tr style=\"text-align: right;\">\n",
       "      <th></th>\n",
       "      <th>player_id</th>\n",
       "      <th>count</th>\n",
       "      <th>name_first</th>\n",
       "      <th>name_last</th>\n",
       "      <th>hand</th>\n",
       "      <th>ioc</th>\n",
       "      <th>dob</th>\n",
       "      <th>height</th>\n",
       "    </tr>\n",
       "  </thead>\n",
       "  <tbody>\n",
       "    <tr>\n",
       "      <th>0</th>\n",
       "      <td>104925</td>\n",
       "      <td>332</td>\n",
       "      <td>Novak</td>\n",
       "      <td>Djokovic</td>\n",
       "      <td>R</td>\n",
       "      <td>SRB</td>\n",
       "      <td>19870522.0</td>\n",
       "      <td>188.0</td>\n",
       "    </tr>\n",
       "    <tr>\n",
       "      <th>1</th>\n",
       "      <td>103819</td>\n",
       "      <td>307</td>\n",
       "      <td>Roger</td>\n",
       "      <td>Federer</td>\n",
       "      <td>R</td>\n",
       "      <td>SUI</td>\n",
       "      <td>19810808.0</td>\n",
       "      <td>185.0</td>\n",
       "    </tr>\n",
       "    <tr>\n",
       "      <th>2</th>\n",
       "      <td>101948</td>\n",
       "      <td>285</td>\n",
       "      <td>Pete</td>\n",
       "      <td>Sampras</td>\n",
       "      <td>R</td>\n",
       "      <td>USA</td>\n",
       "      <td>19710812.0</td>\n",
       "      <td>185.0</td>\n",
       "    </tr>\n",
       "    <tr>\n",
       "      <th>3</th>\n",
       "      <td>100656</td>\n",
       "      <td>228</td>\n",
       "      <td>Ivan</td>\n",
       "      <td>Lendl</td>\n",
       "      <td>R</td>\n",
       "      <td>USA</td>\n",
       "      <td>19600307.0</td>\n",
       "      <td>188.0</td>\n",
       "    </tr>\n",
       "    <tr>\n",
       "      <th>7</th>\n",
       "      <td>101736</td>\n",
       "      <td>100</td>\n",
       "      <td>Andre</td>\n",
       "      <td>Agassi</td>\n",
       "      <td>R</td>\n",
       "      <td>USA</td>\n",
       "      <td>19700429.0</td>\n",
       "      <td>180.0</td>\n",
       "    </tr>\n",
       "  </tbody>\n",
       "</table>\n",
       "</div>"
      ],
      "text/plain": [
       "   player_id  count name_first name_last hand  ioc         dob  height\n",
       "0     104925    332      Novak  Djokovic    R  SRB  19870522.0   188.0\n",
       "1     103819    307      Roger   Federer    R  SUI  19810808.0   185.0\n",
       "2     101948    285       Pete   Sampras    R  USA  19710812.0   185.0\n",
       "3     100656    228       Ivan     Lendl    R  USA  19600307.0   188.0\n",
       "7     101736    100      Andre    Agassi    R  USA  19700429.0   180.0"
      ]
     },
     "execution_count": 16,
     "metadata": {},
     "output_type": "execute_result"
    }
   ],
   "source": [
    "right.head(5)"
   ]
  },
  {
   "cell_type": "code",
   "execution_count": 17,
   "id": "fd2971dc",
   "metadata": {},
   "outputs": [
    {
     "data": {
      "text/html": [
       "<div>\n",
       "<style scoped>\n",
       "    .dataframe tbody tr th:only-of-type {\n",
       "        vertical-align: middle;\n",
       "    }\n",
       "\n",
       "    .dataframe tbody tr th {\n",
       "        vertical-align: top;\n",
       "    }\n",
       "\n",
       "    .dataframe thead th {\n",
       "        text-align: right;\n",
       "    }\n",
       "</style>\n",
       "<table border=\"1\" class=\"dataframe\">\n",
       "  <thead>\n",
       "    <tr style=\"text-align: right;\">\n",
       "      <th></th>\n",
       "      <th>player_id</th>\n",
       "      <th>count</th>\n",
       "      <th>name_first</th>\n",
       "      <th>name_last</th>\n",
       "      <th>hand</th>\n",
       "      <th>ioc</th>\n",
       "      <th>dob</th>\n",
       "      <th>height</th>\n",
       "    </tr>\n",
       "  </thead>\n",
       "  <tbody>\n",
       "    <tr>\n",
       "      <th>4</th>\n",
       "      <td>104745</td>\n",
       "      <td>193</td>\n",
       "      <td>Rafael</td>\n",
       "      <td>Nadal</td>\n",
       "      <td>L</td>\n",
       "      <td>ESP</td>\n",
       "      <td>19860603.0</td>\n",
       "      <td>185.0</td>\n",
       "    </tr>\n",
       "    <tr>\n",
       "      <th>5</th>\n",
       "      <td>100581</td>\n",
       "      <td>136</td>\n",
       "      <td>John</td>\n",
       "      <td>McEnroe</td>\n",
       "      <td>L</td>\n",
       "      <td>USA</td>\n",
       "      <td>19590216.0</td>\n",
       "      <td>180.0</td>\n",
       "    </tr>\n",
       "    <tr>\n",
       "      <th>6</th>\n",
       "      <td>100284</td>\n",
       "      <td>104</td>\n",
       "      <td>Jimmy</td>\n",
       "      <td>Connors</td>\n",
       "      <td>L</td>\n",
       "      <td>USA</td>\n",
       "      <td>19520902.0</td>\n",
       "      <td>178.0</td>\n",
       "    </tr>\n",
       "    <tr>\n",
       "      <th>23</th>\n",
       "      <td>102701</td>\n",
       "      <td>6</td>\n",
       "      <td>Marcelo</td>\n",
       "      <td>Rios</td>\n",
       "      <td>L</td>\n",
       "      <td>CHI</td>\n",
       "      <td>19751226.0</td>\n",
       "      <td>175.0</td>\n",
       "    </tr>\n",
       "    <tr>\n",
       "      <th>24</th>\n",
       "      <td>101404</td>\n",
       "      <td>6</td>\n",
       "      <td>Thomas</td>\n",
       "      <td>Muster</td>\n",
       "      <td>L</td>\n",
       "      <td>AUT</td>\n",
       "      <td>19671002.0</td>\n",
       "      <td>180.0</td>\n",
       "    </tr>\n",
       "  </tbody>\n",
       "</table>\n",
       "</div>"
      ],
      "text/plain": [
       "    player_id  count name_first name_last hand  ioc         dob  height\n",
       "4      104745    193     Rafael     Nadal    L  ESP  19860603.0   185.0\n",
       "5      100581    136       John   McEnroe    L  USA  19590216.0   180.0\n",
       "6      100284    104      Jimmy   Connors    L  USA  19520902.0   178.0\n",
       "23     102701      6    Marcelo      Rios    L  CHI  19751226.0   175.0\n",
       "24     101404      6     Thomas    Muster    L  AUT  19671002.0   180.0"
      ]
     },
     "execution_count": 17,
     "metadata": {},
     "output_type": "execute_result"
    }
   ],
   "source": [
    "left.head(5)"
   ]
  },
  {
   "cell_type": "markdown",
   "id": "de3aca62",
   "metadata": {},
   "source": [
    "### Longest tenures ranked as #1 by country"
   ]
  },
  {
   "cell_type": "code",
   "execution_count": 18,
   "id": "db09951d",
   "metadata": {},
   "outputs": [
    {
     "data": {
      "text/html": [
       "<div>\n",
       "<style scoped>\n",
       "    .dataframe tbody tr th:only-of-type {\n",
       "        vertical-align: middle;\n",
       "    }\n",
       "\n",
       "    .dataframe tbody tr th {\n",
       "        vertical-align: top;\n",
       "    }\n",
       "\n",
       "    .dataframe thead th {\n",
       "        text-align: right;\n",
       "    }\n",
       "</style>\n",
       "<table border=\"1\" class=\"dataframe\">\n",
       "  <thead>\n",
       "    <tr style=\"text-align: right;\">\n",
       "      <th></th>\n",
       "      <th>player_id</th>\n",
       "      <th>count</th>\n",
       "      <th>name_first</th>\n",
       "      <th>name_last</th>\n",
       "      <th>hand</th>\n",
       "      <th>ioc</th>\n",
       "      <th>dob</th>\n",
       "      <th>height</th>\n",
       "    </tr>\n",
       "  </thead>\n",
       "  <tbody>\n",
       "    <tr>\n",
       "      <th>2</th>\n",
       "      <td>101948</td>\n",
       "      <td>285</td>\n",
       "      <td>Pete</td>\n",
       "      <td>Sampras</td>\n",
       "      <td>R</td>\n",
       "      <td>USA</td>\n",
       "      <td>19710812.0</td>\n",
       "      <td>185.0</td>\n",
       "    </tr>\n",
       "    <tr>\n",
       "      <th>3</th>\n",
       "      <td>100656</td>\n",
       "      <td>228</td>\n",
       "      <td>Ivan</td>\n",
       "      <td>Lendl</td>\n",
       "      <td>R</td>\n",
       "      <td>USA</td>\n",
       "      <td>19600307.0</td>\n",
       "      <td>188.0</td>\n",
       "    </tr>\n",
       "    <tr>\n",
       "      <th>5</th>\n",
       "      <td>100581</td>\n",
       "      <td>136</td>\n",
       "      <td>John</td>\n",
       "      <td>McEnroe</td>\n",
       "      <td>L</td>\n",
       "      <td>USA</td>\n",
       "      <td>19590216.0</td>\n",
       "      <td>180.0</td>\n",
       "    </tr>\n",
       "    <tr>\n",
       "      <th>6</th>\n",
       "      <td>100284</td>\n",
       "      <td>104</td>\n",
       "      <td>Jimmy</td>\n",
       "      <td>Connors</td>\n",
       "      <td>L</td>\n",
       "      <td>USA</td>\n",
       "      <td>19520902.0</td>\n",
       "      <td>178.0</td>\n",
       "    </tr>\n",
       "    <tr>\n",
       "      <th>7</th>\n",
       "      <td>101736</td>\n",
       "      <td>100</td>\n",
       "      <td>Andre</td>\n",
       "      <td>Agassi</td>\n",
       "      <td>R</td>\n",
       "      <td>USA</td>\n",
       "      <td>19700429.0</td>\n",
       "      <td>180.0</td>\n",
       "    </tr>\n",
       "  </tbody>\n",
       "</table>\n",
       "</div>"
      ],
      "text/plain": [
       "   player_id  count name_first name_last hand  ioc         dob  height\n",
       "2     101948    285       Pete   Sampras    R  USA  19710812.0   185.0\n",
       "3     100656    228       Ivan     Lendl    R  USA  19600307.0   188.0\n",
       "5     100581    136       John   McEnroe    L  USA  19590216.0   180.0\n",
       "6     100284    104      Jimmy   Connors    L  USA  19520902.0   178.0\n",
       "7     101736    100      Andre    Agassi    R  USA  19700429.0   180.0"
      ]
     },
     "execution_count": 18,
     "metadata": {},
     "output_type": "execute_result"
    }
   ],
   "source": [
    "usa = weeks_at_1_with_names[weeks_at_1_with_names['ioc']==\"USA\"]\n",
    "spain = weeks_at_1_with_names[weeks_at_1_with_names['ioc']==\"ESP\"]\n",
    "\n",
    "usa.head(5)"
   ]
  },
  {
   "cell_type": "code",
   "execution_count": 19,
   "id": "9521c3f8",
   "metadata": {},
   "outputs": [
    {
     "data": {
      "text/html": [
       "<div>\n",
       "<style scoped>\n",
       "    .dataframe tbody tr th:only-of-type {\n",
       "        vertical-align: middle;\n",
       "    }\n",
       "\n",
       "    .dataframe tbody tr th {\n",
       "        vertical-align: top;\n",
       "    }\n",
       "\n",
       "    .dataframe thead th {\n",
       "        text-align: right;\n",
       "    }\n",
       "</style>\n",
       "<table border=\"1\" class=\"dataframe\">\n",
       "  <thead>\n",
       "    <tr style=\"text-align: right;\">\n",
       "      <th></th>\n",
       "      <th>player_id</th>\n",
       "      <th>count</th>\n",
       "      <th>name_first</th>\n",
       "      <th>name_last</th>\n",
       "      <th>hand</th>\n",
       "      <th>ioc</th>\n",
       "      <th>dob</th>\n",
       "      <th>height</th>\n",
       "    </tr>\n",
       "  </thead>\n",
       "  <tbody>\n",
       "    <tr>\n",
       "      <th>4</th>\n",
       "      <td>104745</td>\n",
       "      <td>193</td>\n",
       "      <td>Rafael</td>\n",
       "      <td>Nadal</td>\n",
       "      <td>L</td>\n",
       "      <td>ESP</td>\n",
       "      <td>19860603.0</td>\n",
       "      <td>185.0</td>\n",
       "    </tr>\n",
       "    <tr>\n",
       "      <th>15</th>\n",
       "      <td>207989</td>\n",
       "      <td>16</td>\n",
       "      <td>Carlos</td>\n",
       "      <td>Alcaraz</td>\n",
       "      <td>R</td>\n",
       "      <td>ESP</td>\n",
       "      <td>20030505.0</td>\n",
       "      <td>185.0</td>\n",
       "    </tr>\n",
       "    <tr>\n",
       "      <th>21</th>\n",
       "      <td>103507</td>\n",
       "      <td>8</td>\n",
       "      <td>Juan Carlos</td>\n",
       "      <td>Ferrero</td>\n",
       "      <td>R</td>\n",
       "      <td>ESP</td>\n",
       "      <td>19800212.0</td>\n",
       "      <td>183.0</td>\n",
       "    </tr>\n",
       "    <tr>\n",
       "      <th>25</th>\n",
       "      <td>102845</td>\n",
       "      <td>2</td>\n",
       "      <td>Carlos</td>\n",
       "      <td>Moya</td>\n",
       "      <td>R</td>\n",
       "      <td>ESP</td>\n",
       "      <td>19760827.0</td>\n",
       "      <td>190.0</td>\n",
       "    </tr>\n",
       "  </tbody>\n",
       "</table>\n",
       "</div>"
      ],
      "text/plain": [
       "    player_id  count   name_first name_last hand  ioc         dob  height\n",
       "4      104745    193       Rafael     Nadal    L  ESP  19860603.0   185.0\n",
       "15     207989     16       Carlos   Alcaraz    R  ESP  20030505.0   185.0\n",
       "21     103507      8  Juan Carlos   Ferrero    R  ESP  19800212.0   183.0\n",
       "25     102845      2       Carlos      Moya    R  ESP  19760827.0   190.0"
      ]
     },
     "execution_count": 19,
     "metadata": {},
     "output_type": "execute_result"
    }
   ],
   "source": [
    "spain.head(5)"
   ]
  },
  {
   "cell_type": "markdown",
   "id": "d4f177f0",
   "metadata": {},
   "source": [
    "### Which country had the most players ranked at #1?"
   ]
  },
  {
   "cell_type": "code",
   "execution_count": 20,
   "id": "e4a85fb4",
   "metadata": {
    "scrolled": true
   },
   "outputs": [
    {
     "data": {
      "text/html": [
       "<div>\n",
       "<style scoped>\n",
       "    .dataframe tbody tr th:only-of-type {\n",
       "        vertical-align: middle;\n",
       "    }\n",
       "\n",
       "    .dataframe tbody tr th {\n",
       "        vertical-align: top;\n",
       "    }\n",
       "\n",
       "    .dataframe thead th {\n",
       "        text-align: right;\n",
       "    }\n",
       "</style>\n",
       "<table border=\"1\" class=\"dataframe\">\n",
       "  <thead>\n",
       "    <tr style=\"text-align: right;\">\n",
       "      <th></th>\n",
       "      <th>country</th>\n",
       "      <th>count</th>\n",
       "    </tr>\n",
       "  </thead>\n",
       "  <tbody>\n",
       "    <tr>\n",
       "      <th>12</th>\n",
       "      <td>USA</td>\n",
       "      <td>7</td>\n",
       "    </tr>\n",
       "    <tr>\n",
       "      <th>4</th>\n",
       "      <td>ESP</td>\n",
       "      <td>4</td>\n",
       "    </tr>\n",
       "    <tr>\n",
       "      <th>0</th>\n",
       "      <td>AUS</td>\n",
       "      <td>3</td>\n",
       "    </tr>\n",
       "    <tr>\n",
       "      <th>8</th>\n",
       "      <td>RUS</td>\n",
       "      <td>3</td>\n",
       "    </tr>\n",
       "    <tr>\n",
       "      <th>11</th>\n",
       "      <td>SWE</td>\n",
       "      <td>3</td>\n",
       "    </tr>\n",
       "  </tbody>\n",
       "</table>\n",
       "</div>"
      ],
      "text/plain": [
       "   country  count\n",
       "12     USA      7\n",
       "4      ESP      4\n",
       "0      AUS      3\n",
       "8      RUS      3\n",
       "11     SWE      3"
      ]
     },
     "execution_count": 20,
     "metadata": {},
     "output_type": "execute_result"
    }
   ],
   "source": [
    "country_counts = weeks_at_1_with_names[['ioc','player_id']]\n",
    "country_counts = pd.DataFrame(weeks_at_1_with_names.groupby('ioc')['player_id'].count()).reset_index()\n",
    "\n",
    "country_counts = country_counts.rename(columns={\n",
    "    'ioc': 'country',\n",
    "    'player_id':'count'\n",
    "})\n",
    "country_counts = country_counts.sort_values(by = 'count', ascending=False)\n",
    "country_counts.head()"
   ]
  },
  {
   "cell_type": "markdown",
   "id": "5ddc9d59",
   "metadata": {},
   "source": [
    "### Pull out game data from matches"
   ]
  },
  {
   "cell_type": "code",
   "execution_count": 21,
   "id": "ca14e679",
   "metadata": {},
   "outputs": [],
   "source": [
    "#1.) Break out into wins and losses\n",
    "#2.) Pull out separate game data\n",
    "#3.) Pull datasets back together"
   ]
  },
  {
   "cell_type": "code",
   "execution_count": 22,
   "id": "97bc8728",
   "metadata": {},
   "outputs": [],
   "source": [
    "#Convert walkover results to NAs\n",
    "values_to_replace = ['W/O','Walkover','W/O']\n",
    "matches['score'] = matches['score'].replace(values_to_replace, 0)"
   ]
  },
  {
   "cell_type": "code",
   "execution_count": 23,
   "id": "a5e1eccc",
   "metadata": {
    "scrolled": false
   },
   "outputs": [
    {
     "data": {
      "text/html": [
       "<div>\n",
       "<style scoped>\n",
       "    .dataframe tbody tr th:only-of-type {\n",
       "        vertical-align: middle;\n",
       "    }\n",
       "\n",
       "    .dataframe tbody tr th {\n",
       "        vertical-align: top;\n",
       "    }\n",
       "\n",
       "    .dataframe thead th {\n",
       "        text-align: right;\n",
       "    }\n",
       "</style>\n",
       "<table border=\"1\" class=\"dataframe\">\n",
       "  <thead>\n",
       "    <tr style=\"text-align: right;\">\n",
       "      <th></th>\n",
       "      <th>tourney_id</th>\n",
       "      <th>tourney_name</th>\n",
       "      <th>surface</th>\n",
       "      <th>draw_size</th>\n",
       "      <th>tourney_level</th>\n",
       "      <th>tourney_date</th>\n",
       "      <th>match_num</th>\n",
       "      <th>player_id</th>\n",
       "      <th>player_seed</th>\n",
       "      <th>player_entry</th>\n",
       "      <th>...</th>\n",
       "      <th>rank</th>\n",
       "      <th>rank_points</th>\n",
       "      <th>outcome</th>\n",
       "      <th>year</th>\n",
       "      <th>sets</th>\n",
       "      <th>set1_score</th>\n",
       "      <th>set2_score</th>\n",
       "      <th>set3_score</th>\n",
       "      <th>set4_score</th>\n",
       "      <th>set5_score</th>\n",
       "    </tr>\n",
       "  </thead>\n",
       "  <tbody>\n",
       "    <tr>\n",
       "      <th>0</th>\n",
       "      <td>1968-2029</td>\n",
       "      <td>Dublin</td>\n",
       "      <td>Grass</td>\n",
       "      <td>32</td>\n",
       "      <td>A</td>\n",
       "      <td>19680708</td>\n",
       "      <td>270</td>\n",
       "      <td>112411</td>\n",
       "      <td>NaN</td>\n",
       "      <td>NaN</td>\n",
       "      <td>...</td>\n",
       "      <td>NaN</td>\n",
       "      <td>NaN</td>\n",
       "      <td>1</td>\n",
       "      <td>1968</td>\n",
       "      <td>[6-1, 7-5]</td>\n",
       "      <td>6-1</td>\n",
       "      <td>7-5</td>\n",
       "      <td>NaN</td>\n",
       "      <td>NaN</td>\n",
       "      <td>NaN</td>\n",
       "    </tr>\n",
       "    <tr>\n",
       "      <th>1</th>\n",
       "      <td>1968-2029</td>\n",
       "      <td>Dublin</td>\n",
       "      <td>Grass</td>\n",
       "      <td>32</td>\n",
       "      <td>A</td>\n",
       "      <td>19680708</td>\n",
       "      <td>271</td>\n",
       "      <td>126914</td>\n",
       "      <td>NaN</td>\n",
       "      <td>NaN</td>\n",
       "      <td>...</td>\n",
       "      <td>NaN</td>\n",
       "      <td>NaN</td>\n",
       "      <td>1</td>\n",
       "      <td>1968</td>\n",
       "      <td>[6-1, 6-1]</td>\n",
       "      <td>6-1</td>\n",
       "      <td>6-1</td>\n",
       "      <td>NaN</td>\n",
       "      <td>NaN</td>\n",
       "      <td>NaN</td>\n",
       "    </tr>\n",
       "    <tr>\n",
       "      <th>2</th>\n",
       "      <td>1968-2029</td>\n",
       "      <td>Dublin</td>\n",
       "      <td>Grass</td>\n",
       "      <td>32</td>\n",
       "      <td>A</td>\n",
       "      <td>19680708</td>\n",
       "      <td>272</td>\n",
       "      <td>209523</td>\n",
       "      <td>NaN</td>\n",
       "      <td>NaN</td>\n",
       "      <td>...</td>\n",
       "      <td>NaN</td>\n",
       "      <td>NaN</td>\n",
       "      <td>1</td>\n",
       "      <td>1968</td>\n",
       "      <td>[6-2, 6-2]</td>\n",
       "      <td>6-2</td>\n",
       "      <td>6-2</td>\n",
       "      <td>NaN</td>\n",
       "      <td>NaN</td>\n",
       "      <td>NaN</td>\n",
       "    </tr>\n",
       "  </tbody>\n",
       "</table>\n",
       "<p>3 rows × 38 columns</p>\n",
       "</div>"
      ],
      "text/plain": [
       "  tourney_id tourney_name surface  draw_size tourney_level  tourney_date  \\\n",
       "0  1968-2029       Dublin   Grass         32             A      19680708   \n",
       "1  1968-2029       Dublin   Grass         32             A      19680708   \n",
       "2  1968-2029       Dublin   Grass         32             A      19680708   \n",
       "\n",
       "   match_num  player_id  player_seed player_entry  ... rank rank_points  \\\n",
       "0        270     112411          NaN          NaN  ...  NaN         NaN   \n",
       "1        271     126914          NaN          NaN  ...  NaN         NaN   \n",
       "2        272     209523          NaN          NaN  ...  NaN         NaN   \n",
       "\n",
       "   outcome  year        sets set1_score  set2_score set3_score  set4_score  \\\n",
       "0        1  1968  [6-1, 7-5]        6-1         7-5        NaN         NaN   \n",
       "1        1  1968  [6-1, 6-1]        6-1         6-1        NaN         NaN   \n",
       "2        1  1968  [6-2, 6-2]        6-2         6-2        NaN         NaN   \n",
       "\n",
       "   set5_score  \n",
       "0         NaN  \n",
       "1         NaN  \n",
       "2         NaN  \n",
       "\n",
       "[3 rows x 38 columns]"
      ]
     },
     "execution_count": 23,
     "metadata": {},
     "output_type": "execute_result"
    }
   ],
   "source": [
    "matches[\"sets\"] = matches[\"score\"].str.split(\" \", n = 5, expand = False)\n",
    "matches['set1_score'] = matches['sets'].str[0]\n",
    "matches['set2_score'] = matches['sets'].str[1]\n",
    "matches['set3_score'] = matches['sets'].str[2]\n",
    "matches['set4_score'] = matches['sets'].str[3]\n",
    "matches['set5_score'] = matches['sets'].str[4]\n",
    "\n",
    "matches.head(3)"
   ]
  },
  {
   "cell_type": "markdown",
   "id": "094eaa1e",
   "metadata": {},
   "source": [
    "#### Need to replace a bunch of non-standard score formats"
   ]
  },
  {
   "cell_type": "code",
   "execution_count": 24,
   "id": "61f21750",
   "metadata": {},
   "outputs": [],
   "source": [
    "replace_unknown = ['nan','UNK','DEF','RET','Apr-00','', ' ','?-?','W/O','ABD',\n",
    "                   'Played','and','Def.','NA', 'unfinished','Default', 'abandoned']\n",
    "\n",
    "replace76 = ['7-6(0)', '7-6(1)', '7-6(2)', '7-6(3)', '7-6(4)', '7-6(5)', '7-6(6)' ,'7-6(7)', '7-6(8)','7-6(9)',\n",
    "             '7-6(10)','7-6(11)','7-6(12)','7-6(13)','7-6(14)','7-6(15)','7-6(16)', '7-6(17)',  '7-6(18)','7-6(22)']\n",
    "replace75 = ['7-5(1)','7-5(2)','7-5(3)', '7-5(5)', '7-5(6)', '7-5(7)','7-5(12)','7-5?']\n",
    "\n",
    "\n",
    "replace67 = ['6-7(0)', '6-7(1)','6-7(2)','6-7(3)','6-7(4)','6-7(5)','6-7(6)','6-7(7)','6-7(8)','6-7(9)','6-7(10)',\n",
    "             '6-7(11)','6-7(12)','6-7(13)', '6-7(14)','6-7(15)','6-7(16)','6-7(17)','6-7(18)','[6-7]']\n",
    "\n",
    "replace66 = ['6-6(0)','6-6(1)', '6-6(2)','6-6(4)','6-6(6)','6-6?']\n",
    "replace64 = ['6-4(2)','6-4(3)','6-4(4)','6-4(5)','6-4(8)','6-4?']\n",
    "replace63 = ['6-3(2)','6-3(4)','6-3(5)','6-3(6)','6-3?']\n",
    "replace62 = ['6-2(2)']\n",
    "replace61 = ['6-1(4)','6-1?']\n",
    "replace60 = ['6-0(3)']\n",
    "\n",
    "replace57 = ['5-7(5)']\n",
    "replace43 = ['4-3(1)','4-3(2)','4-3(3)','4-3(4)','4-3(5)','4-3(6)','4-3(7)', '4-3(8)','4-3(9)','4-3(10)']     \n",
    "replace46 = ['4-6?']\n",
    "replace34 = ['3-4(2)','3-4(3)','3-4(4)','3-4(5)','3-4(6)','3-4(7)','3-4(8)']\n",
    "replace36 = ['3-6(4)']\n",
    "\n",
    "\n",
    "\n",
    "replace10 = ['1-0(1)','1-0(2)','1-0(3)','1-0(4)','1-08','[1-0]']\n",
    "replace01 = ['[0-1]']\n",
    "replace310 = ['[3-10]']\n",
    "replace410 = ['[4-10]']\n",
    "replace710 = ['[7-10]']\n",
    "replace101 = ['[10-1]']\n",
    "replace102 = ['[10-2]']\n",
    "replace104 = ['[10-4]']\n",
    "replace105 = ['[10-5]']\n",
    "replace106 = ['[10-6]']\n",
    "replace107 = ['[10-7]']\n",
    "replace108 = ['[10-8]']\n",
    "replace1113 = ['[11-13]']\n",
    "replace119 = ['[11-9]']\n",
    "replace1214 = ['[12-14]']\n",
    "replace1311 = ['[13-11]']\n",
    "replace1312 = ['13-12(3)', '13-12(2)']"
   ]
  },
  {
   "cell_type": "markdown",
   "id": "2e1d6170",
   "metadata": {},
   "source": [
    "#### 1/5: Fix Set 1 Scores"
   ]
  },
  {
   "cell_type": "code",
   "execution_count": 25,
   "id": "95f742ea",
   "metadata": {},
   "outputs": [],
   "source": [
    "matches['set1_score'] = matches['set1_score'].replace(replace_unknown,0)\n",
    "matches['set1_score'] = matches['set1_score'].replace(replace76,'7-6')\n",
    "matches['set1_score'] = matches['set1_score'].replace(replace75,'7-5')\n",
    "matches['set1_score'] = matches['set1_score'].replace(replace67,'6-7')\n",
    "matches['set1_score'] = matches['set1_score'].replace(replace66,'6-6')\n",
    "\n",
    "matches['set1_score'] = matches['set1_score'].replace(replace64,'6-4')\n",
    "matches['set1_score'] = matches['set1_score'].replace(replace63,'6-3')\n",
    "matches['set1_score'] = matches['set1_score'].replace(replace62,'6-2')\n",
    "\n",
    "matches['set1_score'] = matches['set1_score'].replace(replace57,'5-7')\n",
    "\n",
    "matches['set1_score'] = matches['set1_score'].replace(replace34,'3-4')\n",
    "matches['set1_score'] = matches['set1_score'].replace(replace43,'4-3')"
   ]
  },
  {
   "cell_type": "markdown",
   "id": "8b2e9516",
   "metadata": {},
   "source": [
    "#### 2/5: Fix Set 2 Scores"
   ]
  },
  {
   "cell_type": "code",
   "execution_count": 26,
   "id": "2581d1ed",
   "metadata": {},
   "outputs": [],
   "source": [
    "matches['set2_score'] = matches['set2_score'].replace(replace_unknown,0)\n",
    "matches['set2_score'] = matches['set2_score'].replace(replace76,'7-6')\n",
    "matches['set2_score'] = matches['set2_score'].replace(replace75,'7-5')\n",
    "matches['set2_score'] = matches['set2_score'].replace(replace67,'6-7')\n",
    "matches['set2_score'] = matches['set2_score'].replace(replace66,'6-6')\n",
    "\n",
    "matches['set2_score'] = matches['set2_score'].replace(replace64,'6-4')\n",
    "matches['set2_score'] = matches['set2_score'].replace(replace63,'6-3')\n",
    "matches['set2_score'] = matches['set2_score'].replace(replace62,'6-2')\n",
    "matches['set2_score'] = matches['set2_score'].replace(replace61,'6-1')\n",
    "matches['set2_score'] = matches['set2_score'].replace(replace60,'6-0')\n",
    "\n",
    "matches['set2_score'] = matches['set2_score'].replace(replace57,'5-7')\n",
    "matches['set2_score'] = matches['set2_score'].replace(replace43,'4-3')\n",
    "\n",
    "matches['set2_score'] = matches['set2_score'].replace(replace34,'3-4')\n",
    "matches['set2_score'] = matches['set2_score'].replace(replace36,'3-6')"
   ]
  },
  {
   "cell_type": "markdown",
   "id": "0c4548c9",
   "metadata": {},
   "source": [
    "#### 3/5: Fix Set 3 Scores"
   ]
  },
  {
   "cell_type": "code",
   "execution_count": 27,
   "id": "858b01a3",
   "metadata": {},
   "outputs": [],
   "source": [
    "matches['set3_score'] = matches['set3_score'].replace(replace_unknown,0)\n",
    "matches['set3_score'] = matches['set3_score'].replace(replace76,'7-6')\n",
    "matches['set3_score'] = matches['set3_score'].replace(replace75,'7-5')\n",
    "matches['set3_score'] = matches['set3_score'].replace(replace67,'6-7')\n",
    "matches['set3_score'] = matches['set3_score'].replace(replace66,'6-6')\n",
    "\n",
    "matches['set3_score'] = matches['set3_score'].replace(replace64,'6-4')\n",
    "matches['set3_score'] = matches['set3_score'].replace(replace63,'6-3')\n",
    "matches['set3_score'] = matches['set3_score'].replace(replace62,'6-2')\n",
    "matches['set3_score'] = matches['set3_score'].replace(replace61,'6-1')\n",
    "matches['set3_score'] = matches['set3_score'].replace(replace60,'6-0')\n",
    "\n",
    "matches['set3_score'] = matches['set3_score'].replace(replace57,'5-7')\n",
    "matches['set3_score'] = matches['set3_score'].replace(replace46,'4-6')\n",
    "matches['set3_score'] = matches['set3_score'].replace(replace43,'4-3')\n",
    "\n",
    "matches['set3_score'] = matches['set3_score'].replace(replace34,'3-4')\n",
    "matches['set3_score'] = matches['set3_score'].replace(replace36,'3-6')\n",
    "\n",
    "matches['set3_score'] = matches['set3_score'].replace(replace10,'1-0')\n",
    "matches['set3_score'] = matches['set3_score'].replace(replace01,'0-1')\n",
    "matches['set3_score'] = matches['set3_score'].replace(replace310,'3-10')\n",
    "matches['set3_score'] = matches['set3_score'].replace(replace410,'4-10')\n",
    "matches['set3_score'] = matches['set3_score'].replace(replace710,'7-10')\n",
    "matches['set3_score'] = matches['set3_score'].replace(replace101,'10-1')\n",
    "matches['set3_score'] = matches['set3_score'].replace(replace102,'10-2')\n",
    "matches['set3_score'] = matches['set3_score'].replace(replace104,'10-4')\n",
    "matches['set3_score'] = matches['set3_score'].replace(replace105,'10-5')\n",
    "matches['set3_score'] = matches['set3_score'].replace(replace106,'10-6')\n",
    "matches['set3_score'] = matches['set3_score'].replace(replace107,'10-7')\n",
    "matches['set3_score'] = matches['set3_score'].replace(replace108,'10-8')\n",
    "matches['set3_score'] = matches['set3_score'].replace(replace1113,'11-13')\n",
    "matches['set3_score'] = matches['set3_score'].replace(replace119,'11-9')\n",
    "matches['set3_score'] = matches['set3_score'].replace(replace1214,'12-14')\n",
    "matches['set3_score'] = matches['set3_score'].replace(replace1311,'13-11')"
   ]
  },
  {
   "cell_type": "markdown",
   "id": "04134bc0",
   "metadata": {},
   "source": [
    "#### 4/5: Fix Set 4 scores"
   ]
  },
  {
   "cell_type": "code",
   "execution_count": 28,
   "id": "9b7502df",
   "metadata": {},
   "outputs": [],
   "source": [
    "matches['set4_score'] = matches['set4_score'].replace(replace_unknown,0)\n",
    "matches['set4_score'] = matches['set4_score'].replace(replace76,'7-6')\n",
    "matches['set4_score'] = matches['set4_score'].replace(replace75,'7-5')\n",
    "matches['set4_score'] = matches['set4_score'].replace(replace67,'6-7')\n",
    "matches['set4_score'] = matches['set4_score'].replace(replace66,'6-6')\n",
    "\n",
    "matches['set4_score'] = matches['set4_score'].replace(replace64,'6-4')\n",
    "matches['set4_score'] = matches['set4_score'].replace(replace63,'6-3')\n",
    "matches['set4_score'] = matches['set4_score'].replace(replace62,'6-2')\n",
    "matches['set4_score'] = matches['set4_score'].replace(replace61,'6-1')\n",
    "matches['set4_score'] = matches['set4_score'].replace(replace60,'6-0')\n",
    "\n",
    "matches['set4_score'] = matches['set4_score'].replace(replace57,'5-7')\n",
    "matches['set4_score'] = matches['set4_score'].replace(replace46,'4-6')\n",
    "matches['set4_score'] = matches['set4_score'].replace(replace43,'4-3')\n",
    "\n",
    "matches['set4_score'] = matches['set4_score'].replace(replace34,'3-4')\n",
    "matches['set4_score'] = matches['set4_score'].replace(replace36,'3-6')\n",
    "\n",
    "matches['set4_score'] = matches['set4_score'].replace(replace10,'1-0')\n",
    "matches['set4_score'] = matches['set4_score'].replace(replace01,'0-1')\n",
    "matches['set4_score'] = matches['set4_score'].replace(replace310,'3-10')\n",
    "matches['set4_score'] = matches['set4_score'].replace(replace410,'4-10')\n",
    "matches['set4_score'] = matches['set4_score'].replace(replace710,'7-10')\n",
    "matches['set4_score'] = matches['set4_score'].replace(replace101,'10-1')\n",
    "matches['set4_score'] = matches['set4_score'].replace(replace102,'10-2')\n",
    "matches['set4_score'] = matches['set4_score'].replace(replace104,'10-4')\n",
    "matches['set4_score'] = matches['set4_score'].replace(replace105,'10-5')\n",
    "matches['set4_score'] = matches['set4_score'].replace(replace106,'10-6')\n",
    "matches['set4_score'] = matches['set4_score'].replace(replace107,'10-7')\n",
    "matches['set4_score'] = matches['set4_score'].replace(replace108,'10-8')\n",
    "matches['set4_score'] = matches['set4_score'].replace(replace1113,'11-13')\n",
    "matches['set4_score'] = matches['set4_score'].replace(replace119,'11-9')\n",
    "matches['set4_score'] = matches['set4_score'].replace(replace1214,'12-14')\n",
    "matches['set4_score'] = matches['set4_score'].replace(replace1311,'13-11')"
   ]
  },
  {
   "cell_type": "markdown",
   "id": "d20bd648",
   "metadata": {},
   "source": [
    "#### 5/5: Fix Set 5 scores"
   ]
  },
  {
   "cell_type": "code",
   "execution_count": 29,
   "id": "b40a0494",
   "metadata": {},
   "outputs": [],
   "source": [
    "matches['set5_score'] = matches['set5_score'].replace(replace_unknown,0)\n",
    "matches['set5_score'] = matches['set5_score'].replace(replace76,'7-6')\n",
    "matches['set5_score'] = matches['set5_score'].replace(replace75,'7-5')\n",
    "matches['set5_score'] = matches['set5_score'].replace(replace67,'6-7')\n",
    "matches['set5_score'] = matches['set5_score'].replace(replace66,'6-6')\n",
    "\n",
    "matches['set5_score'] = matches['set5_score'].replace(replace64,'6-4')\n",
    "matches['set5_score'] = matches['set5_score'].replace(replace63,'6-3')\n",
    "matches['set5_score'] = matches['set5_score'].replace(replace62,'6-2')\n",
    "matches['set5_score'] = matches['set5_score'].replace(replace61,'6-1')\n",
    "matches['set5_score'] = matches['set5_score'].replace(replace60,'6-0')\n",
    "\n",
    "matches['set5_score'] = matches['set5_score'].replace(replace57,'5-7')\n",
    "matches['set5_score'] = matches['set5_score'].replace(replace46,'4-6')\n",
    "matches['set5_score'] = matches['set5_score'].replace(replace43,'4-3')\n",
    "\n",
    "matches['set5_score'] = matches['set5_score'].replace(replace34,'3-4')\n",
    "matches['set5_score'] = matches['set5_score'].replace(replace36,'3-6')\n",
    "\n",
    "matches['set5_score'] = matches['set5_score'].replace(replace10,'1-0')\n",
    "matches['set5_score'] = matches['set5_score'].replace(replace01,'0-1')\n",
    "matches['set5_score'] = matches['set5_score'].replace(replace310,'3-10')\n",
    "matches['set5_score'] = matches['set5_score'].replace(replace410,'4-10')\n",
    "matches['set5_score'] = matches['set5_score'].replace(replace710,'7-10')\n",
    "matches['set5_score'] = matches['set5_score'].replace(replace101,'10-1')\n",
    "matches['set5_score'] = matches['set5_score'].replace(replace102,'10-2')\n",
    "matches['set5_score'] = matches['set5_score'].replace(replace104,'10-4')\n",
    "matches['set5_score'] = matches['set5_score'].replace(replace105,'10-5')\n",
    "matches['set5_score'] = matches['set5_score'].replace(replace106,'10-6')\n",
    "matches['set5_score'] = matches['set5_score'].replace(replace107,'10-7')\n",
    "matches['set5_score'] = matches['set5_score'].replace(replace108,'10-8')\n",
    "matches['set5_score'] = matches['set5_score'].replace(replace1113,'11-13')\n",
    "matches['set5_score'] = matches['set5_score'].replace(replace119,'11-9')\n",
    "matches['set5_score'] = matches['set5_score'].replace(replace1214,'12-14')\n",
    "matches['set5_score'] = matches['set5_score'].replace(replace1311,'13-11')\n",
    "matches['set5_score'] = matches['set5_score'].replace(replace1312,'13-12')"
   ]
  },
  {
   "cell_type": "code",
   "execution_count": 30,
   "id": "7bbfd0c1",
   "metadata": {},
   "outputs": [],
   "source": [
    "# Reverse scores of loser matches\n",
    "def invert_score(score):\n",
    "    if pd.isnull(score):\n",
    "        None\n",
    "    else:\n",
    "        return ' '.join(['-'.join(s.split('-')[::-1]) for s in score.split()])"
   ]
  },
  {
   "cell_type": "code",
   "execution_count": 31,
   "id": "f60fbf68",
   "metadata": {},
   "outputs": [],
   "source": [
    "matches['set1_score'] = matches['set1_score'].astype(str)\n",
    "matches['set2_score'] = matches['set2_score'].astype(str)\n",
    "matches['set3_score'] = matches['set3_score'].astype(str)\n",
    "matches['set4_score'] = matches['set4_score'].astype(str)\n",
    "matches['set5_score'] = matches['set5_score'].astype(str)"
   ]
  },
  {
   "cell_type": "code",
   "execution_count": 32,
   "id": "7d66117f",
   "metadata": {},
   "outputs": [
    {
     "data": {
      "text/html": [
       "<div>\n",
       "<style scoped>\n",
       "    .dataframe tbody tr th:only-of-type {\n",
       "        vertical-align: middle;\n",
       "    }\n",
       "\n",
       "    .dataframe tbody tr th {\n",
       "        vertical-align: top;\n",
       "    }\n",
       "\n",
       "    .dataframe thead th {\n",
       "        text-align: right;\n",
       "    }\n",
       "</style>\n",
       "<table border=\"1\" class=\"dataframe\">\n",
       "  <thead>\n",
       "    <tr style=\"text-align: right;\">\n",
       "      <th></th>\n",
       "      <th>tourney_id</th>\n",
       "      <th>tourney_name</th>\n",
       "      <th>surface</th>\n",
       "      <th>draw_size</th>\n",
       "      <th>tourney_level</th>\n",
       "      <th>tourney_date</th>\n",
       "      <th>match_num</th>\n",
       "      <th>player_id</th>\n",
       "      <th>player_seed</th>\n",
       "      <th>player_entry</th>\n",
       "      <th>...</th>\n",
       "      <th>rank</th>\n",
       "      <th>rank_points</th>\n",
       "      <th>outcome</th>\n",
       "      <th>year</th>\n",
       "      <th>sets</th>\n",
       "      <th>set1_score</th>\n",
       "      <th>set2_score</th>\n",
       "      <th>set3_score</th>\n",
       "      <th>set4_score</th>\n",
       "      <th>set5_score</th>\n",
       "    </tr>\n",
       "  </thead>\n",
       "  <tbody>\n",
       "    <tr>\n",
       "      <th>376320</th>\n",
       "      <td>2022-M-DC-2022-WG2-PO-HKG-BEN-01</td>\n",
       "      <td>Davis Cup WG2 PO: HKG vs BEN</td>\n",
       "      <td>Hard</td>\n",
       "      <td>4</td>\n",
       "      <td>D</td>\n",
       "      <td>20220304</td>\n",
       "      <td>2</td>\n",
       "      <td>200583</td>\n",
       "      <td>NaN</td>\n",
       "      <td>NaN</td>\n",
       "      <td>...</td>\n",
       "      <td>NaN</td>\n",
       "      <td>NaN</td>\n",
       "      <td>0</td>\n",
       "      <td>2022</td>\n",
       "      <td>[6-4, 6-4]</td>\n",
       "      <td>4-6</td>\n",
       "      <td>4-6</td>\n",
       "      <td>nan</td>\n",
       "      <td>nan</td>\n",
       "      <td>nan</td>\n",
       "    </tr>\n",
       "    <tr>\n",
       "      <th>376321</th>\n",
       "      <td>2022-M-DC-2022-WG2-PO-HKG-BEN-01</td>\n",
       "      <td>Davis Cup WG2 PO: HKG vs BEN</td>\n",
       "      <td>Hard</td>\n",
       "      <td>4</td>\n",
       "      <td>D</td>\n",
       "      <td>20220304</td>\n",
       "      <td>4</td>\n",
       "      <td>207132</td>\n",
       "      <td>NaN</td>\n",
       "      <td>NaN</td>\n",
       "      <td>...</td>\n",
       "      <td>NaN</td>\n",
       "      <td>NaN</td>\n",
       "      <td>0</td>\n",
       "      <td>2022</td>\n",
       "      <td>[6-4, 6-4]</td>\n",
       "      <td>4-6</td>\n",
       "      <td>4-6</td>\n",
       "      <td>nan</td>\n",
       "      <td>nan</td>\n",
       "      <td>nan</td>\n",
       "    </tr>\n",
       "  </tbody>\n",
       "</table>\n",
       "<p>2 rows × 38 columns</p>\n",
       "</div>"
      ],
      "text/plain": [
       "                              tourney_id                  tourney_name  \\\n",
       "376320  2022-M-DC-2022-WG2-PO-HKG-BEN-01  Davis Cup WG2 PO: HKG vs BEN   \n",
       "376321  2022-M-DC-2022-WG2-PO-HKG-BEN-01  Davis Cup WG2 PO: HKG vs BEN   \n",
       "\n",
       "       surface  draw_size tourney_level  tourney_date  match_num  player_id  \\\n",
       "376320    Hard          4             D      20220304          2     200583   \n",
       "376321    Hard          4             D      20220304          4     207132   \n",
       "\n",
       "        player_seed player_entry  ... rank rank_points  outcome  year  \\\n",
       "376320          NaN          NaN  ...  NaN         NaN        0  2022   \n",
       "376321          NaN          NaN  ...  NaN         NaN        0  2022   \n",
       "\n",
       "              sets set1_score  set2_score set3_score  set4_score  set5_score  \n",
       "376320  [6-4, 6-4]        4-6         4-6        nan         nan         nan  \n",
       "376321  [6-4, 6-4]        4-6         4-6        nan         nan         nan  \n",
       "\n",
       "[2 rows x 38 columns]"
      ]
     },
     "execution_count": 32,
     "metadata": {},
     "output_type": "execute_result"
    }
   ],
   "source": [
    "matches.loc[matches['outcome'] == 0, 'set1_score'] = matches.loc[matches['outcome'] == 0, 'set1_score'].apply(invert_score)\n",
    "matches.loc[matches['outcome'] == 0, 'set2_score'] = matches.loc[matches['outcome'] == 0, 'set2_score'].apply(invert_score)\n",
    "matches.loc[matches['outcome'] == 0, 'set3_score'] = matches.loc[matches['outcome'] == 0, 'set3_score'].apply(invert_score)\n",
    "matches.loc[matches['outcome'] == 0, 'set4_score'] = matches.loc[matches['outcome'] == 0, 'set4_score'].apply(invert_score)\n",
    "matches.loc[matches['outcome'] == 0, 'set5_score'] = matches.loc[matches['outcome'] == 0, 'set5_score'].apply(invert_score)\n",
    "\n",
    "matches.tail(2)"
   ]
  },
  {
   "cell_type": "markdown",
   "id": "f2d70041",
   "metadata": {},
   "source": [
    "#### Pull out games won and lost into separate columns"
   ]
  },
  {
   "cell_type": "code",
   "execution_count": 33,
   "id": "feb61b58",
   "metadata": {
    "scrolled": true
   },
   "outputs": [],
   "source": [
    "matches['set1_games_won'] = matches['set1_score'].str.split(\"-\", n = 2, expand = False).str[0]\n",
    "matches['set2_games_won'] = matches['set2_score'].str.split(\"-\", n = 2, expand = False).str[0]\n",
    "matches['set3_games_won'] = matches['set3_score'].str.split(\"-\", n = 2, expand = False).str[0]\n",
    "matches['set4_games_won'] = matches['set4_score'].str.split(\"-\", n = 2, expand = False).str[0]\n",
    "matches['set5_games_won'] = matches['set5_score'].str.split(\"-\", n = 2, expand = False).str[0]\n",
    "\n",
    "matches['set1_games_lost'] = matches['set1_score'].str.split(\"-\", n = 2, expand = False).str[1]\n",
    "matches['set2_games_lost'] = matches['set2_score'].str.split(\"-\", n = 2, expand = False).str[1]\n",
    "matches['set3_games_lost'] = matches['set3_score'].str.split(\"-\", n = 2, expand = False).str[1]\n",
    "matches['set4_games_lost'] = matches['set4_score'].str.split(\"-\", n = 2, expand = False).str[1]\n",
    "matches['set5_games_lost'] = matches['set5_score'].str.split(\"-\", n = 2, expand = False).str[1]"
   ]
  },
  {
   "cell_type": "code",
   "execution_count": 34,
   "id": "ee3dea0c",
   "metadata": {},
   "outputs": [
    {
     "data": {
      "text/html": [
       "<div>\n",
       "<style scoped>\n",
       "    .dataframe tbody tr th:only-of-type {\n",
       "        vertical-align: middle;\n",
       "    }\n",
       "\n",
       "    .dataframe tbody tr th {\n",
       "        vertical-align: top;\n",
       "    }\n",
       "\n",
       "    .dataframe thead th {\n",
       "        text-align: right;\n",
       "    }\n",
       "</style>\n",
       "<table border=\"1\" class=\"dataframe\">\n",
       "  <thead>\n",
       "    <tr style=\"text-align: right;\">\n",
       "      <th></th>\n",
       "      <th>tourney_id</th>\n",
       "      <th>tourney_name</th>\n",
       "      <th>surface</th>\n",
       "      <th>draw_size</th>\n",
       "      <th>tourney_level</th>\n",
       "      <th>tourney_date</th>\n",
       "      <th>match_num</th>\n",
       "      <th>player_id</th>\n",
       "      <th>player_seed</th>\n",
       "      <th>player_entry</th>\n",
       "      <th>...</th>\n",
       "      <th>set1_games_won</th>\n",
       "      <th>set2_games_won</th>\n",
       "      <th>set3_games_won</th>\n",
       "      <th>set4_games_won</th>\n",
       "      <th>set5_games_won</th>\n",
       "      <th>set1_games_lost</th>\n",
       "      <th>set2_games_lost</th>\n",
       "      <th>set3_games_lost</th>\n",
       "      <th>set4_games_lost</th>\n",
       "      <th>set5_games_lost</th>\n",
       "    </tr>\n",
       "  </thead>\n",
       "  <tbody>\n",
       "    <tr>\n",
       "      <th>186914</th>\n",
       "      <td>2022-540</td>\n",
       "      <td>Wimbledon</td>\n",
       "      <td>Grass</td>\n",
       "      <td>128</td>\n",
       "      <td>G</td>\n",
       "      <td>20220627</td>\n",
       "      <td>226</td>\n",
       "      <td>104925</td>\n",
       "      <td>1.0</td>\n",
       "      <td>NaN</td>\n",
       "      <td>...</td>\n",
       "      <td>4</td>\n",
       "      <td>6</td>\n",
       "      <td>6</td>\n",
       "      <td>7</td>\n",
       "      <td>nan</td>\n",
       "      <td>6</td>\n",
       "      <td>3</td>\n",
       "      <td>4</td>\n",
       "      <td>6</td>\n",
       "      <td>NaN</td>\n",
       "    </tr>\n",
       "    <tr>\n",
       "      <th>375075</th>\n",
       "      <td>2022-540</td>\n",
       "      <td>Wimbledon</td>\n",
       "      <td>Grass</td>\n",
       "      <td>128</td>\n",
       "      <td>G</td>\n",
       "      <td>20220627</td>\n",
       "      <td>226</td>\n",
       "      <td>106401</td>\n",
       "      <td>NaN</td>\n",
       "      <td>NaN</td>\n",
       "      <td>...</td>\n",
       "      <td>6</td>\n",
       "      <td>3</td>\n",
       "      <td>4</td>\n",
       "      <td>6</td>\n",
       "      <td>nan</td>\n",
       "      <td>4</td>\n",
       "      <td>6</td>\n",
       "      <td>6</td>\n",
       "      <td>7</td>\n",
       "      <td>NaN</td>\n",
       "    </tr>\n",
       "  </tbody>\n",
       "</table>\n",
       "<p>2 rows × 48 columns</p>\n",
       "</div>"
      ],
      "text/plain": [
       "       tourney_id tourney_name surface  draw_size tourney_level  tourney_date  \\\n",
       "186914   2022-540    Wimbledon   Grass        128             G      20220627   \n",
       "375075   2022-540    Wimbledon   Grass        128             G      20220627   \n",
       "\n",
       "        match_num  player_id  player_seed player_entry  ... set1_games_won  \\\n",
       "186914        226     104925          1.0          NaN  ...              4   \n",
       "375075        226     106401          NaN          NaN  ...              6   \n",
       "\n",
       "       set2_games_won  set3_games_won set4_games_won  set5_games_won  \\\n",
       "186914              6               6              7             nan   \n",
       "375075              3               4              6             nan   \n",
       "\n",
       "       set1_games_lost  set2_games_lost set3_games_lost  set4_games_lost  \\\n",
       "186914               6                3               4                6   \n",
       "375075               4                6               6                7   \n",
       "\n",
       "        set5_games_lost  \n",
       "186914              NaN  \n",
       "375075              NaN  \n",
       "\n",
       "[2 rows x 48 columns]"
      ]
     },
     "execution_count": 34,
     "metadata": {},
     "output_type": "execute_result"
    }
   ],
   "source": [
    "#Quick check \n",
    "wimbledon_finals = matches[(matches['tourney_name']==\"Wimbledon\") & (matches['year']==2022) & (matches['match_num']==226)]\n",
    "wimbledon_finals"
   ]
  },
  {
   "cell_type": "code",
   "execution_count": 35,
   "id": "a843f976",
   "metadata": {},
   "outputs": [
    {
     "data": {
      "text/html": [
       "<div>\n",
       "<style scoped>\n",
       "    .dataframe tbody tr th:only-of-type {\n",
       "        vertical-align: middle;\n",
       "    }\n",
       "\n",
       "    .dataframe tbody tr th {\n",
       "        vertical-align: top;\n",
       "    }\n",
       "\n",
       "    .dataframe thead th {\n",
       "        text-align: right;\n",
       "    }\n",
       "</style>\n",
       "<table border=\"1\" class=\"dataframe\">\n",
       "  <thead>\n",
       "    <tr style=\"text-align: right;\">\n",
       "      <th></th>\n",
       "      <th>set1_games_won</th>\n",
       "      <th>set2_games_won</th>\n",
       "      <th>set3_games_won</th>\n",
       "      <th>set4_games_won</th>\n",
       "      <th>set5_games_won</th>\n",
       "      <th>set1_games_lost</th>\n",
       "      <th>set2_games_lost</th>\n",
       "      <th>set3_games_lost</th>\n",
       "      <th>set4_games_lost</th>\n",
       "      <th>set5_games_lost</th>\n",
       "      <th>total_games_won</th>\n",
       "    </tr>\n",
       "  </thead>\n",
       "  <tbody>\n",
       "    <tr>\n",
       "      <th>0</th>\n",
       "      <td>6</td>\n",
       "      <td>7</td>\n",
       "      <td>0</td>\n",
       "      <td>0</td>\n",
       "      <td>0</td>\n",
       "      <td>1</td>\n",
       "      <td>5</td>\n",
       "      <td>NaN</td>\n",
       "      <td>NaN</td>\n",
       "      <td>NaN</td>\n",
       "      <td>13</td>\n",
       "    </tr>\n",
       "    <tr>\n",
       "      <th>1</th>\n",
       "      <td>6</td>\n",
       "      <td>6</td>\n",
       "      <td>0</td>\n",
       "      <td>0</td>\n",
       "      <td>0</td>\n",
       "      <td>1</td>\n",
       "      <td>1</td>\n",
       "      <td>NaN</td>\n",
       "      <td>NaN</td>\n",
       "      <td>NaN</td>\n",
       "      <td>12</td>\n",
       "    </tr>\n",
       "    <tr>\n",
       "      <th>2</th>\n",
       "      <td>6</td>\n",
       "      <td>6</td>\n",
       "      <td>0</td>\n",
       "      <td>0</td>\n",
       "      <td>0</td>\n",
       "      <td>2</td>\n",
       "      <td>2</td>\n",
       "      <td>NaN</td>\n",
       "      <td>NaN</td>\n",
       "      <td>NaN</td>\n",
       "      <td>12</td>\n",
       "    </tr>\n",
       "    <tr>\n",
       "      <th>3</th>\n",
       "      <td>6</td>\n",
       "      <td>6</td>\n",
       "      <td>0</td>\n",
       "      <td>0</td>\n",
       "      <td>0</td>\n",
       "      <td>1</td>\n",
       "      <td>1</td>\n",
       "      <td>NaN</td>\n",
       "      <td>NaN</td>\n",
       "      <td>NaN</td>\n",
       "      <td>12</td>\n",
       "    </tr>\n",
       "    <tr>\n",
       "      <th>4</th>\n",
       "      <td>6</td>\n",
       "      <td>6</td>\n",
       "      <td>0</td>\n",
       "      <td>0</td>\n",
       "      <td>0</td>\n",
       "      <td>2</td>\n",
       "      <td>4</td>\n",
       "      <td>NaN</td>\n",
       "      <td>NaN</td>\n",
       "      <td>NaN</td>\n",
       "      <td>12</td>\n",
       "    </tr>\n",
       "  </tbody>\n",
       "</table>\n",
       "</div>"
      ],
      "text/plain": [
       "   set1_games_won  set2_games_won  set3_games_won  set4_games_won  \\\n",
       "0               6               7               0               0   \n",
       "1               6               6               0               0   \n",
       "2               6               6               0               0   \n",
       "3               6               6               0               0   \n",
       "4               6               6               0               0   \n",
       "\n",
       "   set5_games_won set1_games_lost set2_games_lost set3_games_lost  \\\n",
       "0               0               1               5             NaN   \n",
       "1               0               1               1             NaN   \n",
       "2               0               2               2             NaN   \n",
       "3               0               1               1             NaN   \n",
       "4               0               2               4             NaN   \n",
       "\n",
       "  set4_games_lost set5_games_lost  total_games_won  \n",
       "0             NaN             NaN               13  \n",
       "1             NaN             NaN               12  \n",
       "2             NaN             NaN               12  \n",
       "3             NaN             NaN               12  \n",
       "4             NaN             NaN               12  "
      ]
     },
     "execution_count": 35,
     "metadata": {},
     "output_type": "execute_result"
    }
   ],
   "source": [
    "values_to_replace = ['nan']#'RET','','W/O','UNK','DEF','Apr','Walkover','?','ABD','Played','and','Def','Def.','NA','unfinished','Default','abandoned']\n",
    "\n",
    "matches['set1_games_won'] = matches['set1_games_won'].replace(values_to_replace,0).astype(int)\n",
    "matches['set2_games_won'] = matches['set2_games_won'].replace(values_to_replace,0).astype(int)\n",
    "matches['set3_games_won'] = matches['set3_games_won'].replace(values_to_replace,0).astype(int)\n",
    "matches['set4_games_won'] = matches['set4_games_won'].replace(values_to_replace,0).astype(int)\n",
    "matches['set5_games_won'] = matches['set5_games_won'].replace(values_to_replace,0).astype(int)\n",
    "\n",
    "matches['total_games_won'] = (matches['set1_games_won'] +\n",
    "                                matches['set2_games_won'] +\n",
    "                                matches['set3_games_won'] + \n",
    "                                matches['set4_games_won'] +\n",
    "                                matches['set5_games_won'])\n",
    "\n",
    "test = matches.iloc[:,np.r_[38:49]]\n",
    "test.head()"
   ]
  },
  {
   "cell_type": "code",
   "execution_count": 36,
   "id": "20f53e17",
   "metadata": {
    "scrolled": true
   },
   "outputs": [
    {
     "data": {
      "text/html": [
       "<div>\n",
       "<style scoped>\n",
       "    .dataframe tbody tr th:only-of-type {\n",
       "        vertical-align: middle;\n",
       "    }\n",
       "\n",
       "    .dataframe tbody tr th {\n",
       "        vertical-align: top;\n",
       "    }\n",
       "\n",
       "    .dataframe thead th {\n",
       "        text-align: right;\n",
       "    }\n",
       "</style>\n",
       "<table border=\"1\" class=\"dataframe\">\n",
       "  <thead>\n",
       "    <tr style=\"text-align: right;\">\n",
       "      <th></th>\n",
       "      <th>set1_games_won</th>\n",
       "      <th>set2_games_won</th>\n",
       "      <th>set3_games_won</th>\n",
       "      <th>set4_games_won</th>\n",
       "      <th>set5_games_won</th>\n",
       "      <th>set1_games_lost</th>\n",
       "      <th>set2_games_lost</th>\n",
       "      <th>set3_games_lost</th>\n",
       "      <th>set4_games_lost</th>\n",
       "      <th>set5_games_lost</th>\n",
       "      <th>total_games_won</th>\n",
       "      <th>total_games_lost</th>\n",
       "    </tr>\n",
       "  </thead>\n",
       "  <tbody>\n",
       "    <tr>\n",
       "      <th>0</th>\n",
       "      <td>6</td>\n",
       "      <td>7</td>\n",
       "      <td>0</td>\n",
       "      <td>0</td>\n",
       "      <td>0</td>\n",
       "      <td>1</td>\n",
       "      <td>5</td>\n",
       "      <td>0</td>\n",
       "      <td>0</td>\n",
       "      <td>0</td>\n",
       "      <td>13</td>\n",
       "      <td>6</td>\n",
       "    </tr>\n",
       "    <tr>\n",
       "      <th>1</th>\n",
       "      <td>6</td>\n",
       "      <td>6</td>\n",
       "      <td>0</td>\n",
       "      <td>0</td>\n",
       "      <td>0</td>\n",
       "      <td>1</td>\n",
       "      <td>1</td>\n",
       "      <td>0</td>\n",
       "      <td>0</td>\n",
       "      <td>0</td>\n",
       "      <td>12</td>\n",
       "      <td>2</td>\n",
       "    </tr>\n",
       "    <tr>\n",
       "      <th>2</th>\n",
       "      <td>6</td>\n",
       "      <td>6</td>\n",
       "      <td>0</td>\n",
       "      <td>0</td>\n",
       "      <td>0</td>\n",
       "      <td>2</td>\n",
       "      <td>2</td>\n",
       "      <td>0</td>\n",
       "      <td>0</td>\n",
       "      <td>0</td>\n",
       "      <td>12</td>\n",
       "      <td>4</td>\n",
       "    </tr>\n",
       "    <tr>\n",
       "      <th>3</th>\n",
       "      <td>6</td>\n",
       "      <td>6</td>\n",
       "      <td>0</td>\n",
       "      <td>0</td>\n",
       "      <td>0</td>\n",
       "      <td>1</td>\n",
       "      <td>1</td>\n",
       "      <td>0</td>\n",
       "      <td>0</td>\n",
       "      <td>0</td>\n",
       "      <td>12</td>\n",
       "      <td>2</td>\n",
       "    </tr>\n",
       "    <tr>\n",
       "      <th>4</th>\n",
       "      <td>6</td>\n",
       "      <td>6</td>\n",
       "      <td>0</td>\n",
       "      <td>0</td>\n",
       "      <td>0</td>\n",
       "      <td>2</td>\n",
       "      <td>4</td>\n",
       "      <td>0</td>\n",
       "      <td>0</td>\n",
       "      <td>0</td>\n",
       "      <td>12</td>\n",
       "      <td>6</td>\n",
       "    </tr>\n",
       "  </tbody>\n",
       "</table>\n",
       "</div>"
      ],
      "text/plain": [
       "   set1_games_won  set2_games_won  set3_games_won  set4_games_won  \\\n",
       "0               6               7               0               0   \n",
       "1               6               6               0               0   \n",
       "2               6               6               0               0   \n",
       "3               6               6               0               0   \n",
       "4               6               6               0               0   \n",
       "\n",
       "   set5_games_won  set1_games_lost  set2_games_lost  set3_games_lost  \\\n",
       "0               0                1                5                0   \n",
       "1               0                1                1                0   \n",
       "2               0                2                2                0   \n",
       "3               0                1                1                0   \n",
       "4               0                2                4                0   \n",
       "\n",
       "   set4_games_lost  set5_games_lost  total_games_won  total_games_lost  \n",
       "0                0                0               13                 6  \n",
       "1                0                0               12                 2  \n",
       "2                0                0               12                 4  \n",
       "3                0                0               12                 2  \n",
       "4                0                0               12                 6  "
      ]
     },
     "execution_count": 36,
     "metadata": {},
     "output_type": "execute_result"
    }
   ],
   "source": [
    "values_to_replace = ['nan']#'RET','','W/O','UNK','DEF','Apr','Walkover','?','ABD','Played','and','Def','Def.','NA','unfinished','Default','abandoned']\n",
    "\n",
    "matches['set1_games_lost'] = matches['set1_games_lost'].astype(str).replace(values_to_replace,0).astype(int)\n",
    "matches['set2_games_lost'] = matches['set2_games_lost'].astype(str).replace(values_to_replace,0).astype(int)\n",
    "matches['set3_games_lost'] = matches['set3_games_lost'].astype(str).replace(values_to_replace,0).astype(int)\n",
    "matches['set4_games_lost'] = matches['set4_games_lost'].astype(str).replace(values_to_replace,0).astype(int)\n",
    "matches['set5_games_lost'] = matches['set5_games_lost'].astype(str).replace(values_to_replace,0).astype(int)\n",
    "\n",
    "matches['total_games_lost'] = (matches['set1_games_lost'] +\n",
    "                                matches['set2_games_lost'] +\n",
    "                                matches['set3_games_lost'] + \n",
    "                                matches['set4_games_lost'] +\n",
    "                                matches['set5_games_lost'])\n",
    "\n",
    "test = matches.iloc[:,np.r_[38:50]]\n",
    "test.head()"
   ]
  },
  {
   "cell_type": "code",
   "execution_count": 37,
   "id": "36e5a510",
   "metadata": {},
   "outputs": [],
   "source": [
    "matches['total_games_played'] = matches['total_games_won'] + matches['total_games_lost']\n",
    "\n",
    "matches['set1_win_perc'] = matches['set1_games_won'] / (matches['set1_games_won'] + matches['set1_games_lost'])\n",
    "matches['set2_win_perc'] = matches['set2_games_won'] / (matches['set2_games_won'] + matches['set2_games_lost'])\n",
    "matches['set3_win_perc'] = matches['set3_games_won'] / (matches['set3_games_won'] + matches['set3_games_lost'])\n",
    "matches['set4_win_perc'] = matches['set4_games_won'] / (matches['set4_games_won'] + matches['set4_games_lost'])\n",
    "matches['set5_win_perc'] = matches['set5_games_won'] / (matches['set5_games_won'] + matches['set5_games_lost'])\n",
    "\n",
    "matches['game_win_perc'] = matches['total_games_won'] / (matches['total_games_won'] + matches['total_games_lost'])"
   ]
  },
  {
   "cell_type": "markdown",
   "id": "f4d9dd61",
   "metadata": {},
   "source": [
    "#### Make sure metrics are reversed within same value of match_num"
   ]
  },
  {
   "cell_type": "code",
   "execution_count": 38,
   "id": "8c7d3154",
   "metadata": {},
   "outputs": [
    {
     "data": {
      "text/html": [
       "<div>\n",
       "<style scoped>\n",
       "    .dataframe tbody tr th:only-of-type {\n",
       "        vertical-align: middle;\n",
       "    }\n",
       "\n",
       "    .dataframe tbody tr th {\n",
       "        vertical-align: top;\n",
       "    }\n",
       "\n",
       "    .dataframe thead th {\n",
       "        text-align: right;\n",
       "    }\n",
       "</style>\n",
       "<table border=\"1\" class=\"dataframe\">\n",
       "  <thead>\n",
       "    <tr style=\"text-align: right;\">\n",
       "      <th></th>\n",
       "      <th>tourney_id</th>\n",
       "      <th>tourney_name</th>\n",
       "      <th>surface</th>\n",
       "      <th>draw_size</th>\n",
       "      <th>tourney_level</th>\n",
       "      <th>tourney_date</th>\n",
       "      <th>match_num</th>\n",
       "      <th>player_id</th>\n",
       "      <th>player_seed</th>\n",
       "      <th>player_entry</th>\n",
       "      <th>...</th>\n",
       "      <th>set5_games_lost</th>\n",
       "      <th>total_games_won</th>\n",
       "      <th>total_games_lost</th>\n",
       "      <th>total_games_played</th>\n",
       "      <th>set1_win_perc</th>\n",
       "      <th>set2_win_perc</th>\n",
       "      <th>set3_win_perc</th>\n",
       "      <th>set4_win_perc</th>\n",
       "      <th>set5_win_perc</th>\n",
       "      <th>game_win_perc</th>\n",
       "    </tr>\n",
       "  </thead>\n",
       "  <tbody>\n",
       "    <tr>\n",
       "      <th>186914</th>\n",
       "      <td>2022-540</td>\n",
       "      <td>Wimbledon</td>\n",
       "      <td>Grass</td>\n",
       "      <td>128</td>\n",
       "      <td>G</td>\n",
       "      <td>20220627</td>\n",
       "      <td>226</td>\n",
       "      <td>104925</td>\n",
       "      <td>1.0</td>\n",
       "      <td>NaN</td>\n",
       "      <td>...</td>\n",
       "      <td>0</td>\n",
       "      <td>23</td>\n",
       "      <td>19</td>\n",
       "      <td>42</td>\n",
       "      <td>0.4</td>\n",
       "      <td>0.666667</td>\n",
       "      <td>0.6</td>\n",
       "      <td>0.538462</td>\n",
       "      <td>NaN</td>\n",
       "      <td>0.547619</td>\n",
       "    </tr>\n",
       "    <tr>\n",
       "      <th>375075</th>\n",
       "      <td>2022-540</td>\n",
       "      <td>Wimbledon</td>\n",
       "      <td>Grass</td>\n",
       "      <td>128</td>\n",
       "      <td>G</td>\n",
       "      <td>20220627</td>\n",
       "      <td>226</td>\n",
       "      <td>106401</td>\n",
       "      <td>NaN</td>\n",
       "      <td>NaN</td>\n",
       "      <td>...</td>\n",
       "      <td>0</td>\n",
       "      <td>19</td>\n",
       "      <td>23</td>\n",
       "      <td>42</td>\n",
       "      <td>0.6</td>\n",
       "      <td>0.333333</td>\n",
       "      <td>0.4</td>\n",
       "      <td>0.461538</td>\n",
       "      <td>NaN</td>\n",
       "      <td>0.452381</td>\n",
       "    </tr>\n",
       "  </tbody>\n",
       "</table>\n",
       "<p>2 rows × 57 columns</p>\n",
       "</div>"
      ],
      "text/plain": [
       "       tourney_id tourney_name surface  draw_size tourney_level  tourney_date  \\\n",
       "186914   2022-540    Wimbledon   Grass        128             G      20220627   \n",
       "375075   2022-540    Wimbledon   Grass        128             G      20220627   \n",
       "\n",
       "        match_num  player_id  player_seed player_entry  ... set5_games_lost  \\\n",
       "186914        226     104925          1.0          NaN  ...               0   \n",
       "375075        226     106401          NaN          NaN  ...               0   \n",
       "\n",
       "       total_games_won  total_games_lost total_games_played  set1_win_perc  \\\n",
       "186914              23                19                 42            0.4   \n",
       "375075              19                23                 42            0.6   \n",
       "\n",
       "       set2_win_perc  set3_win_perc set4_win_perc  set5_win_perc  \\\n",
       "186914      0.666667            0.6      0.538462            NaN   \n",
       "375075      0.333333            0.4      0.461538            NaN   \n",
       "\n",
       "        game_win_perc  \n",
       "186914       0.547619  \n",
       "375075       0.452381  \n",
       "\n",
       "[2 rows x 57 columns]"
      ]
     },
     "execution_count": 38,
     "metadata": {},
     "output_type": "execute_result"
    }
   ],
   "source": [
    "wimbledon_finals = matches[(matches['tourney_name']==\"Wimbledon\") & (matches['year']==2022) & (matches['match_num']==226)]\n",
    "wimbledon_finals"
   ]
  },
  {
   "cell_type": "markdown",
   "id": "8f9f0a44",
   "metadata": {},
   "source": [
    "## Impute missing values"
   ]
  },
  {
   "cell_type": "code",
   "execution_count": 39,
   "id": "9e2eb6a7",
   "metadata": {
    "scrolled": false
   },
   "outputs": [
    {
     "name": "stdout",
     "output_type": "stream",
     "text": [
      "Missing Games Played:  0\n",
      "Missing Minutes:  197300\n"
     ]
    }
   ],
   "source": [
    "print('Missing Games Played: ',matches['total_games_played'].isnull().sum())\n",
    "print('Missing Minutes: ',matches['minutes'].isnull().sum())"
   ]
  },
  {
   "cell_type": "code",
   "execution_count": 40,
   "id": "b7645077",
   "metadata": {
    "scrolled": true
   },
   "outputs": [
    {
     "name": "stdout",
     "output_type": "stream",
     "text": [
      "Matches less than 30 minutes:  958\n"
     ]
    }
   ],
   "source": [
    "test = matches[matches['minutes'] <30]\n",
    "print('Matches less than 30 minutes: ',test.shape[0])"
   ]
  },
  {
   "cell_type": "code",
   "execution_count": 41,
   "id": "fd9a701d",
   "metadata": {},
   "outputs": [
    {
     "name": "stdout",
     "output_type": "stream",
     "text": [
      "Missing Games Played (1991-2022):  0\n",
      "Missing Minutes (1991-2022):  25612\n",
      "% Matches less than 30 minutes (1991-2022): 0.467 %\n"
     ]
    }
   ],
   "source": [
    "#Match statistics not available until 1991 - no point in trying to impute all of them prior to this year\n",
    "matches_v2 = matches[matches['year']>=1991]\n",
    "test = matches_v2[matches_v2['minutes'] <30]\n",
    "\n",
    "\n",
    "print('Missing Games Played (1991-2022): ',matches_v2['total_games_played'].isnull().sum())\n",
    "print('Missing Minutes (1991-2022): ',matches_v2['minutes'].isnull().sum())\n",
    "print('% Matches less than 30 minutes (1991-2022):', round(100*test.shape[0]/matches_v2.shape[0],3),\"%\")"
   ]
  },
  {
   "cell_type": "markdown",
   "id": "abd5c947",
   "metadata": {},
   "source": [
    "#### Impute minutes by median # games played"
   ]
  },
  {
   "cell_type": "code",
   "execution_count": 42,
   "id": "e90ea639",
   "metadata": {},
   "outputs": [
    {
     "name": "stdout",
     "output_type": "stream",
     "text": [
      "Initial check of missing minutes:  25612\n",
      "2nd check of Missing Minutes:  966\n",
      "Final check of missing minutes:  0\n"
     ]
    }
   ],
   "source": [
    "#Step 0: Check initial missing total\n",
    "print('Initial check of missing minutes: ', matches_v2['minutes'].isnull().sum())\n",
    "\n",
    "#Step 1: Make values < 30 missing - not super reliable\n",
    "matches_v2.loc[matches_v2['minutes'] < 30] = np.NaN\n",
    "\n",
    "#Step 2: Impute based on median minutes per games played\n",
    "matches_v2['minutes'] = matches_v2['minutes'].fillna(matches_v2.groupby('total_games_played')['minutes'].transform('median'))\n",
    "\n",
    "#Step 4: Check if any missing values left\n",
    "print('2nd check of Missing Minutes: ', matches_v2['minutes'].isnull().sum())\n",
    "\n",
    "#Step 5: After inspecting the remaining values here, let's just drop\n",
    "matches_v2.dropna(subset=['minutes'], inplace=True)\n",
    "\n",
    "#Step 6: Final check\n",
    "print('Final check of missing minutes: ', matches_v2['minutes'].isnull().sum())"
   ]
  },
  {
   "cell_type": "markdown",
   "id": "ce9529e5",
   "metadata": {},
   "source": [
    "#### Impute breakpoint metrics by median # games played"
   ]
  },
  {
   "cell_type": "code",
   "execution_count": 43,
   "id": "5e388627",
   "metadata": {},
   "outputs": [
    {
     "name": "stdout",
     "output_type": "stream",
     "text": [
      "% Brk Pts Faced Missing:  9.8753 %\n",
      "% Brk Pts Saved Missing:  9.8753 %\n"
     ]
    }
   ],
   "source": [
    "print('% Brk Pts Faced Missing: ', round(100*matches_v2['num_brkpts_faced'].isnull().sum()/matches_v2.shape[0],4),\"%\")\n",
    "print('% Brk Pts Saved Missing: ', round(100*matches_v2['num_brkpts_saved'].isnull().sum()/matches_v2.shape[0],4),'%')"
   ]
  },
  {
   "cell_type": "code",
   "execution_count": 44,
   "id": "229508fc",
   "metadata": {},
   "outputs": [
    {
     "name": "stdout",
     "output_type": "stream",
     "text": [
      "Initial check of missing brk pts faced:  20112\n",
      "Final check of missing brk pts faced:  0\n"
     ]
    }
   ],
   "source": [
    "#Step 1: Check if any missing values left\n",
    "print('Initial check of missing brk pts faced: ', matches_v2['num_brkpts_faced'].isnull().sum())\n",
    "\n",
    "#Step 2: Impute based on median brk pts faced per games played\n",
    "matches_v2['num_brkpts_faced'] = matches_v2['num_brkpts_faced'].fillna(matches_v2.groupby('total_games_played')['num_brkpts_faced'].transform('median'))\n",
    "\n",
    "#Step 3: Final check\n",
    "print('Final check of missing brk pts faced: ', matches_v2['num_brkpts_faced'].isnull().sum())"
   ]
  },
  {
   "cell_type": "code",
   "execution_count": 45,
   "id": "9193da15",
   "metadata": {},
   "outputs": [
    {
     "name": "stdout",
     "output_type": "stream",
     "text": [
      "Initial check of missing brk pts saved:  20112\n",
      "Final check of missing brk pts saved:  0\n",
      "First check of # negative values of brk pts saved:  2\n",
      "Final check of # negative values of brk pts saved:  0\n"
     ]
    }
   ],
   "source": [
    "#Step 1: Initial check of any missing values \n",
    "print('Initial check of missing brk pts saved: ', matches_v2['num_brkpts_saved'].isnull().sum())\n",
    "\n",
    "#Step 2: Impute based on median brk pts saved per games played\n",
    "matches_v2['num_brkpts_saved'] = matches_v2['num_brkpts_saved'].fillna(matches_v2.groupby('total_games_played')['num_brkpts_saved'].transform('median'))\n",
    "\n",
    "#Step 3: Final check\n",
    "print('Final check of missing brk pts saved: ', matches_v2['num_brkpts_saved'].isnull().sum())\n",
    "\n",
    "#Remove negative values\n",
    "test = matches_v2[matches_v2['num_brkpts_saved']<0]\n",
    "\n",
    "print('First check of # negative values of brk pts saved: ', test.shape[0])\n",
    "matches_v2 = matches_v2[matches_v2['num_brkpts_saved']>=0]\n",
    "test_again = matches_v2[matches_v2['num_brkpts_saved']<0]\n",
    "\n",
    "print('Final check of # negative values of brk pts saved: ', test_again.shape[0])"
   ]
  },
  {
   "cell_type": "code",
   "execution_count": 46,
   "id": "3930e8a9",
   "metadata": {},
   "outputs": [
    {
     "name": "stdout",
     "output_type": "stream",
     "text": [
      "Missing games won:  0\n",
      "Missing games lost:  0\n"
     ]
    }
   ],
   "source": [
    "print('Missing games won: ',matches_v2['total_games_won'].isnull().sum())\n",
    "print('Missing games lost: ', matches_v2['total_games_lost'].isnull().sum())"
   ]
  },
  {
   "cell_type": "markdown",
   "id": "e595a1cb",
   "metadata": {},
   "source": [
    "#### Impute # double faults by median # games lost"
   ]
  },
  {
   "cell_type": "code",
   "execution_count": 47,
   "id": "261d4871",
   "metadata": {
    "scrolled": true
   },
   "outputs": [
    {
     "name": "stdout",
     "output_type": "stream",
     "text": [
      "Initial check of missing double faults:  20112\n",
      "2nd check of missing double faults:  0\n"
     ]
    }
   ],
   "source": [
    "#Step 0: Initial check of any missing values\n",
    "print('Initial check of missing double faults: ', matches_v2['num_dfs'].isnull().sum())\n",
    "\n",
    "#Step 1: Impute based on median games lost\n",
    "matches_v2['num_dfs'] = matches_v2['num_dfs'].fillna(matches_v2.groupby('total_games_lost')['num_dfs'].transform('median'))\n",
    "\n",
    "#Step 2: Check if any missing values left\n",
    "print('2nd check of missing double faults: ', matches_v2['num_dfs'].isnull().sum())"
   ]
  },
  {
   "cell_type": "markdown",
   "id": "08328d2a",
   "metadata": {},
   "source": [
    "#### Impute # aces by median # games won"
   ]
  },
  {
   "cell_type": "code",
   "execution_count": 48,
   "id": "6fddd8e4",
   "metadata": {},
   "outputs": [
    {
     "name": "stdout",
     "output_type": "stream",
     "text": [
      "Initial check of missing aces:  20112\n",
      "Final check of missing aces:  0\n"
     ]
    }
   ],
   "source": [
    "#Step 1: Final check\n",
    "print('Initial check of missing aces: ', matches_v2['num_aces'].isnull().sum())\n",
    "\n",
    "#Step 2: Impute based on median games won\n",
    "matches_v2['num_aces'] = matches_v2['num_aces'].fillna(matches_v2.groupby('total_games_won')['num_aces'].transform('median'))\n",
    "\n",
    "#Step 3: Check if any missing values left\n",
    "print('Final check of missing aces: ', matches_v2['num_aces'].isnull().sum())"
   ]
  },
  {
   "cell_type": "markdown",
   "id": "67056667",
   "metadata": {},
   "source": [
    "#### Impute 1st serve in %age by median # of games won"
   ]
  },
  {
   "cell_type": "code",
   "execution_count": 49,
   "id": "a7d09311",
   "metadata": {},
   "outputs": [
    {
     "name": "stdout",
     "output_type": "stream",
     "text": [
      "Initial check of missing 1st serve in %:  20112\n",
      "Final check of missing 1st serve in %:  0\n"
     ]
    }
   ],
   "source": [
    "#Step 1: Check if any missing values left\n",
    "print('Initial check of missing 1st serve in %: ', matches_v2['serve1_in_perc'].isnull().sum())\n",
    "\n",
    "#Step 2: Impute based on median games won\n",
    "matches_v2['serve1_in_perc'] = matches_v2['serve1_in_perc'].fillna(matches_v2.groupby('total_games_won')['serve1_in_perc'].transform('median'))\n",
    "\n",
    "#Step 3: Check if any missing values left\n",
    "print('Final check of missing 1st serve in %: ', matches_v2['serve1_in_perc'].isnull().sum())"
   ]
  },
  {
   "cell_type": "code",
   "execution_count": 50,
   "id": "e4de5f38",
   "metadata": {},
   "outputs": [
    {
     "name": "stdout",
     "output_type": "stream",
     "text": [
      "# rows with % above 100:  4158\n",
      "What is the % of the total:  2.04 %\n",
      "# of rows with % above 100 after last step:  0\n"
     ]
    }
   ],
   "source": [
    "#Need to fix serve1_in_perc\n",
    "above100 = matches_v2[matches_v2['serve1_in_perc']>100]\n",
    "print('# rows with % above 100: ', above100.shape[0])\n",
    "print('What is the % of the total: ', round(100*above100.shape[0]/matches_v2.shape[0],2),'%')\n",
    "\n",
    "matches_v2['serve1_in_perc'] = np.where(matches_v2['serve1_in_perc']>100,100, matches_v2['serve1_in_perc'])\n",
    "\n",
    "above100 = matches_v2[matches_v2['serve1_in_perc']>100]\n",
    "print('# of rows with % above 100 after last step: ', above100['serve1_in_perc'].shape[0])"
   ]
  },
  {
   "cell_type": "code",
   "execution_count": 51,
   "id": "35398fb2",
   "metadata": {},
   "outputs": [
    {
     "data": {
      "text/plain": [
       "100.0"
      ]
     },
     "execution_count": 51,
     "metadata": {},
     "output_type": "execute_result"
    }
   ],
   "source": [
    "matches_v2['serve1_in_perc'].max()"
   ]
  },
  {
   "cell_type": "markdown",
   "id": "2791aa09",
   "metadata": {},
   "source": [
    "### Missing for Age, Surface, and Height"
   ]
  },
  {
   "cell_type": "code",
   "execution_count": 52,
   "id": "07549bfd",
   "metadata": {},
   "outputs": [
    {
     "name": "stdout",
     "output_type": "stream",
     "text": [
      "Percentage of missing age values: 0.0128 %\n",
      "Percentage of missing surface values: 0.0 %\n",
      "Percentage of missing height values: 3.4057 %\n"
     ]
    }
   ],
   "source": [
    "num1 = matches_v2['player_age'].isnull().sum()\n",
    "num2 = matches_v2.shape[0]\n",
    "print('Percentage of missing age values:',round(100*(num1/num2),4),\"%\")\n",
    "\n",
    "num3 = matches_v2['surface'].isnull().sum()\n",
    "print('Percentage of missing surface values:',round(100*(num3/num2),4),\"%\")\n",
    "\n",
    "num4 = matches_v2['player_ht'].isnull().sum()\n",
    "print('Percentage of missing height values:',round(100*(num4/num2),4),\"%\")"
   ]
  },
  {
   "cell_type": "markdown",
   "id": "178a3184",
   "metadata": {},
   "source": [
    "## Predict winner"
   ]
  },
  {
   "cell_type": "code",
   "execution_count": 53,
   "id": "311d46eb",
   "metadata": {},
   "outputs": [
    {
     "name": "stdout",
     "output_type": "stream",
     "text": [
      "(142542, 10)\n",
      "(142542,)\n",
      "(61090, 10)\n",
      "(61090,)\n"
     ]
    }
   ],
   "source": [
    "from sklearn.model_selection import train_test_split\n",
    "from sklearn.preprocessing import StandardScaler\n",
    "\n",
    "#Filter data however you see fit\n",
    "model_df = matches_v2[(matches_v2['player_age'].notnull())]\n",
    "\n",
    "#Choose features and response\n",
    "y = model_df['outcome']\n",
    "X = model_df[['num_aces','num_dfs','serve1_in_perc','player_age','surface','num_brkpts_saved','num_brkpts_faced']]\n",
    "\n",
    "#One Hot Encode surface\n",
    "one_hot = pd.get_dummies(X['surface'])\n",
    "X = X.drop('surface',axis=1)\n",
    "X = X.join(one_hot)\n",
    "\n",
    "\n",
    "scale = StandardScaler()\n",
    "scaledX = scale.fit_transform(X)\n",
    "\n",
    "X_train, X_test, y_train, y_test = train_test_split(scaledX, y, test_size=0.30, random_state=42)\n",
    "\n",
    "print(X_train.shape)\n",
    "print(y_train.shape)\n",
    "print(X_test.shape)\n",
    "print(y_test.shape)"
   ]
  },
  {
   "cell_type": "code",
   "execution_count": 57,
   "id": "d37c12ee",
   "metadata": {},
   "outputs": [],
   "source": [
    "# del model_df['score']\n",
    "# #import pandas as pd\n",
    "# model_df.to_parquet('model_df_v2.parquet.gzip',compression='gzip')\n",
    "# df = pd.read_parquet('model_df_v2.parquet.gzip')"
   ]
  },
  {
   "cell_type": "code",
   "execution_count": 58,
   "id": "22539a63",
   "metadata": {
    "scrolled": true
   },
   "outputs": [
    {
     "data": {
      "image/png": "[encoded data removed]",
      "text/plain": [
       "<Figure size 800x500 with 2 Axes>"
      ]
     },
     "metadata": {},
     "output_type": "display_data"
    }
   ],
   "source": [
    "plt.subplots(figsize=(8, 5))\n",
    "sns.heatmap(X.corr(), annot=True, cmap=\"RdYlGn\")\n",
    "plt.show()"
   ]
  },
  {
   "cell_type": "markdown",
   "id": "b91f1114",
   "metadata": {},
   "source": [
    "### Model 1: Logistic Regression"
   ]
  },
  {
   "cell_type": "code",
   "execution_count": 59,
   "id": "0d783a66",
   "metadata": {
    "scrolled": true
   },
   "outputs": [
    {
     "data": {
      "text/html": [
       "<style>#sk-container-id-1 {color: black;background-color: white;}#sk-container-id-1 pre{padding: 0;}#sk-container-id-1 div.sk-toggleable {background-color: white;}#sk-container-id-1 label.sk-toggleable__label {cursor: pointer;display: block;width: 100%;margin-bottom: 0;padding: 0.3em;box-sizing: border-box;text-align: center;}#sk-container-id-1 label.sk-toggleable__label-arrow:before {content: \"▸\";float: left;margin-right: 0.25em;color: #696969;}#sk-container-id-1 label.sk-toggleable__label-arrow:hover:before {color: black;}#sk-container-id-1 div.sk-estimator:hover label.sk-toggleable__label-arrow:before {color: black;}#sk-container-id-1 div.sk-toggleable__content {max-height: 0;max-width: 0;overflow: hidden;text-align: left;background-color: #f0f8ff;}#sk-container-id-1 div.sk-toggleable__content pre {margin: 0.2em;color: black;border-radius: 0.25em;background-color: #f0f8ff;}#sk-container-id-1 input.sk-toggleable__control:checked~div.sk-toggleable__content {max-height: 200px;max-width: 100%;overflow: auto;}#sk-container-id-1 input.sk-toggleable__control:checked~label.sk-toggleable__label-arrow:before {content: \"▾\";}#sk-container-id-1 div.sk-estimator input.sk-toggleable__control:checked~label.sk-toggleable__label {background-color: #d4ebff;}#sk-container-id-1 div.sk-label input.sk-toggleable__control:checked~label.sk-toggleable__label {background-color: #d4ebff;}#sk-container-id-1 input.sk-hidden--visually {border: 0;clip: rect(1px 1px 1px 1px);clip: rect(1px, 1px, 1px, 1px);height: 1px;margin: -1px;overflow: hidden;padding: 0;position: absolute;width: 1px;}#sk-container-id-1 div.sk-estimator {font-family: monospace;background-color: #f0f8ff;border: 1px dotted black;border-radius: 0.25em;box-sizing: border-box;margin-bottom: 0.5em;}#sk-container-id-1 div.sk-estimator:hover {background-color: #d4ebff;}#sk-container-id-1 div.sk-parallel-item::after {content: \"\";width: 100%;border-bottom: 1px solid gray;flex-grow: 1;}#sk-container-id-1 div.sk-label:hover label.sk-toggleable__label {background-color: #d4ebff;}#sk-container-id-1 div.sk-serial::before {content: \"\";position: absolute;border-left: 1px solid gray;box-sizing: border-box;top: 0;bottom: 0;left: 50%;z-index: 0;}#sk-container-id-1 div.sk-serial {display: flex;flex-direction: column;align-items: center;background-color: white;padding-right: 0.2em;padding-left: 0.2em;position: relative;}#sk-container-id-1 div.sk-item {position: relative;z-index: 1;}#sk-container-id-1 div.sk-parallel {display: flex;align-items: stretch;justify-content: center;background-color: white;position: relative;}#sk-container-id-1 div.sk-item::before, #sk-container-id-1 div.sk-parallel-item::before {content: \"\";position: absolute;border-left: 1px solid gray;box-sizing: border-box;top: 0;bottom: 0;left: 50%;z-index: -1;}#sk-container-id-1 div.sk-parallel-item {display: flex;flex-direction: column;z-index: 1;position: relative;background-color: white;}#sk-container-id-1 div.sk-parallel-item:first-child::after {align-self: flex-end;width: 50%;}#sk-container-id-1 div.sk-parallel-item:last-child::after {align-self: flex-start;width: 50%;}#sk-container-id-1 div.sk-parallel-item:only-child::after {width: 0;}#sk-container-id-1 div.sk-dashed-wrapped {border: 1px dashed gray;margin: 0 0.4em 0.5em 0.4em;box-sizing: border-box;padding-bottom: 0.4em;background-color: white;}#sk-container-id-1 div.sk-label label {font-family: monospace;font-weight: bold;display: inline-block;line-height: 1.2em;}#sk-container-id-1 div.sk-label-container {text-align: center;}#sk-container-id-1 div.sk-container {/* jupyter's `normalize.less` sets `[hidden] { display: none; }` but bootstrap.min.css set `[hidden] { display: none !important; }` so we also need the `!important` here to be able to override the default hidden behavior on the sphinx rendered scikit-learn.org. See: https://github.com/scikit-learn/scikit-learn/issues/21755 */display: inline-block !important;position: relative;}#sk-container-id-1 div.sk-text-repr-fallback {display: none;}</style><div id=\"sk-container-id-1\" class=\"sk-top-container\"><div class=\"sk-text-repr-fallback\"><pre>LogisticRegression(random_state=0, solver=&#x27;liblinear&#x27;)</pre><b>In a Jupyter environment, please rerun this cell to show the HTML representation or trust the notebook. <br />On GitHub, the HTML representation is unable to render, please try loading this page with nbviewer.org.</b></div><div class=\"sk-container\" hidden><div class=\"sk-item\"><div class=\"sk-estimator sk-toggleable\"><input class=\"sk-toggleable__control sk-hidden--visually\" id=\"sk-estimator-id-1\" type=\"checkbox\" checked><label for=\"sk-estimator-id-1\" class=\"sk-toggleable__label sk-toggleable__label-arrow\">LogisticRegression</label><div class=\"sk-toggleable__content\"><pre>LogisticRegression(random_state=0, solver=&#x27;liblinear&#x27;)</pre></div></div></div></div></div>"
      ],
      "text/plain": [
       "LogisticRegression(random_state=0, solver='liblinear')"
      ]
     },
     "execution_count": 59,
     "metadata": {},
     "output_type": "execute_result"
    }
   ],
   "source": [
    "from sklearn.linear_model import LogisticRegression\n",
    "\n",
    "logreg = LogisticRegression(solver='liblinear', random_state=0)\n",
    "logreg.fit(X_train, y_train)"
   ]
  },
  {
   "cell_type": "code",
   "execution_count": 60,
   "id": "aae306b8",
   "metadata": {},
   "outputs": [
    {
     "name": "stdout",
     "output_type": "stream",
     "text": [
      "Training set score: 0.7788\n",
      "Test set score: 0.7786\n"
     ]
    }
   ],
   "source": [
    "#Check for overfitting\n",
    "from sklearn.metrics import accuracy_score\n",
    "\n",
    "#values are close so no issue with overfitting\n",
    "print('Training set score: {:.4f}'.format(logreg.score(X_train, y_train)))\n",
    "print('Test set score: {:.4f}'.format(logreg.score(X_test, y_test)))"
   ]
  },
  {
   "cell_type": "code",
   "execution_count": 61,
   "id": "210a0d37",
   "metadata": {
    "scrolled": true
   },
   "outputs": [
    {
     "data": {
      "text/plain": [
       "<AxesSubplot: >"
      ]
     },
     "execution_count": 61,
     "metadata": {},
     "output_type": "execute_result"
    },
    {
     "data": {
      "image/png": "[encoded data removed]",
      "text/plain": [
       "<Figure size 640x480 with 2 Axes>"
      ]
     },
     "metadata": {},
     "output_type": "display_data"
    }
   ],
   "source": [
    "from sklearn.metrics import confusion_matrix\n",
    "\n",
    "y_pred_test = logreg.predict(X_test)\n",
    "cm = confusion_matrix(y_test, y_pred_test)\n",
    "\n",
    "cm_matrix = pd.DataFrame(data=cm, columns=['Actual Win:1', 'Actual Loss:0'], \n",
    "                                 index=['Predict Win:1', 'Predict Loss:0'])\n",
    "\n",
    "sns.heatmap(cm_matrix, annot=True, fmt='d', cmap='YlGnBu')"
   ]
  },
  {
   "cell_type": "code",
   "execution_count": 62,
   "id": "40066a07",
   "metadata": {},
   "outputs": [
    {
     "data": {
      "text/plain": [
       "<AxesSubplot: ylabel='Feature'>"
      ]
     },
     "execution_count": 62,
     "metadata": {},
     "output_type": "execute_result"
    },
    {
     "data": {
      "image/png": "[encoded data removed]",
      "text/plain": [
       "<Figure size 1000x600 with 1 Axes>"
      ]
     },
     "metadata": {},
     "output_type": "display_data"
    }
   ],
   "source": [
    "#Feature importance - can we get rid of any of the features?\n",
    "coefficients = logreg.coef_[0]\n",
    "feature_importance = pd.DataFrame({'Feature': X.columns, 'Importance': np.abs(coefficients)})\n",
    "feature_importance = feature_importance.sort_values('Importance', ascending=True)\n",
    "feature_importance.plot(x='Feature', y='Importance', kind='barh', figsize=(10, 6))"
   ]
  },
  {
   "cell_type": "code",
   "execution_count": 63,
   "id": "28ae321f",
   "metadata": {},
   "outputs": [
    {
     "name": "stdout",
     "output_type": "stream",
     "text": [
      "              precision    recall  f1-score   support\n",
      "\n",
      "         0.0       0.79      0.76      0.78     30556\n",
      "         1.0       0.77      0.79      0.78     30534\n",
      "\n",
      "    accuracy                           0.78     61090\n",
      "   macro avg       0.78      0.78      0.78     61090\n",
      "weighted avg       0.78      0.78      0.78     61090\n",
      "\n"
     ]
    }
   ],
   "source": [
    "from sklearn.metrics import classification_report\n",
    "\n",
    "print(classification_report(y_test, y_pred_test))"
   ]
  },
  {
   "cell_type": "code",
   "execution_count": 64,
   "id": "2c6bbc4d",
   "metadata": {},
   "outputs": [
    {
     "name": "stdout",
     "output_type": "stream",
     "text": [
      "Cross-validation scores:[0.7783507  0.77957838 0.77592255 0.78192086 0.77679949]\n"
     ]
    }
   ],
   "source": [
    "# Applying 5-Fold Cross Validation\n",
    "\n",
    "from sklearn.model_selection import cross_val_score\n",
    "\n",
    "scores = cross_val_score(logreg, X_train, y_train, cv = 5, scoring='accuracy')\n",
    "print('Cross-validation scores:{}'.format(scores))"
   ]
  },
  {
   "cell_type": "code",
   "execution_count": 65,
   "id": "7a8fed02",
   "metadata": {},
   "outputs": [
    {
     "name": "stdout",
     "output_type": "stream",
     "text": [
      "Average cross-validation score: 0.7785\n"
     ]
    }
   ],
   "source": [
    "# compute Average cross-validation score\n",
    "\n",
    "print('Average cross-validation score: {:.4f}'.format(scores.mean()))"
   ]
  },
  {
   "cell_type": "markdown",
   "id": "1bd9e00b",
   "metadata": {},
   "source": [
    "## Model 2: Random Forest"
   ]
  },
  {
   "cell_type": "code",
   "execution_count": 66,
   "id": "653cd8b4",
   "metadata": {},
   "outputs": [
    {
     "data": {
      "text/html": [
       "<style>#sk-container-id-2 {color: black;background-color: white;}#sk-container-id-2 pre{padding: 0;}#sk-container-id-2 div.sk-toggleable {background-color: white;}#sk-container-id-2 label.sk-toggleable__label {cursor: pointer;display: block;width: 100%;margin-bottom: 0;padding: 0.3em;box-sizing: border-box;text-align: center;}#sk-container-id-2 label.sk-toggleable__label-arrow:before {content: \"▸\";float: left;margin-right: 0.25em;color: #696969;}#sk-container-id-2 label.sk-toggleable__label-arrow:hover:before {color: black;}#sk-container-id-2 div.sk-estimator:hover label.sk-toggleable__label-arrow:before {color: black;}#sk-container-id-2 div.sk-toggleable__content {max-height: 0;max-width: 0;overflow: hidden;text-align: left;background-color: #f0f8ff;}#sk-container-id-2 div.sk-toggleable__content pre {margin: 0.2em;color: black;border-radius: 0.25em;background-color: #f0f8ff;}#sk-container-id-2 input.sk-toggleable__control:checked~div.sk-toggleable__content {max-height: 200px;max-width: 100%;overflow: auto;}#sk-container-id-2 input.sk-toggleable__control:checked~label.sk-toggleable__label-arrow:before {content: \"▾\";}#sk-container-id-2 div.sk-estimator input.sk-toggleable__control:checked~label.sk-toggleable__label {background-color: #d4ebff;}#sk-container-id-2 div.sk-label input.sk-toggleable__control:checked~label.sk-toggleable__label {background-color: #d4ebff;}#sk-container-id-2 input.sk-hidden--visually {border: 0;clip: rect(1px 1px 1px 1px);clip: rect(1px, 1px, 1px, 1px);height: 1px;margin: -1px;overflow: hidden;padding: 0;position: absolute;width: 1px;}#sk-container-id-2 div.sk-estimator {font-family: monospace;background-color: #f0f8ff;border: 1px dotted black;border-radius: 0.25em;box-sizing: border-box;margin-bottom: 0.5em;}#sk-container-id-2 div.sk-estimator:hover {background-color: #d4ebff;}#sk-container-id-2 div.sk-parallel-item::after {content: \"\";width: 100%;border-bottom: 1px solid gray;flex-grow: 1;}#sk-container-id-2 div.sk-label:hover label.sk-toggleable__label {background-color: #d4ebff;}#sk-container-id-2 div.sk-serial::before {content: \"\";position: absolute;border-left: 1px solid gray;box-sizing: border-box;top: 0;bottom: 0;left: 50%;z-index: 0;}#sk-container-id-2 div.sk-serial {display: flex;flex-direction: column;align-items: center;background-color: white;padding-right: 0.2em;padding-left: 0.2em;position: relative;}#sk-container-id-2 div.sk-item {position: relative;z-index: 1;}#sk-container-id-2 div.sk-parallel {display: flex;align-items: stretch;justify-content: center;background-color: white;position: relative;}#sk-container-id-2 div.sk-item::before, #sk-container-id-2 div.sk-parallel-item::before {content: \"\";position: absolute;border-left: 1px solid gray;box-sizing: border-box;top: 0;bottom: 0;left: 50%;z-index: -1;}#sk-container-id-2 div.sk-parallel-item {display: flex;flex-direction: column;z-index: 1;position: relative;background-color: white;}#sk-container-id-2 div.sk-parallel-item:first-child::after {align-self: flex-end;width: 50%;}#sk-container-id-2 div.sk-parallel-item:last-child::after {align-self: flex-start;width: 50%;}#sk-container-id-2 div.sk-parallel-item:only-child::after {width: 0;}#sk-container-id-2 div.sk-dashed-wrapped {border: 1px dashed gray;margin: 0 0.4em 0.5em 0.4em;box-sizing: border-box;padding-bottom: 0.4em;background-color: white;}#sk-container-id-2 div.sk-label label {font-family: monospace;font-weight: bold;display: inline-block;line-height: 1.2em;}#sk-container-id-2 div.sk-label-container {text-align: center;}#sk-container-id-2 div.sk-container {/* jupyter's `normalize.less` sets `[hidden] { display: none; }` but bootstrap.min.css set `[hidden] { display: none !important; }` so we also need the `!important` here to be able to override the default hidden behavior on the sphinx rendered scikit-learn.org. See: https://github.com/scikit-learn/scikit-learn/issues/21755 */display: inline-block !important;position: relative;}#sk-container-id-2 div.sk-text-repr-fallback {display: none;}</style><div id=\"sk-container-id-2\" class=\"sk-top-container\"><div class=\"sk-text-repr-fallback\"><pre>RandomForestClassifier(max_depth=5, max_features=None, n_estimators=1000,\n",
       "                       oob_score=True)</pre><b>In a Jupyter environment, please rerun this cell to show the HTML representation or trust the notebook. <br />On GitHub, the HTML representation is unable to render, please try loading this page with nbviewer.org.</b></div><div class=\"sk-container\" hidden><div class=\"sk-item\"><div class=\"sk-estimator sk-toggleable\"><input class=\"sk-toggleable__control sk-hidden--visually\" id=\"sk-estimator-id-2\" type=\"checkbox\" checked><label for=\"sk-estimator-id-2\" class=\"sk-toggleable__label sk-toggleable__label-arrow\">RandomForestClassifier</label><div class=\"sk-toggleable__content\"><pre>RandomForestClassifier(max_depth=5, max_features=None, n_estimators=1000,\n",
       "                       oob_score=True)</pre></div></div></div></div></div>"
      ],
      "text/plain": [
       "RandomForestClassifier(max_depth=5, max_features=None, n_estimators=1000,\n",
       "                       oob_score=True)"
      ]
     },
     "execution_count": 66,
     "metadata": {},
     "output_type": "execute_result"
    }
   ],
   "source": [
    "from sklearn.ensemble import RandomForestClassifier\n",
    "\n",
    "#Choose features and response\n",
    "y = model_df['outcome']\n",
    "X = model_df[['num_aces','num_dfs','serve1_in_perc','player_age','surface','num_brkpts_saved','num_brkpts_faced']]\n",
    "\n",
    "#One Hot Encode surface\n",
    "one_hot = pd.get_dummies(X['surface'])\n",
    "X = X.drop('surface',axis=1)\n",
    "X = X.join(one_hot)\n",
    "\n",
    "\n",
    "scale = StandardScaler()\n",
    "scaledX = scale.fit_transform(X)\n",
    "\n",
    "X_train, X_test, y_train, y_test = train_test_split(scaledX, y, test_size=0.30, random_state=42)\n",
    "\n",
    "\n",
    "rf = RandomForestClassifier(n_estimators=1000, oob_score=True, max_features=None, max_depth = 5)\n",
    "rf.fit(X_train, y_train)"
   ]
  },
  {
   "cell_type": "code",
   "execution_count": 67,
   "id": "0437178d",
   "metadata": {},
   "outputs": [
    {
     "name": "stdout",
     "output_type": "stream",
     "text": [
      "Training set score: 0.7615\n",
      "Test set score: 0.7607\n"
     ]
    }
   ],
   "source": [
    "#Check for overfitting\n",
    "from sklearn.metrics import accuracy_score\n",
    "\n",
    "#values are not close so overfitting is for sure happening\n",
    "print('Training set score: {:.4f}'.format(rf.score(X_train, y_train)))\n",
    "print('Test set score: {:.4f}'.format(rf.score(X_test, y_test)))"
   ]
  },
  {
   "cell_type": "code",
   "execution_count": 68,
   "id": "4c242ddd",
   "metadata": {
    "scrolled": true
   },
   "outputs": [
    {
     "data": {
      "text/plain": [
       "<AxesSubplot: >"
      ]
     },
     "execution_count": 68,
     "metadata": {},
     "output_type": "execute_result"
    },
    {
     "data": {
      "image/png": "[encoded data removed]",
      "text/plain": [
       "<Figure size 640x480 with 2 Axes>"
      ]
     },
     "metadata": {},
     "output_type": "display_data"
    }
   ],
   "source": [
    "y_pred_test = rf.predict(X_test)\n",
    "cm = confusion_matrix(y_test, y_pred_test)\n",
    "\n",
    "cm_matrix = pd.DataFrame(data=cm, columns=['Actual Win:1', 'Actual Loss:0'], \n",
    "                                 index=['Predict Win:1', 'Predict Loss:0'])\n",
    "\n",
    "sns.heatmap(cm_matrix, annot=True, fmt='d', cmap='YlGnBu')"
   ]
  },
  {
   "cell_type": "code",
   "execution_count": 69,
   "id": "527f7405",
   "metadata": {},
   "outputs": [
    {
     "name": "stdout",
     "output_type": "stream",
     "text": [
      "Elapsed time to compute the importances: 0.059 seconds\n"
     ]
    }
   ],
   "source": [
    "import time\n",
    "\n",
    "start_time = time.time()\n",
    "importances = rf.feature_importances_\n",
    "std = np.std([tree.feature_importances_ for tree in rf.estimators_], axis=0)\n",
    "elapsed_time = time.time() - start_time\n",
    "\n",
    "print(f\"Elapsed time to compute the importances: {elapsed_time:.3f} seconds\")"
   ]
  },
  {
   "cell_type": "code",
   "execution_count": 70,
   "id": "746fe731",
   "metadata": {},
   "outputs": [
    {
     "data": {
      "image/png": "[encoded data removed]",
      "text/plain": [
       "<Figure size 640x480 with 1 Axes>"
      ]
     },
     "metadata": {},
     "output_type": "display_data"
    }
   ],
   "source": [
    "feature_names = [f\"feature {i}\" for i in range(X.shape[1])]\n",
    "\n",
    "forest_importances = pd.Series(importances, index=feature_names)\n",
    "\n",
    "fig, ax = plt.subplots()\n",
    "forest_importances.plot.bar(yerr=std, ax=ax)\n",
    "ax.set_title(\"Feature importances using MDI\")\n",
    "ax.set_ylabel(\"Mean decrease in impurity\")\n",
    "fig.tight_layout()"
   ]
  },
  {
   "cell_type": "code",
   "execution_count": 71,
   "id": "4e5ac6d0",
   "metadata": {},
   "outputs": [
    {
     "name": "stdout",
     "output_type": "stream",
     "text": [
      "              precision    recall  f1-score   support\n",
      "\n",
      "         0.0       0.73      0.82      0.77     30556\n",
      "         1.0       0.80      0.70      0.75     30534\n",
      "\n",
      "    accuracy                           0.76     61090\n",
      "   macro avg       0.76      0.76      0.76     61090\n",
      "weighted avg       0.76      0.76      0.76     61090\n",
      "\n"
     ]
    }
   ],
   "source": [
    "print(classification_report(y_test, y_pred_test))"
   ]
  },
  {
   "cell_type": "code",
   "execution_count": 72,
   "id": "ae065722",
   "metadata": {},
   "outputs": [
    {
     "name": "stdout",
     "output_type": "stream",
     "text": [
      "Cross-validation scores:[0.75979515 0.76067207 0.75385857 0.76227726 0.76248772]\n",
      "Average cross-validation score: 0.7598\n"
     ]
    }
   ],
   "source": [
    "# Applying 5-Fold Cross Validation\n",
    "scores = cross_val_score(rf, X_train, y_train, cv = 5, scoring='accuracy')\n",
    "print('Cross-validation scores:{}'.format(scores))\n",
    "\n",
    "#Compute Average cross-validation score\n",
    "print('Average cross-validation score: {:.4f}'.format(scores.mean()))"
   ]
  },
  {
   "cell_type": "markdown",
   "id": "5c47e68e",
   "metadata": {},
   "source": [
    "## Model 3: XGBoost"
   ]
  },
  {
   "cell_type": "code",
   "execution_count": 73,
   "id": "0315a91c",
   "metadata": {
    "scrolled": true
   },
   "outputs": [
    {
     "data": {
      "text/html": [
       "<style>#sk-container-id-3 {color: black;background-color: white;}#sk-container-id-3 pre{padding: 0;}#sk-container-id-3 div.sk-toggleable {background-color: white;}#sk-container-id-3 label.sk-toggleable__label {cursor: pointer;display: block;width: 100%;margin-bottom: 0;padding: 0.3em;box-sizing: border-box;text-align: center;}#sk-container-id-3 label.sk-toggleable__label-arrow:before {content: \"▸\";float: left;margin-right: 0.25em;color: #696969;}#sk-container-id-3 label.sk-toggleable__label-arrow:hover:before {color: black;}#sk-container-id-3 div.sk-estimator:hover label.sk-toggleable__label-arrow:before {color: black;}#sk-container-id-3 div.sk-toggleable__content {max-height: 0;max-width: 0;overflow: hidden;text-align: left;background-color: #f0f8ff;}#sk-container-id-3 div.sk-toggleable__content pre {margin: 0.2em;color: black;border-radius: 0.25em;background-color: #f0f8ff;}#sk-container-id-3 input.sk-toggleable__control:checked~div.sk-toggleable__content {max-height: 200px;max-width: 100%;overflow: auto;}#sk-container-id-3 input.sk-toggleable__control:checked~label.sk-toggleable__label-arrow:before {content: \"▾\";}#sk-container-id-3 div.sk-estimator input.sk-toggleable__control:checked~label.sk-toggleable__label {background-color: #d4ebff;}#sk-container-id-3 div.sk-label input.sk-toggleable__control:checked~label.sk-toggleable__label {background-color: #d4ebff;}#sk-container-id-3 input.sk-hidden--visually {border: 0;clip: rect(1px 1px 1px 1px);clip: rect(1px, 1px, 1px, 1px);height: 1px;margin: -1px;overflow: hidden;padding: 0;position: absolute;width: 1px;}#sk-container-id-3 div.sk-estimator {font-family: monospace;background-color: #f0f8ff;border: 1px dotted black;border-radius: 0.25em;box-sizing: border-box;margin-bottom: 0.5em;}#sk-container-id-3 div.sk-estimator:hover {background-color: #d4ebff;}#sk-container-id-3 div.sk-parallel-item::after {content: \"\";width: 100%;border-bottom: 1px solid gray;flex-grow: 1;}#sk-container-id-3 div.sk-label:hover label.sk-toggleable__label {background-color: #d4ebff;}#sk-container-id-3 div.sk-serial::before {content: \"\";position: absolute;border-left: 1px solid gray;box-sizing: border-box;top: 0;bottom: 0;left: 50%;z-index: 0;}#sk-container-id-3 div.sk-serial {display: flex;flex-direction: column;align-items: center;background-color: white;padding-right: 0.2em;padding-left: 0.2em;position: relative;}#sk-container-id-3 div.sk-item {position: relative;z-index: 1;}#sk-container-id-3 div.sk-parallel {display: flex;align-items: stretch;justify-content: center;background-color: white;position: relative;}#sk-container-id-3 div.sk-item::before, #sk-container-id-3 div.sk-parallel-item::before {content: \"\";position: absolute;border-left: 1px solid gray;box-sizing: border-box;top: 0;bottom: 0;left: 50%;z-index: -1;}#sk-container-id-3 div.sk-parallel-item {display: flex;flex-direction: column;z-index: 1;position: relative;background-color: white;}#sk-container-id-3 div.sk-parallel-item:first-child::after {align-self: flex-end;width: 50%;}#sk-container-id-3 div.sk-parallel-item:last-child::after {align-self: flex-start;width: 50%;}#sk-container-id-3 div.sk-parallel-item:only-child::after {width: 0;}#sk-container-id-3 div.sk-dashed-wrapped {border: 1px dashed gray;margin: 0 0.4em 0.5em 0.4em;box-sizing: border-box;padding-bottom: 0.4em;background-color: white;}#sk-container-id-3 div.sk-label label {font-family: monospace;font-weight: bold;display: inline-block;line-height: 1.2em;}#sk-container-id-3 div.sk-label-container {text-align: center;}#sk-container-id-3 div.sk-container {/* jupyter's `normalize.less` sets `[hidden] { display: none; }` but bootstrap.min.css set `[hidden] { display: none !important; }` so we also need the `!important` here to be able to override the default hidden behavior on the sphinx rendered scikit-learn.org. See: https://github.com/scikit-learn/scikit-learn/issues/21755 */display: inline-block !important;position: relative;}#sk-container-id-3 div.sk-text-repr-fallback {display: none;}</style><div id=\"sk-container-id-3\" class=\"sk-top-container\"><div class=\"sk-text-repr-fallback\"><pre>XGBClassifier(base_score=0.5, booster=&#x27;gbtree&#x27;, callbacks=None,\n",
       "              colsample_bylevel=1, colsample_bynode=1, colsample_bytree=1,\n",
       "              early_stopping_rounds=None, enable_categorical=False,\n",
       "              eval_metric=None, feature_types=None, gamma=0, gpu_id=-1,\n",
       "              grow_policy=&#x27;depthwise&#x27;, importance_type=None,\n",
       "              interaction_constraints=&#x27;&#x27;, learning_rate=0.300000012,\n",
       "              max_bin=256, max_cat_threshold=64, max_cat_to_onehot=4,\n",
       "              max_delta_step=0, max_depth=6, max_leaves=0, min_child_weight=1,\n",
       "              missing=nan, monotone_constraints=&#x27;()&#x27;, n_estimators=100,\n",
       "              n_jobs=0, num_parallel_tree=1, predictor=&#x27;auto&#x27;, random_state=0, ...)</pre><b>In a Jupyter environment, please rerun this cell to show the HTML representation or trust the notebook. <br />On GitHub, the HTML representation is unable to render, please try loading this page with nbviewer.org.</b></div><div class=\"sk-container\" hidden><div class=\"sk-item\"><div class=\"sk-estimator sk-toggleable\"><input class=\"sk-toggleable__control sk-hidden--visually\" id=\"sk-estimator-id-3\" type=\"checkbox\" checked><label for=\"sk-estimator-id-3\" class=\"sk-toggleable__label sk-toggleable__label-arrow\">XGBClassifier</label><div class=\"sk-toggleable__content\"><pre>XGBClassifier(base_score=0.5, booster=&#x27;gbtree&#x27;, callbacks=None,\n",
       "              colsample_bylevel=1, colsample_bynode=1, colsample_bytree=1,\n",
       "              early_stopping_rounds=None, enable_categorical=False,\n",
       "              eval_metric=None, feature_types=None, gamma=0, gpu_id=-1,\n",
       "              grow_policy=&#x27;depthwise&#x27;, importance_type=None,\n",
       "              interaction_constraints=&#x27;&#x27;, learning_rate=0.300000012,\n",
       "              max_bin=256, max_cat_threshold=64, max_cat_to_onehot=4,\n",
       "              max_delta_step=0, max_depth=6, max_leaves=0, min_child_weight=1,\n",
       "              missing=nan, monotone_constraints=&#x27;()&#x27;, n_estimators=100,\n",
       "              n_jobs=0, num_parallel_tree=1, predictor=&#x27;auto&#x27;, random_state=0, ...)</pre></div></div></div></div></div>"
      ],
      "text/plain": [
       "XGBClassifier(base_score=0.5, booster='gbtree', callbacks=None,\n",
       "              colsample_bylevel=1, colsample_bynode=1, colsample_bytree=1,\n",
       "              early_stopping_rounds=None, enable_categorical=False,\n",
       "              eval_metric=None, feature_types=None, gamma=0, gpu_id=-1,\n",
       "              grow_policy='depthwise', importance_type=None,\n",
       "              interaction_constraints='', learning_rate=0.300000012,\n",
       "              max_bin=256, max_cat_threshold=64, max_cat_to_onehot=4,\n",
       "              max_delta_step=0, max_depth=6, max_leaves=0, min_child_weight=1,\n",
       "              missing=nan, monotone_constraints='()', n_estimators=100,\n",
       "              n_jobs=0, num_parallel_tree=1, predictor='auto', random_state=0, ...)"
      ]
     },
     "execution_count": 73,
     "metadata": {},
     "output_type": "execute_result"
    }
   ],
   "source": [
    "from xgboost import XGBClassifier\n",
    "\n",
    "#Choose features and response\n",
    "y = model_df['outcome']\n",
    "X = model_df[['num_aces','num_dfs','serve1_in_perc','player_age','surface','num_brkpts_saved','num_brkpts_faced']]\n",
    "\n",
    "#One Hot Encode surface\n",
    "one_hot = pd.get_dummies(X['surface'])\n",
    "X = X.drop('surface',axis=1)\n",
    "X = X.join(one_hot)\n",
    "\n",
    "\n",
    "scale = StandardScaler()\n",
    "scaledX = scale.fit_transform(X)\n",
    "\n",
    "X_train, X_test, y_train, y_test = train_test_split(scaledX, y, test_size=0.30, random_state=42)\n",
    "\n",
    "\n",
    "xgb_class = XGBClassifier()\n",
    "xgb_class.fit(X_train, y_train, verbose = False, early_stopping_rounds=15,eval_set=[(X_test,y_test)])"
   ]
  },
  {
   "cell_type": "code",
   "execution_count": 74,
   "id": "48c5321a",
   "metadata": {},
   "outputs": [
    {
     "name": "stdout",
     "output_type": "stream",
     "text": [
      "Training set score: 0.8137\n",
      "Test set score: 0.8013\n"
     ]
    }
   ],
   "source": [
    "predictions = xgb_class.predict(X_test)\n",
    "\n",
    "print('Training set score: {:.4f}'.format(xgb_class.score(X_train, y_train)))\n",
    "print('Test set score: {:.4f}'.format(xgb_class.score(X_test, y_test)))"
   ]
  },
  {
   "cell_type": "code",
   "execution_count": 75,
   "id": "4413f09f",
   "metadata": {},
   "outputs": [
    {
     "data": {
      "text/plain": [
       "<AxesSubplot: >"
      ]
     },
     "execution_count": 75,
     "metadata": {},
     "output_type": "execute_result"
    },
    {
     "data": {
      "image/png": "[encoded data removed]",
      "text/plain": [
       "<Figure size 640x480 with 2 Axes>"
      ]
     },
     "metadata": {},
     "output_type": "display_data"
    }
   ],
   "source": [
    "y_pred_test = xgb_class.predict(X_test)\n",
    "cm = confusion_matrix(y_test, y_pred_test)\n",
    "\n",
    "cm_matrix = pd.DataFrame(data=cm, columns=['Actual Win:1', 'Actual Loss:0'], \n",
    "                                 index=['Predict Win:1', 'Predict Loss:0'])\n",
    "\n",
    "sns.heatmap(cm_matrix, annot=True, fmt='d', cmap='YlGnBu')"
   ]
  },
  {
   "cell_type": "code",
   "execution_count": 76,
   "id": "f1353b01",
   "metadata": {
    "scrolled": true
   },
   "outputs": [
    {
     "name": "stdout",
     "output_type": "stream",
     "text": [
      "              precision    recall  f1-score   support\n",
      "\n",
      "         0.0       0.80      0.80      0.80     30556\n",
      "         1.0       0.80      0.80      0.80     30534\n",
      "\n",
      "    accuracy                           0.80     61090\n",
      "   macro avg       0.80      0.80      0.80     61090\n",
      "weighted avg       0.80      0.80      0.80     61090\n",
      "\n"
     ]
    }
   ],
   "source": [
    "print(classification_report(y_test, y_pred_test))"
   ]
  },
  {
   "cell_type": "code",
   "execution_count": 77,
   "id": "a0b32d48",
   "metadata": {},
   "outputs": [
    {
     "name": "stdout",
     "output_type": "stream",
     "text": [
      "Cross-validation scores:[0.79999298 0.80381634 0.80198541 0.80131893 0.80286235]\n",
      "Average cross-validation score: 0.8020\n"
     ]
    }
   ],
   "source": [
    "# Applying 5-Fold Cross Validation\n",
    "scores = cross_val_score(xgb_class, X_train, y_train, cv = 5, scoring='accuracy')\n",
    "print('Cross-validation scores:{}'.format(scores))\n",
    "\n",
    "#Compute Average cross-validation score\n",
    "print('Average cross-validation score: {:.4f}'.format(scores.mean()))"
   ]
  },
  {
   "cell_type": "markdown",
   "id": "add6feb8",
   "metadata": {},
   "source": [
    "## Let's try surface-specific models"
   ]
  },
  {
   "cell_type": "markdown",
   "id": "78115f94",
   "metadata": {},
   "source": [
    "#### Grass Model"
   ]
  },
  {
   "cell_type": "code",
   "execution_count": 78,
   "id": "3a18b5ae",
   "metadata": {},
   "outputs": [
    {
     "name": "stdout",
     "output_type": "stream",
     "text": [
      "(13755, 6)\n",
      "(13755,)\n",
      "(5896, 6)\n",
      "(5896,)\n"
     ]
    }
   ],
   "source": [
    "#Filter data however you see fit\n",
    "grass = model_df[(model_df['player_age'].notnull()) & (model_df['surface']==\"Grass\")]\n",
    "\n",
    "#Choose features and response\n",
    "y = grass['outcome']\n",
    "X = grass[['num_aces','num_dfs','serve1_in_perc','player_age','num_brkpts_saved','num_brkpts_faced']]\n",
    "\n",
    "scale = StandardScaler()\n",
    "scaledX = scale.fit_transform(X)\n",
    "\n",
    "X_train, X_test, y_train, y_test = train_test_split(scaledX, y, test_size=0.30, random_state=42)\n",
    "\n",
    "print(X_train.shape)\n",
    "print(y_train.shape)\n",
    "print(X_test.shape)\n",
    "print(y_test.shape)"
   ]
  },
  {
   "cell_type": "code",
   "execution_count": 79,
   "id": "59633fde",
   "metadata": {},
   "outputs": [
    {
     "name": "stdout",
     "output_type": "stream",
     "text": [
      "Training set score: 0.7752\n",
      "Test set score: 0.7787\n"
     ]
    }
   ],
   "source": [
    "logreg = LogisticRegression(solver='liblinear', random_state=0)\n",
    "logreg.fit(X_train, y_train)\n",
    "\n",
    "print('Training set score: {:.4f}'.format(logreg.score(X_train, y_train)))\n",
    "print('Test set score: {:.4f}'.format(logreg.score(X_test, y_test)))"
   ]
  },
  {
   "cell_type": "code",
   "execution_count": 80,
   "id": "a89ab558",
   "metadata": {},
   "outputs": [
    {
     "data": {
      "text/plain": [
       "<AxesSubplot: ylabel='Feature'>"
      ]
     },
     "execution_count": 80,
     "metadata": {},
     "output_type": "execute_result"
    },
    {
     "data": {
      "image/png": "[encoded data removed]",
      "text/plain": [
       "<Figure size 500x300 with 1 Axes>"
      ]
     },
     "metadata": {},
     "output_type": "display_data"
    }
   ],
   "source": [
    "#Feature importance - can we get rid of any of the features?\n",
    "coefficients = logreg.coef_[0]\n",
    "feature_importance = pd.DataFrame({'Feature': X.columns, 'Importance': np.abs(coefficients)})\n",
    "feature_importance = feature_importance.sort_values('Importance', ascending=True)\n",
    "feature_importance.plot(x='Feature', y='Importance', kind='barh', figsize=(5, 3))"
   ]
  },
  {
   "cell_type": "markdown",
   "id": "7058c836",
   "metadata": {},
   "source": [
    "### Clay Model"
   ]
  },
  {
   "cell_type": "code",
   "execution_count": 81,
   "id": "df37929b",
   "metadata": {},
   "outputs": [
    {
     "name": "stdout",
     "output_type": "stream",
     "text": [
      "(47509, 6)\n",
      "(47509,)\n",
      "(20361, 6)\n",
      "(20361,)\n"
     ]
    }
   ],
   "source": [
    "#Filter data however you see fit\n",
    "clay = model_df[(model_df['player_age'].notnull()) & (model_df['surface']==\"Clay\")]\n",
    "\n",
    "#Choose features and response\n",
    "y = clay['outcome']\n",
    "X = clay[['num_aces','num_dfs','serve1_in_perc','player_age','num_brkpts_saved','num_brkpts_faced']]\n",
    "\n",
    "scale = StandardScaler()\n",
    "scaledX = scale.fit_transform(X)\n",
    "\n",
    "X_train, X_test, y_train, y_test = train_test_split(scaledX, y, test_size=0.30, random_state=42)\n",
    "\n",
    "print(X_train.shape)\n",
    "print(y_train.shape)\n",
    "print(X_test.shape)\n",
    "print(y_test.shape)"
   ]
  },
  {
   "cell_type": "code",
   "execution_count": 82,
   "id": "96c943cf",
   "metadata": {},
   "outputs": [
    {
     "name": "stdout",
     "output_type": "stream",
     "text": [
      "Training set score: 0.7852\n",
      "Test set score: 0.7899\n"
     ]
    }
   ],
   "source": [
    "logreg = LogisticRegression(solver='liblinear', random_state=0)\n",
    "logreg.fit(X_train, y_train)\n",
    "\n",
    "print('Training set score: {:.4f}'.format(logreg.score(X_train, y_train)))\n",
    "print('Test set score: {:.4f}'.format(logreg.score(X_test, y_test)))"
   ]
  },
  {
   "cell_type": "code",
   "execution_count": 83,
   "id": "3f583151",
   "metadata": {},
   "outputs": [
    {
     "data": {
      "text/plain": [
       "<AxesSubplot: ylabel='Feature'>"
      ]
     },
     "execution_count": 83,
     "metadata": {},
     "output_type": "execute_result"
    },
    {
     "data": {
      "image/png": "[encoded data removed]",
      "text/plain": [
       "<Figure size 500x300 with 1 Axes>"
      ]
     },
     "metadata": {},
     "output_type": "display_data"
    }
   ],
   "source": [
    "#Feature importance - can we get rid of any of the features?\n",
    "coefficients = logreg.coef_[0]\n",
    "feature_importance = pd.DataFrame({'Feature': X.columns, 'Importance': np.abs(coefficients)})\n",
    "feature_importance = feature_importance.sort_values('Importance', ascending=True)\n",
    "feature_importance.plot(x='Feature', y='Importance', kind='barh', figsize=(5, 3))"
   ]
  },
  {
   "cell_type": "markdown",
   "id": "d710cb96",
   "metadata": {},
   "source": [
    "### Hard Court Model"
   ]
  },
  {
   "cell_type": "code",
   "execution_count": 84,
   "id": "22f0c992",
   "metadata": {},
   "outputs": [
    {
     "name": "stdout",
     "output_type": "stream",
     "text": [
      "(71195, 6)\n",
      "(71195,)\n",
      "(30513, 6)\n",
      "(30513,)\n"
     ]
    }
   ],
   "source": [
    "#Filter data however you see fit\n",
    "hard = model_df[(model_df['player_age'].notnull()) & (model_df['surface']==\"Hard\")]\n",
    "\n",
    "#Choose features and response\n",
    "y = hard['outcome']\n",
    "X = hard[['num_aces','num_dfs','serve1_in_perc','player_age','num_brkpts_saved','num_brkpts_faced']]\n",
    "\n",
    "scale = StandardScaler()\n",
    "scaledX = scale.fit_transform(X)\n",
    "\n",
    "X_train, X_test, y_train, y_test = train_test_split(scaledX, y, test_size=0.30, random_state=42)\n",
    "\n",
    "print(X_train.shape)\n",
    "print(y_train.shape)\n",
    "print(X_test.shape)\n",
    "print(y_test.shape)"
   ]
  },
  {
   "cell_type": "code",
   "execution_count": 85,
   "id": "f44c7428",
   "metadata": {},
   "outputs": [
    {
     "name": "stdout",
     "output_type": "stream",
     "text": [
      "Training set score: 0.7793\n",
      "Test set score: 0.7734\n"
     ]
    }
   ],
   "source": [
    "logreg = LogisticRegression(solver='liblinear', random_state=0)\n",
    "logreg.fit(X_train, y_train)\n",
    "\n",
    "print('Training set score: {:.4f}'.format(logreg.score(X_train, y_train)))\n",
    "print('Test set score: {:.4f}'.format(logreg.score(X_test, y_test)))"
   ]
  },
  {
   "cell_type": "code",
   "execution_count": 86,
   "id": "22269abc",
   "metadata": {
    "scrolled": true
   },
   "outputs": [
    {
     "data": {
      "text/plain": [
       "<AxesSubplot: ylabel='Feature'>"
      ]
     },
     "execution_count": 86,
     "metadata": {},
     "output_type": "execute_result"
    },
    {
     "data": {
      "image/png": "[encoded data removed]",
      "text/plain": [
       "<Figure size 500x300 with 1 Axes>"
      ]
     },
     "metadata": {},
     "output_type": "display_data"
    }
   ],
   "source": [
    "#Feature importance - can we get rid of any of the features?\n",
    "coefficients = logreg.coef_[0]\n",
    "feature_importance = pd.DataFrame({'Feature': X.columns, 'Importance': np.abs(coefficients)})\n",
    "feature_importance = feature_importance.sort_values('Importance', ascending=True)\n",
    "feature_importance.plot(x='Feature', y='Importance', kind='barh', figsize=(5, 3))"
   ]
  },
  {
   "cell_type": "markdown",
   "id": "ed71d1a7",
   "metadata": {},
   "source": [
    "# Ensemble Modeling\n",
    "#### Reference 1: https://www.kaggle.com/code/pavansanagapati/ensemble-learning-techniques-tutorial\n",
    "#### Reference 2: https://www.kaggle.com/code/vipulgandhi/a-comprehensive-guide-to-ensemble-learning\n",
    "#### Reference 3: https://www.kaggle.com/code/odaymourad/detailed-and-typical-solution-ensemble-modeling"
   ]
  },
  {
   "cell_type": "code",
   "execution_count": 87,
   "id": "52ef62fc",
   "metadata": {},
   "outputs": [],
   "source": [
    "#Choose features and response\n",
    "y = model_df['outcome']\n",
    "X = model_df[['num_aces','num_dfs','serve1_in_perc','player_age','surface','num_brkpts_saved','num_brkpts_faced']]\n",
    "\n",
    "#One Hot Encode surface\n",
    "one_hot = pd.get_dummies(X['surface'])\n",
    "X = X.drop('surface',axis=1)\n",
    "X = X.join(one_hot)\n",
    "\n",
    "\n",
    "scale = StandardScaler()\n",
    "scaledX = scale.fit_transform(X)\n",
    "\n",
    "X_train, X_test, y_train, y_test = train_test_split(scaledX, y, test_size=0.30, random_state=42)"
   ]
  },
  {
   "cell_type": "code",
   "execution_count": 88,
   "id": "d46a7b66",
   "metadata": {},
   "outputs": [],
   "source": [
    "#Cross validate model with Kfold stratified cross val\n",
    "from sklearn.model_selection import GridSearchCV, cross_val_score, StratifiedKFold, learning_curve\n",
    "kfold = StratifiedKFold(n_splits=8)"
   ]
  },
  {
   "cell_type": "code",
   "execution_count": 89,
   "id": "67d33a9f",
   "metadata": {},
   "outputs": [
    {
     "name": "stderr",
     "output_type": "stream",
     "text": [
      "/Users/jonzimmerman/anaconda3/lib/python3.9/site-packages/xgboost/data.py:427: FutureWarning: is_sparse is deprecated and will be removed in a future version. Check `isinstance(dtype, pd.SparseDtype)` instead.\n",
      "  if is_sparse(data):\n",
      "/Users/jonzimmerman/anaconda3/lib/python3.9/site-packages/xgboost/data.py:427: FutureWarning: is_sparse is deprecated and will be removed in a future version. Check `isinstance(dtype, pd.SparseDtype)` instead.\n",
      "  if is_sparse(data):\n",
      "/Users/jonzimmerman/anaconda3/lib/python3.9/site-packages/xgboost/data.py:427: FutureWarning: is_sparse is deprecated and will be removed in a future version. Check `isinstance(dtype, pd.SparseDtype)` instead.\n",
      "  if is_sparse(data):\n",
      "/Users/jonzimmerman/anaconda3/lib/python3.9/site-packages/xgboost/data.py:427: FutureWarning: is_sparse is deprecated and will be removed in a future version. Check `isinstance(dtype, pd.SparseDtype)` instead.\n",
      "  if is_sparse(data):\n",
      "/Users/jonzimmerman/anaconda3/lib/python3.9/site-packages/xgboost/data.py:427: FutureWarning: is_sparse is deprecated and will be removed in a future version. Check `isinstance(dtype, pd.SparseDtype)` instead.\n",
      "  if is_sparse(data):\n",
      "/Users/jonzimmerman/anaconda3/lib/python3.9/site-packages/xgboost/data.py:427: FutureWarning: is_sparse is deprecated and will be removed in a future version. Check `isinstance(dtype, pd.SparseDtype)` instead.\n",
      "  if is_sparse(data):\n",
      "/Users/jonzimmerman/anaconda3/lib/python3.9/site-packages/xgboost/data.py:427: FutureWarning: is_sparse is deprecated and will be removed in a future version. Check `isinstance(dtype, pd.SparseDtype)` instead.\n",
      "  if is_sparse(data):\n",
      "/Users/jonzimmerman/anaconda3/lib/python3.9/site-packages/xgboost/data.py:427: FutureWarning: is_sparse is deprecated and will be removed in a future version. Check `isinstance(dtype, pd.SparseDtype)` instead.\n",
      "  if is_sparse(data):\n"
     ]
    }
   ],
   "source": [
    "#Modeling step Test differents algorithms \n",
    "from sklearn.svm import SVC\n",
    "from sklearn.neighbors import KNeighborsClassifier\n",
    "from sklearn.ensemble import GradientBoostingClassifier\n",
    "\n",
    "random_state = 2\n",
    "classifiers = []\n",
    "classifiers.append(RandomForestClassifier(random_state=random_state))\n",
    "classifiers.append(XGBClassifier(random_state=random_state))\n",
    "classifiers.append(LogisticRegression(random_state = random_state))\n",
    "\n",
    "\n",
    "cv_results = []\n",
    "for classifier in classifiers :\n",
    "    cv_results.append(cross_val_score(classifier, X_train, y = y_train, scoring = \"accuracy\", cv = kfold, n_jobs=4))\n",
    "\n",
    "cv_means = []\n",
    "cv_std = []\n",
    "for cv_result in cv_results:\n",
    "    cv_means.append(cv_result.mean())\n",
    "    cv_std.append(cv_result.std())\n",
    "\n",
    "cv_res = pd.DataFrame({\"CrossValMeans\":cv_means,\n",
    "                       \"CrossValerrors\": cv_std,\n",
    "                       \"Algorithm\":[\"RandomForest\",\"XGBoost\",\"LogisticRegression\"]})"
   ]
  },
  {
   "cell_type": "code",
   "execution_count": 90,
   "id": "ef76baba",
   "metadata": {},
   "outputs": [
    {
     "data": {
      "text/html": [
       "<div>\n",
       "<style scoped>\n",
       "    .dataframe tbody tr th:only-of-type {\n",
       "        vertical-align: middle;\n",
       "    }\n",
       "\n",
       "    .dataframe tbody tr th {\n",
       "        vertical-align: top;\n",
       "    }\n",
       "\n",
       "    .dataframe thead th {\n",
       "        text-align: right;\n",
       "    }\n",
       "</style>\n",
       "<table border=\"1\" class=\"dataframe\">\n",
       "  <thead>\n",
       "    <tr style=\"text-align: right;\">\n",
       "      <th></th>\n",
       "      <th>CrossValMeans</th>\n",
       "      <th>CrossValerrors</th>\n",
       "      <th>Algorithm</th>\n",
       "    </tr>\n",
       "  </thead>\n",
       "  <tbody>\n",
       "    <tr>\n",
       "      <th>0</th>\n",
       "      <td>0.788764</td>\n",
       "      <td>0.001263</td>\n",
       "      <td>RandomForest</td>\n",
       "    </tr>\n",
       "    <tr>\n",
       "      <th>1</th>\n",
       "      <td>0.800768</td>\n",
       "      <td>0.001399</td>\n",
       "      <td>XGBoost</td>\n",
       "    </tr>\n",
       "    <tr>\n",
       "      <th>2</th>\n",
       "      <td>0.778388</td>\n",
       "      <td>0.002092</td>\n",
       "      <td>LogisticRegression</td>\n",
       "    </tr>\n",
       "  </tbody>\n",
       "</table>\n",
       "</div>"
      ],
      "text/plain": [
       "   CrossValMeans  CrossValerrors           Algorithm\n",
       "0       0.788764        0.001263        RandomForest\n",
       "1       0.800768        0.001399             XGBoost\n",
       "2       0.778388        0.002092  LogisticRegression"
      ]
     },
     "execution_count": 90,
     "metadata": {},
     "output_type": "execute_result"
    }
   ],
   "source": [
    "cv_res"
   ]
  },
  {
   "cell_type": "code",
   "execution_count": 91,
   "id": "86911c33",
   "metadata": {},
   "outputs": [
    {
     "data": {
      "image/png": "[encoded data removed]",
      "text/plain": [
       "<Figure size 640x480 with 1 Axes>"
      ]
     },
     "metadata": {},
     "output_type": "display_data"
    }
   ],
   "source": [
    "g = sns.barplot(data = cv_res, y = 'Algorithm',x ='CrossValMeans', palette=\"Set3\",orient = \"h\",**{'xerr':cv_std})\n",
    "g.set_xlabel(\"Mean Accuracy\")\n",
    "g = g.set_title(\"Cross validation scores\")"
   ]
  },
  {
   "cell_type": "markdown",
   "id": "960bb9e8",
   "metadata": {},
   "source": [
    "#### RFC Parameter tuning"
   ]
  },
  {
   "cell_type": "code",
   "execution_count": 92,
   "id": "a0d16ceb",
   "metadata": {
    "scrolled": true
   },
   "outputs": [
    {
     "name": "stdout",
     "output_type": "stream",
     "text": [
      "Fitting 8 folds for each of 8 candidates, totalling 64 fits\n"
     ]
    },
    {
     "data": {
      "text/plain": [
       "0.793801146816634"
      ]
     },
     "execution_count": 92,
     "metadata": {},
     "output_type": "execute_result"
    }
   ],
   "source": [
    "RFC = RandomForestClassifier()\n",
    "\n",
    "\n",
    "## Search grid for optimal parameters\n",
    "rf_param_grid = {\"max_depth\": [None],\n",
    "              \"max_features\": [1, 3],\n",
    "              \"min_samples_split\": [2],\n",
    "              \"min_samples_leaf\": [1, 3],\n",
    "              \"bootstrap\": [False],\n",
    "              \"n_estimators\" :[100,300],\n",
    "              \"criterion\": [\"gini\"]}\n",
    "\n",
    "gsRFC = GridSearchCV(RFC,param_grid = rf_param_grid, cv=kfold, scoring=\"accuracy\", n_jobs= 4, verbose = 1)\n",
    "\n",
    "gsRFC.fit(X_train,y_train)\n",
    "\n",
    "RFC_best = gsRFC.best_estimator_\n",
    "\n",
    "# Best score\n",
    "gsRFC.best_score_"
   ]
  },
  {
   "cell_type": "markdown",
   "id": "87e933ee",
   "metadata": {},
   "source": [
    "#### Logistic regression tuning"
   ]
  },
  {
   "cell_type": "code",
   "execution_count": 93,
   "id": "e2c73cc4",
   "metadata": {},
   "outputs": [
    {
     "name": "stdout",
     "output_type": "stream",
     "text": [
      "Fitting 8 folds for each of 14 candidates, totalling 112 fits\n"
     ]
    },
    {
     "data": {
      "text/plain": [
       "0.7789142771038867"
      ]
     },
     "execution_count": 93,
     "metadata": {},
     "output_type": "execute_result"
    }
   ],
   "source": [
    "LR = LogisticRegression()\n",
    "\n",
    "## Search grid for optimal parameters\n",
    "lr_param_grid = {\n",
    "    \"C\":np.logspace(-3,3,7), \n",
    "    \"penalty\":[\"l1\",\"l2\"]\n",
    "}\n",
    "\n",
    "gsLR = GridSearchCV(LR,param_grid = lr_param_grid, cv=kfold, scoring=\"accuracy\", n_jobs= 4, verbose = 1)\n",
    "\n",
    "gsLR.fit(X_train,y_train)\n",
    "\n",
    "LR_best = gsLR.best_estimator_\n",
    "\n",
    "# Best score\n",
    "gsLR.best_score_"
   ]
  },
  {
   "cell_type": "markdown",
   "id": "2970f29f",
   "metadata": {},
   "source": [
    "#### XGBoost tuning"
   ]
  },
  {
   "cell_type": "code",
   "execution_count": 94,
   "id": "7f52ea71",
   "metadata": {},
   "outputs": [
    {
     "name": "stdout",
     "output_type": "stream",
     "text": [
      "Fitting 8 folds for each of 12 candidates, totalling 96 fits\n"
     ]
    },
    {
     "name": "stderr",
     "output_type": "stream",
     "text": [
      "/Users/jonzimmerman/anaconda3/lib/python3.9/site-packages/xgboost/data.py:427: FutureWarning: is_sparse is deprecated and will be removed in a future version. Check `isinstance(dtype, pd.SparseDtype)` instead.\n",
      "  if is_sparse(data):\n",
      "/Users/jonzimmerman/anaconda3/lib/python3.9/site-packages/xgboost/data.py:427: FutureWarning: is_sparse is deprecated and will be removed in a future version. Check `isinstance(dtype, pd.SparseDtype)` instead.\n",
      "  if is_sparse(data):\n",
      "/Users/jonzimmerman/anaconda3/lib/python3.9/site-packages/xgboost/data.py:427: FutureWarning: is_sparse is deprecated and will be removed in a future version. Check `isinstance(dtype, pd.SparseDtype)` instead.\n",
      "  if is_sparse(data):\n",
      "/Users/jonzimmerman/anaconda3/lib/python3.9/site-packages/xgboost/data.py:427: FutureWarning: is_sparse is deprecated and will be removed in a future version. Check `isinstance(dtype, pd.SparseDtype)` instead.\n",
      "  if is_sparse(data):\n",
      "/Users/jonzimmerman/anaconda3/lib/python3.9/site-packages/xgboost/data.py:427: FutureWarning: is_sparse is deprecated and will be removed in a future version. Check `isinstance(dtype, pd.SparseDtype)` instead.\n",
      "  if is_sparse(data):\n",
      "/Users/jonzimmerman/anaconda3/lib/python3.9/site-packages/xgboost/data.py:427: FutureWarning: is_sparse is deprecated and will be removed in a future version. Check `isinstance(dtype, pd.SparseDtype)` instead.\n",
      "  if is_sparse(data):\n",
      "/Users/jonzimmerman/anaconda3/lib/python3.9/site-packages/xgboost/data.py:427: FutureWarning: is_sparse is deprecated and will be removed in a future version. Check `isinstance(dtype, pd.SparseDtype)` instead.\n",
      "  if is_sparse(data):\n",
      "/Users/jonzimmerman/anaconda3/lib/python3.9/site-packages/xgboost/data.py:427: FutureWarning: is_sparse is deprecated and will be removed in a future version. Check `isinstance(dtype, pd.SparseDtype)` instead.\n",
      "  if is_sparse(data):\n",
      "/Users/jonzimmerman/anaconda3/lib/python3.9/site-packages/xgboost/data.py:427: FutureWarning: is_sparse is deprecated and will be removed in a future version. Check `isinstance(dtype, pd.SparseDtype)` instead.\n",
      "  if is_sparse(data):\n",
      "/Users/jonzimmerman/anaconda3/lib/python3.9/site-packages/xgboost/data.py:427: FutureWarning: is_sparse is deprecated and will be removed in a future version. Check `isinstance(dtype, pd.SparseDtype)` instead.\n",
      "  if is_sparse(data):\n",
      "/Users/jonzimmerman/anaconda3/lib/python3.9/site-packages/xgboost/data.py:427: FutureWarning: is_sparse is deprecated and will be removed in a future version. Check `isinstance(dtype, pd.SparseDtype)` instead.\n",
      "  if is_sparse(data):\n",
      "/Users/jonzimmerman/anaconda3/lib/python3.9/site-packages/xgboost/data.py:427: FutureWarning: is_sparse is deprecated and will be removed in a future version. Check `isinstance(dtype, pd.SparseDtype)` instead.\n",
      "  if is_sparse(data):\n",
      "/Users/jonzimmerman/anaconda3/lib/python3.9/site-packages/xgboost/data.py:427: FutureWarning: is_sparse is deprecated and will be removed in a future version. Check `isinstance(dtype, pd.SparseDtype)` instead.\n",
      "  if is_sparse(data):\n",
      "/Users/jonzimmerman/anaconda3/lib/python3.9/site-packages/xgboost/data.py:427: FutureWarning: is_sparse is deprecated and will be removed in a future version. Check `isinstance(dtype, pd.SparseDtype)` instead.\n",
      "  if is_sparse(data):\n",
      "/Users/jonzimmerman/anaconda3/lib/python3.9/site-packages/xgboost/data.py:427: FutureWarning: is_sparse is deprecated and will be removed in a future version. Check `isinstance(dtype, pd.SparseDtype)` instead.\n",
      "  if is_sparse(data):\n",
      "/Users/jonzimmerman/anaconda3/lib/python3.9/site-packages/xgboost/data.py:427: FutureWarning: is_sparse is deprecated and will be removed in a future version. Check `isinstance(dtype, pd.SparseDtype)` instead.\n",
      "  if is_sparse(data):\n",
      "/Users/jonzimmerman/anaconda3/lib/python3.9/site-packages/xgboost/data.py:427: FutureWarning: is_sparse is deprecated and will be removed in a future version. Check `isinstance(dtype, pd.SparseDtype)` instead.\n",
      "  if is_sparse(data):\n",
      "/Users/jonzimmerman/anaconda3/lib/python3.9/site-packages/xgboost/data.py:427: FutureWarning: is_sparse is deprecated and will be removed in a future version. Check `isinstance(dtype, pd.SparseDtype)` instead.\n",
      "  if is_sparse(data):\n",
      "/Users/jonzimmerman/anaconda3/lib/python3.9/site-packages/xgboost/data.py:427: FutureWarning: is_sparse is deprecated and will be removed in a future version. Check `isinstance(dtype, pd.SparseDtype)` instead.\n",
      "  if is_sparse(data):\n",
      "/Users/jonzimmerman/anaconda3/lib/python3.9/site-packages/xgboost/data.py:427: FutureWarning: is_sparse is deprecated and will be removed in a future version. Check `isinstance(dtype, pd.SparseDtype)` instead.\n",
      "  if is_sparse(data):\n",
      "/Users/jonzimmerman/anaconda3/lib/python3.9/site-packages/xgboost/data.py:427: FutureWarning: is_sparse is deprecated and will be removed in a future version. Check `isinstance(dtype, pd.SparseDtype)` instead.\n",
      "  if is_sparse(data):\n",
      "/Users/jonzimmerman/anaconda3/lib/python3.9/site-packages/xgboost/data.py:427: FutureWarning: is_sparse is deprecated and will be removed in a future version. Check `isinstance(dtype, pd.SparseDtype)` instead.\n",
      "  if is_sparse(data):\n",
      "/Users/jonzimmerman/anaconda3/lib/python3.9/site-packages/xgboost/data.py:427: FutureWarning: is_sparse is deprecated and will be removed in a future version. Check `isinstance(dtype, pd.SparseDtype)` instead.\n",
      "  if is_sparse(data):\n",
      "/Users/jonzimmerman/anaconda3/lib/python3.9/site-packages/xgboost/data.py:427: FutureWarning: is_sparse is deprecated and will be removed in a future version. Check `isinstance(dtype, pd.SparseDtype)` instead.\n",
      "  if is_sparse(data):\n",
      "/Users/jonzimmerman/anaconda3/lib/python3.9/site-packages/xgboost/data.py:427: FutureWarning: is_sparse is deprecated and will be removed in a future version. Check `isinstance(dtype, pd.SparseDtype)` instead.\n",
      "  if is_sparse(data):\n",
      "/Users/jonzimmerman/anaconda3/lib/python3.9/site-packages/xgboost/data.py:427: FutureWarning: is_sparse is deprecated and will be removed in a future version. Check `isinstance(dtype, pd.SparseDtype)` instead.\n",
      "  if is_sparse(data):\n",
      "/Users/jonzimmerman/anaconda3/lib/python3.9/site-packages/xgboost/data.py:427: FutureWarning: is_sparse is deprecated and will be removed in a future version. Check `isinstance(dtype, pd.SparseDtype)` instead.\n",
      "  if is_sparse(data):\n",
      "/Users/jonzimmerman/anaconda3/lib/python3.9/site-packages/xgboost/data.py:427: FutureWarning: is_sparse is deprecated and will be removed in a future version. Check `isinstance(dtype, pd.SparseDtype)` instead.\n",
      "  if is_sparse(data):\n",
      "/Users/jonzimmerman/anaconda3/lib/python3.9/site-packages/xgboost/data.py:427: FutureWarning: is_sparse is deprecated and will be removed in a future version. Check `isinstance(dtype, pd.SparseDtype)` instead.\n",
      "  if is_sparse(data):\n",
      "/Users/jonzimmerman/anaconda3/lib/python3.9/site-packages/xgboost/data.py:427: FutureWarning: is_sparse is deprecated and will be removed in a future version. Check `isinstance(dtype, pd.SparseDtype)` instead.\n",
      "  if is_sparse(data):\n",
      "/Users/jonzimmerman/anaconda3/lib/python3.9/site-packages/xgboost/data.py:427: FutureWarning: is_sparse is deprecated and will be removed in a future version. Check `isinstance(dtype, pd.SparseDtype)` instead.\n",
      "  if is_sparse(data):\n",
      "/Users/jonzimmerman/anaconda3/lib/python3.9/site-packages/xgboost/data.py:427: FutureWarning: is_sparse is deprecated and will be removed in a future version. Check `isinstance(dtype, pd.SparseDtype)` instead.\n",
      "  if is_sparse(data):\n",
      "/Users/jonzimmerman/anaconda3/lib/python3.9/site-packages/xgboost/data.py:427: FutureWarning: is_sparse is deprecated and will be removed in a future version. Check `isinstance(dtype, pd.SparseDtype)` instead.\n",
      "  if is_sparse(data):\n",
      "/Users/jonzimmerman/anaconda3/lib/python3.9/site-packages/xgboost/data.py:427: FutureWarning: is_sparse is deprecated and will be removed in a future version. Check `isinstance(dtype, pd.SparseDtype)` instead.\n",
      "  if is_sparse(data):\n",
      "/Users/jonzimmerman/anaconda3/lib/python3.9/site-packages/xgboost/data.py:427: FutureWarning: is_sparse is deprecated and will be removed in a future version. Check `isinstance(dtype, pd.SparseDtype)` instead.\n",
      "  if is_sparse(data):\n",
      "/Users/jonzimmerman/anaconda3/lib/python3.9/site-packages/xgboost/data.py:427: FutureWarning: is_sparse is deprecated and will be removed in a future version. Check `isinstance(dtype, pd.SparseDtype)` instead.\n",
      "  if is_sparse(data):\n"
     ]
    },
    {
     "name": "stderr",
     "output_type": "stream",
     "text": [
      "/Users/jonzimmerman/anaconda3/lib/python3.9/site-packages/xgboost/data.py:427: FutureWarning: is_sparse is deprecated and will be removed in a future version. Check `isinstance(dtype, pd.SparseDtype)` instead.\n",
      "  if is_sparse(data):\n",
      "/Users/jonzimmerman/anaconda3/lib/python3.9/site-packages/xgboost/data.py:427: FutureWarning: is_sparse is deprecated and will be removed in a future version. Check `isinstance(dtype, pd.SparseDtype)` instead.\n",
      "  if is_sparse(data):\n",
      "/Users/jonzimmerman/anaconda3/lib/python3.9/site-packages/xgboost/data.py:427: FutureWarning: is_sparse is deprecated and will be removed in a future version. Check `isinstance(dtype, pd.SparseDtype)` instead.\n",
      "  if is_sparse(data):\n",
      "/Users/jonzimmerman/anaconda3/lib/python3.9/site-packages/xgboost/data.py:427: FutureWarning: is_sparse is deprecated and will be removed in a future version. Check `isinstance(dtype, pd.SparseDtype)` instead.\n",
      "  if is_sparse(data):\n",
      "/Users/jonzimmerman/anaconda3/lib/python3.9/site-packages/xgboost/data.py:427: FutureWarning: is_sparse is deprecated and will be removed in a future version. Check `isinstance(dtype, pd.SparseDtype)` instead.\n",
      "  if is_sparse(data):\n",
      "/Users/jonzimmerman/anaconda3/lib/python3.9/site-packages/xgboost/data.py:427: FutureWarning: is_sparse is deprecated and will be removed in a future version. Check `isinstance(dtype, pd.SparseDtype)` instead.\n",
      "  if is_sparse(data):\n",
      "/Users/jonzimmerman/anaconda3/lib/python3.9/site-packages/xgboost/data.py:427: FutureWarning: is_sparse is deprecated and will be removed in a future version. Check `isinstance(dtype, pd.SparseDtype)` instead.\n",
      "  if is_sparse(data):\n",
      "/Users/jonzimmerman/anaconda3/lib/python3.9/site-packages/xgboost/data.py:427: FutureWarning: is_sparse is deprecated and will be removed in a future version. Check `isinstance(dtype, pd.SparseDtype)` instead.\n",
      "  if is_sparse(data):\n",
      "/Users/jonzimmerman/anaconda3/lib/python3.9/site-packages/xgboost/data.py:427: FutureWarning: is_sparse is deprecated and will be removed in a future version. Check `isinstance(dtype, pd.SparseDtype)` instead.\n",
      "  if is_sparse(data):\n",
      "/Users/jonzimmerman/anaconda3/lib/python3.9/site-packages/xgboost/data.py:427: FutureWarning: is_sparse is deprecated and will be removed in a future version. Check `isinstance(dtype, pd.SparseDtype)` instead.\n",
      "  if is_sparse(data):\n",
      "/Users/jonzimmerman/anaconda3/lib/python3.9/site-packages/xgboost/data.py:427: FutureWarning: is_sparse is deprecated and will be removed in a future version. Check `isinstance(dtype, pd.SparseDtype)` instead.\n",
      "  if is_sparse(data):\n",
      "/Users/jonzimmerman/anaconda3/lib/python3.9/site-packages/xgboost/data.py:427: FutureWarning: is_sparse is deprecated and will be removed in a future version. Check `isinstance(dtype, pd.SparseDtype)` instead.\n",
      "  if is_sparse(data):\n",
      "/Users/jonzimmerman/anaconda3/lib/python3.9/site-packages/xgboost/data.py:427: FutureWarning: is_sparse is deprecated and will be removed in a future version. Check `isinstance(dtype, pd.SparseDtype)` instead.\n",
      "  if is_sparse(data):\n",
      "/Users/jonzimmerman/anaconda3/lib/python3.9/site-packages/xgboost/data.py:427: FutureWarning: is_sparse is deprecated and will be removed in a future version. Check `isinstance(dtype, pd.SparseDtype)` instead.\n",
      "  if is_sparse(data):\n",
      "/Users/jonzimmerman/anaconda3/lib/python3.9/site-packages/xgboost/data.py:427: FutureWarning: is_sparse is deprecated and will be removed in a future version. Check `isinstance(dtype, pd.SparseDtype)` instead.\n",
      "  if is_sparse(data):\n",
      "/Users/jonzimmerman/anaconda3/lib/python3.9/site-packages/xgboost/data.py:427: FutureWarning: is_sparse is deprecated and will be removed in a future version. Check `isinstance(dtype, pd.SparseDtype)` instead.\n",
      "  if is_sparse(data):\n",
      "/Users/jonzimmerman/anaconda3/lib/python3.9/site-packages/xgboost/data.py:427: FutureWarning: is_sparse is deprecated and will be removed in a future version. Check `isinstance(dtype, pd.SparseDtype)` instead.\n",
      "  if is_sparse(data):\n",
      "/Users/jonzimmerman/anaconda3/lib/python3.9/site-packages/xgboost/data.py:427: FutureWarning: is_sparse is deprecated and will be removed in a future version. Check `isinstance(dtype, pd.SparseDtype)` instead.\n",
      "  if is_sparse(data):\n",
      "/Users/jonzimmerman/anaconda3/lib/python3.9/site-packages/xgboost/data.py:427: FutureWarning: is_sparse is deprecated and will be removed in a future version. Check `isinstance(dtype, pd.SparseDtype)` instead.\n",
      "  if is_sparse(data):\n",
      "/Users/jonzimmerman/anaconda3/lib/python3.9/site-packages/xgboost/data.py:427: FutureWarning: is_sparse is deprecated and will be removed in a future version. Check `isinstance(dtype, pd.SparseDtype)` instead.\n",
      "  if is_sparse(data):\n",
      "/Users/jonzimmerman/anaconda3/lib/python3.9/site-packages/xgboost/data.py:427: FutureWarning: is_sparse is deprecated and will be removed in a future version. Check `isinstance(dtype, pd.SparseDtype)` instead.\n",
      "  if is_sparse(data):\n",
      "/Users/jonzimmerman/anaconda3/lib/python3.9/site-packages/xgboost/data.py:427: FutureWarning: is_sparse is deprecated and will be removed in a future version. Check `isinstance(dtype, pd.SparseDtype)` instead.\n",
      "  if is_sparse(data):\n",
      "/Users/jonzimmerman/anaconda3/lib/python3.9/site-packages/xgboost/data.py:427: FutureWarning: is_sparse is deprecated and will be removed in a future version. Check `isinstance(dtype, pd.SparseDtype)` instead.\n",
      "  if is_sparse(data):\n",
      "/Users/jonzimmerman/anaconda3/lib/python3.9/site-packages/xgboost/data.py:427: FutureWarning: is_sparse is deprecated and will be removed in a future version. Check `isinstance(dtype, pd.SparseDtype)` instead.\n",
      "  if is_sparse(data):\n",
      "/Users/jonzimmerman/anaconda3/lib/python3.9/site-packages/xgboost/data.py:427: FutureWarning: is_sparse is deprecated and will be removed in a future version. Check `isinstance(dtype, pd.SparseDtype)` instead.\n",
      "  if is_sparse(data):\n",
      "/Users/jonzimmerman/anaconda3/lib/python3.9/site-packages/xgboost/data.py:427: FutureWarning: is_sparse is deprecated and will be removed in a future version. Check `isinstance(dtype, pd.SparseDtype)` instead.\n",
      "  if is_sparse(data):\n",
      "/Users/jonzimmerman/anaconda3/lib/python3.9/site-packages/xgboost/data.py:427: FutureWarning: is_sparse is deprecated and will be removed in a future version. Check `isinstance(dtype, pd.SparseDtype)` instead.\n",
      "  if is_sparse(data):\n",
      "/Users/jonzimmerman/anaconda3/lib/python3.9/site-packages/xgboost/data.py:427: FutureWarning: is_sparse is deprecated and will be removed in a future version. Check `isinstance(dtype, pd.SparseDtype)` instead.\n",
      "  if is_sparse(data):\n",
      "/Users/jonzimmerman/anaconda3/lib/python3.9/site-packages/xgboost/data.py:427: FutureWarning: is_sparse is deprecated and will be removed in a future version. Check `isinstance(dtype, pd.SparseDtype)` instead.\n",
      "  if is_sparse(data):\n",
      "/Users/jonzimmerman/anaconda3/lib/python3.9/site-packages/xgboost/data.py:427: FutureWarning: is_sparse is deprecated and will be removed in a future version. Check `isinstance(dtype, pd.SparseDtype)` instead.\n",
      "  if is_sparse(data):\n",
      "/Users/jonzimmerman/anaconda3/lib/python3.9/site-packages/xgboost/data.py:427: FutureWarning: is_sparse is deprecated and will be removed in a future version. Check `isinstance(dtype, pd.SparseDtype)` instead.\n",
      "  if is_sparse(data):\n",
      "/Users/jonzimmerman/anaconda3/lib/python3.9/site-packages/xgboost/data.py:427: FutureWarning: is_sparse is deprecated and will be removed in a future version. Check `isinstance(dtype, pd.SparseDtype)` instead.\n",
      "  if is_sparse(data):\n",
      "/Users/jonzimmerman/anaconda3/lib/python3.9/site-packages/xgboost/data.py:427: FutureWarning: is_sparse is deprecated and will be removed in a future version. Check `isinstance(dtype, pd.SparseDtype)` instead.\n",
      "  if is_sparse(data):\n",
      "/Users/jonzimmerman/anaconda3/lib/python3.9/site-packages/xgboost/data.py:427: FutureWarning: is_sparse is deprecated and will be removed in a future version. Check `isinstance(dtype, pd.SparseDtype)` instead.\n",
      "  if is_sparse(data):\n",
      "/Users/jonzimmerman/anaconda3/lib/python3.9/site-packages/xgboost/data.py:427: FutureWarning: is_sparse is deprecated and will be removed in a future version. Check `isinstance(dtype, pd.SparseDtype)` instead.\n",
      "  if is_sparse(data):\n",
      "/Users/jonzimmerman/anaconda3/lib/python3.9/site-packages/xgboost/data.py:427: FutureWarning: is_sparse is deprecated and will be removed in a future version. Check `isinstance(dtype, pd.SparseDtype)` instead.\n",
      "  if is_sparse(data):\n"
     ]
    },
    {
     "name": "stderr",
     "output_type": "stream",
     "text": [
      "/Users/jonzimmerman/anaconda3/lib/python3.9/site-packages/xgboost/data.py:427: FutureWarning: is_sparse is deprecated and will be removed in a future version. Check `isinstance(dtype, pd.SparseDtype)` instead.\n",
      "  if is_sparse(data):\n",
      "/Users/jonzimmerman/anaconda3/lib/python3.9/site-packages/xgboost/data.py:427: FutureWarning: is_sparse is deprecated and will be removed in a future version. Check `isinstance(dtype, pd.SparseDtype)` instead.\n",
      "  if is_sparse(data):\n",
      "/Users/jonzimmerman/anaconda3/lib/python3.9/site-packages/xgboost/data.py:427: FutureWarning: is_sparse is deprecated and will be removed in a future version. Check `isinstance(dtype, pd.SparseDtype)` instead.\n",
      "  if is_sparse(data):\n",
      "/Users/jonzimmerman/anaconda3/lib/python3.9/site-packages/xgboost/data.py:427: FutureWarning: is_sparse is deprecated and will be removed in a future version. Check `isinstance(dtype, pd.SparseDtype)` instead.\n",
      "  if is_sparse(data):\n",
      "/Users/jonzimmerman/anaconda3/lib/python3.9/site-packages/xgboost/data.py:427: FutureWarning: is_sparse is deprecated and will be removed in a future version. Check `isinstance(dtype, pd.SparseDtype)` instead.\n",
      "  if is_sparse(data):\n",
      "/Users/jonzimmerman/anaconda3/lib/python3.9/site-packages/xgboost/data.py:427: FutureWarning: is_sparse is deprecated and will be removed in a future version. Check `isinstance(dtype, pd.SparseDtype)` instead.\n",
      "  if is_sparse(data):\n",
      "/Users/jonzimmerman/anaconda3/lib/python3.9/site-packages/xgboost/data.py:427: FutureWarning: is_sparse is deprecated and will be removed in a future version. Check `isinstance(dtype, pd.SparseDtype)` instead.\n",
      "  if is_sparse(data):\n",
      "/Users/jonzimmerman/anaconda3/lib/python3.9/site-packages/xgboost/data.py:427: FutureWarning: is_sparse is deprecated and will be removed in a future version. Check `isinstance(dtype, pd.SparseDtype)` instead.\n",
      "  if is_sparse(data):\n",
      "/Users/jonzimmerman/anaconda3/lib/python3.9/site-packages/xgboost/data.py:427: FutureWarning: is_sparse is deprecated and will be removed in a future version. Check `isinstance(dtype, pd.SparseDtype)` instead.\n",
      "  if is_sparse(data):\n",
      "/Users/jonzimmerman/anaconda3/lib/python3.9/site-packages/xgboost/data.py:427: FutureWarning: is_sparse is deprecated and will be removed in a future version. Check `isinstance(dtype, pd.SparseDtype)` instead.\n",
      "  if is_sparse(data):\n",
      "/Users/jonzimmerman/anaconda3/lib/python3.9/site-packages/xgboost/data.py:427: FutureWarning: is_sparse is deprecated and will be removed in a future version. Check `isinstance(dtype, pd.SparseDtype)` instead.\n",
      "  if is_sparse(data):\n",
      "/Users/jonzimmerman/anaconda3/lib/python3.9/site-packages/xgboost/data.py:427: FutureWarning: is_sparse is deprecated and will be removed in a future version. Check `isinstance(dtype, pd.SparseDtype)` instead.\n",
      "  if is_sparse(data):\n",
      "/Users/jonzimmerman/anaconda3/lib/python3.9/site-packages/xgboost/data.py:427: FutureWarning: is_sparse is deprecated and will be removed in a future version. Check `isinstance(dtype, pd.SparseDtype)` instead.\n",
      "  if is_sparse(data):\n",
      "/Users/jonzimmerman/anaconda3/lib/python3.9/site-packages/xgboost/data.py:427: FutureWarning: is_sparse is deprecated and will be removed in a future version. Check `isinstance(dtype, pd.SparseDtype)` instead.\n",
      "  if is_sparse(data):\n",
      "/Users/jonzimmerman/anaconda3/lib/python3.9/site-packages/xgboost/data.py:427: FutureWarning: is_sparse is deprecated and will be removed in a future version. Check `isinstance(dtype, pd.SparseDtype)` instead.\n",
      "  if is_sparse(data):\n",
      "/Users/jonzimmerman/anaconda3/lib/python3.9/site-packages/xgboost/data.py:427: FutureWarning: is_sparse is deprecated and will be removed in a future version. Check `isinstance(dtype, pd.SparseDtype)` instead.\n",
      "  if is_sparse(data):\n",
      "/Users/jonzimmerman/anaconda3/lib/python3.9/site-packages/xgboost/data.py:427: FutureWarning: is_sparse is deprecated and will be removed in a future version. Check `isinstance(dtype, pd.SparseDtype)` instead.\n",
      "  if is_sparse(data):\n",
      "/Users/jonzimmerman/anaconda3/lib/python3.9/site-packages/xgboost/data.py:427: FutureWarning: is_sparse is deprecated and will be removed in a future version. Check `isinstance(dtype, pd.SparseDtype)` instead.\n",
      "  if is_sparse(data):\n",
      "/Users/jonzimmerman/anaconda3/lib/python3.9/site-packages/xgboost/data.py:427: FutureWarning: is_sparse is deprecated and will be removed in a future version. Check `isinstance(dtype, pd.SparseDtype)` instead.\n",
      "  if is_sparse(data):\n",
      "/Users/jonzimmerman/anaconda3/lib/python3.9/site-packages/xgboost/data.py:427: FutureWarning: is_sparse is deprecated and will be removed in a future version. Check `isinstance(dtype, pd.SparseDtype)` instead.\n",
      "  if is_sparse(data):\n",
      "/Users/jonzimmerman/anaconda3/lib/python3.9/site-packages/xgboost/data.py:427: FutureWarning: is_sparse is deprecated and will be removed in a future version. Check `isinstance(dtype, pd.SparseDtype)` instead.\n",
      "  if is_sparse(data):\n",
      "/Users/jonzimmerman/anaconda3/lib/python3.9/site-packages/xgboost/data.py:427: FutureWarning: is_sparse is deprecated and will be removed in a future version. Check `isinstance(dtype, pd.SparseDtype)` instead.\n",
      "  if is_sparse(data):\n",
      "/Users/jonzimmerman/anaconda3/lib/python3.9/site-packages/xgboost/data.py:427: FutureWarning: is_sparse is deprecated and will be removed in a future version. Check `isinstance(dtype, pd.SparseDtype)` instead.\n",
      "  if is_sparse(data):\n",
      "/Users/jonzimmerman/anaconda3/lib/python3.9/site-packages/xgboost/data.py:427: FutureWarning: is_sparse is deprecated and will be removed in a future version. Check `isinstance(dtype, pd.SparseDtype)` instead.\n",
      "  if is_sparse(data):\n"
     ]
    },
    {
     "name": "stdout",
     "output_type": "stream",
     "text": [
      "[17:02:09] WARNING: /Users/runner/work/xgboost/xgboost/python-package/build/temp.macosx-10.9-x86_64-cpython-38/xgboost/src/learner.cc:767: \n",
      "Parameters: { \"loss\", \"max_features\" } are not used.\n",
      "\n"
     ]
    },
    {
     "data": {
      "text/plain": [
       "0.8006833059786758"
      ]
     },
     "execution_count": 94,
     "metadata": {},
     "output_type": "execute_result"
    }
   ],
   "source": [
    "XGB = XGBClassifier()\n",
    "xgb_param_grid = {'loss' : [\"deviance\"],\n",
    "              'n_estimators' : [100,200],\n",
    "              'learning_rate': [0.1, 0.05, 0.01],\n",
    "              'max_depth': [4],\n",
    "              #'min_samples_leaf': [100,150],\n",
    "              'max_features': [0.3, 0.1] \n",
    "              }\n",
    "\n",
    "gsXGB = GridSearchCV(XGB, param_grid = xgb_param_grid, cv=kfold, scoring=\"accuracy\", n_jobs= 4, verbose = 1)\n",
    "\n",
    "gsXGB.fit(X_train,y_train)\n",
    "\n",
    "xgb_best = gsXGB.best_estimator_\n",
    "\n",
    "# Best score\n",
    "gsXGB.best_score_"
   ]
  },
  {
   "cell_type": "code",
   "execution_count": 95,
   "id": "a3f70487",
   "metadata": {},
   "outputs": [
    {
     "name": "stdout",
     "output_type": "stream",
     "text": [
      "[16:59:43] WARNING: /Users/runner/work/xgboost/xgboost/python-package/build/temp.macosx-10.9-x86_64-cpython-38/xgboost/src/learner.cc:767: \n",
      "Parameters: { \"loss\", \"max_features\" } are not used.\n",
      "\n",
      "[16:59:47] WARNING: /Users/runner/work/xgboost/xgboost/python-package/build/temp.macosx-10.9-x86_64-cpython-38/xgboost/src/learner.cc:767: \n",
      "Parameters: { \"loss\", \"max_features\" } are not used.\n",
      "\n",
      "[16:59:51] WARNING: /Users/runner/work/xgboost/xgboost/python-package/build/temp.macosx-10.9-x86_64-cpython-38/xgboost/src/learner.cc:767: \n",
      "Parameters: { \"loss\", \"max_features\" } are not used.\n",
      "\n",
      "[16:59:59] WARNING: /Users/runner/work/xgboost/xgboost/python-package/build/temp.macosx-10.9-x86_64-cpython-38/xgboost/src/learner.cc:767: \n",
      "Parameters: { \"loss\", \"max_features\" } are not used.\n",
      "\n",
      "[17:00:07] WARNING: /Users/runner/work/xgboost/xgboost/python-package/build/temp.macosx-10.9-x86_64-cpython-38/xgboost/src/learner.cc:767: \n",
      "Parameters: { \"loss\", \"max_features\" } are not used.\n",
      "\n",
      "[17:00:11] WARNING: /Users/runner/work/xgboost/xgboost/python-package/build/temp.macosx-10.9-x86_64-cpython-38/xgboost/src/learner.cc:767: \n",
      "Parameters: { \"loss\", \"max_features\" } are not used.\n",
      "\n",
      "[17:00:15] WARNING: /Users/runner/work/xgboost/xgboost/python-package/build/temp.macosx-10.9-x86_64-cpython-38/xgboost/src/learner.cc:767: \n",
      "Parameters: { \"loss\", \"max_features\" } are not used.\n",
      "\n",
      "[17:00:23] WARNING: /Users/runner/work/xgboost/xgboost/python-package/build/temp.macosx-10.9-x86_64-cpython-38/xgboost/src/learner.cc:767: \n",
      "Parameters: { \"loss\", \"max_features\" } are not used.\n",
      "\n",
      "[17:00:31] WARNING: /Users/runner/work/xgboost/xgboost/python-package/build/temp.macosx-10.9-x86_64-cpython-38/xgboost/src/learner.cc:767: \n",
      "Parameters: { \"loss\", \"max_features\" } are not used.\n",
      "\n",
      "[17:00:35] WARNING: /Users/runner/work/xgboost/xgboost/python-package/build/temp.macosx-10.9-x86_64-cpython-38/xgboost/src/learner.cc:767: \n",
      "Parameters: { \"loss\", \"max_features\" } are not used.\n",
      "\n",
      "[17:00:39] WARNING: /Users/runner/work/xgboost/xgboost/python-package/build/temp.macosx-10.9-x86_64-cpython-38/xgboost/src/learner.cc:767: \n",
      "Parameters: { \"loss\", \"max_features\" } are not used.\n",
      "\n",
      "[17:00:47] WARNING: /Users/runner/work/xgboost/xgboost/python-package/build/temp.macosx-10.9-x86_64-cpython-38/xgboost/src/learner.cc:767: \n",
      "Parameters: { \"loss\", \"max_features\" } are not used.\n",
      "\n",
      "[17:00:55] WARNING: /Users/runner/work/xgboost/xgboost/python-package/build/temp.macosx-10.9-x86_64-cpython-38/xgboost/src/learner.cc:767: \n",
      "Parameters: { \"loss\", \"max_features\" } are not used.\n",
      "\n",
      "[17:00:59] WARNING: /Users/runner/work/xgboost/xgboost/python-package/build/temp.macosx-10.9-x86_64-cpython-38/xgboost/src/learner.cc:767: \n",
      "Parameters: { \"loss\", \"max_features\" } are not used.\n",
      "\n",
      "[17:01:03] WARNING: /Users/runner/work/xgboost/xgboost/python-package/build/temp.macosx-10.9-x86_64-cpython-38/xgboost/src/learner.cc:767: \n",
      "Parameters: { \"loss\", \"max_features\" } are not used.\n",
      "\n",
      "[17:01:12] WARNING: /Users/runner/work/xgboost/xgboost/python-package/build/temp.macosx-10.9-x86_64-cpython-38/xgboost/src/learner.cc:767: \n",
      "Parameters: { \"loss\", \"max_features\" } are not used.\n",
      "\n",
      "[17:01:20] WARNING: /Users/runner/work/xgboost/xgboost/python-package/build/temp.macosx-10.9-x86_64-cpython-38/xgboost/src/learner.cc:767: \n",
      "Parameters: { \"loss\", \"max_features\" } are not used.\n",
      "\n",
      "[17:01:24] WARNING: /Users/runner/work/xgboost/xgboost/python-package/build/temp.macosx-10.9-x86_64-cpython-38/xgboost/src/learner.cc:767: \n",
      "Parameters: { \"loss\", \"max_features\" } are not used.\n",
      "\n",
      "[17:01:28] WARNING: /Users/runner/work/xgboost/xgboost/python-package/build/temp.macosx-10.9-x86_64-cpython-38/xgboost/src/learner.cc:767: \n",
      "Parameters: { \"loss\", \"max_features\" } are not used.\n",
      "\n",
      "[17:01:36] WARNING: /Users/runner/work/xgboost/xgboost/python-package/build/temp.macosx-10.9-x86_64-cpython-38/xgboost/src/learner.cc:767: \n",
      "Parameters: { \"loss\", \"max_features\" } are not used.\n",
      "\n",
      "[17:01:44] WARNING: /Users/runner/work/xgboost/xgboost/python-package/build/temp.macosx-10.9-x86_64-cpython-38/xgboost/src/learner.cc:767: \n",
      "Parameters: { \"loss\", \"max_features\" } are not used.\n",
      "\n",
      "[17:01:48] WARNING: /Users/runner/work/xgboost/xgboost/python-package/build/temp.macosx-10.9-x86_64-cpython-38/xgboost/src/learner.cc:767: \n",
      "Parameters: { \"loss\", \"max_features\" } are not used.\n",
      "\n",
      "[17:01:52] WARNING: /Users/runner/work/xgboost/xgboost/python-package/build/temp.macosx-10.9-x86_64-cpython-38/xgboost/src/learner.cc:767: \n",
      "Parameters: { \"loss\", \"max_features\" } are not used.\n",
      "\n",
      "[17:02:00] WARNING: /Users/runner/work/xgboost/xgboost/python-package/build/temp.macosx-10.9-x86_64-cpython-38/xgboost/src/learner.cc:767: \n",
      "Parameters: { \"loss\", \"max_features\" } are not used.\n",
      "\n",
      "[16:59:43] WARNING: /Users/runner/work/xgboost/xgboost/python-package/build/temp.macosx-10.9-x86_64-cpython-38/xgboost/src/learner.cc:767: \n",
      "Parameters: { \"loss\", \"max_features\" } are not used.\n",
      "\n",
      "[16:59:47] WARNING: /Users/runner/work/xgboost/xgboost/python-package/build/temp.macosx-10.9-x86_64-cpython-38/xgboost/src/learner.cc:767: \n",
      "Parameters: { \"loss\", \"max_features\" } are not used.\n",
      "\n",
      "[16:59:51] WARNING: /Users/runner/work/xgboost/xgboost/python-package/build/temp.macosx-10.9-x86_64-cpython-38/xgboost/src/learner.cc:767: \n",
      "Parameters: { \"loss\", \"max_features\" } are not used.\n",
      "\n",
      "[16:59:59] WARNING: /Users/runner/work/xgboost/xgboost/python-package/build/temp.macosx-10.9-x86_64-cpython-38/xgboost/src/learner.cc:767: \n",
      "Parameters: { \"loss\", \"max_features\" } are not used.\n",
      "\n",
      "[17:00:07] WARNING: /Users/runner/work/xgboost/xgboost/python-package/build/temp.macosx-10.9-x86_64-cpython-38/xgboost/src/learner.cc:767: \n",
      "Parameters: { \"loss\", \"max_features\" } are not used.\n",
      "\n",
      "[17:00:11] WARNING: /Users/runner/work/xgboost/xgboost/python-package/build/temp.macosx-10.9-x86_64-cpython-38/xgboost/src/learner.cc:767: \n",
      "Parameters: { \"loss\", \"max_features\" } are not used.\n",
      "\n",
      "[17:00:15] WARNING: /Users/runner/work/xgboost/xgboost/python-package/build/temp.macosx-10.9-x86_64-cpython-38/xgboost/src/learner.cc:767: \n",
      "Parameters: { \"loss\", \"max_features\" } are not used.\n",
      "\n",
      "[17:00:23] WARNING: /Users/runner/work/xgboost/xgboost/python-package/build/temp.macosx-10.9-x86_64-cpython-38/xgboost/src/learner.cc:767: \n",
      "Parameters: { \"loss\", \"max_features\" } are not used.\n",
      "\n",
      "[17:00:31] WARNING: /Users/runner/work/xgboost/xgboost/python-package/build/temp.macosx-10.9-x86_64-cpython-38/xgboost/src/learner.cc:767: \n",
      "Parameters: { \"loss\", \"max_features\" } are not used.\n",
      "\n",
      "[17:00:35] WARNING: /Users/runner/work/xgboost/xgboost/python-package/build/temp.macosx-10.9-x86_64-cpython-38/xgboost/src/learner.cc:767: \n",
      "Parameters: { \"loss\", \"max_features\" } are not used.\n",
      "\n",
      "[17:00:39] WARNING: /Users/runner/work/xgboost/xgboost/python-package/build/temp.macosx-10.9-x86_64-cpython-38/xgboost/src/learner.cc:767: \n",
      "Parameters: { \"loss\", \"max_features\" } are not used.\n",
      "\n",
      "[17:00:47] WARNING: /Users/runner/work/xgboost/xgboost/python-package/build/temp.macosx-10.9-x86_64-cpython-38/xgboost/src/learner.cc:767: \n",
      "Parameters: { \"loss\", \"max_features\" } are not used.\n",
      "\n",
      "[17:00:55] WARNING: /Users/runner/work/xgboost/xgboost/python-package/build/temp.macosx-10.9-x86_64-cpython-38/xgboost/src/learner.cc:767: \n",
      "Parameters: { \"loss\", \"max_features\" } are not used.\n",
      "\n",
      "[17:00:59] WARNING: /Users/runner/work/xgboost/xgboost/python-package/build/temp.macosx-10.9-x86_64-cpython-38/xgboost/src/learner.cc:767: \n",
      "Parameters: { \"loss\", \"max_features\" } are not used.\n",
      "\n",
      "[17:01:03] WARNING: /Users/runner/work/xgboost/xgboost/python-package/build/temp.macosx-10.9-x86_64-cpython-38/xgboost/src/learner.cc:767: \n",
      "Parameters: { \"loss\", \"max_features\" } are not used.\n",
      "\n",
      "[17:01:12] WARNING: /Users/runner/work/xgboost/xgboost/python-package/build/temp.macosx-10.9-x86_64-cpython-38/xgboost/src/learner.cc:767: \n",
      "Parameters: { \"loss\", \"max_features\" } are not used.\n",
      "\n",
      "[17:01:20] WARNING: /Users/runner/work/xgboost/xgboost/python-package/build/temp.macosx-10.9-x86_64-cpython-38/xgboost/src/learner.cc:767: \n",
      "Parameters: { \"loss\", \"max_features\" } are not used.\n",
      "\n",
      "[17:01:24] WARNING: /Users/runner/work/xgboost/xgboost/python-package/build/temp.macosx-10.9-x86_64-cpython-38/xgboost/src/learner.cc:767: \n",
      "Parameters: { \"loss\", \"max_features\" } are not used.\n",
      "\n",
      "[17:01:28] WARNING: /Users/runner/work/xgboost/xgboost/python-package/build/temp.macosx-10.9-x86_64-cpython-38/xgboost/src/learner.cc:767: \n",
      "Parameters: { \"loss\", \"max_features\" } are not used.\n",
      "\n",
      "[17:01:36] WARNING: /Users/runner/work/xgboost/xgboost/python-package/build/temp.macosx-10.9-x86_64-cpython-38/xgboost/src/learner.cc:767: \n",
      "Parameters: { \"loss\", \"max_features\" } are not used.\n",
      "\n",
      "[17:01:44] WARNING: /Users/runner/work/xgboost/xgboost/python-package/build/temp.macosx-10.9-x86_64-cpython-38/xgboost/src/learner.cc:767: \n",
      "Parameters: { \"loss\", \"max_features\" } are not used.\n",
      "\n",
      "[17:01:48] WARNING: /Users/runner/work/xgboost/xgboost/python-package/build/temp.macosx-10.9-x86_64-cpython-38/xgboost/src/learner.cc:767: \n",
      "Parameters: { \"loss\", \"max_features\" } are not used.\n",
      "\n",
      "[17:01:52] WARNING: /Users/runner/work/xgboost/xgboost/python-package/build/temp.macosx-10.9-x86_64-cpython-38/xgboost/src/learner.cc:767: \n",
      "Parameters: { \"loss\", \"max_features\" } are not used.\n",
      "\n",
      "[17:02:00] WARNING: /Users/runner/work/xgboost/xgboost/python-package/build/temp.macosx-10.9-x86_64-cpython-38/xgboost/src/learner.cc:767: \n",
      "Parameters: { \"loss\", \"max_features\" } are not used.\n",
      "\n",
      "[16:59:43] WARNING: /Users/runner/work/xgboost/xgboost/python-package/build/temp.macosx-10.9-x86_64-cpython-38/xgboost/src/learner.cc:767: \n",
      "Parameters: { \"loss\", \"max_features\" } are not used.\n",
      "\n",
      "[16:59:47] WARNING: /Users/runner/work/xgboost/xgboost/python-package/build/temp.macosx-10.9-x86_64-cpython-38/xgboost/src/learner.cc:767: \n",
      "Parameters: { \"loss\", \"max_features\" } are not used.\n",
      "\n",
      "[16:59:51] WARNING: /Users/runner/work/xgboost/xgboost/python-package/build/temp.macosx-10.9-x86_64-cpython-38/xgboost/src/learner.cc:767: \n",
      "Parameters: { \"loss\", \"max_features\" } are not used.\n",
      "\n",
      "[16:59:59] WARNING: /Users/runner/work/xgboost/xgboost/python-package/build/temp.macosx-10.9-x86_64-cpython-38/xgboost/src/learner.cc:767: \n",
      "Parameters: { \"loss\", \"max_features\" } are not used.\n",
      "\n",
      "[17:00:07] WARNING: /Users/runner/work/xgboost/xgboost/python-package/build/temp.macosx-10.9-x86_64-cpython-38/xgboost/src/learner.cc:767: \n",
      "Parameters: { \"loss\", \"max_features\" } are not used.\n",
      "\n",
      "[17:00:11] WARNING: /Users/runner/work/xgboost/xgboost/python-package/build/temp.macosx-10.9-x86_64-cpython-38/xgboost/src/learner.cc:767: \n",
      "Parameters: { \"loss\", \"max_features\" } are not used.\n",
      "\n",
      "[17:00:15] WARNING: /Users/runner/work/xgboost/xgboost/python-package/build/temp.macosx-10.9-x86_64-cpython-38/xgboost/src/learner.cc:767: \n",
      "Parameters: { \"loss\", \"max_features\" } are not used.\n",
      "\n",
      "[17:00:23] WARNING: /Users/runner/work/xgboost/xgboost/python-package/build/temp.macosx-10.9-x86_64-cpython-38/xgboost/src/learner.cc:767: \n",
      "Parameters: { \"loss\", \"max_features\" } are not used.\n",
      "\n",
      "[17:00:31] WARNING: /Users/runner/work/xgboost/xgboost/python-package/build/temp.macosx-10.9-x86_64-cpython-38/xgboost/src/learner.cc:767: \n",
      "Parameters: { \"loss\", \"max_features\" } are not used.\n",
      "\n",
      "[17:00:35] WARNING: /Users/runner/work/xgboost/xgboost/python-package/build/temp.macosx-10.9-x86_64-cpython-38/xgboost/src/learner.cc:767: \n",
      "Parameters: { \"loss\", \"max_features\" } are not used.\n",
      "\n",
      "[17:00:39] WARNING: /Users/runner/work/xgboost/xgboost/python-package/build/temp.macosx-10.9-x86_64-cpython-38/xgboost/src/learner.cc:767: \n",
      "Parameters: { \"loss\", \"max_features\" } are not used.\n",
      "\n",
      "[17:00:47] WARNING: /Users/runner/work/xgboost/xgboost/python-package/build/temp.macosx-10.9-x86_64-cpython-38/xgboost/src/learner.cc:767: \n",
      "Parameters: { \"loss\", \"max_features\" } are not used.\n",
      "\n",
      "[17:00:55] WARNING: /Users/runner/work/xgboost/xgboost/python-package/build/temp.macosx-10.9-x86_64-cpython-38/xgboost/src/learner.cc:767: \n",
      "Parameters: { \"loss\", \"max_features\" } are not used.\n",
      "\n",
      "[17:00:59] WARNING: /Users/runner/work/xgboost/xgboost/python-package/build/temp.macosx-10.9-x86_64-cpython-38/xgboost/src/learner.cc:767: \n",
      "Parameters: { \"loss\", \"max_features\" } are not used.\n",
      "\n",
      "[17:01:03] WARNING: /Users/runner/work/xgboost/xgboost/python-package/build/temp.macosx-10.9-x86_64-cpython-38/xgboost/src/learner.cc:767: \n",
      "Parameters: { \"loss\", \"max_features\" } are not used.\n",
      "\n",
      "[17:01:12] WARNING: /Users/runner/work/xgboost/xgboost/python-package/build/temp.macosx-10.9-x86_64-cpython-38/xgboost/src/learner.cc:767: \n",
      "Parameters: { \"loss\", \"max_features\" } are not used.\n",
      "\n",
      "[17:01:20] WARNING: /Users/runner/work/xgboost/xgboost/python-package/build/temp.macosx-10.9-x86_64-cpython-38/xgboost/src/learner.cc:767: \n",
      "Parameters: { \"loss\", \"max_features\" } are not used.\n",
      "\n",
      "[17:01:24] WARNING: /Users/runner/work/xgboost/xgboost/python-package/build/temp.macosx-10.9-x86_64-cpython-38/xgboost/src/learner.cc:767: \n",
      "Parameters: { \"loss\", \"max_features\" } are not used.\n",
      "\n",
      "[17:01:28] WARNING: /Users/runner/work/xgboost/xgboost/python-package/build/temp.macosx-10.9-x86_64-cpython-38/xgboost/src/learner.cc:767: \n",
      "Parameters: { \"loss\", \"max_features\" } are not used.\n",
      "\n",
      "[17:01:36] WARNING: /Users/runner/work/xgboost/xgboost/python-package/build/temp.macosx-10.9-x86_64-cpython-38/xgboost/src/learner.cc:767: \n",
      "Parameters: { \"loss\", \"max_features\" } are not used.\n",
      "\n",
      "[17:01:44] WARNING: /Users/runner/work/xgboost/xgboost/python-package/build/temp.macosx-10.9-x86_64-cpython-38/xgboost/src/learner.cc:767: \n",
      "Parameters: { \"loss\", \"max_features\" } are not used.\n",
      "\n",
      "[17:01:48] WARNING: /Users/runner/work/xgboost/xgboost/python-package/build/temp.macosx-10.9-x86_64-cpython-38/xgboost/src/learner.cc:767: \n",
      "Parameters: { \"loss\", \"max_features\" } are not used.\n",
      "\n",
      "[17:01:52] WARNING: /Users/runner/work/xgboost/xgboost/python-package/build/temp.macosx-10.9-x86_64-cpython-38/xgboost/src/learner.cc:767: \n",
      "Parameters: { \"loss\", \"max_features\" } are not used.\n",
      "\n",
      "[17:02:00] WARNING: /Users/runner/work/xgboost/xgboost/python-package/build/temp.macosx-10.9-x86_64-cpython-38/xgboost/src/learner.cc:767: \n",
      "Parameters: { \"loss\", \"max_features\" } are not used.\n",
      "\n",
      "[16:59:43] WARNING: /Users/runner/work/xgboost/xgboost/python-package/build/temp.macosx-10.9-x86_64-cpython-38/xgboost/src/learner.cc:767: \n",
      "Parameters: { \"loss\", \"max_features\" } are not used.\n",
      "\n",
      "[16:59:47] WARNING: /Users/runner/work/xgboost/xgboost/python-package/build/temp.macosx-10.9-x86_64-cpython-38/xgboost/src/learner.cc:767: \n",
      "Parameters: { \"loss\", \"max_features\" } are not used.\n",
      "\n",
      "[16:59:51] WARNING: /Users/runner/work/xgboost/xgboost/python-package/build/temp.macosx-10.9-x86_64-cpython-38/xgboost/src/learner.cc:767: \n",
      "Parameters: { \"loss\", \"max_features\" } are not used.\n",
      "\n",
      "[16:59:59] WARNING: /Users/runner/work/xgboost/xgboost/python-package/build/temp.macosx-10.9-x86_64-cpython-38/xgboost/src/learner.cc:767: \n",
      "Parameters: { \"loss\", \"max_features\" } are not used.\n",
      "\n",
      "[17:00:07] WARNING: /Users/runner/work/xgboost/xgboost/python-package/build/temp.macosx-10.9-x86_64-cpython-38/xgboost/src/learner.cc:767: \n",
      "Parameters: { \"loss\", \"max_features\" } are not used.\n",
      "\n",
      "[17:00:11] WARNING: /Users/runner/work/xgboost/xgboost/python-package/build/temp.macosx-10.9-x86_64-cpython-38/xgboost/src/learner.cc:767: \n",
      "Parameters: { \"loss\", \"max_features\" } are not used.\n",
      "\n",
      "[17:00:15] WARNING: /Users/runner/work/xgboost/xgboost/python-package/build/temp.macosx-10.9-x86_64-cpython-38/xgboost/src/learner.cc:767: \n",
      "Parameters: { \"loss\", \"max_features\" } are not used.\n",
      "\n",
      "[17:00:23] WARNING: /Users/runner/work/xgboost/xgboost/python-package/build/temp.macosx-10.9-x86_64-cpython-38/xgboost/src/learner.cc:767: \n",
      "Parameters: { \"loss\", \"max_features\" } are not used.\n",
      "\n",
      "[17:00:31] WARNING: /Users/runner/work/xgboost/xgboost/python-package/build/temp.macosx-10.9-x86_64-cpython-38/xgboost/src/learner.cc:767: \n",
      "Parameters: { \"loss\", \"max_features\" } are not used.\n",
      "\n",
      "[17:00:35] WARNING: /Users/runner/work/xgboost/xgboost/python-package/build/temp.macosx-10.9-x86_64-cpython-38/xgboost/src/learner.cc:767: \n",
      "Parameters: { \"loss\", \"max_features\" } are not used.\n",
      "\n",
      "[17:00:39] WARNING: /Users/runner/work/xgboost/xgboost/python-package/build/temp.macosx-10.9-x86_64-cpython-38/xgboost/src/learner.cc:767: \n",
      "Parameters: { \"loss\", \"max_features\" } are not used.\n",
      "\n",
      "[17:00:47] WARNING: /Users/runner/work/xgboost/xgboost/python-package/build/temp.macosx-10.9-x86_64-cpython-38/xgboost/src/learner.cc:767: \n",
      "Parameters: { \"loss\", \"max_features\" } are not used.\n",
      "\n",
      "[17:00:55] WARNING: /Users/runner/work/xgboost/xgboost/python-package/build/temp.macosx-10.9-x86_64-cpython-38/xgboost/src/learner.cc:767: \n",
      "Parameters: { \"loss\", \"max_features\" } are not used.\n",
      "\n",
      "[17:01:00] WARNING: /Users/runner/work/xgboost/xgboost/python-package/build/temp.macosx-10.9-x86_64-cpython-38/xgboost/src/learner.cc:767: \n",
      "Parameters: { \"loss\", \"max_features\" } are not used.\n",
      "\n",
      "[17:01:04] WARNING: /Users/runner/work/xgboost/xgboost/python-package/build/temp.macosx-10.9-x86_64-cpython-38/xgboost/src/learner.cc:767: \n",
      "Parameters: { \"loss\", \"max_features\" } are not used.\n",
      "\n",
      "[17:01:12] WARNING: /Users/runner/work/xgboost/xgboost/python-package/build/temp.macosx-10.9-x86_64-cpython-38/xgboost/src/learner.cc:767: \n",
      "Parameters: { \"loss\", \"max_features\" } are not used.\n",
      "\n",
      "[17:01:20] WARNING: /Users/runner/work/xgboost/xgboost/python-package/build/temp.macosx-10.9-x86_64-cpython-38/xgboost/src/learner.cc:767: \n",
      "Parameters: { \"loss\", \"max_features\" } are not used.\n",
      "\n",
      "[17:01:24] WARNING: /Users/runner/work/xgboost/xgboost/python-package/build/temp.macosx-10.9-x86_64-cpython-38/xgboost/src/learner.cc:767: \n",
      "Parameters: { \"loss\", \"max_features\" } are not used.\n",
      "\n",
      "[17:01:29] WARNING: /Users/runner/work/xgboost/xgboost/python-package/build/temp.macosx-10.9-x86_64-cpython-38/xgboost/src/learner.cc:767: \n",
      "Parameters: { \"loss\", \"max_features\" } are not used.\n",
      "\n",
      "[17:01:37] WARNING: /Users/runner/work/xgboost/xgboost/python-package/build/temp.macosx-10.9-x86_64-cpython-38/xgboost/src/learner.cc:767: \n",
      "Parameters: { \"loss\", \"max_features\" } are not used.\n",
      "\n",
      "[17:01:45] WARNING: /Users/runner/work/xgboost/xgboost/python-package/build/temp.macosx-10.9-x86_64-cpython-38/xgboost/src/learner.cc:767: \n",
      "Parameters: { \"loss\", \"max_features\" } are not used.\n",
      "\n",
      "[17:01:49] WARNING: /Users/runner/work/xgboost/xgboost/python-package/build/temp.macosx-10.9-x86_64-cpython-38/xgboost/src/learner.cc:767: \n",
      "Parameters: { \"loss\", \"max_features\" } are not used.\n",
      "\n",
      "[17:01:53] WARNING: /Users/runner/work/xgboost/xgboost/python-package/build/temp.macosx-10.9-x86_64-cpython-38/xgboost/src/learner.cc:767: \n",
      "Parameters: { \"loss\", \"max_features\" } are not used.\n",
      "\n",
      "[17:02:01] WARNING: /Users/runner/work/xgboost/xgboost/python-package/build/temp.macosx-10.9-x86_64-cpython-38/xgboost/src/learner.cc:767: \n",
      "Parameters: { \"loss\", \"max_features\" } are not used.\n",
      "\n"
     ]
    },
    {
     "name": "stderr",
     "output_type": "stream",
     "text": [
      "/Users/jonzimmerman/anaconda3/lib/python3.9/site-packages/xgboost/data.py:427: FutureWarning: is_sparse is deprecated and will be removed in a future version. Check `isinstance(dtype, pd.SparseDtype)` instead.\n",
      "  if is_sparse(data):\n",
      "/Users/jonzimmerman/anaconda3/lib/python3.9/site-packages/xgboost/data.py:427: FutureWarning: is_sparse is deprecated and will be removed in a future version. Check `isinstance(dtype, pd.SparseDtype)` instead.\n",
      "  if is_sparse(data):\n",
      "/Users/jonzimmerman/anaconda3/lib/python3.9/site-packages/xgboost/data.py:427: FutureWarning: is_sparse is deprecated and will be removed in a future version. Check `isinstance(dtype, pd.SparseDtype)` instead.\n",
      "  if is_sparse(data):\n",
      "/Users/jonzimmerman/anaconda3/lib/python3.9/site-packages/xgboost/data.py:427: FutureWarning: is_sparse is deprecated and will be removed in a future version. Check `isinstance(dtype, pd.SparseDtype)` instead.\n",
      "  if is_sparse(data):\n",
      "/Users/jonzimmerman/anaconda3/lib/python3.9/site-packages/xgboost/data.py:427: FutureWarning: is_sparse is deprecated and will be removed in a future version. Check `isinstance(dtype, pd.SparseDtype)` instead.\n",
      "  if is_sparse(data):\n",
      "/Users/jonzimmerman/anaconda3/lib/python3.9/site-packages/xgboost/data.py:427: FutureWarning: is_sparse is deprecated and will be removed in a future version. Check `isinstance(dtype, pd.SparseDtype)` instead.\n",
      "  if is_sparse(data):\n",
      "/Users/jonzimmerman/anaconda3/lib/python3.9/site-packages/xgboost/data.py:427: FutureWarning: is_sparse is deprecated and will be removed in a future version. Check `isinstance(dtype, pd.SparseDtype)` instead.\n",
      "  if is_sparse(data):\n",
      "/Users/jonzimmerman/anaconda3/lib/python3.9/site-packages/xgboost/data.py:427: FutureWarning: is_sparse is deprecated and will be removed in a future version. Check `isinstance(dtype, pd.SparseDtype)` instead.\n",
      "  if is_sparse(data):\n",
      "/Users/jonzimmerman/anaconda3/lib/python3.9/site-packages/xgboost/data.py:427: FutureWarning: is_sparse is deprecated and will be removed in a future version. Check `isinstance(dtype, pd.SparseDtype)` instead.\n",
      "  if is_sparse(data):\n",
      "/Users/jonzimmerman/anaconda3/lib/python3.9/site-packages/xgboost/data.py:427: FutureWarning: is_sparse is deprecated and will be removed in a future version. Check `isinstance(dtype, pd.SparseDtype)` instead.\n",
      "  if is_sparse(data):\n",
      "/Users/jonzimmerman/anaconda3/lib/python3.9/site-packages/xgboost/data.py:427: FutureWarning: is_sparse is deprecated and will be removed in a future version. Check `isinstance(dtype, pd.SparseDtype)` instead.\n",
      "  if is_sparse(data):\n",
      "/Users/jonzimmerman/anaconda3/lib/python3.9/site-packages/xgboost/data.py:427: FutureWarning: is_sparse is deprecated and will be removed in a future version. Check `isinstance(dtype, pd.SparseDtype)` instead.\n",
      "  if is_sparse(data):\n",
      "/Users/jonzimmerman/anaconda3/lib/python3.9/site-packages/xgboost/data.py:427: FutureWarning: is_sparse is deprecated and will be removed in a future version. Check `isinstance(dtype, pd.SparseDtype)` instead.\n",
      "  if is_sparse(data):\n",
      "/Users/jonzimmerman/anaconda3/lib/python3.9/site-packages/xgboost/data.py:427: FutureWarning: is_sparse is deprecated and will be removed in a future version. Check `isinstance(dtype, pd.SparseDtype)` instead.\n",
      "  if is_sparse(data):\n",
      "/Users/jonzimmerman/anaconda3/lib/python3.9/site-packages/xgboost/data.py:427: FutureWarning: is_sparse is deprecated and will be removed in a future version. Check `isinstance(dtype, pd.SparseDtype)` instead.\n",
      "  if is_sparse(data):\n",
      "/Users/jonzimmerman/anaconda3/lib/python3.9/site-packages/xgboost/data.py:427: FutureWarning: is_sparse is deprecated and will be removed in a future version. Check `isinstance(dtype, pd.SparseDtype)` instead.\n",
      "  if is_sparse(data):\n",
      "/Users/jonzimmerman/anaconda3/lib/python3.9/site-packages/xgboost/data.py:427: FutureWarning: is_sparse is deprecated and will be removed in a future version. Check `isinstance(dtype, pd.SparseDtype)` instead.\n",
      "  if is_sparse(data):\n",
      "/Users/jonzimmerman/anaconda3/lib/python3.9/site-packages/xgboost/data.py:427: FutureWarning: is_sparse is deprecated and will be removed in a future version. Check `isinstance(dtype, pd.SparseDtype)` instead.\n",
      "  if is_sparse(data):\n",
      "/Users/jonzimmerman/anaconda3/lib/python3.9/site-packages/xgboost/data.py:427: FutureWarning: is_sparse is deprecated and will be removed in a future version. Check `isinstance(dtype, pd.SparseDtype)` instead.\n",
      "  if is_sparse(data):\n",
      "/Users/jonzimmerman/anaconda3/lib/python3.9/site-packages/xgboost/data.py:427: FutureWarning: is_sparse is deprecated and will be removed in a future version. Check `isinstance(dtype, pd.SparseDtype)` instead.\n",
      "  if is_sparse(data):\n",
      "/Users/jonzimmerman/anaconda3/lib/python3.9/site-packages/xgboost/data.py:427: FutureWarning: is_sparse is deprecated and will be removed in a future version. Check `isinstance(dtype, pd.SparseDtype)` instead.\n",
      "  if is_sparse(data):\n",
      "/Users/jonzimmerman/anaconda3/lib/python3.9/site-packages/xgboost/data.py:427: FutureWarning: is_sparse is deprecated and will be removed in a future version. Check `isinstance(dtype, pd.SparseDtype)` instead.\n",
      "  if is_sparse(data):\n",
      "/Users/jonzimmerman/anaconda3/lib/python3.9/site-packages/xgboost/data.py:427: FutureWarning: is_sparse is deprecated and will be removed in a future version. Check `isinstance(dtype, pd.SparseDtype)` instead.\n",
      "  if is_sparse(data):\n",
      "/Users/jonzimmerman/anaconda3/lib/python3.9/site-packages/xgboost/data.py:427: FutureWarning: is_sparse is deprecated and will be removed in a future version. Check `isinstance(dtype, pd.SparseDtype)` instead.\n",
      "  if is_sparse(data):\n",
      "/Users/jonzimmerman/anaconda3/lib/python3.9/site-packages/xgboost/data.py:427: FutureWarning: is_sparse is deprecated and will be removed in a future version. Check `isinstance(dtype, pd.SparseDtype)` instead.\n",
      "  if is_sparse(data):\n",
      "/Users/jonzimmerman/anaconda3/lib/python3.9/site-packages/xgboost/data.py:427: FutureWarning: is_sparse is deprecated and will be removed in a future version. Check `isinstance(dtype, pd.SparseDtype)` instead.\n",
      "  if is_sparse(data):\n",
      "/Users/jonzimmerman/anaconda3/lib/python3.9/site-packages/xgboost/data.py:427: FutureWarning: is_sparse is deprecated and will be removed in a future version. Check `isinstance(dtype, pd.SparseDtype)` instead.\n",
      "  if is_sparse(data):\n",
      "/Users/jonzimmerman/anaconda3/lib/python3.9/site-packages/xgboost/data.py:427: FutureWarning: is_sparse is deprecated and will be removed in a future version. Check `isinstance(dtype, pd.SparseDtype)` instead.\n",
      "  if is_sparse(data):\n",
      "/Users/jonzimmerman/anaconda3/lib/python3.9/site-packages/xgboost/data.py:427: FutureWarning: is_sparse is deprecated and will be removed in a future version. Check `isinstance(dtype, pd.SparseDtype)` instead.\n",
      "  if is_sparse(data):\n",
      "/Users/jonzimmerman/anaconda3/lib/python3.9/site-packages/xgboost/data.py:427: FutureWarning: is_sparse is deprecated and will be removed in a future version. Check `isinstance(dtype, pd.SparseDtype)` instead.\n",
      "  if is_sparse(data):\n",
      "/Users/jonzimmerman/anaconda3/lib/python3.9/site-packages/xgboost/data.py:427: FutureWarning: is_sparse is deprecated and will be removed in a future version. Check `isinstance(dtype, pd.SparseDtype)` instead.\n",
      "  if is_sparse(data):\n",
      "/Users/jonzimmerman/anaconda3/lib/python3.9/site-packages/xgboost/data.py:427: FutureWarning: is_sparse is deprecated and will be removed in a future version. Check `isinstance(dtype, pd.SparseDtype)` instead.\n",
      "  if is_sparse(data):\n",
      "/Users/jonzimmerman/anaconda3/lib/python3.9/site-packages/xgboost/data.py:427: FutureWarning: is_sparse is deprecated and will be removed in a future version. Check `isinstance(dtype, pd.SparseDtype)` instead.\n",
      "  if is_sparse(data):\n",
      "/Users/jonzimmerman/anaconda3/lib/python3.9/site-packages/xgboost/data.py:427: FutureWarning: is_sparse is deprecated and will be removed in a future version. Check `isinstance(dtype, pd.SparseDtype)` instead.\n",
      "  if is_sparse(data):\n",
      "/Users/jonzimmerman/anaconda3/lib/python3.9/site-packages/xgboost/data.py:427: FutureWarning: is_sparse is deprecated and will be removed in a future version. Check `isinstance(dtype, pd.SparseDtype)` instead.\n",
      "  if is_sparse(data):\n",
      "/Users/jonzimmerman/anaconda3/lib/python3.9/site-packages/xgboost/data.py:427: FutureWarning: is_sparse is deprecated and will be removed in a future version. Check `isinstance(dtype, pd.SparseDtype)` instead.\n",
      "  if is_sparse(data):\n"
     ]
    },
    {
     "name": "stderr",
     "output_type": "stream",
     "text": [
      "/Users/jonzimmerman/anaconda3/lib/python3.9/site-packages/xgboost/data.py:427: FutureWarning: is_sparse is deprecated and will be removed in a future version. Check `isinstance(dtype, pd.SparseDtype)` instead.\n",
      "  if is_sparse(data):\n",
      "/Users/jonzimmerman/anaconda3/lib/python3.9/site-packages/xgboost/data.py:427: FutureWarning: is_sparse is deprecated and will be removed in a future version. Check `isinstance(dtype, pd.SparseDtype)` instead.\n",
      "  if is_sparse(data):\n",
      "/Users/jonzimmerman/anaconda3/lib/python3.9/site-packages/xgboost/data.py:427: FutureWarning: is_sparse is deprecated and will be removed in a future version. Check `isinstance(dtype, pd.SparseDtype)` instead.\n",
      "  if is_sparse(data):\n",
      "/Users/jonzimmerman/anaconda3/lib/python3.9/site-packages/xgboost/data.py:427: FutureWarning: is_sparse is deprecated and will be removed in a future version. Check `isinstance(dtype, pd.SparseDtype)` instead.\n",
      "  if is_sparse(data):\n"
     ]
    },
    {
     "data": {
      "image/png": "[encoded data removed]",
      "text/plain": [
       "<Figure size 640x480 with 1 Axes>"
      ]
     },
     "metadata": {},
     "output_type": "display_data"
    },
    {
     "data": {
      "image/png": "[encoded data removed]",
      "text/plain": [
       "<Figure size 640x480 with 1 Axes>"
      ]
     },
     "metadata": {},
     "output_type": "display_data"
    },
    {
     "data": {
      "image/png": "[encoded data removed]",
      "text/plain": [
       "<Figure size 640x480 with 1 Axes>"
      ]
     },
     "metadata": {},
     "output_type": "display_data"
    }
   ],
   "source": [
    "def plot_learning_curve(estimator, \n",
    "                        title, X, y, \n",
    "                        ylim=None, cv=None,\n",
    "                        n_jobs=-1, train_sizes=np.linspace(.1, 1.0, 5)):\n",
    "    \"\"\"Generate a simple plot of the test and training learning curve\"\"\"\n",
    "    plt.figure()\n",
    "    plt.title(title)\n",
    "    if ylim is not None:\n",
    "        plt.ylim(*ylim)\n",
    "    plt.xlabel(\"Training examples\")\n",
    "    plt.ylabel(\"Score\")\n",
    "    train_sizes, train_scores, test_scores = learning_curve(\n",
    "        estimator, X, y, cv=cv, n_jobs=n_jobs, train_sizes=train_sizes)\n",
    "    train_scores_mean = np.mean(train_scores, axis=1)\n",
    "    train_scores_std = np.std(train_scores, axis=1)\n",
    "    test_scores_mean = np.mean(test_scores, axis=1)\n",
    "    test_scores_std = np.std(test_scores, axis=1)\n",
    "    plt.grid()\n",
    "\n",
    "    plt.fill_between(train_sizes, train_scores_mean - train_scores_std,\n",
    "                     train_scores_mean + train_scores_std, alpha=0.1,\n",
    "                     color=\"r\")\n",
    "    plt.fill_between(train_sizes, test_scores_mean - test_scores_std,\n",
    "                     test_scores_mean + test_scores_std, alpha=0.1, color=\"g\")\n",
    "    plt.plot(train_sizes, train_scores_mean, 'o-', color=\"r\",\n",
    "             label=\"Training score\")\n",
    "    plt.plot(train_sizes, test_scores_mean, 'o-', color=\"g\",\n",
    "             label=\"Cross-validation score\")\n",
    "\n",
    "    plt.legend(loc=\"best\")\n",
    "    return plt\n",
    "\n",
    "g = plot_learning_curve(gsLR.best_estimator_,\"Logistic Regression learning curves\", X_train, y_train, cv = kfold)\n",
    "g = plot_learning_curve(gsRFC.best_estimator_,\"Random Forest learning curves\", X_train, y_train, cv = kfold)\n",
    "g = plot_learning_curve(gsXGB.best_estimator_,\"XGBoost learning curves\", X_train, y_train, cv = kfold)"
   ]
  },
  {
   "cell_type": "code",
   "execution_count": 96,
   "id": "68c5b701",
   "metadata": {},
   "outputs": [
    {
     "data": {
      "image/png": "[encoded data removed]",
      "text/plain": [
       "<Figure size 640x480 with 2 Axes>"
      ]
     },
     "metadata": {},
     "output_type": "display_data"
    }
   ],
   "source": [
    "test_win_LR = pd.Series(LR_best.predict(X_test), name=\"LR\")\n",
    "test_win_RFC = pd.Series(RFC_best.predict(X_test), name=\"RFC\")\n",
    "test_win_XGB = pd.Series(xgb_best.predict(X_test), name=\"XGB\")\n",
    "\n",
    "\n",
    "# Concatenate all classifier results\n",
    "ensemble_results = pd.concat([test_win_LR,\n",
    "                              test_win_RFC,\n",
    "                              test_win_XGB\n",
    "                              ],axis=1)\n",
    "\n",
    "g = sns.heatmap(ensemble_results.corr(),annot=True)"
   ]
  },
  {
   "cell_type": "code",
   "execution_count": 97,
   "id": "0bf4b935",
   "metadata": {
    "scrolled": true
   },
   "outputs": [
    {
     "name": "stdout",
     "output_type": "stream",
     "text": [
      "[17:05:21] WARNING: /Users/runner/work/xgboost/xgboost/python-package/build/temp.macosx-10.9-x86_64-cpython-38/xgboost/src/learner.cc:767: \n",
      "Parameters: { \"loss\", \"max_features\" } are not used.\n",
      "\n",
      "[17:05:30] WARNING: /Users/runner/work/xgboost/xgboost/python-package/build/temp.macosx-10.9-x86_64-cpython-38/xgboost/src/learner.cc:767: \n",
      "Parameters: { \"loss\", \"max_features\" } are not used.\n",
      "\n",
      "[17:05:47] WARNING: /Users/runner/work/xgboost/xgboost/python-package/build/temp.macosx-10.9-x86_64-cpython-38/xgboost/src/learner.cc:767: \n",
      "Parameters: { \"loss\", \"max_features\" } are not used.\n",
      "\n",
      "[17:05:21] WARNING: /Users/runner/work/xgboost/xgboost/python-package/build/temp.macosx-10.9-x86_64-cpython-38/xgboost/src/learner.cc:767: \n",
      "Parameters: { \"loss\", \"max_features\" } are not used.\n",
      "\n",
      "[17:05:23] WARNING: /Users/runner/work/xgboost/xgboost/python-package/build/temp.macosx-10.9-x86_64-cpython-38/xgboost/src/learner.cc:767: \n",
      "Parameters: { \"loss\", \"max_features\" } are not used.\n",
      "\n",
      "[17:05:34] WARNING: /Users/runner/work/xgboost/xgboost/python-package/build/temp.macosx-10.9-x86_64-cpython-38/xgboost/src/learner.cc:767: \n",
      "Parameters: { \"loss\", \"max_features\" } are not used.\n",
      "\n",
      "[17:05:49] WARNING: /Users/runner/work/xgboost/xgboost/python-package/build/temp.macosx-10.9-x86_64-cpython-38/xgboost/src/learner.cc:767: \n",
      "Parameters: { \"loss\", \"max_features\" } are not used.\n",
      "\n",
      "[17:05:50] WARNING: /Users/runner/work/xgboost/xgboost/python-package/build/temp.macosx-10.9-x86_64-cpython-38/xgboost/src/learner.cc:767: \n",
      "Parameters: { \"loss\", \"max_features\" } are not used.\n",
      "\n",
      "[17:05:59] WARNING: /Users/runner/work/xgboost/xgboost/python-package/build/temp.macosx-10.9-x86_64-cpython-38/xgboost/src/learner.cc:767: \n",
      "Parameters: { \"loss\", \"max_features\" } are not used.\n",
      "\n",
      "[17:05:21] WARNING: /Users/runner/work/xgboost/xgboost/python-package/build/temp.macosx-10.9-x86_64-cpython-38/xgboost/src/learner.cc:767: \n",
      "Parameters: { \"loss\", \"max_features\" } are not used.\n",
      "\n",
      "[17:05:36] WARNING: /Users/runner/work/xgboost/xgboost/python-package/build/temp.macosx-10.9-x86_64-cpython-38/xgboost/src/learner.cc:767: \n",
      "Parameters: { \"loss\", \"max_features\" } are not used.\n",
      "\n",
      "[17:05:38] WARNING: /Users/runner/work/xgboost/xgboost/python-package/build/temp.macosx-10.9-x86_64-cpython-38/xgboost/src/learner.cc:767: \n",
      "Parameters: { \"loss\", \"max_features\" } are not used.\n",
      "\n",
      "[17:05:52] WARNING: /Users/runner/work/xgboost/xgboost/python-package/build/temp.macosx-10.9-x86_64-cpython-38/xgboost/src/learner.cc:767: \n",
      "Parameters: { \"loss\", \"max_features\" } are not used.\n",
      "\n",
      "[17:05:21] WARNING: /Users/runner/work/xgboost/xgboost/python-package/build/temp.macosx-10.9-x86_64-cpython-38/xgboost/src/learner.cc:767: \n",
      "Parameters: { \"loss\", \"max_features\" } are not used.\n",
      "\n",
      "[17:05:23] WARNING: /Users/runner/work/xgboost/xgboost/python-package/build/temp.macosx-10.9-x86_64-cpython-38/xgboost/src/learner.cc:767: \n",
      "Parameters: { \"loss\", \"max_features\" } are not used.\n",
      "\n",
      "[17:05:38] WARNING: /Users/runner/work/xgboost/xgboost/python-package/build/temp.macosx-10.9-x86_64-cpython-38/xgboost/src/learner.cc:767: \n",
      "Parameters: { \"loss\", \"max_features\" } are not used.\n",
      "\n",
      "[17:05:49] WARNING: /Users/runner/work/xgboost/xgboost/python-package/build/temp.macosx-10.9-x86_64-cpython-38/xgboost/src/learner.cc:767: \n",
      "Parameters: { \"loss\", \"max_features\" } are not used.\n",
      "\n",
      "[17:05:21] WARNING: /Users/runner/work/xgboost/xgboost/python-package/build/temp.macosx-10.9-x86_64-cpython-38/xgboost/src/learner.cc:767: \n",
      "Parameters: { \"loss\", \"max_features\" } are not used.\n",
      "\n",
      "[17:05:26] WARNING: /Users/runner/work/xgboost/xgboost/python-package/build/temp.macosx-10.9-x86_64-cpython-38/xgboost/src/learner.cc:767: \n",
      "Parameters: { \"loss\", \"max_features\" } are not used.\n",
      "\n",
      "[17:05:31] WARNING: /Users/runner/work/xgboost/xgboost/python-package/build/temp.macosx-10.9-x86_64-cpython-38/xgboost/src/learner.cc:767: \n",
      "Parameters: { \"loss\", \"max_features\" } are not used.\n",
      "\n",
      "[17:05:33] WARNING: /Users/runner/work/xgboost/xgboost/python-package/build/temp.macosx-10.9-x86_64-cpython-38/xgboost/src/learner.cc:767: \n",
      "Parameters: { \"loss\", \"max_features\" } are not used.\n",
      "\n",
      "[17:05:38] WARNING: /Users/runner/work/xgboost/xgboost/python-package/build/temp.macosx-10.9-x86_64-cpython-38/xgboost/src/learner.cc:767: \n",
      "Parameters: { \"loss\", \"max_features\" } are not used.\n",
      "\n",
      "[17:05:44] WARNING: /Users/runner/work/xgboost/xgboost/python-package/build/temp.macosx-10.9-x86_64-cpython-38/xgboost/src/learner.cc:767: \n",
      "Parameters: { \"loss\", \"max_features\" } are not used.\n",
      "\n",
      "[17:05:50] WARNING: /Users/runner/work/xgboost/xgboost/python-package/build/temp.macosx-10.9-x86_64-cpython-38/xgboost/src/learner.cc:767: \n",
      "Parameters: { \"loss\", \"max_features\" } are not used.\n",
      "\n",
      "[17:05:55] WARNING: /Users/runner/work/xgboost/xgboost/python-package/build/temp.macosx-10.9-x86_64-cpython-38/xgboost/src/learner.cc:767: \n",
      "Parameters: { \"loss\", \"max_features\" } are not used.\n",
      "\n",
      "[17:05:21] WARNING: /Users/runner/work/xgboost/xgboost/python-package/build/temp.macosx-10.9-x86_64-cpython-38/xgboost/src/learner.cc:767: \n",
      "Parameters: { \"loss\", \"max_features\" } are not used.\n",
      "\n",
      "[17:05:29] WARNING: /Users/runner/work/xgboost/xgboost/python-package/build/temp.macosx-10.9-x86_64-cpython-38/xgboost/src/learner.cc:767: \n",
      "Parameters: { \"loss\", \"max_features\" } are not used.\n",
      "\n",
      "[17:05:42] WARNING: /Users/runner/work/xgboost/xgboost/python-package/build/temp.macosx-10.9-x86_64-cpython-38/xgboost/src/learner.cc:767: \n",
      "Parameters: { \"loss\", \"max_features\" } are not used.\n",
      "\n",
      "[17:05:44] WARNING: /Users/runner/work/xgboost/xgboost/python-package/build/temp.macosx-10.9-x86_64-cpython-38/xgboost/src/learner.cc:767: \n",
      "Parameters: { \"loss\", \"max_features\" } are not used.\n",
      "\n",
      "[17:05:54] WARNING: /Users/runner/work/xgboost/xgboost/python-package/build/temp.macosx-10.9-x86_64-cpython-38/xgboost/src/learner.cc:767: \n",
      "Parameters: { \"loss\", \"max_features\" } are not used.\n",
      "\n",
      "[17:05:21] WARNING: /Users/runner/work/xgboost/xgboost/python-package/build/temp.macosx-10.9-x86_64-cpython-38/xgboost/src/learner.cc:767: \n",
      "Parameters: { \"loss\", \"max_features\" } are not used.\n",
      "\n",
      "[17:05:33] WARNING: /Users/runner/work/xgboost/xgboost/python-package/build/temp.macosx-10.9-x86_64-cpython-38/xgboost/src/learner.cc:767: \n",
      "Parameters: { \"loss\", \"max_features\" } are not used.\n",
      "\n",
      "[17:05:42] WARNING: /Users/runner/work/xgboost/xgboost/python-package/build/temp.macosx-10.9-x86_64-cpython-38/xgboost/src/learner.cc:767: \n",
      "Parameters: { \"loss\", \"max_features\" } are not used.\n",
      "\n",
      "[17:05:59] WARNING: /Users/runner/work/xgboost/xgboost/python-package/build/temp.macosx-10.9-x86_64-cpython-38/xgboost/src/learner.cc:767: \n",
      "Parameters: { \"loss\", \"max_features\" } are not used.\n",
      "\n",
      "[17:05:21] WARNING: /Users/runner/work/xgboost/xgboost/python-package/build/temp.macosx-10.9-x86_64-cpython-38/xgboost/src/learner.cc:767: \n",
      "Parameters: { \"loss\", \"max_features\" } are not used.\n",
      "\n",
      "[17:05:26] WARNING: /Users/runner/work/xgboost/xgboost/python-package/build/temp.macosx-10.9-x86_64-cpython-38/xgboost/src/learner.cc:767: \n",
      "Parameters: { \"loss\", \"max_features\" } are not used.\n",
      "\n",
      "[17:05:28] WARNING: /Users/runner/work/xgboost/xgboost/python-package/build/temp.macosx-10.9-x86_64-cpython-38/xgboost/src/learner.cc:767: \n",
      "Parameters: { \"loss\", \"max_features\" } are not used.\n",
      "\n",
      "[17:05:36] WARNING: /Users/runner/work/xgboost/xgboost/python-package/build/temp.macosx-10.9-x86_64-cpython-38/xgboost/src/learner.cc:767: \n",
      "Parameters: { \"loss\", \"max_features\" } are not used.\n",
      "\n",
      "[17:05:54] WARNING: /Users/runner/work/xgboost/xgboost/python-package/build/temp.macosx-10.9-x86_64-cpython-38/xgboost/src/learner.cc:767: \n",
      "Parameters: { \"loss\", \"max_features\" } are not used.\n",
      "\n",
      "[17:05:55] WARNING: /Users/runner/work/xgboost/xgboost/python-package/build/temp.macosx-10.9-x86_64-cpython-38/xgboost/src/learner.cc:767: \n",
      "Parameters: { \"loss\", \"max_features\" } are not used.\n",
      "\n"
     ]
    }
   ],
   "source": [
    "from sklearn.ensemble import VotingClassifier\n",
    "votingC = VotingClassifier(estimators=[\n",
    "    ('lr', LR_best),\n",
    "    ('rfc', RFC_best), \n",
    "    ('xgb', xgb_best)\n",
    "], voting='soft', n_jobs=4)\n",
    "\n",
    "votingC = votingC.fit(X_train, y_train)"
   ]
  },
  {
   "cell_type": "code",
   "execution_count": 98,
   "id": "7fe46d4f",
   "metadata": {},
   "outputs": [
    {
     "data": {
      "text/html": [
       "<style>#sk-container-id-4 {color: black;background-color: white;}#sk-container-id-4 pre{padding: 0;}#sk-container-id-4 div.sk-toggleable {background-color: white;}#sk-container-id-4 label.sk-toggleable__label {cursor: pointer;display: block;width: 100%;margin-bottom: 0;padding: 0.3em;box-sizing: border-box;text-align: center;}#sk-container-id-4 label.sk-toggleable__label-arrow:before {content: \"▸\";float: left;margin-right: 0.25em;color: #696969;}#sk-container-id-4 label.sk-toggleable__label-arrow:hover:before {color: black;}#sk-container-id-4 div.sk-estimator:hover label.sk-toggleable__label-arrow:before {color: black;}#sk-container-id-4 div.sk-toggleable__content {max-height: 0;max-width: 0;overflow: hidden;text-align: left;background-color: #f0f8ff;}#sk-container-id-4 div.sk-toggleable__content pre {margin: 0.2em;color: black;border-radius: 0.25em;background-color: #f0f8ff;}#sk-container-id-4 input.sk-toggleable__control:checked~div.sk-toggleable__content {max-height: 200px;max-width: 100%;overflow: auto;}#sk-container-id-4 input.sk-toggleable__control:checked~label.sk-toggleable__label-arrow:before {content: \"▾\";}#sk-container-id-4 div.sk-estimator input.sk-toggleable__control:checked~label.sk-toggleable__label {background-color: #d4ebff;}#sk-container-id-4 div.sk-label input.sk-toggleable__control:checked~label.sk-toggleable__label {background-color: #d4ebff;}#sk-container-id-4 input.sk-hidden--visually {border: 0;clip: rect(1px 1px 1px 1px);clip: rect(1px, 1px, 1px, 1px);height: 1px;margin: -1px;overflow: hidden;padding: 0;position: absolute;width: 1px;}#sk-container-id-4 div.sk-estimator {font-family: monospace;background-color: #f0f8ff;border: 1px dotted black;border-radius: 0.25em;box-sizing: border-box;margin-bottom: 0.5em;}#sk-container-id-4 div.sk-estimator:hover {background-color: #d4ebff;}#sk-container-id-4 div.sk-parallel-item::after {content: \"\";width: 100%;border-bottom: 1px solid gray;flex-grow: 1;}#sk-container-id-4 div.sk-label:hover label.sk-toggleable__label {background-color: #d4ebff;}#sk-container-id-4 div.sk-serial::before {content: \"\";position: absolute;border-left: 1px solid gray;box-sizing: border-box;top: 0;bottom: 0;left: 50%;z-index: 0;}#sk-container-id-4 div.sk-serial {display: flex;flex-direction: column;align-items: center;background-color: white;padding-right: 0.2em;padding-left: 0.2em;position: relative;}#sk-container-id-4 div.sk-item {position: relative;z-index: 1;}#sk-container-id-4 div.sk-parallel {display: flex;align-items: stretch;justify-content: center;background-color: white;position: relative;}#sk-container-id-4 div.sk-item::before, #sk-container-id-4 div.sk-parallel-item::before {content: \"\";position: absolute;border-left: 1px solid gray;box-sizing: border-box;top: 0;bottom: 0;left: 50%;z-index: -1;}#sk-container-id-4 div.sk-parallel-item {display: flex;flex-direction: column;z-index: 1;position: relative;background-color: white;}#sk-container-id-4 div.sk-parallel-item:first-child::after {align-self: flex-end;width: 50%;}#sk-container-id-4 div.sk-parallel-item:last-child::after {align-self: flex-start;width: 50%;}#sk-container-id-4 div.sk-parallel-item:only-child::after {width: 0;}#sk-container-id-4 div.sk-dashed-wrapped {border: 1px dashed gray;margin: 0 0.4em 0.5em 0.4em;box-sizing: border-box;padding-bottom: 0.4em;background-color: white;}#sk-container-id-4 div.sk-label label {font-family: monospace;font-weight: bold;display: inline-block;line-height: 1.2em;}#sk-container-id-4 div.sk-label-container {text-align: center;}#sk-container-id-4 div.sk-container {/* jupyter's `normalize.less` sets `[hidden] { display: none; }` but bootstrap.min.css set `[hidden] { display: none !important; }` so we also need the `!important` here to be able to override the default hidden behavior on the sphinx rendered scikit-learn.org. See: https://github.com/scikit-learn/scikit-learn/issues/21755 */display: inline-block !important;position: relative;}#sk-container-id-4 div.sk-text-repr-fallback {display: none;}</style><div id=\"sk-container-id-4\" class=\"sk-top-container\"><div class=\"sk-text-repr-fallback\"><pre>VotingClassifier(estimators=[(&#x27;lr&#x27;, LogisticRegression(C=0.01)),\n",
       "                             (&#x27;rfc&#x27;,\n",
       "                              RandomForestClassifier(bootstrap=False,\n",
       "                                                     max_features=3,\n",
       "                                                     min_samples_leaf=3,\n",
       "                                                     n_estimators=300)),\n",
       "                             (&#x27;xgb&#x27;,\n",
       "                              XGBClassifier(base_score=0.5, booster=&#x27;gbtree&#x27;,\n",
       "                                            callbacks=None, colsample_bylevel=1,\n",
       "                                            colsample_bynode=1,\n",
       "                                            colsample_bytree=1,\n",
       "                                            early_stopping_rounds=None,\n",
       "                                            enable_categorical=False,\n",
       "                                            eval_metri...\n",
       "                                            gpu_id=-1, grow_policy=&#x27;depthwise&#x27;,\n",
       "                                            importance_type=None,\n",
       "                                            interaction_constraints=&#x27;&#x27;,\n",
       "                                            learning_rate=0.1, loss=&#x27;deviance&#x27;,\n",
       "                                            max_bin=256, max_cat_threshold=64,\n",
       "                                            max_cat_to_onehot=4,\n",
       "                                            max_delta_step=0, max_depth=4,\n",
       "                                            max_features=0.3, max_leaves=0,\n",
       "                                            min_child_weight=1, missing=nan,\n",
       "                                            monotone_constraints=&#x27;()&#x27;,\n",
       "                                            n_estimators=200, n_jobs=0,\n",
       "                                            num_parallel_tree=1, ...))],\n",
       "                 n_jobs=4, voting=&#x27;soft&#x27;)</pre><b>In a Jupyter environment, please rerun this cell to show the HTML representation or trust the notebook. <br />On GitHub, the HTML representation is unable to render, please try loading this page with nbviewer.org.</b></div><div class=\"sk-container\" hidden><div class=\"sk-item sk-dashed-wrapped\"><div class=\"sk-label-container\"><div class=\"sk-label sk-toggleable\"><input class=\"sk-toggleable__control sk-hidden--visually\" id=\"sk-estimator-id-4\" type=\"checkbox\" ><label for=\"sk-estimator-id-4\" class=\"sk-toggleable__label sk-toggleable__label-arrow\">VotingClassifier</label><div class=\"sk-toggleable__content\"><pre>VotingClassifier(estimators=[(&#x27;lr&#x27;, LogisticRegression(C=0.01)),\n",
       "                             (&#x27;rfc&#x27;,\n",
       "                              RandomForestClassifier(bootstrap=False,\n",
       "                                                     max_features=3,\n",
       "                                                     min_samples_leaf=3,\n",
       "                                                     n_estimators=300)),\n",
       "                             (&#x27;xgb&#x27;,\n",
       "                              XGBClassifier(base_score=0.5, booster=&#x27;gbtree&#x27;,\n",
       "                                            callbacks=None, colsample_bylevel=1,\n",
       "                                            colsample_bynode=1,\n",
       "                                            colsample_bytree=1,\n",
       "                                            early_stopping_rounds=None,\n",
       "                                            enable_categorical=False,\n",
       "                                            eval_metri...\n",
       "                                            gpu_id=-1, grow_policy=&#x27;depthwise&#x27;,\n",
       "                                            importance_type=None,\n",
       "                                            interaction_constraints=&#x27;&#x27;,\n",
       "                                            learning_rate=0.1, loss=&#x27;deviance&#x27;,\n",
       "                                            max_bin=256, max_cat_threshold=64,\n",
       "                                            max_cat_to_onehot=4,\n",
       "                                            max_delta_step=0, max_depth=4,\n",
       "                                            max_features=0.3, max_leaves=0,\n",
       "                                            min_child_weight=1, missing=nan,\n",
       "                                            monotone_constraints=&#x27;()&#x27;,\n",
       "                                            n_estimators=200, n_jobs=0,\n",
       "                                            num_parallel_tree=1, ...))],\n",
       "                 n_jobs=4, voting=&#x27;soft&#x27;)</pre></div></div></div><div class=\"sk-parallel\"><div class=\"sk-parallel-item\"><div class=\"sk-item\"><div class=\"sk-label-container\"><div class=\"sk-label sk-toggleable\"><label>lr</label></div></div><div class=\"sk-serial\"><div class=\"sk-item\"><div class=\"sk-estimator sk-toggleable\"><input class=\"sk-toggleable__control sk-hidden--visually\" id=\"sk-estimator-id-5\" type=\"checkbox\" ><label for=\"sk-estimator-id-5\" class=\"sk-toggleable__label sk-toggleable__label-arrow\">LogisticRegression</label><div class=\"sk-toggleable__content\"><pre>LogisticRegression(C=0.01)</pre></div></div></div></div></div></div><div class=\"sk-parallel-item\"><div class=\"sk-item\"><div class=\"sk-label-container\"><div class=\"sk-label sk-toggleable\"><label>rfc</label></div></div><div class=\"sk-serial\"><div class=\"sk-item\"><div class=\"sk-estimator sk-toggleable\"><input class=\"sk-toggleable__control sk-hidden--visually\" id=\"sk-estimator-id-6\" type=\"checkbox\" ><label for=\"sk-estimator-id-6\" class=\"sk-toggleable__label sk-toggleable__label-arrow\">RandomForestClassifier</label><div class=\"sk-toggleable__content\"><pre>RandomForestClassifier(bootstrap=False, max_features=3, min_samples_leaf=3,\n",
       "                       n_estimators=300)</pre></div></div></div></div></div></div><div class=\"sk-parallel-item\"><div class=\"sk-item\"><div class=\"sk-label-container\"><div class=\"sk-label sk-toggleable\"><label>xgb</label></div></div><div class=\"sk-serial\"><div class=\"sk-item\"><div class=\"sk-estimator sk-toggleable\"><input class=\"sk-toggleable__control sk-hidden--visually\" id=\"sk-estimator-id-7\" type=\"checkbox\" ><label for=\"sk-estimator-id-7\" class=\"sk-toggleable__label sk-toggleable__label-arrow\">XGBClassifier</label><div class=\"sk-toggleable__content\"><pre>XGBClassifier(base_score=0.5, booster=&#x27;gbtree&#x27;, callbacks=None,\n",
       "              colsample_bylevel=1, colsample_bynode=1, colsample_bytree=1,\n",
       "              early_stopping_rounds=None, enable_categorical=False,\n",
       "              eval_metric=None, feature_types=None, gamma=0, gpu_id=-1,\n",
       "              grow_policy=&#x27;depthwise&#x27;, importance_type=None,\n",
       "              interaction_constraints=&#x27;&#x27;, learning_rate=0.1, loss=&#x27;deviance&#x27;,\n",
       "              max_bin=256, max_cat_threshold=64, max_cat_to_onehot=4,\n",
       "              max_delta_step=0, max_depth=4, max_features=0.3, max_leaves=0,\n",
       "              min_child_weight=1, missing=nan, monotone_constraints=&#x27;()&#x27;,\n",
       "              n_estimators=200, n_jobs=0, num_parallel_tree=1, ...)</pre></div></div></div></div></div></div></div></div></div></div>"
      ],
      "text/plain": [
       "VotingClassifier(estimators=[('lr', LogisticRegression(C=0.01)),\n",
       "                             ('rfc',\n",
       "                              RandomForestClassifier(bootstrap=False,\n",
       "                                                     max_features=3,\n",
       "                                                     min_samples_leaf=3,\n",
       "                                                     n_estimators=300)),\n",
       "                             ('xgb',\n",
       "                              XGBClassifier(base_score=0.5, booster='gbtree',\n",
       "                                            callbacks=None, colsample_bylevel=1,\n",
       "                                            colsample_bynode=1,\n",
       "                                            colsample_bytree=1,\n",
       "                                            early_stopping_rounds=None,\n",
       "                                            enable_categorical=False,\n",
       "                                            eval_metri...\n",
       "                                            gpu_id=-1, grow_policy='depthwise',\n",
       "                                            importance_type=None,\n",
       "                                            interaction_constraints='',\n",
       "                                            learning_rate=0.1, loss='deviance',\n",
       "                                            max_bin=256, max_cat_threshold=64,\n",
       "                                            max_cat_to_onehot=4,\n",
       "                                            max_delta_step=0, max_depth=4,\n",
       "                                            max_features=0.3, max_leaves=0,\n",
       "                                            min_child_weight=1, missing=nan,\n",
       "                                            monotone_constraints='()',\n",
       "                                            n_estimators=200, n_jobs=0,\n",
       "                                            num_parallel_tree=1, ...))],\n",
       "                 n_jobs=4, voting='soft')"
      ]
     },
     "execution_count": 98,
     "metadata": {},
     "output_type": "execute_result"
    }
   ],
   "source": [
    "votingC"
   ]
  },
  {
   "cell_type": "code",
   "execution_count": 99,
   "id": "9ba5942f",
   "metadata": {},
   "outputs": [
    {
     "data": {
      "text/plain": [
       "win\n",
       "1.0    30659\n",
       "0.0    30431\n",
       "Name: count, dtype: int64"
      ]
     },
     "execution_count": 99,
     "metadata": {},
     "output_type": "execute_result"
    }
   ],
   "source": [
    "test_win = pd.Series(votingC.predict(X_test), name=\"win\")\n",
    "test_win.value_counts()"
   ]
  },
  {
   "cell_type": "code",
   "execution_count": null,
   "id": "6dbaaa71",
   "metadata": {},
   "outputs": [],
   "source": []
  }
 ],
 "metadata": {
  "kernelspec": {
   "display_name": "Python 3 (ipykernel)",
   "language": "python",
   "name": "python3"
  },
  "language_info": {
   "codemirror_mode": {
    "name": "ipython",
    "version": 3
   },
   "file_extension": ".py",
   "mimetype": "text/x-python",
   "name": "python",
   "nbconvert_exporter": "python",
   "pygments_lexer": "ipython3",
   "version": "3.9.13"
  }
 },
 "nbformat": 4,
 "nbformat_minor": 5
}
